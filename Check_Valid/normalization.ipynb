{
 "cells": [
  {
   "cell_type": "code",
   "execution_count": 3,
   "metadata": {},
   "outputs": [],
   "source": [
    "import pandas as pd\n",
    "import random\n",
    "from collections import Counter\n",
    "from tqdm.notebook import tqdm\n",
    "import csv"
   ]
  },
  {
   "cell_type": "code",
   "execution_count": 36,
   "metadata": {},
   "outputs": [],
   "source": [
    "def normalization(file_name:str) -> dict:\n",
    "    # 데이터 가져오기\n",
    "    quiz = pd.read_csv(file_name)\n",
    "\n",
    "    # 변수 random하게 만들기\n",
    "    quiz_1_random_index = [random.randint(1,3) for _ in range(len(quiz))]\n",
    "    quiz_2_random_index = [random.randint(1,3) for _ in range(len(quiz))]\n",
    "\n",
    "    # 파일명 불러오기\n",
    "    column_names = quiz.columns.tolist()\n",
    "\n",
    "    with open(\"ReIndex_Mid_Curriculum1.csv\", \"w\", encoding=\"utf-8-sig\", newline=\"\") as fw:\n",
    "        writer = csv.DictWriter(fw, fieldnames = column_names)\n",
    "        writer.writeheader()\n",
    "        for i in tqdm(range(len(quiz)), total=len(quiz)):\n",
    "            row = quiz.iloc[i]\n",
    "            target_quiz_1_index = quiz_1_random_index[i]\n",
    "            target_quiz_2_index = quiz_2_random_index[i]\n",
    "\n",
    "            quiz_1_options = [row['Option 1-1'], row['Option 1-2'], row['Option 1-3']]\n",
    "            quiz_1_answer_index = int(row['Index 1'])\n",
    "            quiz_1_answer = row[\"Answer 1\"]\n",
    "\n",
    "\n",
    "            quiz_2_options = [row['Option 2-1'], row['Option 2-2'], row['Option 2-3']]\n",
    "            quiz_2_answer_index = int(row['Index 2'])\n",
    "            quiz_2_answer = row[\"Answer 2\"]\n",
    "\n",
    "            if quiz_1_answer_index != target_quiz_1_index:\n",
    "                quiz_1_tmp_options = quiz_1_options[target_quiz_1_index - 1] # 원본 index 보존\n",
    "                quiz_1_options[target_quiz_1_index - 1] = quiz_1_answer\n",
    "                quiz_1_options[quiz_1_answer_index - 1] = quiz_1_tmp_options\n",
    "\n",
    "            if quiz_2_answer_index != target_quiz_2_index:\n",
    "                quiz_2_tmp_options = quiz_2_options[target_quiz_2_index - 1] # 원본 index 보존\n",
    "                quiz_2_options[target_quiz_2_index - 1] = quiz_2_answer\n",
    "                quiz_2_options[quiz_2_answer_index - 1] = quiz_2_tmp_options  \n",
    "\n",
    "            row_dict = row.to_dict()\n",
    "            # quiz 1 덮어씌우기\n",
    "            row_dict[\"Option 1-1\"] = quiz_1_options[0]\n",
    "            row_dict[\"Option 1-2\"] = quiz_1_options[1]\n",
    "            row_dict[\"Option 1-3\"] = quiz_1_options[2]\n",
    "            row_dict[\"Index 1\"] = target_quiz_1_index\n",
    "            row_dict[\"Option 2-1\"] = quiz_2_options[0]\n",
    "            row_dict[\"Option 2-2\"] = quiz_2_options[1]\n",
    "            row_dict[\"Option 2-3\"] = quiz_2_options[2]\n",
    "            row_dict[\"Index 2\"] = target_quiz_2_index\n",
    "\n",
    "            writer.writerow(row_dict)"
   ]
  },
  {
   "cell_type": "code",
   "execution_count": 37,
   "metadata": {},
   "outputs": [
    {
     "data": {
      "application/vnd.jupyter.widget-view+json": {
       "model_id": "1c2f490b9dd1444c9725b496c30151d9",
       "version_major": 2,
       "version_minor": 0
      },
      "text/plain": [
       "  0%|          | 0/987 [00:00<?, ?it/s]"
      ]
     },
     "metadata": {},
     "output_type": "display_data"
    }
   ],
   "source": [
    "normalization(file_name=\"Curriculum_Mid.csv\")"
   ]
  },
  {
   "cell_type": "code",
   "execution_count": 38,
   "metadata": {},
   "outputs": [
    {
     "data": {
      "text/plain": [
       "Index 1\n",
       "2    356\n",
       "1    322\n",
       "3    309\n",
       "Name: count, dtype: int64"
      ]
     },
     "execution_count": 38,
     "metadata": {},
     "output_type": "execute_result"
    }
   ],
   "source": [
    "index = pd.read_csv(\"ReIndex_Mid_Curriculum1.csv\")\n",
    "index[\"Index 1\"].value_counts()"
   ]
  }
 ],
 "metadata": {
  "kernelspec": {
   "display_name": "base",
   "language": "python",
   "name": "python3"
  },
  "language_info": {
   "codemirror_mode": {
    "name": "ipython",
    "version": 3
   },
   "file_extension": ".py",
   "mimetype": "text/x-python",
   "name": "python",
   "nbconvert_exporter": "python",
   "pygments_lexer": "ipython3",
   "version": "3.12.7"
  }
 },
 "nbformat": 4,
 "nbformat_minor": 2
}
