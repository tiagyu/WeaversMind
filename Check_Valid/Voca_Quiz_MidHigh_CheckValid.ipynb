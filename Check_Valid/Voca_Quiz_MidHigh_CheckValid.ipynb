{
 "cells": [
  {
   "cell_type": "markdown",
   "metadata": {},
   "source": [
    "# voca quiz mid high 검수\n",
    "- 문제를 쉽게 풀려고 해라\n",
    "- 쉽게쉽게쉽게쉽게쉽게 생각..."
   ]
  },
  {
   "cell_type": "code",
   "execution_count": 1,
   "metadata": {},
   "outputs": [],
   "source": [
    "import pandas as pd\n",
    "import re"
   ]
  },
  {
   "cell_type": "code",
   "execution_count": 2,
   "metadata": {},
   "outputs": [
    {
     "ename": "UnicodeDecodeError",
     "evalue": "'utf-8' codec can't decode byte 0xa6 in position 14: invalid start byte",
     "output_type": "error",
     "traceback": [
      "\u001b[1;31m---------------------------------------------------------------------------\u001b[0m",
      "\u001b[1;31mUnicodeDecodeError\u001b[0m                        Traceback (most recent call last)",
      "Cell \u001b[1;32mIn[2], line 2\u001b[0m\n\u001b[0;32m      1\u001b[0m path \u001b[38;5;241m=\u001b[39m \u001b[38;5;124m\"\u001b[39m\u001b[38;5;124mC:\u001b[39m\u001b[38;5;130;01m\\\\\u001b[39;00m\u001b[38;5;124mUsers\u001b[39m\u001b[38;5;130;01m\\\\\u001b[39;00m\u001b[38;5;124mWEAVERSMIND\u001b[39m\u001b[38;5;130;01m\\\\\u001b[39;00m\u001b[38;5;124mDesktop\u001b[39m\u001b[38;5;130;01m\\\\\u001b[39;00m\u001b[38;5;124mWeaversmind\u001b[39m\u001b[38;5;130;01m\\\\\u001b[39;00m\u001b[38;5;124mWord\u001b[39m\u001b[38;5;130;01m\\\\\u001b[39;00m\u001b[38;5;124mPreviewQuiz_Word\u001b[39m\u001b[38;5;130;01m\\\\\u001b[39;00m\u001b[38;5;124mMidHigh\u001b[39m\u001b[38;5;130;01m\\\\\u001b[39;00m\u001b[38;5;124mQuiz_Voca_Mid(total).csv\u001b[39m\u001b[38;5;124m\"\u001b[39m\n\u001b[1;32m----> 2\u001b[0m df \u001b[38;5;241m=\u001b[39m pd\u001b[38;5;241m.\u001b[39mread_csv(path)\n\u001b[0;32m      3\u001b[0m df\u001b[38;5;241m.\u001b[39mhead()\n",
      "File \u001b[1;32mc:\\Users\\WEAVERSMIND\\anaconda3\\Lib\\site-packages\\pandas\\io\\parsers\\readers.py:1026\u001b[0m, in \u001b[0;36mread_csv\u001b[1;34m(filepath_or_buffer, sep, delimiter, header, names, index_col, usecols, dtype, engine, converters, true_values, false_values, skipinitialspace, skiprows, skipfooter, nrows, na_values, keep_default_na, na_filter, verbose, skip_blank_lines, parse_dates, infer_datetime_format, keep_date_col, date_parser, date_format, dayfirst, cache_dates, iterator, chunksize, compression, thousands, decimal, lineterminator, quotechar, quoting, doublequote, escapechar, comment, encoding, encoding_errors, dialect, on_bad_lines, delim_whitespace, low_memory, memory_map, float_precision, storage_options, dtype_backend)\u001b[0m\n\u001b[0;32m   1013\u001b[0m kwds_defaults \u001b[38;5;241m=\u001b[39m _refine_defaults_read(\n\u001b[0;32m   1014\u001b[0m     dialect,\n\u001b[0;32m   1015\u001b[0m     delimiter,\n\u001b[1;32m   (...)\u001b[0m\n\u001b[0;32m   1022\u001b[0m     dtype_backend\u001b[38;5;241m=\u001b[39mdtype_backend,\n\u001b[0;32m   1023\u001b[0m )\n\u001b[0;32m   1024\u001b[0m kwds\u001b[38;5;241m.\u001b[39mupdate(kwds_defaults)\n\u001b[1;32m-> 1026\u001b[0m \u001b[38;5;28;01mreturn\u001b[39;00m _read(filepath_or_buffer, kwds)\n",
      "File \u001b[1;32mc:\\Users\\WEAVERSMIND\\anaconda3\\Lib\\site-packages\\pandas\\io\\parsers\\readers.py:620\u001b[0m, in \u001b[0;36m_read\u001b[1;34m(filepath_or_buffer, kwds)\u001b[0m\n\u001b[0;32m    617\u001b[0m _validate_names(kwds\u001b[38;5;241m.\u001b[39mget(\u001b[38;5;124m\"\u001b[39m\u001b[38;5;124mnames\u001b[39m\u001b[38;5;124m\"\u001b[39m, \u001b[38;5;28;01mNone\u001b[39;00m))\n\u001b[0;32m    619\u001b[0m \u001b[38;5;66;03m# Create the parser.\u001b[39;00m\n\u001b[1;32m--> 620\u001b[0m parser \u001b[38;5;241m=\u001b[39m TextFileReader(filepath_or_buffer, \u001b[38;5;241m*\u001b[39m\u001b[38;5;241m*\u001b[39mkwds)\n\u001b[0;32m    622\u001b[0m \u001b[38;5;28;01mif\u001b[39;00m chunksize \u001b[38;5;129;01mor\u001b[39;00m iterator:\n\u001b[0;32m    623\u001b[0m     \u001b[38;5;28;01mreturn\u001b[39;00m parser\n",
      "File \u001b[1;32mc:\\Users\\WEAVERSMIND\\anaconda3\\Lib\\site-packages\\pandas\\io\\parsers\\readers.py:1620\u001b[0m, in \u001b[0;36mTextFileReader.__init__\u001b[1;34m(self, f, engine, **kwds)\u001b[0m\n\u001b[0;32m   1617\u001b[0m     \u001b[38;5;28mself\u001b[39m\u001b[38;5;241m.\u001b[39moptions[\u001b[38;5;124m\"\u001b[39m\u001b[38;5;124mhas_index_names\u001b[39m\u001b[38;5;124m\"\u001b[39m] \u001b[38;5;241m=\u001b[39m kwds[\u001b[38;5;124m\"\u001b[39m\u001b[38;5;124mhas_index_names\u001b[39m\u001b[38;5;124m\"\u001b[39m]\n\u001b[0;32m   1619\u001b[0m \u001b[38;5;28mself\u001b[39m\u001b[38;5;241m.\u001b[39mhandles: IOHandles \u001b[38;5;241m|\u001b[39m \u001b[38;5;28;01mNone\u001b[39;00m \u001b[38;5;241m=\u001b[39m \u001b[38;5;28;01mNone\u001b[39;00m\n\u001b[1;32m-> 1620\u001b[0m \u001b[38;5;28mself\u001b[39m\u001b[38;5;241m.\u001b[39m_engine \u001b[38;5;241m=\u001b[39m \u001b[38;5;28mself\u001b[39m\u001b[38;5;241m.\u001b[39m_make_engine(f, \u001b[38;5;28mself\u001b[39m\u001b[38;5;241m.\u001b[39mengine)\n",
      "File \u001b[1;32mc:\\Users\\WEAVERSMIND\\anaconda3\\Lib\\site-packages\\pandas\\io\\parsers\\readers.py:1898\u001b[0m, in \u001b[0;36mTextFileReader._make_engine\u001b[1;34m(self, f, engine)\u001b[0m\n\u001b[0;32m   1895\u001b[0m     \u001b[38;5;28;01mraise\u001b[39;00m \u001b[38;5;167;01mValueError\u001b[39;00m(msg)\n\u001b[0;32m   1897\u001b[0m \u001b[38;5;28;01mtry\u001b[39;00m:\n\u001b[1;32m-> 1898\u001b[0m     \u001b[38;5;28;01mreturn\u001b[39;00m mapping[engine](f, \u001b[38;5;241m*\u001b[39m\u001b[38;5;241m*\u001b[39m\u001b[38;5;28mself\u001b[39m\u001b[38;5;241m.\u001b[39moptions)\n\u001b[0;32m   1899\u001b[0m \u001b[38;5;28;01mexcept\u001b[39;00m \u001b[38;5;167;01mException\u001b[39;00m:\n\u001b[0;32m   1900\u001b[0m     \u001b[38;5;28;01mif\u001b[39;00m \u001b[38;5;28mself\u001b[39m\u001b[38;5;241m.\u001b[39mhandles \u001b[38;5;129;01mis\u001b[39;00m \u001b[38;5;129;01mnot\u001b[39;00m \u001b[38;5;28;01mNone\u001b[39;00m:\n",
      "File \u001b[1;32mc:\\Users\\WEAVERSMIND\\anaconda3\\Lib\\site-packages\\pandas\\io\\parsers\\c_parser_wrapper.py:93\u001b[0m, in \u001b[0;36mCParserWrapper.__init__\u001b[1;34m(self, src, **kwds)\u001b[0m\n\u001b[0;32m     90\u001b[0m \u001b[38;5;28;01mif\u001b[39;00m kwds[\u001b[38;5;124m\"\u001b[39m\u001b[38;5;124mdtype_backend\u001b[39m\u001b[38;5;124m\"\u001b[39m] \u001b[38;5;241m==\u001b[39m \u001b[38;5;124m\"\u001b[39m\u001b[38;5;124mpyarrow\u001b[39m\u001b[38;5;124m\"\u001b[39m:\n\u001b[0;32m     91\u001b[0m     \u001b[38;5;66;03m# Fail here loudly instead of in cython after reading\u001b[39;00m\n\u001b[0;32m     92\u001b[0m     import_optional_dependency(\u001b[38;5;124m\"\u001b[39m\u001b[38;5;124mpyarrow\u001b[39m\u001b[38;5;124m\"\u001b[39m)\n\u001b[1;32m---> 93\u001b[0m \u001b[38;5;28mself\u001b[39m\u001b[38;5;241m.\u001b[39m_reader \u001b[38;5;241m=\u001b[39m parsers\u001b[38;5;241m.\u001b[39mTextReader(src, \u001b[38;5;241m*\u001b[39m\u001b[38;5;241m*\u001b[39mkwds)\n\u001b[0;32m     95\u001b[0m \u001b[38;5;28mself\u001b[39m\u001b[38;5;241m.\u001b[39munnamed_cols \u001b[38;5;241m=\u001b[39m \u001b[38;5;28mself\u001b[39m\u001b[38;5;241m.\u001b[39m_reader\u001b[38;5;241m.\u001b[39munnamed_cols\n\u001b[0;32m     97\u001b[0m \u001b[38;5;66;03m# error: Cannot determine type of 'names'\u001b[39;00m\n",
      "File \u001b[1;32mparsers.pyx:574\u001b[0m, in \u001b[0;36mpandas._libs.parsers.TextReader.__cinit__\u001b[1;34m()\u001b[0m\n",
      "File \u001b[1;32mparsers.pyx:663\u001b[0m, in \u001b[0;36mpandas._libs.parsers.TextReader._get_header\u001b[1;34m()\u001b[0m\n",
      "File \u001b[1;32mparsers.pyx:874\u001b[0m, in \u001b[0;36mpandas._libs.parsers.TextReader._tokenize_rows\u001b[1;34m()\u001b[0m\n",
      "File \u001b[1;32mparsers.pyx:891\u001b[0m, in \u001b[0;36mpandas._libs.parsers.TextReader._check_tokenize_status\u001b[1;34m()\u001b[0m\n",
      "File \u001b[1;32mparsers.pyx:2053\u001b[0m, in \u001b[0;36mpandas._libs.parsers.raise_parser_error\u001b[1;34m()\u001b[0m\n",
      "File \u001b[1;32m<frozen codecs>:322\u001b[0m, in \u001b[0;36mdecode\u001b[1;34m(self, input, final)\u001b[0m\n",
      "\u001b[1;31mUnicodeDecodeError\u001b[0m: 'utf-8' codec can't decode byte 0xa6 in position 14: invalid start byte"
     ]
    }
   ],
   "source": [
    "path = \"C:\\\\Users\\\\WEAVERSMIND\\\\Desktop\\\\Weaversmind\\\\Word\\\\PreviewQuiz_Word\\\\MidHigh\\\\Quiz_Voca_Mid(total).csv\"\n",
    "df = pd.read_csv(path)\n",
    "df.head()"
   ]
  },
  {
   "cell_type": "code",
   "execution_count": null,
   "metadata": {},
   "outputs": [],
   "source": [
    "sample_df = df[:5]\n",
    "sample_df.head(1)\n",
    "data = sample_df"
   ]
  },
  {
   "cell_type": "code",
   "execution_count": null,
   "metadata": {},
   "outputs": [],
   "source": [
    "def check_voca_quiz(data:pd.DataFrame) -> pd.DataFrame:\n",
    "    \n",
    "    error_state = False\n",
    "\n",
    "    # 1. korean_translation 확인\n",
    "    check_symbol_pattern = r\"\\[\\[.*?\\]\\]\"\n",
    "    blank = r\"_+\"\n",
    "\n",
    "    for i in range(len(data)):\n",
    "        # 1-1 [[]]가 있는지 확인\n",
    "        if not re.search(check_symbol_pattern, data['korean_translation'][i]):\n",
    "            error_state = True\n",
    "            print(f\"korean translation {i} 번째 행 {data['answer'][i]} 에 [[]] 오류가 있음\")\n",
    "        \n",
    "        # 1-2 영어가 있는지 확인\n",
    "        cleaned_text = re.sub(\"TV\", \"\",data['korean_translation'][i])\n",
    "        if re.search(r\"[a-zA-Z]\", cleaned_text):\n",
    "            error_state = True\n",
    "            print(f\"korean translation {i} 번째 행 {data['answer'][i]} 에 영어가 있음\")\n",
    "\n",
    "        # 1-3 밑줄이있는지 확인\n",
    "        underscores = re.findall(blank, data['fill_in_blank_quiz'][i])\n",
    "        if len(underscores) < 1:\n",
    "            error_state = True\n",
    "            print(f\"fill in blank quiz {i} 번째 행 {data['answer'][i]} 에 __ 밑줄이 없음\")\n",
    "    \n",
    "    if error_state==False:\n",
    "        return f\"발견된 에러가 없음!!\""
   ]
  },
  {
   "cell_type": "markdown",
   "metadata": {},
   "source": [
    "- 다음 부터는 그냥 데이터를 만들자 뭐가 오류인지\n",
    "    - 이렇게 하니씩 확인하려고 하니 힘듬.."
   ]
  },
  {
   "cell_type": "code",
   "execution_count": null,
   "metadata": {},
   "outputs": [
    {
     "name": "stdout",
     "output_type": "stream",
     "text": [
      "korean translation 1230 번째 행 height 에 영어가 있음\n",
      "korean translation 1545 번째 행 share 에 영어가 있음\n",
      "korean translation 2371 번째 행 worth 에 [[]] 오류가 있음\n",
      "korean translation 3415 번째 행 campfire 에 [[]] 오류가 있음\n",
      "korean translation 4297 번째 행 both A and B 에 영어가 있음\n",
      "korean translation 5215 번째 행 mix A with B 에 영어가 있음\n",
      "korean translation 5510 번째 행 part 에 [[]] 오류가 있음\n",
      "korean translation 5839 번째 행 read 에 영어가 있음\n",
      "korean translation 6176 번째 행 skirt 에 [[]] 오류가 있음\n"
     ]
    }
   ],
   "source": [
    "check_voca_quiz(df)"
   ]
  },
  {
   "cell_type": "code",
   "execution_count": null,
   "metadata": {},
   "outputs": [
    {
     "name": "stdout",
     "output_type": "stream",
     "text": [
      "korean translation 2 번째 행에 영어가 있음\n"
     ]
    }
   ],
   "source": [
    "check_symbol_pattern = r\"\\[\\[.*?\\]\\]\"\n",
    "blank = r\"_+\"\n",
    "\n",
    "for i in range(len(data)):\n",
    "    if not re.search(check_symbol_pattern, data['korean_translation'][i]):\n",
    "        print(f\"korean translation {i} 번째 행에 [[]] 오류가 있음\")\n",
    "\n",
    "    if re.search(r\"[a-zA-Z]\", data['korean_translation'][i]):\n",
    "        print(f\"korean translation {i} 번째 행에 영어가 있음\")\n",
    "\n",
    "    underscores = re.findall(blank, data['fill_in_blank_quiz'][i])\n",
    "    if len(underscores) < 1:\n",
    "        print(f\"fill in blank quiz {i} 번째 행에 __ 밑줄이 없음\")\n",
    "    \n",
    "    "
   ]
  },
  {
   "cell_type": "code",
   "execution_count": null,
   "metadata": {},
   "outputs": [
    {
     "data": {
      "text/plain": [
       "0    그녀는 독특한 [[강세]]로 말해요.\n",
       "1       그녀는 [[억양]]으로 말해요.\n",
       "2       그들은 TV에 [[광고]]해요.\n",
       "3         회사에서는 [[광고]]해요.\n",
       "4      아빠는 [[항공사]]에서 일해요.\n",
       "Name: korean_translation, dtype: object"
      ]
     },
     "execution_count": 23,
     "metadata": {},
     "output_type": "execute_result"
    }
   ],
   "source": [
    "data['korean_translation']"
   ]
  },
  {
   "cell_type": "code",
   "execution_count": null,
   "metadata": {},
   "outputs": [
    {
     "data": {
      "text/plain": [
       "0           She speaks with a unique ___.\n",
       "1                    She speaks with ___.\n",
       "2                         They ___ on TV.\n",
       "3    The company ___ their product today.\n",
       "4                   My dad works for ___.\n",
       "Name: fill_in_blank_quiz, dtype: object"
      ]
     },
     "execution_count": 24,
     "metadata": {},
     "output_type": "execute_result"
    }
   ],
   "source": [
    "data['fill_in_blank_quiz']"
   ]
  },
  {
   "cell_type": "markdown",
   "metadata": {},
   "source": [
    "# 영어 문장과 한글 문장의 뜻이 일치하는지 유효성 검사"
   ]
  },
  {
   "cell_type": "code",
   "execution_count": 64,
   "metadata": {},
   "outputs": [],
   "source": [
    "from openai import OpenAI\n",
    "from getpass import getpass\n",
    "from jinja2 import Template\n",
    "from openai.lib._parsing import type_to_response_format_param\n",
    "from pydantic import BaseModel\n",
    "import json\n",
    "import pandas as pd\n",
    "from tqdm import tqdm"
   ]
  },
  {
   "cell_type": "code",
   "execution_count": 65,
   "metadata": {},
   "outputs": [],
   "source": [
    "api_key = getpass(\"OPENAI_API_KEY\")\n",
    "client = OpenAI(api_key=api_key)"
   ]
  },
  {
   "cell_type": "code",
   "execution_count": 66,
   "metadata": {},
   "outputs": [
    {
     "data": {
      "text/plain": [
       "['구분',\n",
       " 'voca NO',\n",
       " 'grade ID',\n",
       " 'grade NO',\n",
       " 'WordText',\n",
       " 'WordMeaning',\n",
       " 'PoS',\n",
       " '품사',\n",
       " 'image ID',\n",
       " 'WordID(SoundID)',\n",
       " 'WordSymbol',\n",
       " 'example_english',\n",
       " 'example_korean',\n",
       " 'new_example_english',\n",
       " 'new_example_korean',\n",
       " 'fill_in_blank_quiz',\n",
       " 'korean_translation',\n",
       " 'answer',\n",
       " 'hint_eng',\n",
       " 'hint_kor',\n",
       " '중고등1200 포함여부',\n",
       " '예시 단어 포함 여부',\n",
       " 'answer/wordtext 일치여부',\n",
       " '워드P 매핑용',\n",
       " '워드P 매핑용 쿼리']"
      ]
     },
     "execution_count": 66,
     "metadata": {},
     "output_type": "execute_result"
    }
   ],
   "source": [
    "sample = pd.read_csv('sample_sentence.csv', skiprows=2)\n",
    "sample.columns.tolist()"
   ]
  },
  {
   "cell_type": "code",
   "execution_count": null,
   "metadata": {},
   "outputs": [],
   "source": [
    "prompt_template = Template(\n",
    "\"\"\"\n",
    "[PERSONA]\n",
    "You are a translation review expert.\n",
    "\n",
    "[POLICY]\n",
    "1. Check if \"example_sentence\" and \"example_sentence_kor\" have the same meaning.\n",
    "2. Classify the comparison result into one of the following states: \"correct\", \"supplement\", or \"incorrect\".\n",
    "3. Provide a reason for the assigned state in the \"reason\" field.\n",
    "4. The example sentence must align with 'WordText', 'WordMeaning', and 'PoSText'. If the meaning is different, the classification should be \"incorrect\".\n",
    "\n",
    "\n",
    "\n",
    "\n",
    "[EXAMPLE 1 : correct]\n",
    "```\n",
    "Input:\n",
    "    {\n",
    "    \"WordText\" : \"disappoint\",\n",
    "    \"WordMeaning\" : \"실망시키다\",\n",
    "    \"PoSText\" : \"동사\",\n",
    "    \"example_sentence\" : \"I do not want to disappoint my friend.\"\n",
    "    \"example_sentence_kor\" : \"내 친구를 실망시키고 싶지 않아요.\"\n",
    "    }\n",
    "\n",
    "Output:\n",
    "    {\n",
    "    \"WordText\" : \"disappoint\",\n",
    "    \"state\" : \"correct\",\n",
    "    \"reason\": \"The English and Korean sentences have the same meaning. 'I do not want to disappoint my friend.' is correctly translated as '내 친구를 실망시키고 싶지 않아요.' without any significant differences in nuance or intent.\"\n",
    "    }\n",
    "```       \n",
    "\n",
    "[EXAMPLE 2 : supplement]\n",
    "```\n",
    "Input:\n",
    "    {\n",
    "    \"WordText\" : \"favor\",\n",
    "    \"WordMeaning\" : \"좋아하다\",\n",
    "    \"PoSText\" : \"동사\",\n",
    "    \"example_sentence\" : \"I favor my teacher because she is kind.\"\n",
    "    \"example_sentence_kor\" : \"저는 선생님을 좋아해요.\",\n",
    "    }\n",
    "\n",
    "Output:\n",
    "    {\n",
    "    \"WordText\" : \"favor\",\n",
    "    \"state\" : \"supplement\",\n",
    "    \"reason\": \"The Korean sentence '저는 선생님을 좋아해요.' means 'I like my teacher,' which conveys a similar idea but lacks the reason provided in the English sentence ('because she is kind'). The nuance of 'favor' implying preference is also not fully captured.\"\n",
    "    }\n",
    "\n",
    "```\n",
    "\n",
    "[EXAMPLE 3 : incorrect]\n",
    "```\n",
    "Input:\n",
    "    {\n",
    "    \"WordText\" : \"alarm\",\n",
    "    \"WordMeaning\" : \"놀람, 경보\",\n",
    "    \"PoSText\" : \"명사\",\n",
    "    \"example_sentence\" : \"My alarm rings loudly to wake me up.\"\n",
    "    \"example_sentence_kor\" : \"내 알람이 크게 울려서 나를 깨워요.\"\n",
    "    }\n",
    "\n",
    "Output:\n",
    "    {\n",
    "    \"WordText\" : \"alarm\",\n",
    "    \"state\" : \"incorrect\",\n",
    "    \"reason\": \"The WordMeaning '놀람, 경보' refers to 'alarm' as a noun meaning 'surprise' or 'warning,' but in the example sentence, 'alarm' refers to an 'alarm clock' (알람 시계). This mismatch in meaning makes the translation incorrect.\"\n",
    "    }\n",
    "```\n",
    "\n",
    "[Input]\n",
    "```\n",
    "\n",
    "WordText : {{WordText}}\n",
    "WordMeaning : {{WordMeaning}}\n",
    "PoSText : {{PoSText}}\n",
    "example_sentence : {{example_sentence}}\n",
    "example_sentence_kor : {{example_sentence_kor}}\n",
    "```                   \n",
    "\"\"\"     \n",
    ")"
   ]
  },
  {
   "cell_type": "code",
   "execution_count": 68,
   "metadata": {},
   "outputs": [],
   "source": [
    "class ExampleSentence(BaseModel):\n",
    "    WordText : str\n",
    "    state : str\n",
    "    reason : str"
   ]
  },
  {
   "cell_type": "code",
   "execution_count": 69,
   "metadata": {},
   "outputs": [],
   "source": [
    "response_format = type_to_response_format_param(ExampleSentence)"
   ]
  },
  {
   "cell_type": "code",
   "execution_count": 70,
   "metadata": {},
   "outputs": [],
   "source": [
    "prompt = prompt_template.render(\n",
    "    WordText = \"alarm\",\n",
    "    WordMeaning = \"알람,자명종\",\n",
    "    PoSText = \"동사\",\n",
    "    example_sentence = \"My alarm rings loudly to wake me up.\",\n",
    "    example_sentence_kor = \"내 경보가 크게 울려서 나를 깨워요.\",\n",
    ") "
   ]
  },
  {
   "cell_type": "code",
   "execution_count": 71,
   "metadata": {},
   "outputs": [],
   "source": [
    "def completion(prompt : str) -> str:\n",
    "    response = client.beta.chat.completions.parse(\n",
    "        model = 'o3-mini',\n",
    "        reasoning_effort='low',\n",
    "        messages = [\n",
    "            {\"role\" : \"system\", \"content\" : \"You will provide a fill-in-the-blank quiz for each given word, a Korean translation, and a hint.\"},\n",
    "            {\"role\" : \"user\", \"content\" : prompt}\n",
    "        ],\n",
    "        response_format = ExampleSentence,\n",
    "    )\n",
    "    return response.choices[0].message.parsed"
   ]
  },
  {
   "cell_type": "code",
   "execution_count": 72,
   "metadata": {},
   "outputs": [
    {
     "name": "stdout",
     "output_type": "stream",
     "text": [
      "\n",
      "[PERSONA]\n",
      "You are a translation review expert.\n",
      "\n",
      "[POLICY]\n",
      "1. Check if \"example_sentence\" and \"example_sentence_kor\" have the same meaning.\n",
      "2. Classify the comparison result into one of the following states: \"correct\", \"supplement\", or \"incorrect\".\n",
      "3. Provide a reason for the assigned state in the \"reason\" field.\n",
      "4. The example sentence must align with 'WordText', 'WordMeaning', and 'PoSText'. If the meaning is different, the classification should be \"incorrect\".\n",
      "\n",
      "\n",
      "\n",
      "\n",
      "[EXAMPLE 1 : correct]\n",
      "```\n",
      "Input:\n",
      "    {\n",
      "    \"WordText\" : \"disappoint\",\n",
      "    \"WordMeaning\" : \"실망시키다\",\n",
      "    \"PoSText\" : \"동사\",\n",
      "    \"example_sentence\" : \"I do not want to disappoint my friend.\"\n",
      "    \"example_sentence_kor\" : \"내 친구를 실망시키고 싶지 않아요.\"\n",
      "    }\n",
      "\n",
      "Output:\n",
      "    {\n",
      "    \"WordText\" : \"disappoint\",\n",
      "    \"state\" : \"correct\",\n",
      "    \"reason\": \"The English and Korean sentences have the same meaning. 'I do not want to disappoint my friend.' is correctly translated as '내 친구를 실망시키고 싶지 않아요.' without any significant differences in nuance or intent.\"\n",
      "    }\n",
      "```       \n",
      "\n",
      "[EXAMPLE 2 : supplement]\n",
      "```\n",
      "Input:\n",
      "    {\n",
      "    \"WordText\" : \"favor\",\n",
      "    \"WordMeaning\" : \"좋아하다\",\n",
      "    \"PoSText\" : \"동사\",\n",
      "    \"example_sentence\" : \"I favor my teacher because she is kind.\"\n",
      "    \"example_sentence_kor\" : \"저는 선생님을 좋아해요.\",\n",
      "    }\n",
      "\n",
      "Output:\n",
      "    {\n",
      "    \"WordText\" : \"favor\",\n",
      "    \"state\" : \"supplement\",\n",
      "    \"reason\": \"The Korean sentence '저는 선생님을 좋아해요.' means 'I like my teacher,' which conveys a similar idea but lacks the reason provided in the English sentence ('because she is kind'). The nuance of 'favor' implying preference is also not fully captured.\"\n",
      "    }\n",
      "\n",
      "```\n",
      "\n",
      "[EXAMPLE 3 : incorrect]\n",
      "```\n",
      "Input:\n",
      "    {\n",
      "    \"WordText\" : \"alarm\",\n",
      "    \"WordMeaning\" : \"놀람, 경보\",\n",
      "    \"PoSText\" : \"명사\",\n",
      "    \"example_sentence\" : \"My alarm rings loudly to wake me up.\"\n",
      "    \"example_sentence_kor\" : \"내 알람이 크게 울려서 나를 깨워요.\"\n",
      "    }\n",
      "\n",
      "Output:\n",
      "    {\n",
      "    \"WordText\" : \"alarm\",\n",
      "    \"state\" : \"incorrect\",\n",
      "    \"reason\": \"The WordMeaning '놀람, 경보' refers to 'alarm' as a noun meaning 'surprise' or 'warning,' but in the example sentence, 'alarm' refers to an 'alarm clock' (알람 시계). This mismatch in meaning makes the translation incorrect.\"\n",
      "    }\n",
      "```\n",
      "\n",
      "[Input]\n",
      "```\n",
      "WordText : alarm\n",
      "WordMeaning : 알람,자명종\n",
      "PoSText : 동사\n",
      "example_sentence : My alarm rings loudly to wake me up.\n",
      "example_sentence_kor : 내 경보가 크게 울려서 나를 깨워요.\n",
      "```                   \n"
     ]
    }
   ],
   "source": [
    "print(prompt)"
   ]
  },
  {
   "cell_type": "code",
   "execution_count": 73,
   "metadata": {},
   "outputs": [],
   "source": [
    "response = completion(prompt)"
   ]
  },
  {
   "cell_type": "code",
   "execution_count": 74,
   "metadata": {},
   "outputs": [
    {
     "name": "stdout",
     "output_type": "stream",
     "text": [
      "{\n",
      "    \"WordText\": \"alarm\",\n",
      "    \"state\": \"incorrect\",\n",
      "    \"reason\": \"The WordMeaning provided includes both '알람' and '자명종', but the PoSText is '동사', suggesting a verbal usage. The English example sentence 'My alarm rings loudly to wake me up.' implies a noun usage (likely referring to an alarm clock), and the Korean translation '내 경보가 크게 울려서 나를 깨워요.' uses '경보', meaning a warning system rather than an alarm clock. This mismatch in both the part of speech and the meaning of the translated word makes the translation incorrect.\"\n",
      "}\n"
     ]
    }
   ],
   "source": [
    "response_output = json.dumps(response.dict(), ensure_ascii=False, indent = 4)\n",
    "print(response_output)"
   ]
  },
  {
   "cell_type": "code",
   "execution_count": 75,
   "metadata": {},
   "outputs": [],
   "source": [
    "def ExampleValid(api_key:str, prompt_template:str, response_format, data:pd.DataFrame):\n",
    "    # api 호출하기\n",
    "    client = OpenAI(api_key=api_key)\n",
    "\n",
    "    # 결과 저장\n",
    "    results = []\n",
    "\n",
    "    # 검수 prompt 생성\n",
    "    for i in tqdm(range(len(data)), total = len(data)):\n",
    "        prompt = prompt_template.render(\n",
    "            WordText = data.loc[i,\"WordText\"],\n",
    "            WordMeaning = data.loc[i,\"WordMeaning\"],\n",
    "            PoSText = data.loc[i,\"품사\"],\n",
    "            example_sentence = data.loc[i,'new_example_english'],\n",
    "            example_sentence_kor = data.loc[i, 'new_example_korean']\n",
    "        )\n",
    "\n",
    "        response = client.beta.chat.completions.parse(\n",
    "            model = 'o3-mini',\n",
    "            reasoning_effort = \"low\",\n",
    "            messages = [\n",
    "                {\"role\" : \"system\", \"content\" : \"Check if the given English sentence (`example_sentence`) and its Korean translation (`example_sentence_kor`) have the same meaning.\" },\n",
    "                {\"role\" : \"user\", \"content\" : prompt}\n",
    "            ],\n",
    "            response_format = response_format\n",
    "        )\n",
    "        \n",
    "        # 응답 결과 저장\n",
    "        output = response.choices[0].message.parsed\n",
    "        response_output = json.dumps(output.dict(), ensure_ascii=False, indent=2)\n",
    "        results.append(response_output)\n",
    "\n",
    "    return results"
   ]
  },
  {
   "cell_type": "code",
   "execution_count": 76,
   "metadata": {},
   "outputs": [],
   "source": [
    "sample = sample[:100]"
   ]
  },
  {
   "cell_type": "code",
   "execution_count": 77,
   "metadata": {},
   "outputs": [
    {
     "name": "stderr",
     "output_type": "stream",
     "text": [
      "100%|██████████| 100/100 [06:46<00:00,  4.07s/it]\n"
     ]
    }
   ],
   "source": [
    "sampe_output = ExampleValid(api_key=api_key, \n",
    "             prompt_template=prompt_template,\n",
    "             response_format=ExampleSentence,\n",
    "             data=sample,\n",
    "             )"
   ]
  },
  {
   "cell_type": "code",
   "execution_count": 78,
   "metadata": {},
   "outputs": [
    {
     "name": "stdout",
     "output_type": "stream",
     "text": [
      "['{\\n  \"WordText\": \"accent\",\\n  \"state\": \"correct\",\\n  \"reason\": \"The English sentence \\'My friend speaks English with a clear accent.\\' and the Korean translation \\'내 친구는 영어를 명확한 강세로 말해요.\\' share the same meaning. The term \\'accent\\' as \\'강세\\' (the emphasis on syllables) is used accurately in both, and the overall context is maintained without any loss of meaning or nuance.\"\\n}', '{\\n  \"WordText\": \"accent\",\\n  \"state\": \"correct\",\\n  \"reason\": \"The English sentence \\'She speaks fluent English with a clear accent.\\' is accurately translated as \\'그녀는 뚜렷한 억양으로 영어를 말해요.\\' Both sentences convey that her English is fluent and has a distinct accent, aligning with the word meaning \\'억양\\' and the part of speech \\'명사\\'.\"\\n}', '{\\n  \"WordText\": \"advertise\",\\n  \"state\": \"correct\",\\n  \"reason\": \"The English sentence \\'The big store advertises new toys on TV.\\' and its Korean translation \\'큰 가게가 새로운 장난감을 TV에서 광고해요.\\' convey the same meaning. The translation accurately reflects the meaning of \\'advertise\\' as \\'광고하다\\' and maintains the original context and details, thus it is correct.\"\\n}', '{\\n  \"WordText\": \"advertize\",\\n  \"state\": \"supplement\",\\n  \"reason\": \"The English sentence includes the adverb \\'carefully\\', which emphasizes the manner in which the product is being advertised. The Korean translation \\'그들은 새 제품을 TV에서 광고해요.\\' successfully conveys the basic meaning but omits this nuance. Therefore, the translation is accurate in general but missing the element of \\'carefully\\', making it a supplement.\"\\n}', '{\\n  \"WordText\": \"airline\",\\n  \"state\": \"correct\",\\n  \"reason\": \"The English sentence and its Korean translation convey the same meaning. The phrase \\'The reliable airline offers many safe easy flights.\\' is accurately rendered as \\'믿을 수 있는 항공사는 많은 안전한 쉬운 비행을 제공해요.\\' with all key elements correctly translated.\"\\n}', '{\\n  \"WordText\": \"alarm\",\\n  \"state\": \"incorrect\",\\n  \"reason\": \"The WordMeaning \\'놀람,경보\\' refers to the noun meaning \\'surprise\\' or \\'warning.\\' However, in the example sentence, \\'alarm\\' clearly denotes an \\'alarm clock\\' (which rings to wake someone up). This discrepancy in meaning between the provided WordMeaning and the contextual use in the sentence makes the translation incorrect.\"\\n}', '{\\n  \"WordText\": \"alarm\",\\n  \"state\": \"correct\",\\n  \"reason\": \"The English sentence \\'My alarm rings loudly every morning on weekdays.\\' correctly matches the Korean sentence \\'내 자명종은 매일 아침 평일에 크게 울려요.\\' Both specify that the alarm (자명종) rings loudly on weekdays every morning, and the translation accurately reflects the intended meaning.\"\\n}', '{\\n  \"WordText\": \"alcohol\",\\n  \"state\": \"correct\",\\n  \"reason\": \"Both the English and Korean sentences convey the idea that alcohol is sometimes included in medicines. The translation correctly reflects the meaning, with no significant differences in nuance or intent.\"\\n}', '{\\n  \"WordText\": \"aloud\",\\n  \"state\": \"correct\",\\n  \"reason\": \"The English sentence \\'My friend always speaks aloud in our class.\\' is accurately translated into Korean as \\'내 친구는 항상 우리 반에서 소리 내어 말해요.\\' Both sentences convey the same meaning that the friend speaks in a loud voice in the class.\"\\n}', '{\\n  \"WordText\": \"amaze\",\\n  \"state\": \"correct\",\\n  \"reason\": \"The English sentence \\'The magic trick can truly amaze all children.\\' is accurately translated into Korean as \\'그 마술은 모든 아이들을 놀라게 해요.\\' The meaning, including the verb \\'to amaze\\' and its context, is maintained without any loss or alteration in nuance.\"\\n}', '{\\n  \"WordText\": \"amuse\",\\n  \"state\": \"supplement\",\\n  \"reason\": \"The Korean sentence accurately conveys the primary meaning of making children happy, aligning with the word meaning \\'즐겁게 하다\\'. However, the English sentence includes the adverb \\'daily\\', which is omitted in the Korean translation, making it an incomplete match regarding the frequency aspect.\"\\n}', '{\\n  \"WordText\": \"analysis\",\\n  \"state\": \"supplement\",\\n  \"reason\": \"The Korean sentence accurately conveys that the teacher conducted an analysis of a text, but it omits the nuance of the analysis being \\'careful\\' as stated in the English sentence.\"\\n}', '{\\n  \"WordText\": \"annoy\",\\n  \"state\": \"correct\",\\n  \"reason\": \"The English sentence \\'Loud noises can really annoy my little sister.\\' is correctly translated as \\'시끄러운 소리가 정말 내 여동생을 화나게 해요.\\' in Korean. Both sentences convey the same meaning where the action of annoying (화나게 하다) is attributed to loud noises affecting the little sister, thus aligning with the provided WordMeaning and PoSText.\"\\n}', '{\\n  \"WordText\": \"ant\",\\n  \"state\": \"correct\",\\n  \"reason\": \"The English sentence \\'A very tiny ant carries a heavy crumb.\\' is correctly translated as \\'아주 작은 개미가 무거운 부스러기를 옮겨요.\\' The meaning and details are accurately reflected in both sentences.\"\\n}', '{\\n  \"WordText\": \"applicant\",\\n  \"state\": \"correct\",\\n  \"reason\": \"Both the English sentence and its Korean translation convey the same meaning: that a smart applicant submitted his application form today. The translation maintains the key elements and context of the original sentence.\"\\n}', '{\\n  \"WordText\": \"bacon\",\\n  \"state\": \"supplement\",\\n  \"reason\": \"The Korean sentence ‘나는 매일 아침 바삭한 베이컨을 즐겨요.’ omits the detail ‘with eggs’ present in the English sentence. While the main idea and the word meaning (베이컨) are correctly translated, the translation lacks the full context provided in the English sentence.\"\\n}', '{\\n  \"WordText\": \"bay\",\\n  \"state\": \"correct\",\\n  \"reason\": \"The English sentence \\'The small boat sails near the peaceful bay.\\' and its Korean translation \\'작은 배가 평화로운 만 근처로 항해해요.\\' both accurately convey the image of a bay, which aligns with the WordMeaning and PoSText provided. The translation captures the same meaning without any discrepancy.\"\\n}', '{\\n  \"WordText\": \"bay\",\\n  \"state\": \"correct\",\\n  \"reason\": \"The English sentence \\'The bay is a calm and quiet area.\\' is properly translated into Korean as \\'만은 차분하고 조용한 구역이에요.\\' Here, \\'만\\' correctly represents \\'bay\\' in the sense of a coastal area, and the adjectives \\'calm and quiet\\' are accurately rendered as \\'차분하고 조용한\\'.\"\\n}', '{\\n  \"WordText\": \"beer\",\\n  \"state\": \"correct\",\\n  \"reason\": \"The English sentence \\'We happily drank a cold beer at dinner.\\' is accurately translated into Korean as \\'우리 즐겁게 저녁에 차가운 맥주를 마셨어요.\\' Both sentences convey the same meaning, using the correct translation of \\'beer\\' as \\'맥주\\', with consistent context and sentiment.\"\\n}', '{\\n  \"WordText\": \"belief\",\\n  \"state\": \"correct\",\\n  \"reason\": \"Both the English sentence \\'Her strong belief makes life full of hope.\\' and the Korean sentence \\'그녀의 강한 믿음이 삶에 희망을 줘요.\\' convey the same meaning. The translation accurately reflects that her strong belief brings hope to her life, matching the word meaning \\'믿음\\' and the parts of speech and context.\"\\n}', '{\\n  \"WordText\": \"belief\",\\n  \"state\": \"correct\",\\n  \"reason\": \"The English sentence \\'Her firm belief always helps her stay strong.\\' has been accurately translated to \\'그녀의 확고한 신념은 항상 그녀에게 힘을 줘요.\\' The core meaning, that her strong belief provides her with strength, is preserved in the translation.\"\\n}', '{\\n  \"WordText\": \"bench\",\\n  \"state\": \"correct\",\\n  \"reason\": \"The English sentence \\'The small bench sits under the tall tree.\\' is accurately translated into Korean as \\'작은 벤치가 큰 나무 아래에 있어요.\\', preserving the meaning and providing the same details regarding the bench and the tree.\"\\n}', '{\\n  \"WordText\": \"beyond\",\\n  \"state\": \"correct\",\\n  \"reason\": \"The English sentence \\'His skill is really beyond our normal level.\\' and its Korean translation \\'그의 실력은 우리 평범한 수준을 능가해요.\\' convey the same meaning of exceeding or surpassing the normal level, aligning with the given word meaning \\'능가하는\\' and adjective usage.\"\\n}', '{\\n  \"WordText\": \"beyond\",\\n  \"state\": \"correct\",\\n  \"reason\": \"Both the English sentence and its Korean translation convey the same meaning, indicating that the dog is running to the area beyond the long fence. The translation accurately reflects the prepositional meaning of \\'beyond\\' as \\'저편에\\'.\"\\n}', '{\\n  \"WordText\": \"bind\",\\n  \"state\": \"supplement\",\\n  \"reason\": \"The Korean sentence \\'박스를 단단히 묶어 주세요요.\\' omits the detail of \\'rope\\' that is present in the English sentence \\'Please bind the rope tightly around the box.\\'. While both sentences ask for something to be tied tightly, the Korean version loses the specific nuance of binding a rope around the box.\"\\n}', '{\\n  \"WordText\": \"bless\",\\n  \"state\": \"correct\",\\n  \"reason\": \"Both the English sentence \\'I always bless my friends with kind words.\\' and its Korean translation \\'저는 친구들에게 친절한 말로 축복해요.\\' express the same meaning, using \\'bless\\' in the context of offering kind words, which aligns perfectly with the WordMeaning \\'축복하다\\' and PoSText \\'동사\\'.\"\\n}', '{\\n  \"WordText\": \"boom\",\\n  \"state\": \"correct\",\\n  \"reason\": \"The English sentence \\'The small bakery will boom in our town.\\' and its Korean translation \\'우리 동네의 작은 빵집이 번창해요.\\' convey the same meaning using the sense of flourishing, which aligns with the provided WordMeaning \\'번창하다,호황을 맞다\\'. Therefore, the translation is correct.\"\\n}', '{\\n  \"WordText\": \"boom\",\\n  \"state\": \"incorrect\",\\n  \"reason\": \"The WordMeaning provided is \\'윙윙 울리다\\', which implies a humming or buzzing sound. However, the English sentence uses \\'boom\\' in a context that suggests a loud, possibly explosive sound during takeoff. The Korean translation \\'비행기 엔진이 이륙할 때 윙윙 울려요.\\' reflects the humming sound, leading to a mismatch between the specified meaning and the context used in the English sentence.\"\\n}', '{\\n  \"WordText\": \"bore\",\\n  \"state\": \"correct\",\\n  \"reason\": \"Both the English sentence \\'The drill bore a hole in the wood.\\' and the Korean translation \\'드릴이 나무에 구멍을 뚫었어요.\\' convey the same meaning. They correctly reflect the action of making a hole, consistent with the given WordMeaning \\'뚫다\\' and PoSText \\'동사\\'.\"\\n}', '{\\n  \"WordText\": \"bore\",\\n  \"state\": \"correct\",\\n  \"reason\": \"Both the English and Korean sentences convey the same meaning. The English sentence \\'A boring movie always bore all my friends.\\' is correctly translated as \\'지루한 영화는 항상 내 친구들을 지루하게 했어요.\\', maintaining the idea that the movie caused boredom among the friends.\"\\n}', '{\\n  \"WordText\": \"bore\",\\n  \"state\": \"correct\",\\n  \"reason\": \"Both the English sentence \\'The old book did bore my best friend.\\' and the Korean translation \\'오래된 책이 내 가장 친한 친구를 지루하게 했어요.\\' convey the same meaning. The translation accurately represents the idea that the old book made the best friend feel bored, aligning with the provided WordMeaning \\'지루하게 하다\\' for the verb.\"\\n}', '{\\n  \"WordText\": \"boss\",\\n  \"state\": \"correct\",\\n  \"reason\": \"The English sentence \\'Good leaders boss their teams with kind fairness.\\' effectively translates to \\'좋은 리더들은 팀을 친절하게 지배해요.\\' Both sentences convey that leaders exercise control (\\'boss\\') over their teams in a fair and kind manner, which aligns with the provided WordMeaning \\'지배하다\\' and PoSText \\'동사\\'.\"\\n}', '{\\n  \"WordText\": \"boss\",\\n  \"state\": \"correct\",\\n  \"reason\": \"The English sentence \\'My boss always helps me finish each task.\\' is correctly translated as \\'나의 상사는 항상 나에게 각 과제를 끝내도록 도와줘요.\\' The translation accurately conveys the meaning that the boss provides support in completing tasks.\"\\n}', '{\\n  \"WordText\": \"brake\",\\n  \"state\": \"correct\",\\n  \"reason\": \"The English sentence \\'He quickly pressed the brake before the turn.\\' and the Korean sentence \\'그는 회전하기 전에 브레이크를 빠르게 눌렀어요.\\' convey the same meaning, with the translation accurately reflecting the original meaning of \\'brake\\' as \\'브레이크\\' (noun).\"\\n}', '{\\n  \"WordText\": \"bubble\",\\n  \"state\": \"correct\",\\n  \"reason\": \"The English and Korean sentences convey the same meaning: the speaker sees many big bubbles in the park. The translation accurately reflects the details and nuances of the original sentence.\"\\n}', '{\\n  \"WordText\": \"bug\",\\n  \"state\": \"correct\",\\n  \"reason\": \"The English sentence \\'My little brother always bugs me during homework.\\' correctly conveys the meaning \\'괴롭히다\\' as shown in the Korean sentence \\'내 동생은 숙제할 때 항상 저를 괴롭혀요.\\' Both sentences imply that the little brother is annoying during homework time, so the translation is accurate.\"\\n}', '{\\n  \"WordText\": \"bug\",\\n  \"state\": \"correct\",\\n  \"reason\": \"The English sentence \\'I saw a tiny bug on green leaf.\\' and the Korean sentence \\'나는 초록 잎 위에 작은 벌레를 봤어요.\\' convey the same meaning. The description of the insect and its location is accurately and completely translated.\"\\n}', '{\\n  \"WordText\": \"bug\",\\n  \"state\": \"correct\",\\n  \"reason\": \"The English sentence \\'My computer encountered a tiny bug this morning.\\' and the Korean sentence \\'내 컴퓨터가 오늘 아침 작은 컴퓨터상의 오류를 만났어요.\\' convey the same meaning. Both clearly express that the computer experienced a minor error, aligning with the given WordMeaning \\'컴퓨터상의 오류\\' and PoSText \\'명사\\'.\"\\n}', '{\\n  \"WordText\": \"bush\",\\n  \"state\": \"correct\",\\n  \"reason\": \"The English sentence \\'My small bush grows next to our house.\\' is accurately translated as \\'내 작은 수풀은 우리 집 옆에서 자라요.\\' The meaning regarding the size and location of the bush is preserved in the Korean translation.\"\\n}', '{\\n  \"WordText\": \"cable\",\\n  \"state\": \"correct\",\\n  \"reason\": \"The English sentence \\'I need a strong cable for my TV.\\' is accurately translated into Korean as \\'저는 TV에 강한 케이블이 필요해요.\\' Both sentences convey the need for a strong cable for a TV, and the nuance and intent are matched.\"\\n}', '{\\n  \"WordText\": \"calculator\",\\n  \"state\": \"correct\",\\n  \"reason\": \"The English sentence \\'I always use my calculator in math class.\\' is accurately translated as \\'나는 항상 수학 수업에서 계산기를 사용해요.\\' The meaning that a calculator is used in math class is preserved, making the translation correct.\"\\n}', '{\\n  \"WordText\": \"calendar\",\\n  \"state\": \"supplement\",\\n  \"reason\": \"The Korean translation introduces additional details that are not present in the English sentence. Specifically, the inclusion of \\'오늘\\' (today) and the nuance of \\'소중한\\' (precious) in addition to \\'특별한\\' (special) slightly alters the original meaning, which simply states that every special day is marked on the calendar.\"\\n}', '{\\n  \"WordText\": \"calendar\",\\n  \"state\": \"correct\",\\n  \"reason\": \"Both the English sentence \\'I always write my schedule in the calendar.\\' and the Korean translation \\'나는 항상 내 일정을 일정표에 기록해요.\\' convey the same meaning. The translation properly reflects the act of writing one\\'s schedule in the calendar, matching the intended meaning.\"\\n}', '{\\n  \"WordText\": \"cape\",\\n  \"state\": \"correct\",\\n  \"reason\": \"The English sentence \\'The brave hero wore a flowing red cape.\\' is accurately translated into Korean as \\'용감한 영웅이 흐르는 빨간 망토를 입었어요.\\' Both sentences convey the same meaning with the appropriate translation of \\'cape\\' as \\'망토\\', as well as preserving the descriptive elements.\"\\n}', '{\\n  \"WordText\": \"catalog\",\\n  \"state\": \"correct\",\\n  \"reason\": \"The English sentence \\'The new catalog shows many colorful fun toys.\\' and the Korean sentence \\'새 카탈로그 가 많은 재미있는 색깔 장난감을 보여요.\\' convey the same meaning. Both sentences correctly describe a new catalog displaying many colorful and fun toys.\"\\n}', '{\\n  \"WordText\": \"catalogue\",\\n  \"state\": \"correct\",\\n  \"reason\": \"Both the English sentence and its Korean translation convey the same meaning. \\'The store always shows a clear product catalogue.\\' is accurately reflected as \\'상점은 항상 명확한 상품목록을 보여줘요.\\', capturing the key aspects of displaying a clear catalogue of products.\"\\n}', '{\\n  \"WordText\": \"chain\",\\n  \"state\": \"correct\",\\n  \"reason\": \"The English sentence \\'Kids chain red boxes using a strong rope.\\' and the Korean sentence \\'아이들이 빨간 상자를 강한 밧줄로 묶어요.\\' convey the same meaning. Both indicate the action of tying red boxes with a rope, which aligns well with the provided WordMeaning \\'묶다\\' and the PoSText \\'동사\\'.\"\\n}', '{\\n  \"WordText\": \"chain\",\\n  \"state\": \"correct\",\\n  \"reason\": \"The English sentence \\'My strong chain secures the gate at school.\\' is effectively translated into Korean as \\'내 튼튼한 사슬이 학교 문을 지켜요.\\' Both sentences indicate that a strong chain is used in relation to the school gate. Although \\'secures\\' and \\'지켜요\\' (protects/guards) are not literal translations, the overall meaning is maintained, making the translation accurate.\"\\n}', '{\\n  \"WordText\": \"cigarette\",\\n  \"state\": \"correct\",\\n  \"reason\": \"The English sentence \\'He found a cigarette under the old bench.\\' is accurately translated into Korean as \\'그는 오래된 벤치 밑에서 담배를 발견했어요.\\' The meaning is preserved and aligns with the provided WordMeaning \\'담배\\' and PoSText \\'명사\\'.\"\\n}', '{\\n  \"WordText\": \"commerce\",\\n  \"state\": \"correct\",\\n  \"reason\": \"Both the English and Korean sentences convey that modern commerce supports growth in small/local markets. Although the Korean translation adds \\'우리\\' (our) before \\'작은 동네 시장\\', this does not significantly alter the intended meaning, so the translation is correct.\"\\n}', '{\\n  \"WordText\": \"context\",\\n  \"state\": \"correct\",\\n  \"reason\": \"The English sentence \\'I use context to learn order of events.\\' is accurately reflected in the Korean sentence \\'나는 전후 관계로 사건 순서를 배워요.\\' The translation correctly uses \\'전후 관계\\' to mean the order or relationship of events, which aligns with the intended meaning.\"\\n}', '{\\n  \"WordText\": \"context\",\\n  \"state\": \"correct\",\\n  \"reason\": \"The Korean sentence accurately captures the meaning of the English sentence. Both sentences express that context helps in understanding difficult passages, aligning with the provided word meaning \\'문맥\\'.\"\\n}', '{\\n  \"WordText\": \"converse\",\\n  \"state\": \"correct\",\\n  \"reason\": \"Both the English and Korean sentences convey the same meaning. \\'We always converse quietly at school during recess.\\' is accurately translated as \\'우리는 항상 학교에서 쉬는 시간에 조용히 이야기해요.\\' without any significant differences in nuance or intent.\"\\n}', '{\\n  \"WordText\": \"converse\",\\n  \"state\": \"correct\",\\n  \"reason\": \"Both the English sentence \\'The list of items is in converse order.\\' and the Korean translation \\'항목들의 순서가 거꾸로 되어 있어요.\\' convey the same meaning of items being in a reversed order. The translation accurately reflects the intended meaning and matches the provided WordMeaning.\"\\n}', '{\\n  \"WordText\": \"cop\",\\n  \"state\": \"correct\",\\n  \"reason\": \"The English sentence \\'The kind cop quickly helped a lost child.\\' is accurately translated into Korean as \\'친절한 경찰이 길 잃은 아이를 빨리 도왔어요.\\' The meaning, context, and nuance are preserved, aligning well with the provided WordMeaning \\'경찰\\' and the PoSText \\'명사\\'.\"\\n}', '{\\n  \"WordText\": \"county\",\\n  \"state\": \"correct\",\\n  \"reason\": \"Both the English and Korean sentences refer to a \\'county\\' as an administrative unit (군) and describe it as friendly with many parks and schools. The translation accurately conveys the meaning of the original sentence.\"\\n}', '{\\n  \"WordText\": \"county\",\\n  \"state\": \"correct\",\\n  \"reason\": \"The English and Korean sentences convey the same meaning, describing the county as small, safe, and calm. The translation \\'내 자치주\\' accurately reflects the meaning of \\'county\\' as given by the WordMeaning \\'자치주\\', and the adjectives are appropriately translated.\"\\n}', '{\\n  \"WordText\": \"cruel\",\\n  \"state\": \"correct\",\\n  \"reason\": \"The Korean sentence accurately captures the meaning of the English sentence. Both sentences describe a \\'cruel bully\\' and a \\'kind friend\\' with the intended nuances, and the translation aligns with the given WordMeaning and PoSText.\"\\n}', '{\\n  \"WordText\": \"curiosity\",\\n  \"state\": \"correct\",\\n  \"reason\": \"The English and Korean sentences have the same meaning. \\'His curiosity leads him to learn new things.\\' is accurately conveyed by \\'그의 호기심이 그를 새로운 것을 배우게 해요.\\' without altering the intended meaning or nuance.\"\\n}', '{\\n  \"WordText\": \"cycle\",\\n  \"state\": \"correct\",\\n  \"reason\": \"Both the English sentence and the Korean translation convey the idea of riding a bicycle to school on bright, clear mornings. The Korean sentence \\'나는 밝고 맑은 아침에 학교에 자전거를 타고 가요.\\' accurately represents the meaning of the English sentence without any additional or missing nuances.\"\\n}', '{\\n  \"WordText\": \"cycle\",\\n  \"state\": \"correct\",\\n  \"reason\": \"Both the English and Korean sentences convey the same meaning of riding a bicycle (자전거) daily to school. The translation accurately reflects the original sentence without any loss or change in meaning.\"\\n}', '{\\n  \"WordText\": \"cycle\",\\n  \"state\": \"supplement\",\\n  \"reason\": \"The Korean translation \\'물의 순환은 여름에 반복돼요.\\' conveys that the water cycle repeats during summer, but it omits the detail that it happens every hot summer day as stated in the English sentence. This omission of specific nuance marks it as a \\'supplement\\' case.\"\\n}', '{\\n  \"WordText\": \"cyclist\",\\n  \"state\": \"correct\",\\n  \"reason\": \"Both the English sentence \\'The young cyclist rides his bike every day.\\' and the Korean sentence \\'어린 자전거 타는 사람은 매일 자전거를 타요.\\' convey essentially the same meaning, referring to a young person who rides a bike daily. The translation correctly reflects the essence of \\'자전거 타는 사람\\' as the meaning of \\'cyclist\\'.\"\\n}', '{\\n  \"WordText\": \"debt\",\\n  \"state\": \"correct\",\\n  \"reason\": \"The English sentence \\'I am in Andrew\\'s debt for his help.\\' correctly translates to the Korean sentence \\'나는 앤드류의 도움에 신세졌어요.\\' In both, the meaning of owing a favor or being indebted due to help is accurately conveyed, consistent with the provided WordMeaning \\'은혜를 입음,신세를 짐\\'.\"\\n}', '{\\n  \"WordText\": \"debt\",\\n  \"state\": \"correct\",\\n  \"reason\": \"Both the English sentence \\'My parents pay a big debt every day.\\' and the Korean translation \\'부모님은 매일 큰 빚을 갚아요.\\' convey the same meaning, accurately reflecting the noun \\'debt\\' as \\'빚\\'. Although the phrasing is unusual, the translation faithfully represents the original sentence\\'s intent.\"\\n}', '{\\n  \"WordText\": \"defense\",\\n  \"state\": \"correct\",\\n  \"reason\": \"The Korean sentence accurately conveys the meaning of the English sentence. Both indicate that the team\\'s defense is effective in stopping the ball, and the translation matches the intended meaning of the original sentence.\"\\n}', '{\\n  \"WordText\": \"define\",\\n  \"state\": \"correct\",\\n  \"reason\": \"The English and Korean sentences convey the same meaning. Both correctly reflect the act of defining new words for clarity, aligning with the given WordMeaning and PoSText without any significant differences.\"\\n}', '{\\n  \"WordText\": \"definite\",\\n  \"state\": \"correct\",\\n  \"reason\": \"The English sentence \\'I have a definite answer for you now.\\' is accurately translated into Korean as \\'나는 지금 확실한 대답을 가지고 있어요.\\' Both sentences share the same meaning and convey the idea of having a clear and certain answer at the present moment.\"\\n}', '{\\n  \"WordText\": \"depress\",\\n  \"state\": \"correct\",\\n  \"reason\": \"The English sentence \\'He uses a tool to depress the button.\\' is accurately translated into Korean as \\'그는 버튼을 내리누르기 위해 도구를 사용해요.\\' The translation maintains the same meaning and objective of using a tool to press down the button, aligning with the word\\'s meaning, \\'내리누르다\\', and its usage as a verb.\"\\n}', '{\\n  \"WordText\": \"depress\",\\n  \"state\": \"correct\",\\n  \"reason\": \"The English sentence \\'Dark gray clouds can depress my happy mood.\\' is correctly translated into Korean as \\'어두운 회색 구름이 내 행복한 기분을 우울하게 해요.\\' Both sentences convey the meaning that gloomy clouds can make one\\'s happy mood become depressed, aligning with the provided definition \\'우울하게 하다\\'.\"\\n}', '{\\n  \"WordText\": \"disappoint\",\\n  \"state\": \"correct\",\\n  \"reason\": \"The English and Korean sentences have the same meaning. Both sentences effectively convey that the speaker does not wish to let down their friend, and the translation is appropriate.\"\\n}', '{\\n  \"WordText\": \"discharge\",\\n  \"state\": \"correct\",\\n  \"reason\": \"The English sentence \\'The boss decided to discharge the worker today.\\' correctly corresponds to the Korean translation \\'사장님이 오늘 직원을 해고했어요.\\' Both sentences convey the meaning of dismissing an employee, and the nuance provided by the decision is appropriately captured, making the translation correct.\"\\n}', '{\\n  \"WordText\": \"discharge\",\\n  \"state\": \"correct\",\\n  \"reason\": \"The English sentence \\'Factories always discharge safe water into the river.\\' is accurately translated as \\'공장은 항상 강에 안전한 물을 방출해요.\\' The meaning conveyed in both sentences aligns with the WordMeaning \\'방출(량),방출하다\\' and the use as a verb.\"\\n}', '{\\n  \"WordText\": \"discharge\",\\n  \"state\": \"correct\",\\n  \"reason\": \"Both the English and Korean sentences convey the idea of gas flowing slowly from a long pipe, which aligns with the provided WordMeaning \\'(기체 등이) 흐르다\\'. There is no significant difference in meaning or nuance.\"\\n}', '{\\n  \"WordText\": \"disgust\",\\n  \"state\": \"correct\",\\n  \"reason\": \"The English sentence \\'His rude joke caused disgust among his friends.\\' is correctly translated into Korean as \\'그의 무례한 농담은 친구들에게 혐오감을 줬어요.\\' Both sentences convey that the joke produced a feeling of disgust among his friends. The translation appropriately captures the meaning of \\'disgust\\' as per the provided WordMeaning.\"\\n}', '{\\n  \"WordText\": \"divorce\",\\n  \"state\": \"correct\",\\n  \"reason\": \"The English sentence \\'My parents decided on a divorce last summer.\\' is correctly translated as \\'우리 부모님은 지난 여름에 이혼하기로 결정했어요.\\' Both sentences convey the same meaning regarding the parents\\' decision to divorce last summer, aligning perfectly with the word meaning \\'이혼\\' and part of speech \\'명사\\'.\"\\n}', '{\\n  \"WordText\": \"dozen\",\\n  \"state\": \"correct\",\\n  \"reason\": \"The English sentence \\'My friend kindly gave me one dozen flowers.\\' and the Korean translation \\'친구가 저에게 한 다스 꽃을 친절히 주셨어요.\\' convey the same meaning without any significant differences in nuance or omitted details.\"\\n}', '{\\n  \"WordText\": \"drug\",\\n  \"state\": \"correct\",\\n  \"reason\": \"The English sentence \\'The doctor gave a drug to help you.\\' is accurately translated into Korean as \\'의사가 당신을 돕기 위해 약을 주었어요.\\' The translation maintains the same meaning and context as the original sentence without any discrepancies.\"\\n}', '{\\n  \"WordText\": \"ease\",\\n  \"state\": \"correct\",\\n  \"reason\": \"The English sentence \\'My headache will ease after I take medicine.\\' is accurately translated as \\'내 두통은 약을 먹으면 덜해져요.\\' The translation correctly captures the meaning of \\'ease\\' as in \\'(고통/불편이) 덜해지다\\' and maintains the intended effect without any nuance loss.\"\\n}', '{\\n  \"WordText\": \"ease\",\\n  \"state\": \"correct\",\\n  \"reason\": \"The English sentence \\'A gentle push can ease the heavy door.\\' is accurately translated into Korean as \\'부드러운 밀기가 무거운 문을 수월하게 해요.\\' Both convey that a gentle push makes it easier to open or move the heavy door, aligning with the meaning of \\'수월하게 하다\\'.\"\\n}', '{\\n  \"WordText\": \"ease\",\\n  \"state\": \"correct\",\\n  \"reason\": \"The English sentence \\'I finish my homework with ease every day.\\' and the Korean translation \\'저는 매일 숙제를 쉽게 끝내요.\\' convey the same meaning. Both sentences indicate that homework is completed effortlessly, which aligns with the meaning of \\'ease\\' as \\'쉬움, 용이함\\' and the part of speech \\'명사\\' in this context.\"\\n}', '{\\n  \"WordText\": \"elect\",\\n  \"state\": \"supplement\",\\n  \"reason\": \"The Korean sentence accurately translates the main idea of the English sentence, but it omits the time element \\'every year,\\' which is present in the English version. This omission means that the translation is missing part of the original nuance.\"\\n}', '{\\n  \"WordText\": \"embarrass\",\\n  \"state\": \"correct\",\\n  \"reason\": \"The English and Korean sentences have the same meaning. \\'Loud sounds may embarrass shy kids in school.\\' is accurately translated as \\'시끄러운 소리가 학교에서 수줍은 아이들을 당황하게 할 수 있어요.\\' with all key elements of the meaning preserved.\"\\n}', '{\\n  \"WordText\": \"enroll\",\\n  \"state\": \"correct\",\\n  \"reason\": \"The English sentence \\'I will enroll in the school next month.\\' and the Korean sentence \\'나는 다음 달에 학교에 등록할 거예요.\\' convey the same meaning. Both indicate the action of enrolling in a school next month as intended by the provided WordMeaning and PoSText.\"\\n}', '{\\n  \"WordText\": \"entertain\",\\n  \"state\": \"correct\",\\n  \"reason\": \"Both the English sentence \\'I entertain my friends with funny magic shows.\\' and the Korean translation \\'나는 웃긴 마술쇼로 친구들을 즐겁게 해요.\\' convey the same meaning with correct usage of the word \\'entertain\\' (즐겁게 하다) and consistent context. The translation accurately reflects the original nuance and information.\"\\n}', '{\\n  \"WordText\": \"entertain\",\\n  \"state\": \"correct\",\\n  \"reason\": \"The English sentence \\'She entertains a fun idea every single morning.\\' correctly matches the Korean translation \\'그녀는 매일 아침 재미있는 생각을 품어요.\\' Both convey that she holds a fun idea every morning, aligning with the provided WordMeaning \\'(생각을) 품다\\' and PoSText \\'동사\\'.\"\\n}', '{\\n  \"WordText\": \"especial\",\\n  \"state\": \"correct\",\\n  \"reason\": \"The English sentence uses \\'especial\\' in the sense of \\'특별한\\', which is accurately reflected in the Korean translation as \\'특별한 선물\\'. Both sentences convey the same meaning without any significant divergence in nuance or additional context.\"\\n}', '{\\n  \"WordText\": \"essay\",\\n  \"state\": \"correct\",\\n  \"reason\": \"The English sentence \\'She writes a nice essay about summer vacation.\\' is accurately translated to Korean as \\'그녀는 여름 방학에 대해 멋진 수필을 써요.\\' The key elements such as writing an essay, the quality (\\'nice\\' translated to \\'멋진\\'), and the topic (summer vacation) are all preserved, ensuring the same meaning in both languages.\"\\n}', '{\\n  \"WordText\": \"exam\",\\n  \"state\": \"correct\",\\n  \"reason\": \"The English sentence \\'I study hard every night for my exam.\\' and the Korean sentence \\'저는 제 시험을 위해 매일 밤 열심히 공부해요.\\' convey the same meaning, with both emphasizing the intent of studying hard for an exam.\"\\n}', '{\\n  \"WordText\": \"examination\",\\n  \"state\": \"correct\",\\n  \"reason\": \"The English sentence \\'The nurse performed an examination after the injury.\\' accurately corresponds with the Korean translation \\'간호사가 부상 후 검사를 수행했어요.\\' Both sentences describe the nurse performing an examination following an injury, and the translation appropriately captures the meaning of \\'검사\\' as stated in WordMeaning.\"\\n}', '{\\n  \"WordText\": \"examination\",\\n  \"state\": \"correct\",\\n  \"reason\": \"The English sentence \\'Our examination is scheduled tomorrow morning at school.\\' is accurately translated into Korean as \\'우리 시험은 내일 아침 학교에서 예정되어 있어요.\\' Both sentences convey the same meaning without any nuances or details lost in translation.\"\\n}', '{\\n  \"WordText\": \"excite\",\\n  \"state\": \"correct\",\\n  \"reason\": \"The English sentence \\'The loud music can excite many happy children.\\' is accurately translated into Korean as \\'시끄러운 음악은 많은 행복한 아이들을 흥분시킬 수 있어요.\\' Both sentences convey the same meaning without any loss or change in nuance.\"\\n}', '{\\n  \"WordText\": \"exit\",\\n  \"state\": \"correct\",\\n  \"reason\": \"The English and Korean sentences convey the same meaning. The translation accurately reflects \\'exit\\' as \\'출구\\' and the location \\'near the safe door\\' is correctly translated as \\'안전한 문 가까이에 있어요.\\'\"\\n}', '{\\n  \"WordText\": \"factory\",\\n  \"state\": \"correct\",\\n  \"reason\": \"The English sentence \\'The factory produces many toys for local schools.\\' and its Korean translation \\'그 공장은 지역 학교를 위해 많은 장난감을 생산해요.\\' convey the same meaning. Both sentences mention that the factory produces many toys for the benefit of local schools, and there is no significant difference in nuance or information.\"\\n}', '{\\n  \"WordText\": \"favor\",\\n  \"state\": \"correct\",\\n  \"reason\": \"The English sentence \\'The teacher does not favor anyone in class.\\' accurately translates to \\'선생님은 반에서 누구도 편애하지 않아요.\\' with the same meaning. The translation correctly reflects the negative form of favoring someone, aligning with the given WordMeaning \\'편애하다\\' and preserving the intended message.\"\\n}', '{\\n  \"WordText\": \"favor\",\\n  \"state\": \"supplement\",\\n  \"reason\": \"The Korean sentence \\'저는 선생님을 좋아해요.\\' conveys the basic idea of liking the teacher, but it omits the reason provided in the English sentence (\\'because she is kind\\'). Additionally, the nuance of preference expressed by \\'favor\\' in English isn\\'t fully captured.\"\\n}', '{\\n  \"WordText\": \"favor\",\\n  \"state\": \"correct\",\\n  \"reason\": \"Both the English sentence \\'Could you do me a tiny favor please?\\' and the Korean translation \\'작은 부탁 하나 도와주실 수 있어요.\\' convey the same meaning of asking someone for a small favor. The translation appropriately reflects the noun meaning of \\'favor\\' in the context of 부탁/호의.\"\\n}', '{\\n  \"WordText\": \"favor\",\\n  \"state\": \"correct\",\\n  \"reason\": \"The English sentence \\'My friend received a kind favor from me.\\' accurately corresponds to the Korean sentence \\'내 친구는 나에게 친절한 호의를 받았어요.\\' Both sentences express that a favor, characterized by kindness, was given to the friend, which aligns with the provided word meaning \\'호의, 친절\\' and the noun form.\"\\n}', '{\\n  \"WordText\": \"favor\",\\n  \"state\": \"correct\",\\n  \"reason\": \"Both the English and Korean sentences convey that the subject\\'s popularity is high among many good friends. The meaning aligns with \\'인기, 평판\\' as provided in the WordMeaning, and the sentences, though structured differently, effectively express the same idea.\"\\n}', '{\\n  \"WordText\": \"honor\",\\n  \"state\": \"correct\",\\n  \"reason\": \"The English sentence \\'They always honor their kind teachers every day.\\' is correctly translated as \\'그들은 항상 그들의 다정한 선생님을 존중해요.\\' The translation maintains the meaning of honoring kind teachers consistently, as indicated by \\'항상\\' corresponding to \\'always\\' and the verb \\'존중해요\\' matching \\'honor.\\' The nuance and intent are preserved despite minor differences in phrasing.\"\\n}']\n"
     ]
    }
   ],
   "source": [
    "print(sampe_output)"
   ]
  },
  {
   "cell_type": "code",
   "execution_count": 79,
   "metadata": {},
   "outputs": [],
   "source": [
    "import json\n",
    "\n",
    "# Convert all string elements in list `a` into valid JSON objects\n",
    "parsed_data = [json.loads(item) for item in sampe_output]\n",
    "\n",
    "# Pretty-print the JSON list\n",
    "sample_list = json.dumps(parsed_data, ensure_ascii=False, indent=2)\n",
    "#print(sample_list)\n"
   ]
  },
  {
   "cell_type": "code",
   "execution_count": 80,
   "metadata": {},
   "outputs": [
    {
     "name": "stdout",
     "output_type": "stream",
     "text": [
      "Counter({'correct': 89, 'supplement': 9, 'incorrect': 2})\n"
     ]
    }
   ],
   "source": [
    "from collections import Counter\n",
    "\n",
    "check_list = []\n",
    "\n",
    "for sample in eval(sample_list):\n",
    "    count = sample['state']\n",
    "    check_list.append(count)\n",
    "\n",
    "state_count = Counter(check_list)\n",
    "print(state_count)\n"
   ]
  },
  {
   "cell_type": "markdown",
   "metadata": {},
   "source": [
    "## jsonl 파일로 저장 준비 -> batch api 보내야함"
   ]
  },
  {
   "cell_type": "code",
   "execution_count": 82,
   "metadata": {},
   "outputs": [],
   "source": [
    "def ExampleValid(data:pd.DataFrame, output_filename, response_format=response_format):\n",
    "    # jsonl_data 저장\n",
    "    jsonl_data = []\n",
    "\n",
    "    # 검수 prompt 생성\n",
    "    for i in range(len(data)):\n",
    "        prompt = prompt_template.render(\n",
    "            WordText = data.loc[i,\"WordText\"],\n",
    "            WordMeaning = data.loc[i,\"WordMeaning\"],\n",
    "            PoSText = data.loc[i,\"품사\"],\n",
    "            example_sentence = data.loc[i,'new_example_english'],\n",
    "            example_sentence_kor = data.loc[i, 'new_example_korean']\n",
    "        )\n",
    "\n",
    "        quiz_request = {\n",
    "            \"custom_id\" : f\"request-{i+1}\",\n",
    "            \"method\" : \"POST\",\n",
    "            \"url\" : \"/v1/chat/completions\",\n",
    "            \"body\" : {\n",
    "                \"model\" : \"o3-mini-2025-01-31\",\n",
    "                \"messages\" : [\n",
    "                    {\"role\": \"system\", \"content\": \"Check if the given English sentence (`example_sentence`) and its Korean translation (`example_sentence_kor`) have the same meaning.\"},\n",
    "                    {\"role\": \"user\", \"content\": prompt}\n",
    "                ],\n",
    "                \"response_format\" : response_format\n",
    "            }\n",
    "        }\n",
    "\n",
    "        jsonl_data.append(quiz_request)\n",
    "        \n",
    "        # 파일 쓰기\n",
    "        \n",
    "        with open(output_filename, 'w', encoding=\"utf-8\") as jsonl_file:\n",
    "            for item in jsonl_data:\n",
    "                jsonl_file.write(json.dumps(item, ensure_ascii=False) + '\\n')\n",
    "\n",
    "    print(f\"JSONL 파일 생성 완료 : {output_filename}-{i+1}\")"
   ]
  },
  {
   "cell_type": "code",
   "execution_count": 85,
   "metadata": {},
   "outputs": [
    {
     "name": "stdout",
     "output_type": "stream",
     "text": [
      "7251\n",
      "1000\n",
      "1000\n",
      "1000\n",
      "1000\n",
      "1000\n",
      "1000\n",
      "1251\n",
      "total : 7251\n"
     ]
    }
   ],
   "source": [
    "df = pd.read_csv(\"sample_sentence.csv\", skiprows=2)\n",
    "print(len(df))\n",
    "df1 = df[:1000]\n",
    "print(len(df1))\n",
    "df2 = df[1000:2000]\n",
    "print(len(df2))\n",
    "df3 = df[2000:3000]\n",
    "print(len(df3))\n",
    "df4 = df[3000:4000]\n",
    "print(len(df4))\n",
    "df5 = df[4000:5000]\n",
    "print(len(df5))\n",
    "df6 = df[5000:6000]\n",
    "print(len(df6))\n",
    "df7 = df[6000:]\n",
    "print(len(df7))\n",
    "\n",
    "print(f'total : {len(df1) + len(df2) + len(df3) + len(df4) + len(df5) + len(df6) + len(df7)}')\n",
    "\n",
    "#인덱스 리셋\n",
    "df2 = df2.reset_index()\n",
    "df3 = df3.reset_index()\n",
    "df4 = df4.reset_index()\n",
    "df5 = df5.reset_index()\n",
    "df6 = df6.reset_index()\n",
    "df7 = df7.reset_index()"
   ]
  },
  {
   "cell_type": "code",
   "execution_count": 86,
   "metadata": {},
   "outputs": [
    {
     "name": "stdout",
     "output_type": "stream",
     "text": [
      "JSONL 파일 생성 완료 : VocaQuiz_MidHigh_batch_1.jsonl-1000\n"
     ]
    }
   ],
   "source": [
    "ExampleValid(df1,\"VocaQuiz_MidHigh_batch_1.jsonl\")\n",
    "# ExampleValid(df2,\"VocaQuiz_MidHigh_batch_2.jsonl\")\n",
    "# ExampleValid(df3,\"VocaQuiz_MidHigh_batch_3.jsonl\")\n",
    "# ExampleValid(df4,\"VocaQuiz_MidHigh_batch_4.jsonl\")\n",
    "# ExampleValid(df5,\"VocaQuiz_MidHigh_batch_5.jsonl\")\n",
    "# ExampleValid(df6,\"VocaQuiz_MidHigh_batch_6.jsonl\")\n",
    "# ExampleValid(df7,\"VocaQuiz_MidHigh_batch_7.jsonl\")"
   ]
  },
  {
   "cell_type": "markdown",
   "metadata": {},
   "source": [
    "# batch api로 보내기"
   ]
  },
  {
   "cell_type": "code",
   "execution_count": null,
   "metadata": {},
   "outputs": [],
   "source": []
  }
 ],
 "metadata": {
  "kernelspec": {
   "display_name": "base",
   "language": "python",
   "name": "python3"
  },
  "language_info": {
   "codemirror_mode": {
    "name": "ipython",
    "version": 3
   },
   "file_extension": ".py",
   "mimetype": "text/x-python",
   "name": "python",
   "nbconvert_exporter": "python",
   "pygments_lexer": "ipython3",
   "version": "3.12.7"
  }
 },
 "nbformat": 4,
 "nbformat_minor": 2
}
