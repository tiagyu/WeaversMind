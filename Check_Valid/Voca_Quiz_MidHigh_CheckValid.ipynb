{
 "cells": [
  {
   "cell_type": "markdown",
   "metadata": {},
   "source": [
    "# voca quiz mid high 검수\n",
    "- 문제를 쉽게 풀려고 해라\n",
    "- 쉽게쉽게쉽게쉽게쉽게 생각..."
   ]
  },
  {
   "cell_type": "code",
   "execution_count": 12,
   "metadata": {},
   "outputs": [],
   "source": [
    "import pandas as pd\n",
    "import re"
   ]
  },
  {
   "cell_type": "code",
   "execution_count": 7,
   "metadata": {},
   "outputs": [
    {
     "data": {
      "text/html": [
       "<div>\n",
       "<style scoped>\n",
       "    .dataframe tbody tr th:only-of-type {\n",
       "        vertical-align: middle;\n",
       "    }\n",
       "\n",
       "    .dataframe tbody tr th {\n",
       "        vertical-align: top;\n",
       "    }\n",
       "\n",
       "    .dataframe thead th {\n",
       "        text-align: right;\n",
       "    }\n",
       "</style>\n",
       "<table border=\"1\" class=\"dataframe\">\n",
       "  <thead>\n",
       "    <tr style=\"text-align: right;\">\n",
       "      <th></th>\n",
       "      <th>Unnamed: 0</th>\n",
       "      <th>fill_in_blank_quiz</th>\n",
       "      <th>korean_translation</th>\n",
       "      <th>answer</th>\n",
       "      <th>hint_eng</th>\n",
       "      <th>hint_kor</th>\n",
       "    </tr>\n",
       "  </thead>\n",
       "  <tbody>\n",
       "    <tr>\n",
       "      <th>0</th>\n",
       "      <td>0</td>\n",
       "      <td>She speaks with a unique ___.</td>\n",
       "      <td>그녀는 독특한 [[강세]]로 말해요.</td>\n",
       "      <td>accent</td>\n",
       "      <td>It is how someone pronounces words differently.</td>\n",
       "      <td>다른 지역 사람들의 말하는 방식이에요.</td>\n",
       "    </tr>\n",
       "    <tr>\n",
       "      <th>1</th>\n",
       "      <td>1</td>\n",
       "      <td>She speaks with ___.</td>\n",
       "      <td>그녀는 [[억양]]으로 말해요.</td>\n",
       "      <td>accent</td>\n",
       "      <td>It shows how your voice goes up and down when ...</td>\n",
       "      <td>말할 때 목소리가 위아래로 변해요.</td>\n",
       "    </tr>\n",
       "    <tr>\n",
       "      <th>2</th>\n",
       "      <td>2</td>\n",
       "      <td>They ___ on TV.</td>\n",
       "      <td>그들은 TV에 [[광고]]해요.</td>\n",
       "      <td>advertise</td>\n",
       "      <td>Companies tell people about their products.</td>\n",
       "      <td>회사가 사람들에게 제품을 알려주는 것을 말해요.</td>\n",
       "    </tr>\n",
       "    <tr>\n",
       "      <th>3</th>\n",
       "      <td>3</td>\n",
       "      <td>The company ___ their product today.</td>\n",
       "      <td>회사에서는 [[광고]]해요.</td>\n",
       "      <td>advertize</td>\n",
       "      <td>You tell people about a product.</td>\n",
       "      <td>사람들에게 제품을 알리는 행동이에요.</td>\n",
       "    </tr>\n",
       "    <tr>\n",
       "      <th>4</th>\n",
       "      <td>4</td>\n",
       "      <td>My dad works for ___.</td>\n",
       "      <td>아빠는 [[항공사]]에서 일해요.</td>\n",
       "      <td>airline</td>\n",
       "      <td>It is a company that flies planes.</td>\n",
       "      <td>비행기를 운항하는 회사예요.</td>\n",
       "    </tr>\n",
       "  </tbody>\n",
       "</table>\n",
       "</div>"
      ],
      "text/plain": [
       "   Unnamed: 0                    fill_in_blank_quiz    korean_translation  \\\n",
       "0           0         She speaks with a unique ___.  그녀는 독특한 [[강세]]로 말해요.   \n",
       "1           1                  She speaks with ___.     그녀는 [[억양]]으로 말해요.   \n",
       "2           2                       They ___ on TV.     그들은 TV에 [[광고]]해요.   \n",
       "3           3  The company ___ their product today.       회사에서는 [[광고]]해요.   \n",
       "4           4                 My dad works for ___.    아빠는 [[항공사]]에서 일해요.   \n",
       "\n",
       "      answer                                           hint_eng  \\\n",
       "0     accent    It is how someone pronounces words differently.   \n",
       "1     accent  It shows how your voice goes up and down when ...   \n",
       "2  advertise        Companies tell people about their products.   \n",
       "3  advertize                   You tell people about a product.   \n",
       "4    airline                 It is a company that flies planes.   \n",
       "\n",
       "                     hint_kor  \n",
       "0       다른 지역 사람들의 말하는 방식이에요.  \n",
       "1         말할 때 목소리가 위아래로 변해요.  \n",
       "2  회사가 사람들에게 제품을 알려주는 것을 말해요.  \n",
       "3        사람들에게 제품을 알리는 행동이에요.  \n",
       "4             비행기를 운항하는 회사예요.  "
      ]
     },
     "execution_count": 7,
     "metadata": {},
     "output_type": "execute_result"
    }
   ],
   "source": [
    "path = \"C:\\\\Users\\\\WEAVERSMIND\\\\Desktop\\\\Weaversmind\\\\Word\\\\PreviewQuiz_Word\\\\MidHigh\\\\Quiz_Voca_Mid(total).csv\"\n",
    "df = pd.read_csv(path)\n",
    "df.head()"
   ]
  },
  {
   "cell_type": "code",
   "execution_count": 10,
   "metadata": {},
   "outputs": [],
   "source": [
    "sample_df = df[:5]\n",
    "sample_df.head(1)\n",
    "data = sample_df"
   ]
  },
  {
   "cell_type": "code",
   "execution_count": 73,
   "metadata": {},
   "outputs": [],
   "source": [
    "def check_voca_quiz(data:pd.DataFrame) -> pd.DataFrame:\n",
    "    \n",
    "    error_state = False\n",
    "\n",
    "    # 1. korean_translation 확인\n",
    "    check_symbol_pattern = r\"\\[\\[.*?\\]\\]\"\n",
    "    blank = r\"_+\"\n",
    "\n",
    "    for i in range(len(data)):\n",
    "        # 1-1 [[]]가 있는지 확인\n",
    "        if not re.search(check_symbol_pattern, data['korean_translation'][i]):\n",
    "            error_state = True\n",
    "            print(f\"korean translation {i} 번째 행 {data['answer'][i]} 에 [[]] 오류가 있음\")\n",
    "        \n",
    "        # 1-2 영어가 있는지 확인\n",
    "        cleaned_text = re.sub(\"TV\", \"\",data['korean_translation'][i])\n",
    "        if re.search(r\"[a-zA-Z]\", cleaned_text):\n",
    "            error_state = True\n",
    "            print(f\"korean translation {i} 번째 행 {data['answer'][i]} 에 영어가 있음\")\n",
    "\n",
    "        # 1-3 밑줄이있는지 확인\n",
    "        underscores = re.findall(blank, data['fill_in_blank_quiz'][i])\n",
    "        if len(underscores) < 1:\n",
    "            error_state = True\n",
    "            print(f\"fill in blank quiz {i} 번째 행 {data['answer'][i]} 에 __ 밑줄이 없음\")\n",
    "    \n",
    "    if error_state==False:\n",
    "        return f\"발견된 에러가 없음!!\""
   ]
  },
  {
   "cell_type": "markdown",
   "metadata": {},
   "source": [
    "- 다음 부터는 그냥 데이터를 만들자 뭐가 오류인지\n",
    "    - 이렇게 하니씩 확인하려고 하니 힘듬.."
   ]
  },
  {
   "cell_type": "code",
   "execution_count": 74,
   "metadata": {},
   "outputs": [
    {
     "name": "stdout",
     "output_type": "stream",
     "text": [
      "korean translation 1230 번째 행 height 에 영어가 있음\n",
      "korean translation 1545 번째 행 share 에 영어가 있음\n",
      "korean translation 2371 번째 행 worth 에 [[]] 오류가 있음\n",
      "korean translation 3415 번째 행 campfire 에 [[]] 오류가 있음\n",
      "korean translation 4297 번째 행 both A and B 에 영어가 있음\n",
      "korean translation 5215 번째 행 mix A with B 에 영어가 있음\n",
      "korean translation 5510 번째 행 part 에 [[]] 오류가 있음\n",
      "korean translation 5839 번째 행 read 에 영어가 있음\n",
      "korean translation 6176 번째 행 skirt 에 [[]] 오류가 있음\n"
     ]
    }
   ],
   "source": [
    "check_voca_quiz(df)"
   ]
  },
  {
   "cell_type": "code",
   "execution_count": 25,
   "metadata": {},
   "outputs": [
    {
     "name": "stdout",
     "output_type": "stream",
     "text": [
      "korean translation 2 번째 행에 영어가 있음\n"
     ]
    }
   ],
   "source": [
    "check_symbol_pattern = r\"\\[\\[.*?\\]\\]\"\n",
    "blank = r\"_+\"\n",
    "\n",
    "for i in range(len(data)):\n",
    "    if not re.search(check_symbol_pattern, data['korean_translation'][i]):\n",
    "        print(f\"korean translation {i} 번째 행에 [[]] 오류가 있음\")\n",
    "\n",
    "    if re.search(r\"[a-zA-Z]\", data['korean_translation'][i]):\n",
    "        print(f\"korean translation {i} 번째 행에 영어가 있음\")\n",
    "\n",
    "    underscores = re.findall(blank, data['fill_in_blank_quiz'][i])\n",
    "    if len(underscores) < 1:\n",
    "        print(f\"fill in blank quiz {i} 번째 행에 __ 밑줄이 없음\")\n",
    "    \n",
    "    "
   ]
  },
  {
   "cell_type": "code",
   "execution_count": 23,
   "metadata": {},
   "outputs": [
    {
     "data": {
      "text/plain": [
       "0    그녀는 독특한 [[강세]]로 말해요.\n",
       "1       그녀는 [[억양]]으로 말해요.\n",
       "2       그들은 TV에 [[광고]]해요.\n",
       "3         회사에서는 [[광고]]해요.\n",
       "4      아빠는 [[항공사]]에서 일해요.\n",
       "Name: korean_translation, dtype: object"
      ]
     },
     "execution_count": 23,
     "metadata": {},
     "output_type": "execute_result"
    }
   ],
   "source": [
    "data['korean_translation']"
   ]
  },
  {
   "cell_type": "code",
   "execution_count": 24,
   "metadata": {},
   "outputs": [
    {
     "data": {
      "text/plain": [
       "0           She speaks with a unique ___.\n",
       "1                    She speaks with ___.\n",
       "2                         They ___ on TV.\n",
       "3    The company ___ their product today.\n",
       "4                   My dad works for ___.\n",
       "Name: fill_in_blank_quiz, dtype: object"
      ]
     },
     "execution_count": 24,
     "metadata": {},
     "output_type": "execute_result"
    }
   ],
   "source": [
    "data['fill_in_blank_quiz']"
   ]
  }
 ],
 "metadata": {
  "kernelspec": {
   "display_name": "base",
   "language": "python",
   "name": "python3"
  },
  "language_info": {
   "codemirror_mode": {
    "name": "ipython",
    "version": 3
   },
   "file_extension": ".py",
   "mimetype": "text/x-python",
   "name": "python",
   "nbconvert_exporter": "python",
   "pygments_lexer": "ipython3",
   "version": "3.12.7"
  }
 },
 "nbformat": 4,
 "nbformat_minor": 2
}
