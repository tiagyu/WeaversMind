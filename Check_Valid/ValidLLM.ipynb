{
 "cells": [
  {
   "cell_type": "markdown",
   "metadata": {},
   "source": [
    "# 검수하는 자동화 코드 작성"
   ]
  },
  {
   "cell_type": "code",
   "execution_count": 2,
   "metadata": {},
   "outputs": [],
   "source": [
    "import pandas as pd\n",
    "import re\n",
    "import json\n",
    "import random\n",
    "import csv\n",
    "from tqdm.notebook import tqdm\n",
    "from collections import Counter"
   ]
  },
  {
   "cell_type": "code",
   "execution_count": 18,
   "metadata": {},
   "outputs": [],
   "source": [
    "df = pd.read_csv(\"Curriculum_Mid.csv\")\n",
    "df_elem = pd.read_csv(\"Curriculum_Elem.csv\")\n",
    "df_high =pd.read_csv(\"Curriculum_High.csv\")"
   ]
  },
  {
   "cell_type": "code",
   "execution_count": 4,
   "metadata": {},
   "outputs": [
    {
     "data": {
      "text/plain": [
       "Index(['textbook ID', '학년', '출판사', '교육과정', 'Lesson', '구분', 'Title',\n",
       "       'DESCRIPTION', 'Key Expression (영어)', 'Key Expression (한국어)',\n",
       "       'Sub Expression (영어)', 'Sub Expression (한국어)', '학습목표', 'Quiz 1',\n",
       "       'Korean 1', 'Option 1-1', 'Option 1-2', 'Option 1-3', 'Answer 1',\n",
       "       'Index 1', 'Quiz 2', 'Korean 2', 'Option 2-1', 'Option 2-2',\n",
       "       'Option 2-3', 'Answer 2', 'Index 2', '샘플 스크립트 (영어)', '샘플 스크립트 (한국어)'],\n",
       "      dtype='object')"
      ]
     },
     "execution_count": 4,
     "metadata": {},
     "output_type": "execute_result"
    }
   ],
   "source": [
    "df.columns"
   ]
  },
  {
   "cell_type": "code",
   "execution_count": null,
   "metadata": {},
   "outputs": [
    {
     "name": "stdout",
     "output_type": "stream",
     "text": [
      "<class 'list'>\n",
      "<class 'list'>\n"
     ]
    },
    {
     "data": {
      "text/plain": [
       "{'textbook ID': 701,\n",
       " '학년': '중1',\n",
       " '출판사': '능률(김)',\n",
       " '교육과정': 2015,\n",
       " 'Lesson': 3,\n",
       " '구분': 'function',\n",
       " 'Title': 'Spend Smart, Save Smart',\n",
       " 'DESCRIPTION': 'Can I ~?를 활용해 허락을 요청하고 답하기.',\n",
       " 'Key Expression (영어)': 'A: Can I borrow your book?\\n B: Yes, of course. / I’m sorry, but you can’t.',\n",
       " 'Key Expression (한국어)': 'A: 네 책을 빌릴 수 있을까?\\n B: 네, 물론이야. / 미안하지만 안 돼.',\n",
       " 'Sub Expression (영어)': 'A: May I ~?\\n B: Sure, go ahead. / Sorry, you can’t.\\n A: Is it okay if I ~?\\n B: Of course. / I’m afraid not.',\n",
       " 'Sub Expression (한국어)': 'A: ~ 해도 될까? \\n B: 그래, 해봐. / 미안, 안 돼. \\n A: ~ 해도 괜찮을까? \\n B: 당연하지. / 미안, 안 돼.',\n",
       " '학습목표': '허락을 요청하고 응답하는 표현을 사용할 수 있어요.\\n Can I ~?와 같은 표현을 활용해 허락을 요청하고 답할 수 있어요.',\n",
       " 'Quiz 1': '___ I borrow your book?',\n",
       " 'Korean 1': '내 책 좀 빌려도 될까요?',\n",
       " 'Option 1-1': 'May',\n",
       " 'Option 1-2': 'Can',\n",
       " 'Option 1-3': 'Might',\n",
       " 'Answer 1': 'Can',\n",
       " 'Index 1': 2,\n",
       " 'Quiz 2': 'May I ___ your eraser?',\n",
       " 'Korean 2': '내 지우개를 빌릴 수 있을까요?',\n",
       " 'Option 2-1': 'buy',\n",
       " 'Option 2-2': 'borrow',\n",
       " 'Option 2-3': 'lend',\n",
       " 'Answer 2': 'borrow',\n",
       " 'Index 2': 2,\n",
       " '샘플 스크립트 (영어)': \"A: Can I borrow your jacket? B: Yes, of course. A: May I use it for the trip? B: I'm sorry, but you can't.\",\n",
       " '샘플 스크립트 (한국어)': 'A: 재킷 좀 빌려도 될까요? B: 물론이죠. A: 여행에 써도 될까요? B: 미안하지만 안 돼요.'}"
      ]
     },
     "execution_count": 5,
     "metadata": {},
     "output_type": "execute_result"
    }
   ],
   "source": [
    "# # csv 파일을 json 파일로 변환\n",
    "sample_df_json = df.to_json(orient=\"records\", force_ascii=False, indent=2)\n",
    "\n",
    "sample_df_json = json.loads(sample_df_json)\n",
    "print(type(sample_df_json))\n",
    "sample_df_json[5]\n",
    "\n",
    "# csv 파일을 json 파일로 변환\n",
    "df_json = df.to_json(orient=\"records\", force_ascii=False, indent=2)\n",
    "\n",
    "df_json = json.loads(df_json)\n",
    "print(type(df_json))\n",
    "df_json[5]"
   ]
  },
  {
   "cell_type": "code",
   "execution_count": null,
   "metadata": {},
   "outputs": [],
   "source": [
    "class ValidClass:\n",
    "    def __init__(self, data:pd.DataFrame) -> pd.DataFrame:\n",
    "        # CSV 파일 json로 변환\n",
    "        csv_to_json = data.to_json(orient=\"records\", force_ascii=False, indent=2)\n",
    "\n",
    "        # json 파일로 불러오기\n",
    "        self.data_json = json.loads(csv_to_json)\n",
    "\n",
    "        # index 초기화 변수\n",
    "        self.index_1_num = 0\n",
    "        self.index_2_num = 0\n",
    "        self.index_3_num = 0\n",
    "\n",
    "    def check_valid_quiz(self, quiz:dict) -> bool:\n",
    "        # 에러 이유 저장할 리스트\n",
    "        reason_error_quiz1 = []\n",
    "        reason_error_quiz2 = []\n",
    "\n",
    "        # 변수 가져오기 quiz1\n",
    "        quiz_1 = quiz.get(\"Quiz 1\")\n",
    "        korean_1 = quiz.get(\"Korean 1\")\n",
    "        option_1_1 = quiz.get(\"Option 1-1\")\n",
    "        option_1_2 = quiz.get(\"Option 1-2\")\n",
    "        option_1_3 = quiz.get(\"Option 1-3\")\n",
    "        answer_1 = quiz.get(\"Answer 1\")\n",
    "        index_1 = quiz.get(\"Index 1\")\n",
    "        \n",
    "        # 변수 가져오기 quiz2\n",
    "        quiz_2 = quiz.get(\"Quiz 2\")\n",
    "        korean_2 = quiz.get(\"Korean 2\")\n",
    "        option_2_1 = quiz.get(\"Option 2-1\")\n",
    "        option_2_2 = quiz.get(\"Option 2-2\")\n",
    "        option_2_3 = quiz.get(\"Option 2-3\")\n",
    "        answer_2 = quiz.get(\"Answer 2\")\n",
    "        index_2 = quiz.get(\"Index 2\")\n",
    "\n",
    "        # 0. 필드값 누락 체크\n",
    "        if (\n",
    "            not quiz_1\n",
    "            or not korean_1\n",
    "            or not option_1_1\n",
    "            or not option_1_2\n",
    "            or not option_1_3\n",
    "            or not answer_1\n",
    "            or not index_1\n",
    "            or not quiz_2\n",
    "            or not korean_2\n",
    "            or not option_2_1\n",
    "            or not option_2_2\n",
    "            or not option_2_3\n",
    "            or not answer_2\n",
    "            or not index_2\n",
    "        ):\n",
    "            return False\n",
    "\n",
    "        # QUIZ 1\n",
    "        # 1. 빈칸이 하나 이상있고, 두 개 이상이 없는지 체크\n",
    "        appropriate_blank = r\"_+\"\n",
    "        underscores = re.findall(appropriate_blank, quiz_1)\n",
    "\n",
    "        if len(underscores) > 1:\n",
    "            reason_error_quiz1.append(\"Blank error: 밑줄이 두 개 이상 존재\")\n",
    "        elif len(underscores) == 1:\n",
    "            pass\n",
    "        else:\n",
    "            reason_error_quiz1.append(\"Blank error: 밑줄이 존재하지 않음\")\n",
    "        \n",
    "        # 2. 정답이 옵션에 포함되어 있는지 체크\n",
    "        options = [option_1_1, option_1_2, option_1_3]\n",
    "        \n",
    "        # answer가 options에 있는지 확인\n",
    "        if answer_1 not in options:\n",
    "            reason_error_quiz1.append(\"Answer in options error : answer 확인\")\n",
    "        \n",
    "        # answer가 숫자로 이루어져있는지 확인\n",
    "        if isinstance(index_1, str) and not index_1.isnumeric():\n",
    "            reason_error_quiz1.append(\"Answer in options error : answer type 확인\")\n",
    "\n",
    "        # 3. 정답의 인덱스가 answer_index와 일치하는지 확인\n",
    "        index_1 = int(index_1)\n",
    "        if options[index_1 - 1] != answer_1:\n",
    "            reason_error_quiz1.append(\"Answer index not match option index : index 확인\")\n",
    "\n",
    "        # 4. answer_index의 분포 검수\n",
    "        if index_1 == 1:\n",
    "            self.index_1_num += 1\n",
    "        elif index_1 == 2:\n",
    "            self.index_2_num += 1\n",
    "        elif index_1 == 3:\n",
    "            self.index_3_num += 1\n",
    "\n",
    "        # 에러가 발생하면 데이터에 reason_error 추가\n",
    "        if reason_error_quiz1:\n",
    "            quiz[\"reason_error_quiz1\"] = reason_error_quiz1  # 에러 이유 추가\n",
    "            return False\n",
    "        \n",
    "        # QUIZ 2\n",
    "        # 1. 빈칸이 하나 이상있고, 두 개 이상이 없는지 체크\n",
    "        appropriate_blank = r\"_+\"\n",
    "        underscores = re.findall(appropriate_blank, quiz_2)\n",
    "\n",
    "        if len(underscores) > 1:\n",
    "            reason_error_quiz2.append(\"Blank error: 밑줄이 두 개 이상 존재\")\n",
    "        elif len(underscores) == 1:\n",
    "            pass\n",
    "        else:\n",
    "            reason_error_quiz2.append(\"Blank error: 밑줄이 존재하지 않음\")\n",
    "        \n",
    "        # 2. 정답이 옵션에 포함되어 있는지 체크\n",
    "        options = [option_2_1, option_2_2, option_2_3]\n",
    "        \n",
    "        # answer가 options에 있는지 확인\n",
    "        if answer_2 not in options:\n",
    "            reason_error_quiz2.append(\"Answer in options error : answer 확인\")\n",
    "        \n",
    "        # answer가 숫자로 이루어져있는지 확인\n",
    "        if isinstance(index_2, str) and not index_2.isnumeric():\n",
    "            reason_error_quiz2.append(\"Answer in options error : answer type 확인\")\n",
    "\n",
    "        # 3. 정답의 인덱스가 answer_index와 일치하는지 확인\n",
    "        index_2 = int(index_2)\n",
    "        if options[index_2 - 1] != answer_2:\n",
    "            reason_error_quiz2.append(\"Answer index not match option index : index 확인\")\n",
    "\n",
    "        # 4. answer_index의 분포 검수\n",
    "        if index_2 == 1:\n",
    "            self.index_1_num += 1\n",
    "        elif index_2 == 2:\n",
    "            self.index_2_num += 1\n",
    "        elif index_2 == 3:\n",
    "            self.index_3_num += 1\n",
    "\n",
    "        # 에러가 발생하면 데이터에 reason_error 추가\n",
    "        if reason_error_quiz1:\n",
    "            quiz[\"reason_error_quiz2\"] = reason_error_quiz2  # 에러 이유 추가\n",
    "            return False\n",
    "        \n",
    "    def check_index_distribution(self):\n",
    "        total_index_num = self.index_1_num + self.index_2_num + self.index_3_num\n",
    "\n",
    "        if total_index_num > 0:\n",
    "            index_percent_1 = (self.index_1_num / total_index_num) * 100\n",
    "            index_percent_2 = (self.index_2_num / total_index_num) * 100\n",
    "            index_percent_3 = (self.index_3_num / total_index_num) * 100\n",
    "        \n",
    "        if not (25 <= index_percent_1 <= 35 and 25 <= index_percent_2 <= 35 and 25 <= index_percent_3 <= 35):   \n",
    "            print(f\"Distribution Error: {total_index_num} (1: {self.index_1_num}, 2: {self.index_2_num}, 3: {self.index_3_num})\")\n",
    "    \n",
    "    def normalization(self, input_file_name:str, output_file_name:str) -> dict:\n",
    "        # 데이터 가져오기\n",
    "        quiz = pd.read_csv(input_file_name)\n",
    "\n",
    "        # 변수 random하게 만들기\n",
    "        quiz_1_random_index = [random.randint(1,3) for x in range(len(quiz))]\n",
    "        quiz_2_random_index = [random.randint(1,3) for x in range(len(quiz))]\n",
    "\n",
    "        # 파일명 불러오기\n",
    "        column_names = quiz.columns.tolist()\n",
    "\n",
    "        with open(output_file_name, \"w\", encoding=\"utf-8-sig\", newline=\"\") as fw:\n",
    "            writer = csv.DictWriter(fw, fieldnames = column_names)\n",
    "            writer.writeheader()\n",
    "            for i in tqdm(range(len(quiz))):\n",
    "                row = quiz.iloc[i]\n",
    "                target_quiz_1_index = quiz_1_random_index[i]\n",
    "                target_quiz_2_index = quiz_2_random_index[i]\n",
    "\n",
    "                quiz_1_options = [row['Option 1-1'], row['Option 1-2'], row['Option 1-3']]\n",
    "                quiz_1_answer_index = int(row['Index 1'])\n",
    "                quiz_1_answer = row[\"Answer 1\"]\n",
    "\n",
    "\n",
    "                quiz_2_options = [row['Option 2-1'], row['Option 2-2'], row['Option 2-3']]\n",
    "                quiz_2_answer_index = int(row['Index 2'])\n",
    "                quiz_2_answer = row[\"Answer 2\"]\n",
    "\n",
    "                if quiz_1_answer_index != target_quiz_1_index:\n",
    "                    quiz_1_tmp_options = quiz_1_options[target_quiz_1_index - 1] # 원본 index 보존\n",
    "                    quiz_1_options[target_quiz_1_index - 1] = quiz_1_answer\n",
    "                    quiz_1_options[quiz_1_answer_index - 1] = quiz_1_tmp_options\n",
    "\n",
    "                if quiz_2_answer_index != target_quiz_2_index:\n",
    "                    quiz_2_tmp_options = quiz_2_options[target_quiz_2_index - 1] # 원본 index 보존\n",
    "                    quiz_2_options[target_quiz_2_index - 1] = quiz_2_answer\n",
    "                    quiz_2_options[quiz_2_answer_index - 1] = quiz_2_tmp_options  \n",
    "\n",
    "                row_dict = row.to_dict()\n",
    "                # quiz 1 덮어씌우기\n",
    "                row_dict[\"Option 1-1\"] = quiz_1_options[0]\n",
    "                row_dict[\"Option 1-2\"] = quiz_1_options[1]\n",
    "                row_dict[\"Option 1-3\"] = quiz_1_options[2]\n",
    "                row_dict[\"Index 1\"] = target_quiz_1_index\n",
    "                row_dict[\"Option 2-1\"] = quiz_2_options[0]\n",
    "                row_dict[\"Option 2-2\"] = quiz_2_options[1]\n",
    "                row_dict[\"Option 2-3\"] = quiz_2_options[2]\n",
    "                row_dict[\"Index 2\"] = target_quiz_2_index\n",
    "\n",
    "                writer.writerow(row_dict)\n",
    "\n",
    "        return print(f\"csv 파일 완료\")\n",
    "    \n",
    "    def save_to_json(self, file_name):\n",
    "        # 수정된 퀴즈 데이터를 JSON 파일로 다시 저장\n",
    "        with open(file_name, 'w', encoding=\"utf-8-sig\") as f:\n",
    "            json.dumps(self.data_json, f, ensure_ascii=False, indent=2)\n",
    "        print(f\"JSON 파일 저장 완료 : {file_name}\")\n",
    "        \n",
    "            \n",
    "\n",
    "\n"
   ]
  },
  {
   "cell_type": "code",
   "execution_count": 39,
   "metadata": {},
   "outputs": [
    {
     "data": {
      "application/vnd.jupyter.widget-view+json": {
       "model_id": "7ccdce935c9c469d9e88c4a3488aaf28",
       "version_major": 2,
       "version_minor": 0
      },
      "text/plain": [
       "  0%|          | 0/679 [00:00<?, ?it/s]"
      ]
     },
     "metadata": {},
     "output_type": "display_data"
    },
    {
     "name": "stdout",
     "output_type": "stream",
     "text": [
      "csv 파일 완료\n"
     ]
    }
   ],
   "source": [
    "valid = Valid(df_high)\n",
    "\n",
    "valid.normalization(input_file_name=\"Curriculum_High.csv\", output_file_name=\"ReIndex_High_Curriculum.csv\")"
   ]
  },
  {
   "cell_type": "code",
   "execution_count": 30,
   "metadata": {},
   "outputs": [
    {
     "name": "stdout",
     "output_type": "stream",
     "text": [
      "Index 1\n",
      "1    245\n",
      "3    218\n",
      "2    207\n",
      "Name: count, dtype: int64\n",
      "\n",
      "\n",
      "Index 2\n",
      "3    231\n",
      "2    231\n",
      "1    208\n",
      "Name: count, dtype: int64\n"
     ]
    }
   ],
   "source": [
    "asdf = pd.read_csv(\"ReIndex_Elem_Curriculum.csv\")\n",
    "print(asdf['Index 1'].value_counts())\n",
    "print(\"\\n\")\n",
    "print(asdf['Index 2'].value_counts())"
   ]
  },
  {
   "cell_type": "code",
   "execution_count": null,
   "metadata": {},
   "outputs": [
    {
     "ename": "TypeError",
     "evalue": "Valid.check_index_distribution() takes 1 positional argument but 2 were given",
     "output_type": "error",
     "traceback": [
      "\u001b[1;31m---------------------------------------------------------------------------\u001b[0m",
      "\u001b[1;31mTypeError\u001b[0m                                 Traceback (most recent call last)",
      "Cell \u001b[1;32mIn[17], line 5\u001b[0m\n\u001b[0;32m      3\u001b[0m \u001b[38;5;66;03m# print(valid_json[0])\u001b[39;00m\n\u001b[0;32m      4\u001b[0m a \u001b[38;5;241m=\u001b[39m valid\u001b[38;5;241m.\u001b[39mcheck_valid_quiz(valid_json[\u001b[38;5;241m0\u001b[39m])\n\u001b[1;32m----> 5\u001b[0m valid\u001b[38;5;241m.\u001b[39mcheck_index_distribution(asdf)\n\u001b[0;32m      6\u001b[0m \u001b[38;5;28mprint\u001b[39m(a)\n",
      "\u001b[1;31mTypeError\u001b[0m: Valid.check_index_distribution() takes 1 positional argument but 2 were given"
     ]
    }
   ],
   "source": [
    "va"
   ]
  },
  {
   "cell_type": "code",
   "execution_count": null,
   "metadata": {},
   "outputs": [],
   "source": [
    "# valid = Valid(sample_df)\n",
    "\n",
    "# for i in range(len(sample_df)):\n",
    "#     b = valid.data_json[i]\n",
    "#     c = valid.check_valid_quiz(b)\n",
    "#     d = valid.normalization(b)\n",
    "#     print(b)\n",
    "#     print(d)"
   ]
  },
  {
   "cell_type": "code",
   "execution_count": null,
   "metadata": {},
   "outputs": [],
   "source": [
    "# valid = Valid(sample_df)\n",
    "# normalized_quizzes = [valid.normalization(quiz) for quiz in valid.data_json]\n",
    "# print(normalized_quizzes)\n",
    "# # valid.save_to_json(\"normalized_quiz.json\")"
   ]
  },
  {
   "cell_type": "code",
   "execution_count": null,
   "metadata": {},
   "outputs": [],
   "source": [
    "# normalized_quizzes = [quiz for quiz in (valid.normalization(quiz) for quiz in valid.data_json) if quiz]\n",
    "# valid.data_json = normalized_quizzes\n",
    "# valid.data_json"
   ]
  },
  {
   "cell_type": "code",
   "execution_count": null,
   "metadata": {},
   "outputs": [],
   "source": []
  },
  {
   "cell_type": "markdown",
   "metadata": {},
   "source": [
    "# Fill in the blank - LLM"
   ]
  },
  {
   "cell_type": "code",
   "execution_count": null,
   "metadata": {},
   "outputs": [],
   "source": [
    "from pydantic import BaseModel\n",
    "from openai import OpenAI\n",
    "from openai.lib._parsing import type_to_response_format_param\n",
    "import json\n",
    "from getpass import getpass\n",
    "from jinja2 import Template\n",
    "\n",
    "openai_api_key = getpass(\"OPENAI_API_KEY\")\n",
    "client = OpenAI(api_key=openai_api_key)"
   ]
  },
  {
   "cell_type": "code",
   "execution_count": null,
   "metadata": {},
   "outputs": [],
   "source": [
    "prompt_template = Template(\"\"\"\n",
    "[PURPOSE]\n",
    "You are going to solve the quiz and write down the answer_reason.\n",
    "There is not necessarily a single correct answer.\n",
    "Select all that are correct. \n",
    "                           \n",
    "[Example]\n",
    "```\n",
    "Input: \n",
    "    {\n",
    "    \"quiz\": \"What is your ______ sport?\",\n",
    "    \"korean\": \"네가 가장 좋아하는 스포츠는 무엇이에요?\",\n",
    "    \"option_1\": \"like\",\n",
    "    \"option_2\": \"favorite\",\n",
    "    \"option_3\": \"best\",\n",
    "  }\n",
    "\n",
    "Output:\n",
    "    {   \n",
    "    \"possible_answer\": \"favorite\",\n",
    "    \"answer_reason\": \"The word 'favorite' is the correct answer because the sentence is asking about someone's most preferred sport.\n",
    "\n",
    "1. 'favorite' means 가장 좋아하는 in Korean, which matches the meaning of the given Korean sentence.\n",
    "2. 'like' is a verb (좋아하다) and does not fit grammatically in this sentence.\n",
    "3. 'best' means 최고의, which refers to the highest quality rather than personal preference.\n",
    "\n",
    "Thus, 'favorite' is the correct choice.\"\n",
    "}\n",
    "```                     \n",
    "```\n",
    "Input: \n",
    "    {\n",
    "    \"quiz\": \"A: What are you _____ on your holiday? B: I’m going to travel.\",\n",
    "    \"korean\": \"A: 너는 휴일에 무엇을 할 예정이니? B: 여행을 갈 거야.\",\n",
    "    \"option_1\": \"planning to do\",\n",
    "    \"option_2\": \"going to do\",\n",
    "    \"option_3\": \"will do\",\n",
    "  }\n",
    "\n",
    "Output:\n",
    "    {   \n",
    "    \"possible_answer\": \"planning to do, going to do\",\n",
    "    \"answer_reason\": \"Both 'planning to do' and 'going to do' fit naturally in the sentence.\n",
    "\n",
    "1. 'Going to do' is commonly used for future plans and matches the response \"I’m going to travel.\"\n",
    "2. 'Planning to do' also makes sense because it refers to making arrangements for the holiday.\n",
    "3. 'Will do' is less natural in this context because it’s not commonly used for asking about planned activities.\"\n",
    "\n",
    "Thus, 'planning to do' and 'going to do' are the correct choice.\"\n",
    "}\n",
    "```\n",
    "\n",
    "[Input]\n",
    "```\n",
    "QUIZ : {{quiz}}\n",
    "KOREAN : {{korean}}\n",
    "OPTION_1 : {{option_1}}\n",
    "OPTION_2 : {{option_2}}\n",
    "OPTION_3 : {{option_3}}\n",
    "```\n",
    "\"\"\")"
   ]
  },
  {
   "cell_type": "code",
   "execution_count": null,
   "metadata": {},
   "outputs": [],
   "source": [
    "prompt = prompt_template.render(\n",
    "    quiz = \"___ I borrow your book?\",\n",
    "    korean = \"내 책 좀 빌려도 될까요?\",\n",
    "    option_1 = \"May\",\n",
    "    option_2 = \"Can\",\n",
    "    option_3 = \"Might\"\n",
    ")"
   ]
  },
  {
   "cell_type": "code",
   "execution_count": null,
   "metadata": {},
   "outputs": [],
   "source": [
    "print(prompt)"
   ]
  },
  {
   "cell_type": "code",
   "execution_count": null,
   "metadata": {},
   "outputs": [],
   "source": [
    "class Reason(BaseModel):\n",
    "    possible_answer  : list[str]\n",
    "    answer_reason : str"
   ]
  },
  {
   "cell_type": "code",
   "execution_count": null,
   "metadata": {},
   "outputs": [],
   "source": [
    "response_format = type_to_response_format_param(Reason)"
   ]
  },
  {
   "cell_type": "code",
   "execution_count": null,
   "metadata": {},
   "outputs": [],
   "source": [
    "response_format"
   ]
  },
  {
   "cell_type": "code",
   "execution_count": null,
   "metadata": {},
   "outputs": [],
   "source": [
    "def completion(prompt : str) -> str:\n",
    "    response = client.beta.chat.completions.parse(\n",
    "        model = 'o3-mini',\n",
    "        reasoning_effort='low',\n",
    "        messages = [\n",
    "            {\"role\" : \"system\", \"content\" : \"You are going to solve the quiz and write down the answer_reason.\"},\n",
    "            {\"role\" : \"user\", \"content\" : prompt}\n",
    "        ],\n",
    "        response_format = Reason,\n",
    "    )\n",
    "    return response.choices[0].message.parsed"
   ]
  },
  {
   "cell_type": "code",
   "execution_count": null,
   "metadata": {},
   "outputs": [],
   "source": [
    "response = completion(prompt)"
   ]
  },
  {
   "cell_type": "code",
   "execution_count": null,
   "metadata": {},
   "outputs": [],
   "source": [
    "response"
   ]
  },
  {
   "cell_type": "code",
   "execution_count": null,
   "metadata": {},
   "outputs": [],
   "source": [
    "response_output = json.dumps(response.dict(), ensure_ascii=False, indent=2)\n",
    "print(response_output)"
   ]
  },
  {
   "cell_type": "code",
   "execution_count": null,
   "metadata": {},
   "outputs": [],
   "source": [
    "type(response_output)"
   ]
  },
  {
   "cell_type": "code",
   "execution_count": null,
   "metadata": {},
   "outputs": [],
   "source": [
    "print('f')"
   ]
  }
 ],
 "metadata": {
  "kernelspec": {
   "display_name": "base",
   "language": "python",
   "name": "python3"
  },
  "language_info": {
   "codemirror_mode": {
    "name": "ipython",
    "version": 3
   },
   "file_extension": ".py",
   "mimetype": "text/x-python",
   "name": "python",
   "nbconvert_exporter": "python",
   "pygments_lexer": "ipython3",
   "version": "3.12.7"
  }
 },
 "nbformat": 4,
 "nbformat_minor": 2
}
