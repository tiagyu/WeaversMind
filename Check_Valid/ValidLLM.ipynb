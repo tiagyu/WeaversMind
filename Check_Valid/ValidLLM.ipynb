{
 "cells": [
  {
   "cell_type": "markdown",
   "metadata": {},
   "source": [
    "# 검수하는 자동화 코드 작성"
   ]
  },
  {
   "cell_type": "code",
   "execution_count": 63,
   "metadata": {},
   "outputs": [],
   "source": [
    "import pandas as pd\n",
    "import re\n",
    "import json"
   ]
  },
  {
   "cell_type": "code",
   "execution_count": 64,
   "metadata": {},
   "outputs": [
    {
     "data": {
      "text/html": [
       "<div>\n",
       "<style scoped>\n",
       "    .dataframe tbody tr th:only-of-type {\n",
       "        vertical-align: middle;\n",
       "    }\n",
       "\n",
       "    .dataframe tbody tr th {\n",
       "        vertical-align: top;\n",
       "    }\n",
       "\n",
       "    .dataframe thead th {\n",
       "        text-align: right;\n",
       "    }\n",
       "</style>\n",
       "<table border=\"1\" class=\"dataframe\">\n",
       "  <thead>\n",
       "    <tr style=\"text-align: right;\">\n",
       "      <th></th>\n",
       "      <th>textbook ID</th>\n",
       "      <th>학년</th>\n",
       "      <th>출판사</th>\n",
       "      <th>교육과정</th>\n",
       "      <th>Lesson</th>\n",
       "      <th>구분</th>\n",
       "      <th>Title</th>\n",
       "      <th>DESCRIPTION</th>\n",
       "      <th>Key Expression (영어)</th>\n",
       "      <th>Key Expression (한국어)</th>\n",
       "      <th>...</th>\n",
       "      <th>Index 1</th>\n",
       "      <th>Quiz 2</th>\n",
       "      <th>Korean 2</th>\n",
       "      <th>Option 2-1</th>\n",
       "      <th>Option 2-2</th>\n",
       "      <th>Option 2-3</th>\n",
       "      <th>Answer 2</th>\n",
       "      <th>Index 2</th>\n",
       "      <th>샘플 스크립트 (영어)</th>\n",
       "      <th>샘플 스크립트 (한국어)</th>\n",
       "    </tr>\n",
       "  </thead>\n",
       "  <tbody>\n",
       "    <tr>\n",
       "      <th>0</th>\n",
       "      <td>701</td>\n",
       "      <td>중1</td>\n",
       "      <td>능률(김)</td>\n",
       "      <td>2015</td>\n",
       "      <td>1</td>\n",
       "      <td>function</td>\n",
       "      <td>Welcome to My World</td>\n",
       "      <td>자기소개와 출신지에 대해 말하고, 이에 반응하기.</td>\n",
       "      <td>A: My name is Felix. I’m from Australia.\\n B: ...</td>\n",
       "      <td>A: 내 이름은 필릭스야. 나는 호주에서 왔어.\\n B: 만나서 반가워.</td>\n",
       "      <td>...</td>\n",
       "      <td>2</td>\n",
       "      <td>A: Hi, I’m Sam. I ____ from Korea. B: Nice to ...</td>\n",
       "      <td>A: 안녕, 나는 Sam이야. 나는 Korea에서 왔어. B: 만나서 반가워.</td>\n",
       "      <td>live</td>\n",
       "      <td>come</td>\n",
       "      <td>am</td>\n",
       "      <td>come</td>\n",
       "      <td>2</td>\n",
       "      <td>A: My name is Leo. I’m from Canada. B: Pleased...</td>\n",
       "      <td>A: 내 이름은 Leo야. 나는 Canada 출신이야. B: 만나서 반가워. A: ...</td>\n",
       "    </tr>\n",
       "    <tr>\n",
       "      <th>1</th>\n",
       "      <td>701</td>\n",
       "      <td>중1</td>\n",
       "      <td>능률(김)</td>\n",
       "      <td>2015</td>\n",
       "      <td>1</td>\n",
       "      <td>function</td>\n",
       "      <td>Welcome to My World</td>\n",
       "      <td>like와 favorite 단어를 활용해 좋아하는 것에 대해 묻고 답하기.</td>\n",
       "      <td>A: What is your favorite sport?\\n B: I like so...</td>\n",
       "      <td>A: 네가 가장 좋아하는 스포츠는 뭐야?\\n B: 나는 축구를 좋아해.</td>\n",
       "      <td>...</td>\n",
       "      <td>2</td>\n",
       "      <td>What do you ______ the most?</td>\n",
       "      <td>가장 좋아하는 것은 무엇이에요?</td>\n",
       "      <td>prefer</td>\n",
       "      <td>love</td>\n",
       "      <td>like</td>\n",
       "      <td>like</td>\n",
       "      <td>3</td>\n",
       "      <td>A: What's your favorite game? B: I like basket...</td>\n",
       "      <td>A: 네가 가장 좋아하는 게임은 무엇이에요? B: 저는 농구를 좋아해요. A: 주말...</td>\n",
       "    </tr>\n",
       "    <tr>\n",
       "      <th>2</th>\n",
       "      <td>701</td>\n",
       "      <td>중1</td>\n",
       "      <td>능률(김)</td>\n",
       "      <td>2015</td>\n",
       "      <td>2</td>\n",
       "      <td>function</td>\n",
       "      <td>Discover Your Culture</td>\n",
       "      <td>be going to ~를 활용해 계획이나 예정된 일에 대해 묻고 답하기.</td>\n",
       "      <td>A: What are you going to do on your holiday? B...</td>\n",
       "      <td>A: 너는 휴가 때 무엇을 할 예정이야? B: 나는 여행을 갈 예정이야.</td>\n",
       "      <td>...</td>\n",
       "      <td>2</td>\n",
       "      <td>I'm _____ to try a new recipe.</td>\n",
       "      <td>나는 새로운 요리를 시도할 계획이야.</td>\n",
       "      <td>planning</td>\n",
       "      <td>preparing</td>\n",
       "      <td>deciding</td>\n",
       "      <td>planning</td>\n",
       "      <td>1</td>\n",
       "      <td>A: What are you going to do this weekend? B: I...</td>\n",
       "      <td>A: 이번 주말에 무엇을 할 거야? B: 하이킹을 갈 거야. A: 저녁에 어떤 계획...</td>\n",
       "    </tr>\n",
       "    <tr>\n",
       "      <th>3</th>\n",
       "      <td>701</td>\n",
       "      <td>중1</td>\n",
       "      <td>능률(김)</td>\n",
       "      <td>2015</td>\n",
       "      <td>2</td>\n",
       "      <td>function</td>\n",
       "      <td>Discover Your Culture</td>\n",
       "      <td>There is/are ~을 활용하여 장소 설명하기.</td>\n",
       "      <td>There are many parks in my city.</td>\n",
       "      <td>내 도시에 공원이 많이 있어.</td>\n",
       "      <td>...</td>\n",
       "      <td>2</td>\n",
       "      <td>You can _____ many cafes.</td>\n",
       "      <td>많은 카페를 찾을 수 있어요.</td>\n",
       "      <td>see</td>\n",
       "      <td>find</td>\n",
       "      <td>buy</td>\n",
       "      <td>find</td>\n",
       "      <td>2</td>\n",
       "      <td>A: There are many libraries in my town. B: Rea...</td>\n",
       "      <td>A: 우리 동네에는 많은 도서관이 있어요. B: 정말요? 그곳에서 시간을 보내는 걸...</td>\n",
       "    </tr>\n",
       "    <tr>\n",
       "      <th>4</th>\n",
       "      <td>701</td>\n",
       "      <td>중1</td>\n",
       "      <td>능률(김)</td>\n",
       "      <td>2015</td>\n",
       "      <td>3</td>\n",
       "      <td>function</td>\n",
       "      <td>Spend Smart, Save Smart</td>\n",
       "      <td>You should ~를 활용해 조언하기.</td>\n",
       "      <td>A: You should study harder.\\n B: Okay, I’ll try.</td>\n",
       "      <td>A: 너는 더 열심히 공부해야 해.\\n B: 알겠어, 노력할게.</td>\n",
       "      <td>...</td>\n",
       "      <td>1</td>\n",
       "      <td>A: It’s a good idea to ______. B: I’ll give it...</td>\n",
       "      <td>A: ~하는 것이 좋은 생각이야. B: 한 번 해볼게.</td>\n",
       "      <td>run fast</td>\n",
       "      <td>study harder</td>\n",
       "      <td>eat quickly</td>\n",
       "      <td>study harder</td>\n",
       "      <td>2</td>\n",
       "      <td>A: You should exercise regularly. B: Okay, I'l...</td>\n",
       "      <td>A: 너는 규칙적으로 운동해야 해. B: 알겠어, 노력해볼게. A: 균형 잡힌 식단...</td>\n",
       "    </tr>\n",
       "  </tbody>\n",
       "</table>\n",
       "<p>5 rows × 29 columns</p>\n",
       "</div>"
      ],
      "text/plain": [
       "   textbook ID  학년    출판사  교육과정  Lesson        구분                    Title  \\\n",
       "0          701  중1  능률(김)  2015       1  function      Welcome to My World   \n",
       "1          701  중1  능률(김)  2015       1  function      Welcome to My World   \n",
       "2          701  중1  능률(김)  2015       2  function    Discover Your Culture   \n",
       "3          701  중1  능률(김)  2015       2  function    Discover Your Culture   \n",
       "4          701  중1  능률(김)  2015       3  function  Spend Smart, Save Smart   \n",
       "\n",
       "                                 DESCRIPTION  \\\n",
       "0                자기소개와 출신지에 대해 말하고, 이에 반응하기.   \n",
       "1  like와 favorite 단어를 활용해 좋아하는 것에 대해 묻고 답하기.   \n",
       "2  be going to ~를 활용해 계획이나 예정된 일에 대해 묻고 답하기.   \n",
       "3              There is/are ~을 활용하여 장소 설명하기.   \n",
       "4                    You should ~를 활용해 조언하기.   \n",
       "\n",
       "                                 Key Expression (영어)  \\\n",
       "0  A: My name is Felix. I’m from Australia.\\n B: ...   \n",
       "1  A: What is your favorite sport?\\n B: I like so...   \n",
       "2  A: What are you going to do on your holiday? B...   \n",
       "3                   There are many parks in my city.   \n",
       "4   A: You should study harder.\\n B: Okay, I’ll try.   \n",
       "\n",
       "                       Key Expression (한국어)  ... Index 1  \\\n",
       "0  A: 내 이름은 필릭스야. 나는 호주에서 왔어.\\n B: 만나서 반가워.  ...       2   \n",
       "1   A: 네가 가장 좋아하는 스포츠는 뭐야?\\n B: 나는 축구를 좋아해.  ...       2   \n",
       "2  A: 너는 휴가 때 무엇을 할 예정이야? B: 나는 여행을 갈 예정이야.  ...       2   \n",
       "3                          내 도시에 공원이 많이 있어.  ...       2   \n",
       "4       A: 너는 더 열심히 공부해야 해.\\n B: 알겠어, 노력할게.  ...       1   \n",
       "\n",
       "                                              Quiz 2  \\\n",
       "0  A: Hi, I’m Sam. I ____ from Korea. B: Nice to ...   \n",
       "1                       What do you ______ the most?   \n",
       "2                     I'm _____ to try a new recipe.   \n",
       "3                          You can _____ many cafes.   \n",
       "4  A: It’s a good idea to ______. B: I’ll give it...   \n",
       "\n",
       "                                      Korean 2 Option 2-1    Option 2-2  \\\n",
       "0  A: 안녕, 나는 Sam이야. 나는 Korea에서 왔어. B: 만나서 반가워.       live          come   \n",
       "1                            가장 좋아하는 것은 무엇이에요?     prefer          love   \n",
       "2                         나는 새로운 요리를 시도할 계획이야.   planning     preparing   \n",
       "3                             많은 카페를 찾을 수 있어요.        see          find   \n",
       "4               A: ~하는 것이 좋은 생각이야. B: 한 번 해볼게.   run fast  study harder   \n",
       "\n",
       "    Option 2-3      Answer 2 Index 2  \\\n",
       "0           am          come       2   \n",
       "1         like          like       3   \n",
       "2     deciding      planning       1   \n",
       "3          buy          find       2   \n",
       "4  eat quickly  study harder       2   \n",
       "\n",
       "                                        샘플 스크립트 (영어)  \\\n",
       "0  A: My name is Leo. I’m from Canada. B: Pleased...   \n",
       "1  A: What's your favorite game? B: I like basket...   \n",
       "2  A: What are you going to do this weekend? B: I...   \n",
       "3  A: There are many libraries in my town. B: Rea...   \n",
       "4  A: You should exercise regularly. B: Okay, I'l...   \n",
       "\n",
       "                                       샘플 스크립트 (한국어)  \n",
       "0  A: 내 이름은 Leo야. 나는 Canada 출신이야. B: 만나서 반가워. A: ...  \n",
       "1  A: 네가 가장 좋아하는 게임은 무엇이에요? B: 저는 농구를 좋아해요. A: 주말...  \n",
       "2  A: 이번 주말에 무엇을 할 거야? B: 하이킹을 갈 거야. A: 저녁에 어떤 계획...  \n",
       "3  A: 우리 동네에는 많은 도서관이 있어요. B: 정말요? 그곳에서 시간을 보내는 걸...  \n",
       "4  A: 너는 규칙적으로 운동해야 해. B: 알겠어, 노력해볼게. A: 균형 잡힌 식단...  \n",
       "\n",
       "[5 rows x 29 columns]"
      ]
     },
     "execution_count": 64,
     "metadata": {},
     "output_type": "execute_result"
    }
   ],
   "source": [
    "df = pd.read_csv(\"Curriculum_Mid.csv\")\n",
    "sample_df = df[:10]\n",
    "sample_df.head()"
   ]
  },
  {
   "cell_type": "code",
   "execution_count": 65,
   "metadata": {},
   "outputs": [
    {
     "data": {
      "text/plain": [
       "Index(['textbook ID', '학년', '출판사', '교육과정', 'Lesson', '구분', 'Title',\n",
       "       'DESCRIPTION', 'Key Expression (영어)', 'Key Expression (한국어)',\n",
       "       'Sub Expression (영어)', 'Sub Expression (한국어)', '학습목표', 'Quiz 1',\n",
       "       'Korean 1', 'Option 1-1', 'Option 1-2', 'Option 1-3', 'Answer 1',\n",
       "       'Index 1', 'Quiz 2', 'Korean 2', 'Option 2-1', 'Option 2-2',\n",
       "       'Option 2-3', 'Answer 2', 'Index 2', '샘플 스크립트 (영어)', '샘플 스크립트 (한국어)'],\n",
       "      dtype='object')"
      ]
     },
     "execution_count": 65,
     "metadata": {},
     "output_type": "execute_result"
    }
   ],
   "source": [
    "df.columns"
   ]
  },
  {
   "cell_type": "code",
   "execution_count": 66,
   "metadata": {},
   "outputs": [
    {
     "name": "stdout",
     "output_type": "stream",
     "text": [
      "<class 'list'>\n"
     ]
    },
    {
     "data": {
      "text/plain": [
       "{'textbook ID': 701,\n",
       " '학년': '중1',\n",
       " '출판사': '능률(김)',\n",
       " '교육과정': 2015,\n",
       " 'Lesson': 3,\n",
       " '구분': 'function',\n",
       " 'Title': 'Spend Smart, Save Smart',\n",
       " 'DESCRIPTION': 'Can I ~?를 활용해 허락을 요청하고 답하기.',\n",
       " 'Key Expression (영어)': 'A: Can I borrow your book?\\n B: Yes, of course. / I’m sorry, but you can’t.',\n",
       " 'Key Expression (한국어)': 'A: 네 책을 빌릴 수 있을까?\\n B: 네, 물론이야. / 미안하지만 안 돼.',\n",
       " 'Sub Expression (영어)': 'A: May I ~?\\n B: Sure, go ahead. / Sorry, you can’t.\\n A: Is it okay if I ~?\\n B: Of course. / I’m afraid not.',\n",
       " 'Sub Expression (한국어)': 'A: ~ 해도 될까? \\n B: 그래, 해봐. / 미안, 안 돼. \\n A: ~ 해도 괜찮을까? \\n B: 당연하지. / 미안, 안 돼.',\n",
       " '학습목표': '허락을 요청하고 응답하는 표현을 사용할 수 있어요.\\n Can I ~?와 같은 표현을 활용해 허락을 요청하고 답할 수 있어요.',\n",
       " 'Quiz 1': '___ I borrow your book?',\n",
       " 'Korean 1': '내 책 좀 빌려도 될까요?',\n",
       " 'Option 1-1': 'May',\n",
       " 'Option 1-2': 'Can',\n",
       " 'Option 1-3': 'Might',\n",
       " 'Answer 1': 'Can',\n",
       " 'Index 1': 2,\n",
       " 'Quiz 2': 'May I ___ your eraser?',\n",
       " 'Korean 2': '내 지우개를 빌릴 수 있을까요?',\n",
       " 'Option 2-1': 'buy',\n",
       " 'Option 2-2': 'borrow',\n",
       " 'Option 2-3': 'lend',\n",
       " 'Answer 2': 'borrow',\n",
       " 'Index 2': 2,\n",
       " '샘플 스크립트 (영어)': \"A: Can I borrow your jacket? B: Yes, of course. A: May I use it for the trip? B: I'm sorry, but you can't.\",\n",
       " '샘플 스크립트 (한국어)': 'A: 재킷 좀 빌려도 될까요? B: 물론이죠. A: 여행에 써도 될까요? B: 미안하지만 안 돼요.'}"
      ]
     },
     "execution_count": 66,
     "metadata": {},
     "output_type": "execute_result"
    }
   ],
   "source": [
    "# csv 파일을 json 파일로 변환\n",
    "sample_df_json = sample_df.to_json(orient=\"records\", force_ascii=False, indent=2)\n",
    "\n",
    "sample_df_json = json.loads(sample_df_json)\n",
    "print(type(sample_df_json))\n",
    "sample_df_json[5]"
   ]
  },
  {
   "cell_type": "code",
   "execution_count": 67,
   "metadata": {},
   "outputs": [
    {
     "name": "stdout",
     "output_type": "stream",
     "text": [
      "<class 'str'>\n",
      "<class 'str'>\n",
      "<class 'str'>\n",
      "<class 'str'>\n",
      "<class 'str'>\n",
      "<class 'str'>\n",
      "<class 'str'>\n",
      "<class 'str'>\n",
      "<class 'str'>\n",
      "<class 'str'>\n"
     ]
    }
   ],
   "source": [
    "for sample in sample_df_json:\n",
    "    a = sample.get('Answer 2')\n",
    "    print(type(a))"
   ]
  },
  {
   "cell_type": "code",
   "execution_count": 68,
   "metadata": {},
   "outputs": [
    {
     "data": {
      "text/plain": [
       "Index(['textbook ID', '학년', '출판사', '교육과정', 'Lesson', '구분', 'Title',\n",
       "       'DESCRIPTION', 'Key Expression (영어)', 'Key Expression (한국어)',\n",
       "       'Sub Expression (영어)', 'Sub Expression (한국어)', '학습목표', 'Quiz 1',\n",
       "       'Korean 1', 'Option 1-1', 'Option 1-2', 'Option 1-3', 'Answer 1',\n",
       "       'Index 1', 'Quiz 2', 'Korean 2', 'Option 2-1', 'Option 2-2',\n",
       "       'Option 2-3', 'Answer 2', 'Index 2', '샘플 스크립트 (영어)', '샘플 스크립트 (한국어)'],\n",
       "      dtype='object')"
      ]
     },
     "execution_count": 68,
     "metadata": {},
     "output_type": "execute_result"
    }
   ],
   "source": [
    "sample_df.columns"
   ]
  },
  {
   "cell_type": "code",
   "execution_count": 69,
   "metadata": {},
   "outputs": [],
   "source": [
    "class Valid:\n",
    "    def __init__(self, data:pd.DataFrame) -> pd.DataFrame:\n",
    "        # CSV 파일 json로 변환\n",
    "        csv_to_json = data.to_json(orient=\"records\", force_ascii=False, indent=2)\n",
    "\n",
    "        # json 파일로 불러오기\n",
    "        self.data_json = json.loads(csv_to_json)\n",
    "\n",
    "        # index 초기화 변수\n",
    "        self.index_1_num = 0\n",
    "        self.index_2_num = 0\n",
    "        self.index_3_num = 0\n",
    "\n",
    "    def check_valid_quiz(self, quiz:dict) -> bool:\n",
    "        # 에러 이유 저장할 리스트\n",
    "        reason_error_quiz1 = []\n",
    "        reason_error_quiz2 = []\n",
    "\n",
    "        # 변수 가져오기 quiz1\n",
    "        quiz_1 = quiz.get(\"Quiz 1\")\n",
    "        korean_1 = quiz.get(\"Korean 1\")\n",
    "        option_1_1 = quiz.get(\"Option 1-1\")\n",
    "        option_1_2 = quiz.get(\"Option 1-2\")\n",
    "        option_1_3 = quiz.get(\"Option 1-3\")\n",
    "        answer_1 = quiz.get(\"Answer 1\")\n",
    "        index_1 = quiz.get(\"Index 1\")\n",
    "        \n",
    "        # 변수 가져오기 quiz2\n",
    "        # quiz_2 = quiz.get(\"Quiz 2\")\n",
    "        # korean_2 = quiz.get(\"Korean 2\")\n",
    "        # option_2_1 = quiz.get(\"Option 2-1\")\n",
    "        # option_2_2 = quiz.get(\"Option 2-2\")\n",
    "        # option_2_3 = quiz.get(\"Option 2-3\")\n",
    "        # answer_2 = quiz.get(\"Answer 2\")\n",
    "        # index_2 = quiz.get(\"Index 2\")\n",
    "\n",
    "        # 0. 필드값 누락 체크\n",
    "        if (\n",
    "            not quiz_1\n",
    "            or not korean_1\n",
    "            or not option_1_1\n",
    "            or not option_1_2\n",
    "            or not option_1_3\n",
    "            or not answer_1\n",
    "            or not index_1\n",
    "            # or not quiz_2\n",
    "            # or not korean_2\n",
    "            # or not option_2_1\n",
    "            # or not option_2_2\n",
    "            # or not option_2_3\n",
    "            # or not answer_2\n",
    "            # or not index_2\n",
    "        ):\n",
    "            return False\n",
    "\n",
    "        # 1. 빈칸이 정확히 하나, 세 개의 언더바로 구성되어있는지 체크\n",
    "        appropriate_blank = r\"\\b___\\b\"\n",
    "\n",
    "        # 빈칸 세 개가 존재하는지 확인\n",
    "        if len(re.findall(appropriate_blank, quiz_1)) != 1:\n",
    "            reason_error_quiz1.append(\"Blank error: There should be exactly one '___' in Quiz 1.\")\n",
    "        \n",
    "        # 빈칸 세 개 이외의 다른 길이의 빈칸이 있는지 확인\n",
    "        if re.search(r\"\\b_{1,2}\\b|\\b_{4,}\\b\", quiz_1):\n",
    "            reason_error_quiz1.append(\"Blank error: Invalid blank length detected in Quiz 1.\")\n",
    "        \n",
    "        # 2. 정답이 옵션에 포함되어 있는지 체크\n",
    "        options = [option_1_1, option_1_2, option_1_3]\n",
    "        \n",
    "        # answer가 options에 있는지 확인\n",
    "        if answer_1 not in options:\n",
    "            reason_error_quiz1.append(\"Answer in options error : answer 확인\")\n",
    "        \n",
    "        # answer가 숫자로 이루어져있는지 확인\n",
    "        if isinstance(index_1, str) and not index_1.isnumeric():\n",
    "            reason_error_quiz1.append(\"Answer in options error : answer type 확인\")\n",
    "\n",
    "        # 3. 정답의 인덱스가 answer_index와 일치하는지 확인\n",
    "        index_1 = int(index_1)\n",
    "        if options[index_1 - 1] != answer_1:\n",
    "            print(index_1)\n",
    "            print(options[index_1 - 1])\n",
    "            reason_error_quiz1.append(\"Answer index not match option index : index 확인\")\n",
    "\n",
    "        # 4. answer_index의 분포 검수\n",
    "        if index_1 == 1:\n",
    "            self.index_1_num += 1\n",
    "        elif index_1 == 2:\n",
    "            self.index_2_num += 1\n",
    "        elif index_1 == 3:\n",
    "            self.index_3_num += 1\n",
    "\n",
    "        total_index_num = self.index_1_num + self.index_2_num + self.index_3_num\n",
    "        print(f\"현재 총 Index 개수: {total_index_num} (1: {self.index_1_num}, 2: {self.index_2_num}, 3: {self.index_3_num})\")\n",
    "        \n",
    "        if total_index_num > 0:\n",
    "            index_percent_1 = (self.index_1_num / total_index_num) * 100\n",
    "            index_percent_2 = (self.index_2_num / total_index_num) * 100\n",
    "            index_percent_3 = (self.index_3_num / total_index_num) * 100\n",
    "\n",
    "        if not (25 <= index_percent_1 <= 35 and 25 <= index_percent_2 <= 35 and 25 <= index_percent_3 <= 35):\n",
    "            reason_error_quiz1.append(\"Distribution Error\")\n",
    "\n",
    "        # 에러가 발생하면 데이터에 reason_error 추가\n",
    "        if reason_error_quiz1:\n",
    "            quiz[\"reason_error_quiz1\"] = reason_error_quiz1  # 에러 이유 추가\n",
    "            return False\n",
    "        \n",
    "\n"
   ]
  },
  {
   "cell_type": "code",
   "execution_count": 70,
   "metadata": {},
   "outputs": [
    {
     "data": {
      "text/plain": [
       "10"
      ]
     },
     "execution_count": 70,
     "metadata": {},
     "output_type": "execute_result"
    }
   ],
   "source": [
    "len(sample_df)"
   ]
  },
  {
   "cell_type": "code",
   "execution_count": 71,
   "metadata": {},
   "outputs": [
    {
     "name": "stdout",
     "output_type": "stream",
     "text": [
      "{'textbook ID': 701, '학년': '중1', '출판사': '능률(김)', '교육과정': 2015, 'Lesson': 1, '구분': 'function', 'Title': 'Welcome to My World', 'DESCRIPTION': '자기소개와 출신지에 대해 말하고, 이에 반응하기.', 'Key Expression (영어)': 'A: My name is Felix. I’m from Australia.\\n B: Glad to meet you.', 'Key Expression (한국어)': 'A: 내 이름은 필릭스야. 나는 호주에서 왔어.\\n B: 만나서 반가워.', 'Sub Expression (영어)': 'A: Hi, I’m ~. I come from ~.\\n B: Nice to meet you.\\n A: Hello, my name is ~. I’m from ~.\\n B: Great to meet you.', 'Sub Expression (한국어)': 'A: 안녕, 나는 ~야. ~에서 왔어.\\n B: 만나서 반가워.\\n A: 안녕, 내 이름은 ~야. ~에서 왔어.\\n B: 정말 반가워.', '학습목표': '자기소개와 출신지에 대해 말할 수 있어요.\\n Talk about your introduction and origin, and respond appropriately.', 'Quiz 1': 'A: My name is Felix. I’m from ____.', 'Korean 1': 'A: 내 이름은 Felix야. 나는 Australia 출신이야. B: 만나서 반가워.', 'Option 1-1': 'America', 'Option 1-2': 'Australia', 'Option 1-3': 'Canada', 'Answer 1': 'Australia', 'Index 1': 2, 'Quiz 2': 'A: Hi, I’m Sam. I ____ from Korea. B: Nice to meet you.', 'Korean 2': 'A: 안녕, 나는 Sam이야. 나는 Korea에서 왔어. B: 만나서 반가워.', 'Option 2-1': 'live', 'Option 2-2': 'come', 'Option 2-3': 'am', 'Answer 2': 'come', 'Index 2': 2, '샘플 스크립트 (영어)': 'A: My name is Leo. I’m from Canada. B: Pleased to meet you. A: Hi, I’m Mia. I come from Japan. B: Happy to meet you.', '샘플 스크립트 (한국어)': 'A: 내 이름은 Leo야. 나는 Canada 출신이야. B: 만나서 반가워. A: 안녕, 나는 Mia야. 나는 Japan에서 왔어. B: 만나서 기뻐.'}\n",
      "현재 총 Index 개수: 1 (1: 0, 2: 1, 3: 0)\n",
      "{'textbook ID': 701, '학년': '중1', '출판사': '능률(김)', '교육과정': 2015, 'Lesson': 1, '구분': 'function', 'Title': 'Welcome to My World', 'DESCRIPTION': '자기소개와 출신지에 대해 말하고, 이에 반응하기.', 'Key Expression (영어)': 'A: My name is Felix. I’m from Australia.\\n B: Glad to meet you.', 'Key Expression (한국어)': 'A: 내 이름은 필릭스야. 나는 호주에서 왔어.\\n B: 만나서 반가워.', 'Sub Expression (영어)': 'A: Hi, I’m ~. I come from ~.\\n B: Nice to meet you.\\n A: Hello, my name is ~. I’m from ~.\\n B: Great to meet you.', 'Sub Expression (한국어)': 'A: 안녕, 나는 ~야. ~에서 왔어.\\n B: 만나서 반가워.\\n A: 안녕, 내 이름은 ~야. ~에서 왔어.\\n B: 정말 반가워.', '학습목표': '자기소개와 출신지에 대해 말할 수 있어요.\\n Talk about your introduction and origin, and respond appropriately.', 'Quiz 1': 'A: My name is Felix. I’m from ____.', 'Korean 1': 'A: 내 이름은 Felix야. 나는 Australia 출신이야. B: 만나서 반가워.', 'Option 1-1': 'America', 'Option 1-2': 'Australia', 'Option 1-3': 'Canada', 'Answer 1': 'Australia', 'Index 1': 2, 'Quiz 2': 'A: Hi, I’m Sam. I ____ from Korea. B: Nice to meet you.', 'Korean 2': 'A: 안녕, 나는 Sam이야. 나는 Korea에서 왔어. B: 만나서 반가워.', 'Option 2-1': 'live', 'Option 2-2': 'come', 'Option 2-3': 'am', 'Answer 2': 'come', 'Index 2': 2, '샘플 스크립트 (영어)': 'A: My name is Leo. I’m from Canada. B: Pleased to meet you. A: Hi, I’m Mia. I come from Japan. B: Happy to meet you.', '샘플 스크립트 (한국어)': 'A: 내 이름은 Leo야. 나는 Canada 출신이야. B: 만나서 반가워. A: 안녕, 나는 Mia야. 나는 Japan에서 왔어. B: 만나서 기뻐.', 'reason_error_quiz1': [\"Blank error: There should be exactly one '___' in Quiz 1.\", 'Blank error: Invalid blank length detected in Quiz 1.', 'Distribution Error']}\n",
      "{'textbook ID': 701, '학년': '중1', '출판사': '능률(김)', '교육과정': 2015, 'Lesson': 1, '구분': 'function', 'Title': 'Welcome to My World', 'DESCRIPTION': 'like와 favorite 단어를 활용해 좋아하는 것에 대해 묻고 답하기.', 'Key Expression (영어)': 'A: What is your favorite sport?\\n B: I like soccer.', 'Key Expression (한국어)': 'A: 네가 가장 좋아하는 스포츠는 뭐야?\\n B: 나는 축구를 좋아해.', 'Sub Expression (영어)': 'A: What do you like the most?\\n B: I enjoy ~.\\n A: What’s your favorite activity?\\n B: My favorite is ~.', 'Sub Expression (한국어)': 'A: 제일 좋아하는 게 뭐야?\\n B: 나는 ~ 즐겨.\\n A: 가장 좋아하는 활동이 뭐야?\\n B: 내가 제일 좋아하는 건 ~.', '학습목표': \"like와 favorite 단어를 사용하여 좋아하는 것에 대해 묻고 답할 수 있어요.\\n You can ask and answer questions about what you like using 'like' and 'favorite'.\", 'Quiz 1': 'What is your ______ sport?', 'Korean 1': '네가 가장 좋아하는 스포츠는 무엇이에요?', 'Option 1-1': 'like', 'Option 1-2': 'favorite', 'Option 1-3': 'best', 'Answer 1': 'favorite', 'Index 1': 2, 'Quiz 2': 'What do you ______ the most?', 'Korean 2': '가장 좋아하는 것은 무엇이에요?', 'Option 2-1': 'prefer', 'Option 2-2': 'love', 'Option 2-3': 'like', 'Answer 2': 'like', 'Index 2': 3, '샘플 스크립트 (영어)': \"A: What's your favorite game? B: I like basketball. A: What do you enjoy during the weekends? B: My favorite activity is playing outdoors.\", '샘플 스크립트 (한국어)': 'A: 네가 가장 좋아하는 게임은 무엇이에요? B: 저는 농구를 좋아해요. A: 주말에는 무엇을 즐겨하나요? B: 제가 가장 좋아하는 활동은 야외에서 노는 거예요.'}\n",
      "현재 총 Index 개수: 2 (1: 0, 2: 2, 3: 0)\n",
      "{'textbook ID': 701, '학년': '중1', '출판사': '능률(김)', '교육과정': 2015, 'Lesson': 1, '구분': 'function', 'Title': 'Welcome to My World', 'DESCRIPTION': 'like와 favorite 단어를 활용해 좋아하는 것에 대해 묻고 답하기.', 'Key Expression (영어)': 'A: What is your favorite sport?\\n B: I like soccer.', 'Key Expression (한국어)': 'A: 네가 가장 좋아하는 스포츠는 뭐야?\\n B: 나는 축구를 좋아해.', 'Sub Expression (영어)': 'A: What do you like the most?\\n B: I enjoy ~.\\n A: What’s your favorite activity?\\n B: My favorite is ~.', 'Sub Expression (한국어)': 'A: 제일 좋아하는 게 뭐야?\\n B: 나는 ~ 즐겨.\\n A: 가장 좋아하는 활동이 뭐야?\\n B: 내가 제일 좋아하는 건 ~.', '학습목표': \"like와 favorite 단어를 사용하여 좋아하는 것에 대해 묻고 답할 수 있어요.\\n You can ask and answer questions about what you like using 'like' and 'favorite'.\", 'Quiz 1': 'What is your ______ sport?', 'Korean 1': '네가 가장 좋아하는 스포츠는 무엇이에요?', 'Option 1-1': 'like', 'Option 1-2': 'favorite', 'Option 1-3': 'best', 'Answer 1': 'favorite', 'Index 1': 2, 'Quiz 2': 'What do you ______ the most?', 'Korean 2': '가장 좋아하는 것은 무엇이에요?', 'Option 2-1': 'prefer', 'Option 2-2': 'love', 'Option 2-3': 'like', 'Answer 2': 'like', 'Index 2': 3, '샘플 스크립트 (영어)': \"A: What's your favorite game? B: I like basketball. A: What do you enjoy during the weekends? B: My favorite activity is playing outdoors.\", '샘플 스크립트 (한국어)': 'A: 네가 가장 좋아하는 게임은 무엇이에요? B: 저는 농구를 좋아해요. A: 주말에는 무엇을 즐겨하나요? B: 제가 가장 좋아하는 활동은 야외에서 노는 거예요.', 'reason_error_quiz1': [\"Blank error: There should be exactly one '___' in Quiz 1.\", 'Blank error: Invalid blank length detected in Quiz 1.', 'Distribution Error']}\n",
      "{'textbook ID': 701, '학년': '중1', '출판사': '능률(김)', '교육과정': 2015, 'Lesson': 2, '구분': 'function', 'Title': 'Discover Your Culture', 'DESCRIPTION': 'be going to ~를 활용해 계획이나 예정된 일에 대해 묻고 답하기.', 'Key Expression (영어)': 'A: What are you going to do on your holiday? B: I’m going to travel.', 'Key Expression (한국어)': 'A: 너는 휴가 때 무엇을 할 예정이야? B: 나는 여행을 갈 예정이야.', 'Sub Expression (영어)': 'A: What are your plans for ~? B: I’m planning to ~. A: What will you do on ~? B: I’ll ~.', 'Sub Expression (한국어)': 'A: ~에 대한 계획은 뭐야? B: ~할 계획이야. A: ~에서는 뭐 할 거야? B: ~할 거야.', '학습목표': '계획이나 예정된 일에 대해 묻고 답할 수 있어요.\\r\\n be going to ~를 활용해 계획이나 예정된 일에 대해 묻고 답할 수 있어요.', 'Quiz 1': 'A: What are you _____ on your holiday? B: I’m going to travel.', 'Korean 1': 'A: 너는 휴일에 무엇을 할 예정이니? B: 여행을 갈 거야.', 'Option 1-1': 'planning to do', 'Option 1-2': 'going to do', 'Option 1-3': 'will do', 'Answer 1': 'going to do', 'Index 1': 2, 'Quiz 2': \"I'm _____ to try a new recipe.\", 'Korean 2': '나는 새로운 요리를 시도할 계획이야.', 'Option 2-1': 'planning', 'Option 2-2': 'preparing', 'Option 2-3': 'deciding', 'Answer 2': 'planning', 'Index 2': 1, '샘플 스크립트 (영어)': \"A: What are you going to do this weekend? B: I'm going to go hiking. A: What are your plans for the evening? B: I'm planning to watch a movie.\", '샘플 스크립트 (한국어)': 'A: 이번 주말에 무엇을 할 거야? B: 하이킹을 갈 거야. A: 저녁에 어떤 계획이 있어? B: 영화를 볼 계획이야.'}\n",
      "현재 총 Index 개수: 3 (1: 0, 2: 3, 3: 0)\n",
      "{'textbook ID': 701, '학년': '중1', '출판사': '능률(김)', '교육과정': 2015, 'Lesson': 2, '구분': 'function', 'Title': 'Discover Your Culture', 'DESCRIPTION': 'be going to ~를 활용해 계획이나 예정된 일에 대해 묻고 답하기.', 'Key Expression (영어)': 'A: What are you going to do on your holiday? B: I’m going to travel.', 'Key Expression (한국어)': 'A: 너는 휴가 때 무엇을 할 예정이야? B: 나는 여행을 갈 예정이야.', 'Sub Expression (영어)': 'A: What are your plans for ~? B: I’m planning to ~. A: What will you do on ~? B: I’ll ~.', 'Sub Expression (한국어)': 'A: ~에 대한 계획은 뭐야? B: ~할 계획이야. A: ~에서는 뭐 할 거야? B: ~할 거야.', '학습목표': '계획이나 예정된 일에 대해 묻고 답할 수 있어요.\\r\\n be going to ~를 활용해 계획이나 예정된 일에 대해 묻고 답할 수 있어요.', 'Quiz 1': 'A: What are you _____ on your holiday? B: I’m going to travel.', 'Korean 1': 'A: 너는 휴일에 무엇을 할 예정이니? B: 여행을 갈 거야.', 'Option 1-1': 'planning to do', 'Option 1-2': 'going to do', 'Option 1-3': 'will do', 'Answer 1': 'going to do', 'Index 1': 2, 'Quiz 2': \"I'm _____ to try a new recipe.\", 'Korean 2': '나는 새로운 요리를 시도할 계획이야.', 'Option 2-1': 'planning', 'Option 2-2': 'preparing', 'Option 2-3': 'deciding', 'Answer 2': 'planning', 'Index 2': 1, '샘플 스크립트 (영어)': \"A: What are you going to do this weekend? B: I'm going to go hiking. A: What are your plans for the evening? B: I'm planning to watch a movie.\", '샘플 스크립트 (한국어)': 'A: 이번 주말에 무엇을 할 거야? B: 하이킹을 갈 거야. A: 저녁에 어떤 계획이 있어? B: 영화를 볼 계획이야.', 'reason_error_quiz1': [\"Blank error: There should be exactly one '___' in Quiz 1.\", 'Blank error: Invalid blank length detected in Quiz 1.', 'Distribution Error']}\n",
      "{'textbook ID': 701, '학년': '중1', '출판사': '능률(김)', '교육과정': 2015, 'Lesson': 2, '구분': 'function', 'Title': 'Discover Your Culture', 'DESCRIPTION': 'There is/are ~을 활용하여 장소 설명하기.', 'Key Expression (영어)': 'There are many parks in my city.', 'Key Expression (한국어)': '내 도시에 공원이 많이 있어.', 'Sub Expression (영어)': 'You can find ~ ~.\\n ~ has ~.', 'Sub Expression (한국어)': '~ ~를 찾을 수 있어. ~는 ~가 있어.', '학습목표': '장소를 설명할 때 there is/are 표현을 사용할 수 있어요.\\n You can describe places using there is/are expressions.', 'Quiz 1': 'There are many _____ in my city.', 'Korean 1': '우리 도시에는 많은 공원이 있어요.', 'Option 1-1': 'restaurants', 'Option 1-2': 'parks', 'Option 1-3': 'museums', 'Answer 1': 'parks', 'Index 1': 2, 'Quiz 2': 'You can _____ many cafes.', 'Korean 2': '많은 카페를 찾을 수 있어요.', 'Option 2-1': 'see', 'Option 2-2': 'find', 'Option 2-3': 'buy', 'Answer 2': 'find', 'Index 2': 2, '샘플 스크립트 (영어)': 'A: There are many libraries in my town. B: Really? I enjoy spending time there. A: You can find quiet reading corners in the library. B: That sounds like a perfect place to relax.', '샘플 스크립트 (한국어)': 'A: 우리 동네에는 많은 도서관이 있어요. B: 정말요? 그곳에서 시간을 보내는 걸 좋아해요. A: 도서관에서는 조용한 독서 공간을 찾을 수 있어요. B: 휴식하기에 딱 좋은 곳이네요.'}\n",
      "현재 총 Index 개수: 4 (1: 0, 2: 4, 3: 0)\n",
      "{'textbook ID': 701, '학년': '중1', '출판사': '능률(김)', '교육과정': 2015, 'Lesson': 2, '구분': 'function', 'Title': 'Discover Your Culture', 'DESCRIPTION': 'There is/are ~을 활용하여 장소 설명하기.', 'Key Expression (영어)': 'There are many parks in my city.', 'Key Expression (한국어)': '내 도시에 공원이 많이 있어.', 'Sub Expression (영어)': 'You can find ~ ~.\\n ~ has ~.', 'Sub Expression (한국어)': '~ ~를 찾을 수 있어. ~는 ~가 있어.', '학습목표': '장소를 설명할 때 there is/are 표현을 사용할 수 있어요.\\n You can describe places using there is/are expressions.', 'Quiz 1': 'There are many _____ in my city.', 'Korean 1': '우리 도시에는 많은 공원이 있어요.', 'Option 1-1': 'restaurants', 'Option 1-2': 'parks', 'Option 1-3': 'museums', 'Answer 1': 'parks', 'Index 1': 2, 'Quiz 2': 'You can _____ many cafes.', 'Korean 2': '많은 카페를 찾을 수 있어요.', 'Option 2-1': 'see', 'Option 2-2': 'find', 'Option 2-3': 'buy', 'Answer 2': 'find', 'Index 2': 2, '샘플 스크립트 (영어)': 'A: There are many libraries in my town. B: Really? I enjoy spending time there. A: You can find quiet reading corners in the library. B: That sounds like a perfect place to relax.', '샘플 스크립트 (한국어)': 'A: 우리 동네에는 많은 도서관이 있어요. B: 정말요? 그곳에서 시간을 보내는 걸 좋아해요. A: 도서관에서는 조용한 독서 공간을 찾을 수 있어요. B: 휴식하기에 딱 좋은 곳이네요.', 'reason_error_quiz1': [\"Blank error: There should be exactly one '___' in Quiz 1.\", 'Blank error: Invalid blank length detected in Quiz 1.', 'Distribution Error']}\n",
      "{'textbook ID': 701, '학년': '중1', '출판사': '능률(김)', '교육과정': 2015, 'Lesson': 3, '구분': 'function', 'Title': 'Spend Smart, Save Smart', 'DESCRIPTION': 'You should ~를 활용해 조언하기.', 'Key Expression (영어)': 'A: You should study harder.\\n B: Okay, I’ll try.', 'Key Expression (한국어)': 'A: 너는 더 열심히 공부해야 해.\\n B: 알겠어, 노력할게.', 'Sub Expression (영어)': 'A: It’s a good idea to ~.\\n B: I’ll give it a shot.\\n A: How about ~?\\n B: Sure, I’ll do that.', 'Sub Expression (한국어)': 'A: ~하는 거 좋은 생각인 것 같아.\\n B: 한 번 해볼게.\\n A: 그럼 ~은 어때?\\n B: 응, 그렇게 할게.', '학습목표': '‘You should’를 활용하여 조언할 수 있어요.\\n 구체적인 조언 표현에서 핵심 동사를 사용할 수 있어요.', 'Quiz 1': 'A: You should ______. B: Okay, I’ll try.', 'Korean 1': 'A: 너는 ______ 해야 해. B: 알겠어, 노력해볼게.', 'Option 1-1': 'study harder', 'Option 1-2': 'watch TV', 'Option 1-3': 'sleep early', 'Answer 1': 'study harder', 'Index 1': 1, 'Quiz 2': 'A: It’s a good idea to ______. B: I’ll give it a shot.', 'Korean 2': 'A: ~하는 것이 좋은 생각이야. B: 한 번 해볼게.', 'Option 2-1': 'run fast', 'Option 2-2': 'study harder', 'Option 2-3': 'eat quickly', 'Answer 2': 'study harder', 'Index 2': 2, '샘플 스크립트 (영어)': \"A: You should exercise regularly. B: Okay, I'll try. A: It's a good idea to eat a balanced diet. B: Sure, I'll do that.\", '샘플 스크립트 (한국어)': 'A: 너는 규칙적으로 운동해야 해. B: 알겠어, 노력해볼게. A: 균형 잡힌 식단을 유지하는 것이 좋은 생각이야. B: 그래, 그렇게 할게.'}\n",
      "현재 총 Index 개수: 5 (1: 1, 2: 4, 3: 0)\n",
      "{'textbook ID': 701, '학년': '중1', '출판사': '능률(김)', '교육과정': 2015, 'Lesson': 3, '구분': 'function', 'Title': 'Spend Smart, Save Smart', 'DESCRIPTION': 'You should ~를 활용해 조언하기.', 'Key Expression (영어)': 'A: You should study harder.\\n B: Okay, I’ll try.', 'Key Expression (한국어)': 'A: 너는 더 열심히 공부해야 해.\\n B: 알겠어, 노력할게.', 'Sub Expression (영어)': 'A: It’s a good idea to ~.\\n B: I’ll give it a shot.\\n A: How about ~?\\n B: Sure, I’ll do that.', 'Sub Expression (한국어)': 'A: ~하는 거 좋은 생각인 것 같아.\\n B: 한 번 해볼게.\\n A: 그럼 ~은 어때?\\n B: 응, 그렇게 할게.', '학습목표': '‘You should’를 활용하여 조언할 수 있어요.\\n 구체적인 조언 표현에서 핵심 동사를 사용할 수 있어요.', 'Quiz 1': 'A: You should ______. B: Okay, I’ll try.', 'Korean 1': 'A: 너는 ______ 해야 해. B: 알겠어, 노력해볼게.', 'Option 1-1': 'study harder', 'Option 1-2': 'watch TV', 'Option 1-3': 'sleep early', 'Answer 1': 'study harder', 'Index 1': 1, 'Quiz 2': 'A: It’s a good idea to ______. B: I’ll give it a shot.', 'Korean 2': 'A: ~하는 것이 좋은 생각이야. B: 한 번 해볼게.', 'Option 2-1': 'run fast', 'Option 2-2': 'study harder', 'Option 2-3': 'eat quickly', 'Answer 2': 'study harder', 'Index 2': 2, '샘플 스크립트 (영어)': \"A: You should exercise regularly. B: Okay, I'll try. A: It's a good idea to eat a balanced diet. B: Sure, I'll do that.\", '샘플 스크립트 (한국어)': 'A: 너는 규칙적으로 운동해야 해. B: 알겠어, 노력해볼게. A: 균형 잡힌 식단을 유지하는 것이 좋은 생각이야. B: 그래, 그렇게 할게.', 'reason_error_quiz1': [\"Blank error: There should be exactly one '___' in Quiz 1.\", 'Blank error: Invalid blank length detected in Quiz 1.', 'Distribution Error']}\n",
      "{'textbook ID': 701, '학년': '중1', '출판사': '능률(김)', '교육과정': 2015, 'Lesson': 3, '구분': 'function', 'Title': 'Spend Smart, Save Smart', 'DESCRIPTION': 'Can I ~?를 활용해 허락을 요청하고 답하기.', 'Key Expression (영어)': 'A: Can I borrow your book?\\n B: Yes, of course. / I’m sorry, but you can’t.', 'Key Expression (한국어)': 'A: 네 책을 빌릴 수 있을까?\\n B: 네, 물론이야. / 미안하지만 안 돼.', 'Sub Expression (영어)': 'A: May I ~?\\n B: Sure, go ahead. / Sorry, you can’t.\\n A: Is it okay if I ~?\\n B: Of course. / I’m afraid not.', 'Sub Expression (한국어)': 'A: ~ 해도 될까? \\n B: 그래, 해봐. / 미안, 안 돼. \\n A: ~ 해도 괜찮을까? \\n B: 당연하지. / 미안, 안 돼.', '학습목표': '허락을 요청하고 응답하는 표현을 사용할 수 있어요.\\n Can I ~?와 같은 표현을 활용해 허락을 요청하고 답할 수 있어요.', 'Quiz 1': '___ I borrow your book?', 'Korean 1': '내 책 좀 빌려도 될까요?', 'Option 1-1': 'May', 'Option 1-2': 'Can', 'Option 1-3': 'Might', 'Answer 1': 'Can', 'Index 1': 2, 'Quiz 2': 'May I ___ your eraser?', 'Korean 2': '내 지우개를 빌릴 수 있을까요?', 'Option 2-1': 'buy', 'Option 2-2': 'borrow', 'Option 2-3': 'lend', 'Answer 2': 'borrow', 'Index 2': 2, '샘플 스크립트 (영어)': \"A: Can I borrow your jacket? B: Yes, of course. A: May I use it for the trip? B: I'm sorry, but you can't.\", '샘플 스크립트 (한국어)': 'A: 재킷 좀 빌려도 될까요? B: 물론이죠. A: 여행에 써도 될까요? B: 미안하지만 안 돼요.'}\n",
      "현재 총 Index 개수: 6 (1: 1, 2: 5, 3: 0)\n",
      "{'textbook ID': 701, '학년': '중1', '출판사': '능률(김)', '교육과정': 2015, 'Lesson': 3, '구분': 'function', 'Title': 'Spend Smart, Save Smart', 'DESCRIPTION': 'Can I ~?를 활용해 허락을 요청하고 답하기.', 'Key Expression (영어)': 'A: Can I borrow your book?\\n B: Yes, of course. / I’m sorry, but you can’t.', 'Key Expression (한국어)': 'A: 네 책을 빌릴 수 있을까?\\n B: 네, 물론이야. / 미안하지만 안 돼.', 'Sub Expression (영어)': 'A: May I ~?\\n B: Sure, go ahead. / Sorry, you can’t.\\n A: Is it okay if I ~?\\n B: Of course. / I’m afraid not.', 'Sub Expression (한국어)': 'A: ~ 해도 될까? \\n B: 그래, 해봐. / 미안, 안 돼. \\n A: ~ 해도 괜찮을까? \\n B: 당연하지. / 미안, 안 돼.', '학습목표': '허락을 요청하고 응답하는 표현을 사용할 수 있어요.\\n Can I ~?와 같은 표현을 활용해 허락을 요청하고 답할 수 있어요.', 'Quiz 1': '___ I borrow your book?', 'Korean 1': '내 책 좀 빌려도 될까요?', 'Option 1-1': 'May', 'Option 1-2': 'Can', 'Option 1-3': 'Might', 'Answer 1': 'Can', 'Index 1': 2, 'Quiz 2': 'May I ___ your eraser?', 'Korean 2': '내 지우개를 빌릴 수 있을까요?', 'Option 2-1': 'buy', 'Option 2-2': 'borrow', 'Option 2-3': 'lend', 'Answer 2': 'borrow', 'Index 2': 2, '샘플 스크립트 (영어)': \"A: Can I borrow your jacket? B: Yes, of course. A: May I use it for the trip? B: I'm sorry, but you can't.\", '샘플 스크립트 (한국어)': 'A: 재킷 좀 빌려도 될까요? B: 물론이죠. A: 여행에 써도 될까요? B: 미안하지만 안 돼요.', 'reason_error_quiz1': ['Distribution Error']}\n",
      "{'textbook ID': 701, '학년': '중1', '출판사': '능률(김)', '교육과정': 2015, 'Lesson': 4, '구분': 'function', 'Title': 'The Power of Ideas', 'DESCRIPTION': '의견에 동의하거나 반대 표현하기.', 'Key Expression (영어)': 'A: This idea is great.\\n B: I think so, too. / I don’t think so.', 'Key Expression (한국어)': 'A: 이 아이디어는 정말 좋아.\\n B: 나도 그렇게 생각해. / 난 그렇게 생각하지 않아.', 'Sub Expression (영어)': 'A: This ~ feels ~.\\n B: I agree. ~ / I disagree. ~\\n A: I believe this ~ is ~.\\n B: Me, too. ~ / I don’t think so. ~', 'Sub Expression (한국어)': 'A: 이거 ~한 느낌이 들어.\\n B: 나도 그래. ~ / 난 아니라고 생각해. ~\\n A: 내 생각에는 이 ~가 ~인 것 같아.\\n B: 나도 그래. ~ / 난 그렇게 생각 안 해. ~', '학습목표': '타인의 의견에 동의하거나 반대하는 표현을 사용할 수 있어요.\\n Express opinions by showing agreement or disagreement.', 'Quiz 1': 'This idea is ___.', 'Korean 1': '이 생각은 훌륭해.', 'Option 1-1': 'terrible', 'Option 1-2': 'great', 'Option 1-3': 'average', 'Answer 1': 'great', 'Index 1': 2, 'Quiz 2': 'I believe this idea is ___.', 'Korean 2': '나는 이 생각이 환상적이라고 믿어.', 'Option 2-1': 'mediocre', 'Option 2-2': 'fantastic', 'Option 2-3': 'bad', 'Answer 2': 'fantastic', 'Index 2': 2, '샘플 스크립트 (영어)': 'A: This proposal is amazing. B: I think so, too. A: I believe this plan is exceptional. B: Me, too.', '샘플 스크립트 (한국어)': 'A: 이 제안은 놀라워. B: 나도 그렇게 생각해. A: 나는 이 계획이 탁월하다고 믿어. B: 나도 그래.'}\n",
      "현재 총 Index 개수: 7 (1: 1, 2: 6, 3: 0)\n",
      "{'textbook ID': 701, '학년': '중1', '출판사': '능률(김)', '교육과정': 2015, 'Lesson': 4, '구분': 'function', 'Title': 'The Power of Ideas', 'DESCRIPTION': '의견에 동의하거나 반대 표현하기.', 'Key Expression (영어)': 'A: This idea is great.\\n B: I think so, too. / I don’t think so.', 'Key Expression (한국어)': 'A: 이 아이디어는 정말 좋아.\\n B: 나도 그렇게 생각해. / 난 그렇게 생각하지 않아.', 'Sub Expression (영어)': 'A: This ~ feels ~.\\n B: I agree. ~ / I disagree. ~\\n A: I believe this ~ is ~.\\n B: Me, too. ~ / I don’t think so. ~', 'Sub Expression (한국어)': 'A: 이거 ~한 느낌이 들어.\\n B: 나도 그래. ~ / 난 아니라고 생각해. ~\\n A: 내 생각에는 이 ~가 ~인 것 같아.\\n B: 나도 그래. ~ / 난 그렇게 생각 안 해. ~', '학습목표': '타인의 의견에 동의하거나 반대하는 표현을 사용할 수 있어요.\\n Express opinions by showing agreement or disagreement.', 'Quiz 1': 'This idea is ___.', 'Korean 1': '이 생각은 훌륭해.', 'Option 1-1': 'terrible', 'Option 1-2': 'great', 'Option 1-3': 'average', 'Answer 1': 'great', 'Index 1': 2, 'Quiz 2': 'I believe this idea is ___.', 'Korean 2': '나는 이 생각이 환상적이라고 믿어.', 'Option 2-1': 'mediocre', 'Option 2-2': 'fantastic', 'Option 2-3': 'bad', 'Answer 2': 'fantastic', 'Index 2': 2, '샘플 스크립트 (영어)': 'A: This proposal is amazing. B: I think so, too. A: I believe this plan is exceptional. B: Me, too.', '샘플 스크립트 (한국어)': 'A: 이 제안은 놀라워. B: 나도 그렇게 생각해. A: 나는 이 계획이 탁월하다고 믿어. B: 나도 그래.', 'reason_error_quiz1': ['Distribution Error']}\n",
      "{'textbook ID': 701, '학년': '중1', '출판사': '능률(김)', '교육과정': 2015, 'Lesson': 4, '구분': 'function', 'Title': 'The Power of Ideas', 'DESCRIPTION': 'Why와 because를 활용해 이유 묻고 답하기.', 'Key Expression (영어)': 'A: Why are you late?\\n B: Because I missed the bus.', 'Key Expression (한국어)': 'A: 왜 늦었어?\\n B: 버스를 놓쳤기 때문이야.', 'Sub Expression (영어)': 'A: What’s the reason for ~?\\n B: It’s because ~.\\n A: Why ~?\\n B: Since ~.', 'Sub Expression (한국어)': 'A: ~의 이유가 뭐야? B: ~ 때문이야. A: 왜 ~야? B: ~라서 그래.', '학습목표': '이유를 묻고 대답하는 표현을 사용할 수 있어요.\\n Learn how to ask and answer questions about reasons using why and because.', 'Quiz 1': 'A: ___ are you late? B: Because I missed the bus.', 'Korean 1': 'A: 왜 늦었어? B: 버스를 놓쳤어.', 'Option 1-1': 'What', 'Option 1-2': 'When', 'Option 1-3': 'Why', 'Answer 1': 'Why', 'Index 1': 3, 'Quiz 2': \"B: It's ___ I missed the bus.\", 'Korean 2': 'B: 버스를 놓친 이유는 알람이 울리지 않아서야.', 'Option 2-1': 'although', 'Option 2-2': 'because', 'Option 2-3': 'before', 'Answer 2': 'because', 'Index 2': 2, '샘플 스크립트 (영어)': 'A: Why did you miss the meeting? B: Because I overslept. A: What prompted that? B: Since my alarm failed to ring.', '샘플 스크립트 (한국어)': 'A: 왜 회의에 늦었어? B: 알람을 듣지 못해서 잠이 들었어. A: 무슨 이유에서 그런 거야? B: 알람이 울리지 않아서야.'}\n",
      "현재 총 Index 개수: 8 (1: 1, 2: 6, 3: 1)\n",
      "{'textbook ID': 701, '학년': '중1', '출판사': '능률(김)', '교육과정': 2015, 'Lesson': 4, '구분': 'function', 'Title': 'The Power of Ideas', 'DESCRIPTION': 'Why와 because를 활용해 이유 묻고 답하기.', 'Key Expression (영어)': 'A: Why are you late?\\n B: Because I missed the bus.', 'Key Expression (한국어)': 'A: 왜 늦었어?\\n B: 버스를 놓쳤기 때문이야.', 'Sub Expression (영어)': 'A: What’s the reason for ~?\\n B: It’s because ~.\\n A: Why ~?\\n B: Since ~.', 'Sub Expression (한국어)': 'A: ~의 이유가 뭐야? B: ~ 때문이야. A: 왜 ~야? B: ~라서 그래.', '학습목표': '이유를 묻고 대답하는 표현을 사용할 수 있어요.\\n Learn how to ask and answer questions about reasons using why and because.', 'Quiz 1': 'A: ___ are you late? B: Because I missed the bus.', 'Korean 1': 'A: 왜 늦었어? B: 버스를 놓쳤어.', 'Option 1-1': 'What', 'Option 1-2': 'When', 'Option 1-3': 'Why', 'Answer 1': 'Why', 'Index 1': 3, 'Quiz 2': \"B: It's ___ I missed the bus.\", 'Korean 2': 'B: 버스를 놓친 이유는 알람이 울리지 않아서야.', 'Option 2-1': 'although', 'Option 2-2': 'because', 'Option 2-3': 'before', 'Answer 2': 'because', 'Index 2': 2, '샘플 스크립트 (영어)': 'A: Why did you miss the meeting? B: Because I overslept. A: What prompted that? B: Since my alarm failed to ring.', '샘플 스크립트 (한국어)': 'A: 왜 회의에 늦었어? B: 알람을 듣지 못해서 잠이 들었어. A: 무슨 이유에서 그런 거야? B: 알람이 울리지 않아서야.', 'reason_error_quiz1': ['Distribution Error']}\n",
      "{'textbook ID': 701, '학년': '중1', '출판사': '능률(김)', '교육과정': 2015, 'Lesson': 5, '구분': 'function', 'Title': 'Follow Your Dreams', 'DESCRIPTION': 'want to ~를 활용 미래에 대한 소망을 표현하기.', 'Key Expression (영어)': 'I want to be a doctor.', 'Key Expression (한국어)': '나는 의사가 되고 싶어.', 'Sub Expression (영어)': 'My dream is to become ~.\\n I hope to be ~.', 'Sub Expression (한국어)': '내 꿈은 ~가 되는 거야. 나는 ~가 되고 싶어.', '학습목표': '미래에 대한 소망을 표현할 수 있어요.\\n I want to ~를 활용하여 자신의 꿈을 말할 수 있어요.', 'Quiz 1': 'I want to be a ______.', 'Korean 1': '나는 의사가 되고 싶어.', 'Option 1-1': 'nurse', 'Option 1-2': 'doctor', 'Option 1-3': 'teacher', 'Answer 1': 'doctor', 'Index 1': 2, 'Quiz 2': 'My dream is to become ______. I hope to be a doctor.', 'Korean 2': '내 꿈은 의사가 되는 거야. 나는 의사가 되고 싶어.', 'Option 2-1': 'a teacher', 'Option 2-2': 'a doctor', 'Option 2-3': 'an actor', 'Answer 2': 'a doctor', 'Index 2': 2, '샘플 스크립트 (영어)': \"A: I want to be an engineer one day. B: That's an inspiring goal! A: My dream is to become an engineer. I hope to make a difference. B: Believe in yourself!\", '샘플 스크립트 (한국어)': 'A: 언젠가는 엔지니어가 되고 싶어. B: 정말 영감을 주는 목표야! A: 내 꿈은 엔지니어가 되는 거야. 나는 변화를 만들고 싶어. B: 자신을 믿어!'}\n",
      "현재 총 Index 개수: 9 (1: 1, 2: 7, 3: 1)\n",
      "{'textbook ID': 701, '학년': '중1', '출판사': '능률(김)', '교육과정': 2015, 'Lesson': 5, '구분': 'function', 'Title': 'Follow Your Dreams', 'DESCRIPTION': 'want to ~를 활용 미래에 대한 소망을 표현하기.', 'Key Expression (영어)': 'I want to be a doctor.', 'Key Expression (한국어)': '나는 의사가 되고 싶어.', 'Sub Expression (영어)': 'My dream is to become ~.\\n I hope to be ~.', 'Sub Expression (한국어)': '내 꿈은 ~가 되는 거야. 나는 ~가 되고 싶어.', '학습목표': '미래에 대한 소망을 표현할 수 있어요.\\n I want to ~를 활용하여 자신의 꿈을 말할 수 있어요.', 'Quiz 1': 'I want to be a ______.', 'Korean 1': '나는 의사가 되고 싶어.', 'Option 1-1': 'nurse', 'Option 1-2': 'doctor', 'Option 1-3': 'teacher', 'Answer 1': 'doctor', 'Index 1': 2, 'Quiz 2': 'My dream is to become ______. I hope to be a doctor.', 'Korean 2': '내 꿈은 의사가 되는 거야. 나는 의사가 되고 싶어.', 'Option 2-1': 'a teacher', 'Option 2-2': 'a doctor', 'Option 2-3': 'an actor', 'Answer 2': 'a doctor', 'Index 2': 2, '샘플 스크립트 (영어)': \"A: I want to be an engineer one day. B: That's an inspiring goal! A: My dream is to become an engineer. I hope to make a difference. B: Believe in yourself!\", '샘플 스크립트 (한국어)': 'A: 언젠가는 엔지니어가 되고 싶어. B: 정말 영감을 주는 목표야! A: 내 꿈은 엔지니어가 되는 거야. 나는 변화를 만들고 싶어. B: 자신을 믿어!', 'reason_error_quiz1': [\"Blank error: There should be exactly one '___' in Quiz 1.\", 'Blank error: Invalid blank length detected in Quiz 1.', 'Distribution Error']}\n",
      "{'textbook ID': 701, '학년': '중1', '출판사': '능률(김)', '교육과정': 2015, 'Lesson': 5, '구분': 'function', 'Title': 'Follow Your Dreams', 'DESCRIPTION': '긍정적인 말을 통해 격려하기.', 'Key Expression (영어)': 'Don’t worry. You’ll do fine.', 'Key Expression (한국어)': '걱정하지 마. 너는 잘할 거야.', 'Sub Expression (영어)': 'Everything will be okay. You can do it.\\n Stay positive. You’ve got this.', 'Sub Expression (한국어)': '모든 건 다 잘 될 거야. 할 수 있어. 긍정적으로 생각해. 넌 해낼 수 있어.', '학습목표': '긍정적인 말을 통해 격려하는 표현을 사용할 수 있어요.\\n You can encourage someone using positive words.', 'Quiz 1': \"Don't ___ . You'll do fine.\", 'Korean 1': '걱정하지 마. 잘 할 거야.', 'Option 1-1': 'stress', 'Option 1-2': 'worry', 'Option 1-3': 'fret', 'Answer 1': 'worry', 'Index 1': 2, 'Quiz 2': \"Everything will be okay. You can do it. ___ positive. You've got this.\", 'Korean 2': '모든 것이 괜찮을 거야. 너는 할 수 있어. 긍정적으로 있어. 넌 이길 수 있어.', 'Option 2-1': 'Keep', 'Option 2-2': 'Stay', 'Option 2-3': 'Remain', 'Answer 2': 'Stay', 'Index 2': 2, '샘플 스크립트 (영어)': \"A: Don't worry. You will succeed. B: I appreciate your confidence in me. A: Everything will be okay. You can do it. Stay motivated. You've got this.\", '샘플 스크립트 (한국어)': 'A: 걱정하지 마. 넌 성공할 거야. B: 네가 나를 믿어줘서 고마워. A: 모든 것이 괜찮을 거야. 너는 할 수 있어. 동기 부여를 받아. 넌 해낼 수 있어.'}\n",
      "현재 총 Index 개수: 10 (1: 1, 2: 8, 3: 1)\n",
      "{'textbook ID': 701, '학년': '중1', '출판사': '능률(김)', '교육과정': 2015, 'Lesson': 5, '구분': 'function', 'Title': 'Follow Your Dreams', 'DESCRIPTION': '긍정적인 말을 통해 격려하기.', 'Key Expression (영어)': 'Don’t worry. You’ll do fine.', 'Key Expression (한국어)': '걱정하지 마. 너는 잘할 거야.', 'Sub Expression (영어)': 'Everything will be okay. You can do it.\\n Stay positive. You’ve got this.', 'Sub Expression (한국어)': '모든 건 다 잘 될 거야. 할 수 있어. 긍정적으로 생각해. 넌 해낼 수 있어.', '학습목표': '긍정적인 말을 통해 격려하는 표현을 사용할 수 있어요.\\n You can encourage someone using positive words.', 'Quiz 1': \"Don't ___ . You'll do fine.\", 'Korean 1': '걱정하지 마. 잘 할 거야.', 'Option 1-1': 'stress', 'Option 1-2': 'worry', 'Option 1-3': 'fret', 'Answer 1': 'worry', 'Index 1': 2, 'Quiz 2': \"Everything will be okay. You can do it. ___ positive. You've got this.\", 'Korean 2': '모든 것이 괜찮을 거야. 너는 할 수 있어. 긍정적으로 있어. 넌 이길 수 있어.', 'Option 2-1': 'Keep', 'Option 2-2': 'Stay', 'Option 2-3': 'Remain', 'Answer 2': 'Stay', 'Index 2': 2, '샘플 스크립트 (영어)': \"A: Don't worry. You will succeed. B: I appreciate your confidence in me. A: Everything will be okay. You can do it. Stay motivated. You've got this.\", '샘플 스크립트 (한국어)': 'A: 걱정하지 마. 넌 성공할 거야. B: 네가 나를 믿어줘서 고마워. A: 모든 것이 괜찮을 거야. 너는 할 수 있어. 동기 부여를 받아. 넌 해낼 수 있어.', 'reason_error_quiz1': ['Distribution Error']}\n"
     ]
    }
   ],
   "source": [
    "valid = Valid(sample_df)\n",
    "\n",
    "for i in range(len(sample_df)):\n",
    "    b = valid.data_json[i]\n",
    "    print(b)\n",
    "    c = valid.check_valid_quiz(b)\n",
    "    print(b)\n"
   ]
  },
  {
   "cell_type": "markdown",
   "metadata": {},
   "source": [
    "# Fill in the blank - LLM"
   ]
  },
  {
   "cell_type": "code",
   "execution_count": 72,
   "metadata": {},
   "outputs": [],
   "source": [
    "from pydantic import BaseModel\n",
    "from openai import OpenAI\n",
    "from openai.lib._parsing import type_to_response_format_param\n",
    "import json\n",
    "from getpass import getpass\n",
    "from jinja2 import Template\n",
    "\n",
    "openai_api_key = getpass(\"OPENAI_API_KEY\")\n",
    "client = OpenAI(api_key=openai_api_key)"
   ]
  },
  {
   "cell_type": "code",
   "execution_count": 73,
   "metadata": {},
   "outputs": [],
   "source": [
    "prompt_template = Template(\"\"\"\n",
    "[PURPOSE]\n",
    "You are going to solve the quiz and write down the answer_reason.\n",
    "There is not necessarily a single correct answer.\n",
    "Select all that are correct. \n",
    "                           \n",
    "[Example]\n",
    "```\n",
    "Input: \n",
    "    {\n",
    "    \"quiz\": \"What is your ______ sport?\",\n",
    "    \"korean\": \"네가 가장 좋아하는 스포츠는 무엇이에요?\",\n",
    "    \"option_1\": \"like\",\n",
    "    \"option_2\": \"favorite\",\n",
    "    \"option_3\": \"best\",\n",
    "  }\n",
    "\n",
    "Output:\n",
    "    {   \n",
    "    \"possible_answer\": \"favorite\",\n",
    "    \"answer_reason\": \"The word 'favorite' is the correct answer because the sentence is asking about someone's most preferred sport.\n",
    "\n",
    "1. 'favorite' means 가장 좋아하는 in Korean, which matches the meaning of the given Korean sentence.\n",
    "2. 'like' is a verb (좋아하다) and does not fit grammatically in this sentence.\n",
    "3. 'best' means 최고의, which refers to the highest quality rather than personal preference.\n",
    "\n",
    "Thus, 'favorite' is the correct choice.\"\n",
    "}\n",
    "```                     \n",
    "```\n",
    "Input: \n",
    "    {\n",
    "    \"quiz\": \"A: What are you _____ on your holiday? B: I’m going to travel.\",\n",
    "    \"korean\": \"A: 너는 휴일에 무엇을 할 예정이니? B: 여행을 갈 거야.\",\n",
    "    \"option_1\": \"planning to do\",\n",
    "    \"option_2\": \"going to do\",\n",
    "    \"option_3\": \"will do\",\n",
    "  }\n",
    "\n",
    "Output:\n",
    "    {   \n",
    "    \"possible_answer\": \"planning to do, going to do\",\n",
    "    \"answer_reason\": \"Both 'planning to do' and 'going to do' fit naturally in the sentence.\n",
    "\n",
    "1. 'Going to do' is commonly used for future plans and matches the response \"I’m going to travel.\"\n",
    "2. 'Planning to do' also makes sense because it refers to making arrangements for the holiday.\n",
    "3. 'Will do' is less natural in this context because it’s not commonly used for asking about planned activities.\"\n",
    "\n",
    "Thus, 'planning to do' and 'going to do' are the correct choice.\"\n",
    "}\n",
    "```\n",
    "\n",
    "[Input]\n",
    "```\n",
    "QUIZ : {{quiz}}\n",
    "KOREAN : {{korean}}\n",
    "OPTION_1 : {{option_1}}\n",
    "OPTION_2 : {{option_2}}\n",
    "OPTION_3 : {{option_3}}\n",
    "```\n",
    "\"\"\")"
   ]
  },
  {
   "cell_type": "code",
   "execution_count": 74,
   "metadata": {},
   "outputs": [],
   "source": [
    "prompt = prompt_template.render(\n",
    "    quiz = \"___ I borrow your book?\",\n",
    "    korean = \"내 책 좀 빌려도 될까요?\",\n",
    "    option_1 = \"May\",\n",
    "    option_2 = \"Can\",\n",
    "    option_3 = \"Might\"\n",
    ")"
   ]
  },
  {
   "cell_type": "code",
   "execution_count": 75,
   "metadata": {},
   "outputs": [
    {
     "name": "stdout",
     "output_type": "stream",
     "text": [
      "\n",
      "[PURPOSE]\n",
      "You are going to solve the quiz and write down the answer_reason.\n",
      "There is not necessarily a single correct answer.\n",
      "Select all that are correct. \n",
      "                           \n",
      "[Example]\n",
      "```\n",
      "Input: \n",
      "    {\n",
      "    \"quiz\": \"What is your ______ sport?\",\n",
      "    \"korean\": \"네가 가장 좋아하는 스포츠는 무엇이에요?\",\n",
      "    \"option_1\": \"like\",\n",
      "    \"option_2\": \"favorite\",\n",
      "    \"option_3\": \"best\",\n",
      "  }\n",
      "\n",
      "Output:\n",
      "    {   \n",
      "    \"possible_answer\": \"favorite\",\n",
      "    \"answer_reason\": \"The word 'favorite' is the correct answer because the sentence is asking about someone's most preferred sport.\n",
      "\n",
      "1. 'favorite' means 가장 좋아하는 in Korean, which matches the meaning of the given Korean sentence.\n",
      "2. 'like' is a verb (좋아하다) and does not fit grammatically in this sentence.\n",
      "3. 'best' means 최고의, which refers to the highest quality rather than personal preference.\n",
      "\n",
      "Thus, 'favorite' is the correct choice.\"\n",
      "}\n",
      "```                     \n",
      "```\n",
      "Input: \n",
      "    {\n",
      "    \"quiz\": \"A: What are you _____ on your holiday? B: I’m going to travel.\",\n",
      "    \"korean\": \"A: 너는 휴일에 무엇을 할 예정이니? B: 여행을 갈 거야.\",\n",
      "    \"option_1\": \"planning to do\",\n",
      "    \"option_2\": \"going to do\",\n",
      "    \"option_3\": \"will do\",\n",
      "  }\n",
      "\n",
      "Output:\n",
      "    {   \n",
      "    \"possible_answer\": \"planning to do, going to do\",\n",
      "    \"answer_reason\": \"Both 'planning to do' and 'going to do' fit naturally in the sentence.\n",
      "\n",
      "1. 'Going to do' is commonly used for future plans and matches the response \"I’m going to travel.\"\n",
      "2. 'Planning to do' also makes sense because it refers to making arrangements for the holiday.\n",
      "3. 'Will do' is less natural in this context because it’s not commonly used for asking about planned activities.\"\n",
      "\n",
      "Thus, 'planning to do' and 'going to do' are the correct choice.\"\n",
      "}\n",
      "```\n",
      "\n",
      "[Input]\n",
      "```\n",
      "QUIZ : ___ I borrow your book?\n",
      "KOREAN : 내 책 좀 빌려도 될까요?\n",
      "OPTION_1 : May\n",
      "OPTION_2 : Can\n",
      "OPTION_3 : Might\n",
      "```\n"
     ]
    }
   ],
   "source": [
    "print(prompt)"
   ]
  },
  {
   "cell_type": "code",
   "execution_count": 76,
   "metadata": {},
   "outputs": [],
   "source": [
    "class Reason(BaseModel):\n",
    "    possible_answer  : list[str]\n",
    "    answer_reason : str"
   ]
  },
  {
   "cell_type": "code",
   "execution_count": 77,
   "metadata": {},
   "outputs": [],
   "source": [
    "response_format = type_to_response_format_param(Reason)"
   ]
  },
  {
   "cell_type": "code",
   "execution_count": 78,
   "metadata": {},
   "outputs": [
    {
     "data": {
      "text/plain": [
       "{'type': 'json_schema',\n",
       " 'json_schema': {'schema': {'properties': {'possible_answer': {'items': {'type': 'string'},\n",
       "     'title': 'Possible Answer',\n",
       "     'type': 'array'},\n",
       "    'answer_reason': {'title': 'Answer Reason', 'type': 'string'}},\n",
       "   'required': ['possible_answer', 'answer_reason'],\n",
       "   'title': 'Reason',\n",
       "   'type': 'object',\n",
       "   'additionalProperties': False},\n",
       "  'name': 'Reason',\n",
       "  'strict': True}}"
      ]
     },
     "execution_count": 78,
     "metadata": {},
     "output_type": "execute_result"
    }
   ],
   "source": [
    "response_format"
   ]
  },
  {
   "cell_type": "code",
   "execution_count": 79,
   "metadata": {},
   "outputs": [],
   "source": [
    "def completion(prompt : str) -> str:\n",
    "    response = client.beta.chat.completions.parse(\n",
    "        model = 'o3-mini',\n",
    "        reasoning_effort='low',\n",
    "        messages = [\n",
    "            {\"role\" : \"system\", \"content\" : \"You are going to solve the quiz and write down the answer_reason.\"},\n",
    "            {\"role\" : \"user\", \"content\" : prompt}\n",
    "        ],\n",
    "        response_format = Reason,\n",
    "    )\n",
    "    return response.choices[0].message.parsed"
   ]
  },
  {
   "cell_type": "code",
   "execution_count": 80,
   "metadata": {},
   "outputs": [],
   "source": [
    "response = completion(prompt)"
   ]
  },
  {
   "cell_type": "code",
   "execution_count": 81,
   "metadata": {},
   "outputs": [
    {
     "data": {
      "text/plain": [
       "Reason(possible_answer=['May', 'Can', 'Might'], answer_reason=\"All three options can correctly fill the blank in the sentence '___ I borrow your book?' Although there are nuances in formality and usage: \\n1. 'May I borrow your book?' is the traditional and formally correct way to ask for permission.\\n2. 'Can I borrow your book?' is more commonly used in everyday conversation and is fully acceptable in most contexts even though it originally refers to ability.\\n3. 'Might I borrow your book?' is slightly more formal or old-fashioned, but still grammatically correct and conveys politeness.\\nTherefore, based on the context and the provided translation, all three choices are correct.\")"
      ]
     },
     "execution_count": 81,
     "metadata": {},
     "output_type": "execute_result"
    }
   ],
   "source": [
    "response"
   ]
  },
  {
   "cell_type": "code",
   "execution_count": 82,
   "metadata": {},
   "outputs": [
    {
     "name": "stdout",
     "output_type": "stream",
     "text": [
      "{\n",
      "  \"possible_answer\": [\n",
      "    \"May\",\n",
      "    \"Can\",\n",
      "    \"Might\"\n",
      "  ],\n",
      "  \"answer_reason\": \"All three options can correctly fill the blank in the sentence '___ I borrow your book?' Although there are nuances in formality and usage: \\n1. 'May I borrow your book?' is the traditional and formally correct way to ask for permission.\\n2. 'Can I borrow your book?' is more commonly used in everyday conversation and is fully acceptable in most contexts even though it originally refers to ability.\\n3. 'Might I borrow your book?' is slightly more formal or old-fashioned, but still grammatically correct and conveys politeness.\\nTherefore, based on the context and the provided translation, all three choices are correct.\"\n",
      "}\n"
     ]
    }
   ],
   "source": [
    "response_output = json.dumps(response.dict(), ensure_ascii=False, indent=2)\n",
    "print(response_output)"
   ]
  },
  {
   "cell_type": "code",
   "execution_count": 85,
   "metadata": {},
   "outputs": [
    {
     "data": {
      "text/plain": [
       "str"
      ]
     },
     "execution_count": 85,
     "metadata": {},
     "output_type": "execute_result"
    }
   ],
   "source": [
    "type(response_output)"
   ]
  }
 ],
 "metadata": {
  "kernelspec": {
   "display_name": "base",
   "language": "python",
   "name": "python3"
  },
  "language_info": {
   "codemirror_mode": {
    "name": "ipython",
    "version": 3
   },
   "file_extension": ".py",
   "mimetype": "text/x-python",
   "name": "python",
   "nbconvert_exporter": "python",
   "pygments_lexer": "ipython3",
   "version": "3.12.7"
  }
 },
 "nbformat": 4,
 "nbformat_minor": 2
}
