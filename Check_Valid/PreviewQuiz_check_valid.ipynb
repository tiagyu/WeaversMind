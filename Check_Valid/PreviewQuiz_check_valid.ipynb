{
 "cells": [
  {
   "cell_type": "markdown",
   "metadata": {},
   "source": [
    "# 커리큘럼 preview quiz 검수"
   ]
  },
  {
   "cell_type": "code",
   "execution_count": 1,
   "metadata": {},
   "outputs": [],
   "source": [
    "import pandas as pd\n",
    "import re\n",
    "import json\n",
    "import random\n",
    "import csv\n",
    "from tqdm.notebook import tqdm\n",
    "from collections import Counter"
   ]
  },
  {
   "cell_type": "code",
   "execution_count": 20,
   "metadata": {},
   "outputs": [],
   "source": [
    "df_mid = pd.read_csv(\"DB_MID.csv\")\n",
    "df_elem = pd.read_csv(\"DB_Elem.csv\")\n",
    "df_high =pd.read_csv(\"DB_High.csv\")"
   ]
  },
  {
   "cell_type": "code",
   "execution_count": 21,
   "metadata": {},
   "outputs": [
    {
     "data": {
      "text/plain": [
       "Index(['textbook ID', '학년', '출판사', '교육과정', 'Lesson', '구분', 'title', 'new_DES',\n",
       "       'DESCRIPTION', 'Key Expression (영어)', 'Key Expression (한국어)',\n",
       "       'Sub Expression (영어)', 'Sub Expression (한국어)', '학습목표', 'Quiz 1',\n",
       "       'Korean 1', 'Option 1-1', 'Option 1-2', 'Option 1-3', 'Answer 1',\n",
       "       'Index 1', 'Quiz 2', 'Korean 2', 'Option 2-1', 'Option 2-2',\n",
       "       'Option 2-3', 'Answer 2', 'Index 2', '샘플 스크립트 (영어)', '샘플 스크립트 (한국어)',\n",
       "       'Unnamed: 30', 'STRUCTURE - Title, New Desc 작업용', 'Unnamed: 32',\n",
       "       'Unnamed: 33', 'Unnamed: 34'],\n",
       "      dtype='object')"
      ]
     },
     "execution_count": 21,
     "metadata": {},
     "output_type": "execute_result"
    }
   ],
   "source": [
    "df_mid.columns"
   ]
  },
  {
   "cell_type": "code",
   "execution_count": 101,
   "metadata": {},
   "outputs": [],
   "source": [
    "def preview_quiz_check_valid(data:pd.DataFrame):\n",
    "    # 에러 유무 확인\n",
    "    error_found = False\n",
    "    \n",
    "    # 변수 가져오기\n",
    "    for i in tqdm(range(len(data)), total = len(data)):\n",
    "        # quiz 1\n",
    "        quiz_1 = data[\"Quiz 1\"][i]\n",
    "        korean_1 = data[\"Korean 1\"][i]\n",
    "        option_1_1 = data[\"Option 1-1\"][i]\n",
    "        option_1_2 = data[\"Option 1-2\"][i]\n",
    "        option_1_3 = data[\"Option 1-3\"][i]\n",
    "        answer_1 = data[\"Answer 1\"][i]\n",
    "        index_1 = data[\"Index 1\"][i]\n",
    "\n",
    "        # quiz 2\n",
    "        quiz_2 = data[\"Quiz 2\"][i]\n",
    "        korean_2 = data[\"Korean 2\"][i]\n",
    "        option_2_1 = data[\"Option 2-1\"][i]\n",
    "        option_2_2 = data[\"Option 2-2\"][i]\n",
    "        option_2_3 = data[\"Option 2-3\"][i]\n",
    "        answer_2 = data[\"Answer 2\"][i]\n",
    "        index_2 = data[\"Index 2\"][i]\n",
    "\n",
    "        # 샘플스크립트\n",
    "        sample_script_kor = data.loc[i,\"샘플 스크립트 (한국어)\"]\n",
    "\n",
    "        # QUIZ 1 확인\n",
    "        # 필드값 누락 체크\n",
    "        if (    not quiz_1\n",
    "                or not korean_1\n",
    "                or not option_1_1\n",
    "                or not option_1_2\n",
    "                or not option_1_3\n",
    "                or not answer_1\n",
    "                or not index_1\n",
    "            ):\n",
    "            print(f\"\\nQuiz 1 {i+2}번째 행 : 필드값 누락 체크\")\n",
    "            error_found = True\n",
    "\n",
    "        # 1. 빈칸이 하나 이상있고, 두 개 이상이 없는지 체크\n",
    "        appropriate_blank = r\"_+\"\n",
    "        underscores = re.findall(appropriate_blank, quiz_1)\n",
    "\n",
    "        if len(underscores) > 1:\n",
    "            print(f\"\\nQuiz 1 {i+2}번째 행 : Blank error - 밑줄이 두 개 이상 존재\")\n",
    "            error_found = True\n",
    "        elif len(underscores) ==1:\n",
    "            pass\n",
    "        else:\n",
    "            print(f\"\\nQuiz 1 {i+2}번째 행 : Blank error - 밑줄이 존재하지 않음\")\n",
    "            error_found = True\n",
    "\n",
    "        # 1-1 한국어 해석에 빈칸이 있는지\n",
    "        appropriate_blank_korean = r'[_~]+'\n",
    "        korean_underscores = re.findall(appropriate_blank_korean, korean_1)\n",
    "        if len(korean_underscores) >= 1:\n",
    "            print(f\"\\nQuiz 1 {i+2}번째 행 : 한국어 해석에 밑줄 있음\")\n",
    "            error_found = True\n",
    "\n",
    "        # 2. 정답이 옵션에 포함되어 있는지 체크\n",
    "        options_1 = [option_1_1, option_1_2, option_1_3]\n",
    "\n",
    "        # answer가 options에 있는지 확인\n",
    "        if answer_1 not in options_1:\n",
    "            print(f\"\\nQuiz 1 {i+2}번째 행 : Answer not in options error\")\n",
    "            error_found = True\n",
    "\n",
    "        # answer가 숫자로 이루어져있는지 확인\n",
    "        if isinstance(index_1, str) and not index_1.isnumeric():\n",
    "            print(f\"\\nQuiz 1 {i+2}번째 행 : Answer in options error\")\n",
    "            error_found = True\n",
    "\n",
    "        # 3. 정답의 인덱스가 answer_index와 일치하는지 확인\n",
    "        index_1 = int(index_1)\n",
    "        if options_1[index_1 - 1] != answer_1:\n",
    "            print((f\"\\nQuiz 1 {i+2}번째 행 : 정답의 인덱스가 answer_index와 불일치\"))\n",
    "            #print(f\"{options_1}의 정답이 {answer_1}이지만 index {index_1}로 적혀있는 에러\")\n",
    "            error_found = True\n",
    "\n",
    "        # 4. 문장에 두 대화문이 있는지 확인\n",
    "        appropriate_blank_english = r'A:|B:'\n",
    "        english_underscores = re.findall(appropriate_blank_english, quiz_1)\n",
    "        if len(english_underscores) >= 4:\n",
    "            print(f\"\\nQuiz 1 {i+2}번째 행 : 퀴즈에 대화문이 2개 있음\")\n",
    "            error_found = True\n",
    "\n",
    "        # QUIZ 2 확인\n",
    "        # 필드값 누락 체크\n",
    "        if (    not quiz_2\n",
    "                or not korean_2\n",
    "                or not option_2_1\n",
    "                or not option_2_2\n",
    "                or not option_2_3\n",
    "                or not answer_2\n",
    "                or not index_2\n",
    "            ):\n",
    "            print(f\"\\nQuiz 2 {i+2}번째 행 : 필드값 누락 체크\")\n",
    "            error_found = True\n",
    "\n",
    "        # 1. 빈칸이 하나 이상있고, 두 개 이상이 없는지 체크\n",
    "        appropriate_blank = r\"_+\"\n",
    "        underscores = re.findall(appropriate_blank, quiz_2)\n",
    "\n",
    "        if len(underscores) > 1:\n",
    "            print(f\"\\nQuiz 2 {i+2}번째 행 : Blank error - 밑줄이 두 개 이상 존재\")\n",
    "            error_found = True\n",
    "        elif len(underscores) ==1:\n",
    "            pass\n",
    "        else:\n",
    "            print(f\"\\nQuiz 2 {i+2}번째 행 : Blank error - 밑줄이 존재하지 않음\")\n",
    "            error_found = True\n",
    "        \n",
    "        # 1-1 한국어 해석에 빈칸이 있는지\n",
    "        appropriate_blank_korean = r'[_~]+'\n",
    "        korean_underscores = re.findall(appropriate_blank_korean, korean_2)\n",
    "        if len(korean_underscores) >= 1:\n",
    "            print(f\"\\nQuiz 2 {i+2}번째 행 : 한국어 해석에 밑줄 있음\")\n",
    "            error_found = True\n",
    "\n",
    "        # 2. 정답이 옵션에 포함되어 있는지 체크\n",
    "        options_2 = [option_2_1, option_2_2, option_2_3]\n",
    "\n",
    "        # answer가 options에 있는지 확인\n",
    "        if answer_2 not in options_2:\n",
    "            print(f\"\\nQuiz 2 {i+2}번째 행 : Answer not in options error\")\n",
    "            error_found = True\n",
    "\n",
    "        # answer가 숫자로 이루어져있는지 확인\n",
    "        if isinstance(index_2, str) and not index_2.isnumeric():\n",
    "            print(f\"\\nQuiz 2 {i+2}번째 행 : Answer in options error\")\n",
    "            error_found = True\n",
    "\n",
    "        # 3. 정답의 인덱스가 answer_index와 일치하는지 확인\n",
    "        index_2 = int(index_2)\n",
    "        if options_2[index_2 - 1] != answer_2:\n",
    "            print((f\"\\nQuiz 2 {i+2}번째 행 : 정답의 인덱스가 answer_index와 불일치\"))\n",
    "            #print(f\"{options_2}의 정답이 {answer_2}이지만 index {index_2}로 적혀있는 에러\")\n",
    "            error_found = True\n",
    "\n",
    "        # 4. 문장에 두 대화문이 있는지 확인\n",
    "        appropriate_blank_english = r'A:|B:'\n",
    "        english_underscores = re.findall(appropriate_blank_english, quiz_2)\n",
    "        if len(english_underscores) >= 4:\n",
    "            print(f\"\\nQuiz 2 {i+2}번째 행 : 퀴즈에 대화문이 2개 있음\")\n",
    "            error_found = True\n",
    "    \n",
    "        # 5. 샘플 스크립트 확인\n",
    "        sample_script_blank = r'(?!A\\b|B\\b|A:|B:)[a-zA-Z]+'\n",
    "        extra_english_texts = re.findall(sample_script_blank, sample_script_kor)\n",
    "\n",
    "        if extra_english_texts:\n",
    "            print(f\"\\n샘플 스크립트 {i+2}번째 행 : A: 또는 B: 이외의 영어 텍스트가 존재\")\n",
    "            print(f\"추출된 단어: {extra_english_texts}\")\n",
    "            error_found = True\n",
    "        \n",
    "        # 5. 샘플 스크립트 대화가 두 개인지 확인\n",
    "        appropriate_blank_english = r'A:|B:'\n",
    "        english_underscores = re.findall(appropriate_blank_english, sample_script_kor)\n",
    "        if len(english_underscores) >= 5:\n",
    "            print(f\"\\n샘플 스크립트 {i+2}번째 행 : 대화가 세 개 이상 존재\")\n",
    "            error_found = True        \n",
    "\n",
    "    if not error_found:\n",
    "        print(\"모든 데이터가 정상입니다다\")\n"
   ]
  },
  {
   "cell_type": "code",
   "execution_count": 102,
   "metadata": {},
   "outputs": [
    {
     "name": "stderr",
     "output_type": "stream",
     "text": [
      "100%|██████████| 1110/1110 [00:00<00:00, 21222.17it/s]"
     ]
    },
    {
     "name": "stdout",
     "output_type": "stream",
     "text": [
      "\n",
      "샘플 스크립트 2번째 행 : A: 또는 B: 이외의 영어 텍스트가 존재\n",
      "추출된 단어: ['Leo', 'Canada', 'Mia', 'Japan']\n",
      "\n",
      "샘플 스크립트 61번째 행 : A: 또는 B: 이외의 영어 텍스트가 존재\n",
      "추출된 단어: ['one', 'one']\n",
      "\n",
      "샘플 스크립트 95번째 행 : 대화가 세 개 이상 존재\n",
      "\n",
      "샘플 스크립트 106번째 행 : 대화가 세 개 이상 존재\n",
      "\n",
      "샘플 스크립트 111번째 행 : A: 또는 B: 이외의 영어 텍스트가 존재\n",
      "추출된 단어: ['TV', 'TV']\n",
      "\n",
      "샘플 스크립트 128번째 행 : 대화가 세 개 이상 존재\n",
      "\n",
      "샘플 스크립트 159번째 행 : A: 또는 B: 이외의 영어 텍스트가 존재\n",
      "추출된 단어: ['Sarah', 'Sarah', 'Mark', 'Mark']\n",
      "\n",
      "샘플 스크립트 161번째 행 : A: 또는 B: 이외의 영어 텍스트가 존재\n",
      "추출된 단어: ['TV', 'TV']\n",
      "\n",
      "샘플 스크립트 165번째 행 : 대화가 세 개 이상 존재\n",
      "\n",
      "샘플 스크립트 172번째 행 : 대화가 세 개 이상 존재\n",
      "\n",
      "샘플 스크립트 200번째 행 : 대화가 세 개 이상 존재\n",
      "\n",
      "샘플 스크립트 232번째 행 : 대화가 세 개 이상 존재\n",
      "\n",
      "샘플 스크립트 253번째 행 : A: 또는 B: 이외의 영어 텍스트가 존재\n",
      "추출된 단어: ['C']\n",
      "\n",
      "샘플 스크립트 253번째 행 : 대화가 세 개 이상 존재\n",
      "\n",
      "샘플 스크립트 270번째 행 : A: 또는 B: 이외의 영어 텍스트가 존재\n",
      "추출된 단어: ['Jamie', 'Riley']\n",
      "\n",
      "샘플 스크립트 324번째 행 : A: 또는 B: 이외의 영어 텍스트가 존재\n",
      "추출된 단어: ['Alex', 'Sarah']\n",
      "\n",
      "샘플 스크립트 325번째 행 : 대화가 세 개 이상 존재\n",
      "\n",
      "샘플 스크립트 326번째 행 : 대화가 세 개 이상 존재\n",
      "\n",
      "샘플 스크립트 336번째 행 : 대화가 세 개 이상 존재\n",
      "\n",
      "샘플 스크립트 360번째 행 : 대화가 세 개 이상 존재\n",
      "\n",
      "샘플 스크립트 388번째 행 : A: 또는 B: 이외의 영어 텍스트가 존재\n",
      "추출된 단어: ['Alex', 'Alex']\n",
      "\n",
      "샘플 스크립트 421번째 행 : 대화가 세 개 이상 존재\n",
      "\n",
      "샘플 스크립트 455번째 행 : A: 또는 B: 이외의 영어 텍스트가 존재\n",
      "추출된 단어: ['TV']\n",
      "\n",
      "샘플 스크립트 485번째 행 : A: 또는 B: 이외의 영어 텍스트가 존재\n",
      "추출된 단어: ['efficient', 'efficient']\n",
      "\n",
      "샘플 스크립트 509번째 행 : 대화가 세 개 이상 존재\n",
      "\n",
      "샘플 스크립트 512번째 행 : 대화가 세 개 이상 존재\n",
      "\n",
      "샘플 스크립트 516번째 행 : A: 또는 B: 이외의 영어 텍스트가 존재\n",
      "추출된 단어: ['Alex', 'May', 'I', 'speak', 'to', 'Alex', 'Tom', 'Can', 'I', 'speak', 'to', 'Tom']\n",
      "\n",
      "샘플 스크립트 518번째 행 : 대화가 세 개 이상 존재\n",
      "\n",
      "샘플 스크립트 541번째 행 : 대화가 세 개 이상 존재\n",
      "\n",
      "샘플 스크립트 542번째 행 : 대화가 세 개 이상 존재\n",
      "\n",
      "샘플 스크립트 546번째 행 : 대화가 세 개 이상 존재\n",
      "\n",
      "샘플 스크립트 573번째 행 : 대화가 세 개 이상 존재\n",
      "\n",
      "샘플 스크립트 574번째 행 : 대화가 세 개 이상 존재\n",
      "\n",
      "샘플 스크립트 613번째 행 : 대화가 세 개 이상 존재\n",
      "\n",
      "샘플 스크립트 639번째 행 : A: 또는 B: 이외의 영어 텍스트가 존재\n",
      "추출된 단어: ['renewable', 'energy', 'green', 'solutions']\n",
      "\n",
      "샘플 스크립트 641번째 행 : 대화가 세 개 이상 존재\n",
      "\n",
      "샘플 스크립트 678번째 행 : A: 또는 B: 이외의 영어 텍스트가 존재\n",
      "추출된 단어: ['renewable', 'energy', 'renewable', 'energy']\n",
      "\n",
      "샘플 스크립트 737번째 행 : 대화가 세 개 이상 존재\n",
      "\n",
      "샘플 스크립트 810번째 행 : 대화가 세 개 이상 존재\n",
      "\n",
      "샘플 스크립트 834번째 행 : A: 또는 B: 이외의 영어 텍스트가 존재\n",
      "추출된 단어: ['ambitious', 'ambitious']\n",
      "\n",
      "샘플 스크립트 860번째 행 : A: 또는 B: 이외의 영어 텍스트가 존재\n",
      "추출된 단어: ['renewable']\n",
      "\n",
      "샘플 스크립트 870번째 행 : 대화가 세 개 이상 존재\n",
      "\n",
      "샘플 스크립트 874번째 행 : A: 또는 B: 이외의 영어 텍스트가 존재\n",
      "추출된 단어: ['festivus', 'mercatus']\n",
      "\n",
      "샘플 스크립트 974번째 행 : A: 또는 B: 이외의 영어 텍스트가 존재\n",
      "추출된 단어: ['TV']\n",
      "\n",
      "샘플 스크립트 1028번째 행 : A: 또는 B: 이외의 영어 텍스트가 존재\n",
      "추출된 단어: ['TV']\n",
      "\n",
      "샘플 스크립트 1087번째 행 : A: 또는 B: 이외의 영어 텍스트가 존재\n",
      "추출된 단어: ['TV']\n"
     ]
    },
    {
     "name": "stderr",
     "output_type": "stream",
     "text": [
      "\n"
     ]
    }
   ],
   "source": [
    "preview_quiz_check_valid(df_mid)"
   ]
  },
  {
   "cell_type": "code",
   "execution_count": 97,
   "metadata": {},
   "outputs": [
    {
     "name": "stderr",
     "output_type": "stream",
     "text": [
      "100%|██████████| 769/769 [00:00<00:00, 8793.83it/s]"
     ]
    },
    {
     "name": "stdout",
     "output_type": "stream",
     "text": [
      "\n",
      "샘플 스크립트 12번째 행 : A: 또는 B: 이외의 영어 텍스트가 존재\n",
      "추출된 단어: ['Alex', 'Alex', 'Maria', 'Maria']\n",
      "\n",
      "샘플 스크립트 19번째 행 : A: 또는 B: 이외의 영어 텍스트가 존재\n",
      "추출된 단어: ['Rose', 'Rose']\n",
      "\n",
      "샘플 스크립트 26번째 행 : A: 또는 B: 이외의 영어 텍스트가 존재\n",
      "추출된 단어: ['Lisa', 'Lisa', 'Lisa']\n",
      "\n",
      "샘플 스크립트 37번째 행 : A: 또는 B: 이외의 영어 텍스트가 존재\n",
      "추출된 단어: ['Linda', 'Linda']\n",
      "\n",
      "샘플 스크립트 38번째 행 : A: 또는 B: 이외의 영어 텍스트가 존재\n",
      "추출된 단어: ['Minnie', 'Minnie']\n",
      "\n",
      "샘플 스크립트 53번째 행 : A: 또는 B: 이외의 영어 텍스트가 존재\n",
      "추출된 단어: ['Emma', 'Emma', 'Mr', 'Johnson', 'Mr', 'Johnson']\n",
      "\n",
      "샘플 스크립트 63번째 행 : A: 또는 B: 이외의 영어 텍스트가 존재\n",
      "추출된 단어: ['S', 'C', 'H', 'O', 'O', 'L', 'F', 'U', 'N']\n",
      "\n",
      "샘플 스크립트 67번째 행 : A: 또는 B: 이외의 영어 텍스트가 존재\n",
      "추출된 단어: ['D', 'V', 'I', 'D', 'D', 'V', 'I', 'D']\n",
      "\n",
      "샘플 스크립트 73번째 행 : A: 또는 B: 이외의 영어 텍스트가 존재\n",
      "추출된 단어: ['T', 'E', 'R', 'M', 'I', 'T', 'E', 'M']\n",
      "\n",
      "샘플 스크립트 77번째 행 : A: 또는 B: 이외의 영어 텍스트가 존재\n",
      "추출된 단어: ['D', 'V', 'I', 'D', 'CODE', 'CODE', 'C', 'O', 'D', 'E']\n",
      "\n",
      "샘플 스크립트 86번째 행 : A: 또는 B: 이외의 영어 텍스트가 존재\n",
      "추출된 단어: ['Grace', 'Grace', 'Lily']\n",
      "\n",
      "샘플 스크립트 120번째 행 : A: 또는 B: 이외의 영어 텍스트가 존재\n",
      "추출된 단어: ['Bob', 'Bob', 'Carol', 'Carol']\n",
      "\n",
      "샘플 스크립트 193번째 행 : A: 또는 B: 이외의 영어 텍스트가 존재\n",
      "추출된 단어: ['Sam', 'Sam']\n",
      "\n",
      "샘플 스크립트 201번째 행 : A: 또는 B: 이외의 영어 텍스트가 존재\n",
      "추출된 단어: ['art', 'art']\n",
      "\n",
      "샘플 스크립트 204번째 행 : A: 또는 B: 이외의 영어 텍스트가 존재\n",
      "추출된 단어: ['C', 'C']\n",
      "\n",
      "샘플 스크립트 245번째 행 : A: 또는 B: 이외의 영어 텍스트가 존재\n",
      "추출된 단어: ['Sorry']\n",
      "\n",
      "샘플 스크립트 334번째 행 : A: 또는 B: 이외의 영어 텍스트가 존재\n",
      "추출된 단어: ['Mike']\n",
      "\n",
      "샘플 스크립트 400번째 행 : A: 또는 B: 이외의 영어 텍스트가 존재\n",
      "추출된 단어: ['Michael', 'Emily']\n",
      "\n",
      "샘플 스크립트 427번째 행 : A: 또는 B: 이외의 영어 텍스트가 존재\n",
      "추출된 단어: ['Happy', 'birthday', 'to', 'you']\n",
      "\n",
      "샘플 스크립트 660번째 행 : A: 또는 B: 이외의 영어 텍스트가 존재\n",
      "추출된 단어: ['Hemingway']\n",
      "\n",
      "샘플 스크립트 691번째 행 : A: 또는 B: 이외의 영어 텍스트가 존재\n",
      "추출된 단어: ['TV']\n"
     ]
    },
    {
     "name": "stderr",
     "output_type": "stream",
     "text": [
      "\n"
     ]
    }
   ],
   "source": [
    "preview_quiz_check_valid(df_elem)"
   ]
  },
  {
   "cell_type": "code",
   "execution_count": 98,
   "metadata": {},
   "outputs": [
    {
     "name": "stderr",
     "output_type": "stream",
     "text": [
      "100%|██████████| 719/719 [00:00<00:00, 16486.65it/s]"
     ]
    },
    {
     "name": "stdout",
     "output_type": "stream",
     "text": [
      "\n",
      "샘플 스크립트 25번째 행 : A: 또는 B: 이외의 영어 텍스트가 존재\n",
      "추출된 단어: ['TV']\n",
      "\n",
      "샘플 스크립트 39번째 행 : A: 또는 B: 이외의 영어 텍스트가 존재\n",
      "추출된 단어: ['AI', 'AI']\n",
      "\n",
      "샘플 스크립트 216번째 행 : A: 또는 B: 이외의 영어 텍스트가 존재\n",
      "추출된 단어: ['LED']\n",
      "\n",
      "샘플 스크립트 281번째 행 : A: 또는 B: 이외의 영어 텍스트가 존재\n",
      "추출된 단어: ['ecosystem', 'ecosystem']\n"
     ]
    },
    {
     "name": "stderr",
     "output_type": "stream",
     "text": [
      "\n"
     ]
    }
   ],
   "source": [
    "preview_quiz_check_valid(df_high)"
   ]
  },
  {
   "cell_type": "markdown",
   "metadata": {},
   "source": [
    "## 중복 정답 여부 확인"
   ]
  },
  {
   "cell_type": "code",
   "execution_count": 63,
   "metadata": {},
   "outputs": [],
   "source": [
    "from openai import OpenAI\n",
    "from getpass import getpass\n",
    "from jinja2 import Template\n",
    "from openai.lib._parsing import type_to_response_format_param\n",
    "from pydantic import BaseModel\n",
    "import json\n",
    "import pandas as pd\n",
    "from tqdm import tqdm"
   ]
  },
  {
   "cell_type": "code",
   "execution_count": 64,
   "metadata": {},
   "outputs": [],
   "source": [
    "api_key = getpass(\"OPENAI_API_KEY\")\n",
    "client = OpenAI(api_key=api_key)"
   ]
  },
  {
   "cell_type": "code",
   "execution_count": 108,
   "metadata": {},
   "outputs": [],
   "source": [
    "prompt_template = Template(\"\"\"\n",
    "[PURPOSE]\n",
    "You are going to solve the quiz and write down the answer_reason.\n",
    "There is not necessarily a single correct answer.\n",
    "Select all that are correct.\n",
    "                           \n",
    "[Example]\n",
    "```\n",
    "Input: \n",
    "    {\n",
    "    \"quiz\": \"What is your ______ sport?\",\n",
    "    \"korean\": \"네가 가장 좋아하는 스포츠는 무엇이에요?\",\n",
    "    \"option_1\": \"like\",\n",
    "    \"option_2\": \"favorite\",\n",
    "    \"option_3\": \"best\",\n",
    "  }\n",
    "\n",
    "Output:\n",
    "    {   \n",
    "    \"possible_answer\": [\"favorite\"],\n",
    "    \"answer_reason\": \"The word 'favorite' is the correct answer because the sentence is asking about someone's most preferred sport.\n",
    "\n",
    "1. 'favorite' means 가장 좋아하는 in Korean, which matches the meaning of the given Korean sentence.\n",
    "2. 'like' is a verb (좋아하다) and does not fit grammatically in this sentence.\n",
    "3. 'best' means 최고의, which refers to the highest quality rather than personal preference.\n",
    "\n",
    "Thus, 'favorite' is the correct choice.\"\n",
    "}\n",
    "```                     \n",
    "```\n",
    "Input: \n",
    "    {\n",
    "    \"quiz\": \"A: What are you _____ on your holiday? B: I’m going to travel.\",\n",
    "    \"korean\": \"A: 너는 휴일에 무엇을 할 예정이니? B: 여행을 갈 거야.\",\n",
    "    \"option_1\": \"planning to do\",\n",
    "    \"option_2\": \"going to do\",\n",
    "    \"option_3\": \"will do\",\n",
    "  }\n",
    "\n",
    "Output:\n",
    "    {   \n",
    "    \"possible_answer\": [\"planning to do, going to do\",]\n",
    "    \"answer_reason\": \"Both 'planning to do' and 'going to do' fit naturally in the sentence.\n",
    "\n",
    "1. 'Going to do' is commonly used for future plans and matches the response \"I’m going to travel.\"\n",
    "2. 'Planning to do' also makes sense because it refers to making arrangements for the holiday.\n",
    "3. 'Will do' is less natural in this context because it’s not commonly used for asking about planned activities.\"\n",
    "\n",
    "Thus, 'planning to do' and 'going to do' are the correct choice.\"\n",
    "}\n",
    "```\n",
    "\n",
    "[Input]\n",
    "```\n",
    "QUIZ : {{quiz}}\n",
    "KOREAN : {{korean}}\n",
    "OPTION_1 : {{option_1}}\n",
    "OPTION_2 : {{option_2}}\n",
    "OPTION_3 : {{option_3}}\n",
    "```\n",
    "\"\"\")"
   ]
  },
  {
   "cell_type": "code",
   "execution_count": 109,
   "metadata": {},
   "outputs": [],
   "source": [
    "class Reason(BaseModel):\n",
    "    possible_answer : list[str]\n",
    "    answer_reason : str"
   ]
  },
  {
   "cell_type": "code",
   "execution_count": 102,
   "metadata": {},
   "outputs": [],
   "source": [
    "response_format = type_to_response_format_param(Reason)"
   ]
  },
  {
   "cell_type": "code",
   "execution_count": 103,
   "metadata": {},
   "outputs": [
    {
     "data": {
      "text/plain": [
       "{'type': 'json_schema',\n",
       " 'json_schema': {'schema': {'properties': {'possible_answer': {'items': {'type': 'string'},\n",
       "     'title': 'Possible Answer',\n",
       "     'type': 'array'},\n",
       "    'answer_reason': {'title': 'Answer Reason', 'type': 'string'}},\n",
       "   'required': ['possible_answer', 'answer_reason'],\n",
       "   'title': 'Reason',\n",
       "   'type': 'object',\n",
       "   'additionalProperties': False},\n",
       "  'name': 'Reason',\n",
       "  'strict': True}}"
      ]
     },
     "execution_count": 103,
     "metadata": {},
     "output_type": "execute_result"
    }
   ],
   "source": [
    "response_format"
   ]
  },
  {
   "cell_type": "code",
   "execution_count": 69,
   "metadata": {},
   "outputs": [],
   "source": [
    "def completion(prompt : str) -> str:\n",
    "    response = client.beta.chat.completions.parse(\n",
    "        model = 'o3-mini',\n",
    "        reasoning_effort='low',\n",
    "        messages = [\n",
    "            {\"role\" : \"system\", \"content\" : \"You are going to solve the quiz and write down the answer_reason.\"},\n",
    "            {\"role\" : \"user\", \"content\" : prompt}\n",
    "        ],\n",
    "        response_format = Reason,\n",
    "    )\n",
    "    return response.choices[0].message.parsed"
   ]
  },
  {
   "cell_type": "code",
   "execution_count": 71,
   "metadata": {},
   "outputs": [],
   "source": [
    "prompt = prompt_template.render(\n",
    "    quiz = \"___ I borrow your book?\",\n",
    "    korean = \"내 책 좀 빌려도 될까요?\",\n",
    "    option_1 = \"May\",\n",
    "    option_2 = \"Can\",\n",
    "    option_3 = \"Might\"\n",
    ")"
   ]
  },
  {
   "cell_type": "code",
   "execution_count": 72,
   "metadata": {},
   "outputs": [],
   "source": [
    "response = completion(prompt)"
   ]
  },
  {
   "cell_type": "code",
   "execution_count": 74,
   "metadata": {},
   "outputs": [
    {
     "name": "stdout",
     "output_type": "stream",
     "text": [
      "{\n",
      "  \"possible_answer\": [\n",
      "    \"May\",\n",
      "    \"Can\"\n",
      "  ],\n",
      "  \"answer_reason\": \"The sentence is asking for permission, as indicated by the Korean '내 책 좀 빌려도 될까요?' which translates to 'May I borrow your book?'.\\n\\n1. 'May' is the traditional modal verb used for asking permission in formal or polite contexts.\\n2. 'Can' is commonly used in everyday conversation to ask for permission, even though its primary meaning is about ability.\\n3. 'Might' is less commonly used in this context and tends to sound overly formal or archaic, making it less suitable compared to 'May' and 'Can'.\\n\\nThus, 'May' and 'Can' are both acceptable answers.\"\n",
      "}\n"
     ]
    }
   ],
   "source": [
    "response_output = json.dumps(response.dict(), ensure_ascii=False, indent=2)\n",
    "print(response_output)"
   ]
  },
  {
   "cell_type": "code",
   "execution_count": 75,
   "metadata": {},
   "outputs": [
    {
     "data": {
      "text/plain": [
       "Index(['textbook ID', '학년', '출판사', '교육과정', 'Lesson', '구분', 'title', 'new_DES',\n",
       "       'DESCRIPTION', 'Key Expression (영어)', 'Key Expression (한국어)',\n",
       "       'Sub Expression (영어)', 'Sub Expression (한국어)', '학습목표', 'Quiz 1',\n",
       "       'Korean 1', 'Option 1-1', 'Option 1-2', 'Option 1-3', 'Answer 1',\n",
       "       'Index 1', 'Quiz 2', 'Korean 2', 'Option 2-1', 'Option 2-2',\n",
       "       'Option 2-3', 'Answer 2', 'Index 2', '샘플 스크립트 (영어)', '샘플 스크립트 (한국어)',\n",
       "       'Unnamed: 30', 'STRUCTURE - Title, New Desc 작업용', 'Unnamed: 32',\n",
       "       'Unnamed: 33', 'Unnamed: 34'],\n",
       "      dtype='object')"
      ]
     },
     "execution_count": 75,
     "metadata": {},
     "output_type": "execute_result"
    }
   ],
   "source": [
    "df_mid.columns"
   ]
  },
  {
   "cell_type": "code",
   "execution_count": null,
   "metadata": {},
   "outputs": [],
   "source": [
    "def answer_duplication_check_quiz1(data:pd.DataFrame, output_filename = \"PreviewQuiz1_MID_duplicate_answer.csv\"):\n",
    "    # 에러 리스트 확인\n",
    "    duplicate_data = []\n",
    "\n",
    "    # 파일 변환\n",
    "    for i in tqdm(range(len(data)), total=len(data)):\n",
    "        prompt = prompt_template.render(\n",
    "            quiz = data.loc[i, 'Quiz 1'],\n",
    "            korean = data.loc[i, 'Korean 1'],\n",
    "            option_1 = data.loc[i, 'Option 1-1'],\n",
    "            option_2 = data.loc[i, 'Option 1-2'],\n",
    "            option_3 = data.loc[i, 'Option 1-3']\n",
    "        )\n",
    "\n",
    "        response = client.beta.chat.completions.parse(\n",
    "            model = \"o3-mini\",\n",
    "            reasoning_effort = \"low\",\n",
    "            messages = [\n",
    "                {\"role\" : \"system\", \"content\" : \"You are going to solve the quiz and write down the answer_reason.\"},\n",
    "                {\"role\" : \"user\", \"content\" : prompt}\n",
    "            ],\n",
    "            response_format = Reason\n",
    "        )\n",
    "\n",
    "        # 응답 결과 출력 및 결과 출력력\n",
    "        output = response.choices[0].message.parsed\n",
    "        possible_answers = output.possible_answer\n",
    "        answer_reason = output.answer_reason\n",
    "\n",
    "        # 중복 답변 체크\n",
    "        if len(possible_answers) > 1:\n",
    "            row_number = i+2\n",
    "            duplicate_data.append({\"Row\": row_number, \"Reason\": answer_reason})\n",
    "\n",
    "    # 최종적으로 중복된 문제를 출력\n",
    "    if duplicate_data:\n",
    "        df_duplicates = pd.DataFrame(duplicate_data)\n",
    "        df_duplicates.to_csv(output_filename, index=False, encoding='utf-8-sig')\n",
    "        print(f\"\\n중복된 문제 목록이 '{output_filename}' 파일에 저장되었습니다.\")\n",
    "    else:\n",
    "        print(\"\\n중복된 문제가 없습니다.\")\n",
    "    "
   ]
  },
  {
   "cell_type": "code",
   "execution_count": 130,
   "metadata": {},
   "outputs": [],
   "source": [
    "def answer_duplication_check_quiz2(data:pd.DataFrame,output_filename = \"PreviewQuiz2_MID_duplicate_answer.csv\"):\n",
    "    # 에러 리스트 확인\n",
    "    duplicate_data = []\n",
    "\n",
    "    # 파일 변환\n",
    "    for i in tqdm(range(len(data)), total=len(data)):\n",
    "        prompt = prompt_template.render(\n",
    "            quiz = data.loc[i, 'Quiz 2'],\n",
    "            korean = data.loc[i, 'Korean 2'],\n",
    "            option_1 = data.loc[i, 'Option 2-1'],\n",
    "            option_2 = data.loc[i, 'Option 2-2'],\n",
    "            option_3 = data.loc[i, 'Option 2-3']\n",
    "        )\n",
    "\n",
    "        response = client.beta.chat.completions.parse(\n",
    "            model = \"o3-mini\",\n",
    "            reasoning_effort = \"low\",\n",
    "            messages = [\n",
    "                {\"role\" : \"system\", \"content\" : \"You are going to solve the quiz and write down the answer_reason.\"},\n",
    "                {\"role\" : \"user\", \"content\" : prompt}\n",
    "            ],\n",
    "            response_format = Reason\n",
    "        )\n",
    "\n",
    "        # 응답 결과 출력 및 결과 출력력\n",
    "        output = response.choices[0].message.parsed\n",
    "        possible_answers = output.possible_answer\n",
    "        answer_reason = output.answer_reason\n",
    "\n",
    "        # 중복 답변 체크\n",
    "        if len(possible_answers) > 1:\n",
    "            row_number = i+2\n",
    "            duplicate_data.append({\"Row\": row_number, \"Reason\": answer_reason})\n",
    "\n",
    "    # 최종적으로 중복된 문제를 출력\n",
    "    if duplicate_data:\n",
    "        df_duplicates = pd.DataFrame(duplicate_data)\n",
    "        df_duplicates.to_csv(output_filename, index=False, encoding='utf-8-sig')\n",
    "        print(f\"\\n중복된 문제 목록이 '{output_filename}' 파일에 저장되었습니다.\")\n",
    "    else:\n",
    "        print(\"\\n중복된 문제가 없습니다.\")\n",
    "    "
   ]
  },
  {
   "cell_type": "code",
   "execution_count": 128,
   "metadata": {},
   "outputs": [],
   "source": [
    "sample = df_mid[:5]"
   ]
  },
  {
   "cell_type": "code",
   "execution_count": 129,
   "metadata": {},
   "outputs": [
    {
     "name": "stderr",
     "output_type": "stream",
     "text": [
      "100%|██████████| 5/5 [00:16<00:00,  3.28s/it]"
     ]
    },
    {
     "name": "stdout",
     "output_type": "stream",
     "text": [
      "\n",
      "중복된 문제 목록이 'PreviewQuiz_MID_duplicate_answer.csv' 파일에 저장되었습니다.\n"
     ]
    },
    {
     "name": "stderr",
     "output_type": "stream",
     "text": [
      "\n"
     ]
    }
   ],
   "source": [
    "answer_duplication_check_quiz1(sample)"
   ]
  },
  {
   "cell_type": "code",
   "execution_count": 131,
   "metadata": {},
   "outputs": [
    {
     "name": "stderr",
     "output_type": "stream",
     "text": [
      "100%|██████████| 5/5 [00:18<00:00,  3.71s/it]"
     ]
    },
    {
     "name": "stdout",
     "output_type": "stream",
     "text": [
      "\n",
      "중복된 문제가 없습니다.\n"
     ]
    },
    {
     "name": "stderr",
     "output_type": "stream",
     "text": [
      "\n"
     ]
    }
   ],
   "source": [
    "answer_duplication_check_quiz2(sample)"
   ]
  },
  {
   "cell_type": "markdown",
   "metadata": {},
   "source": [
    "# sample script 검수 코드\n",
    "- 배치잡으로 돌릴 것"
   ]
  },
  {
   "cell_type": "code",
   "execution_count": 26,
   "metadata": {},
   "outputs": [],
   "source": [
    "from openai import OpenAI\n",
    "from getpass import getpass\n",
    "from jinja2 import Template\n",
    "from openai.lib._parsing import type_to_response_format_param\n",
    "from pydantic import BaseModel\n",
    "import json\n",
    "import pandas as pd\n",
    "from tqdm import tqdm"
   ]
  },
  {
   "cell_type": "code",
   "execution_count": 37,
   "metadata": {},
   "outputs": [],
   "source": [
    "api_key = getpass(\"OPENAI_API_KEY\")\n",
    "client = OpenAI(api_key=api_key)"
   ]
  },
  {
   "cell_type": "code",
   "execution_count": 38,
   "metadata": {},
   "outputs": [],
   "source": [
    "prompt_template = Template(\"\"\"\n",
    "[PERSONA]\n",
    "You are a translation review expert.\n",
    "\n",
    "[POLICY]\n",
    "1. Check if \"sample_script_eng\" and \"sample_script_kor\" have the same meaning.\n",
    "2. Classify the comparison result into one of the following states: \"correct\", \"supplement\", or \"incorrect\".\n",
    "3. Provide a reason for the assigned state in the \"reason\" field.\n",
    "                          \n",
    "[EXAMPLE 1 : correct]\n",
    "```\n",
    "Input:\n",
    "    {\n",
    "    \"id\" : 1,\n",
    "    \"sample_script_eng\" : \"A: Hello! It's wonderful to see you tonight. B: Good evening! I hope you have a pleasant time. A: Goodbye! Take care and see you soon.\",\n",
    "    \"sample_script_kor\" : \"A: 안녕하세요! 오늘 밤 당신을 보게 되어 반가워요. B: 좋은 저녁이에요! 즐거운 시간 보내길 바래요. A: 잘 가요! 조만간 또 봐요.\"\n",
    "    }\n",
    "\n",
    "Output:\n",
    "    {\n",
    "    \"id\" : 1,\n",
    "    \"state\" : \"correct\",\n",
    "    \"reason\": \"The Korean translation accurately reflects the meaning of the English script.\"\n",
    "    }\n",
    "```       \n",
    "\n",
    "[EXAMPLE 2 : supplement]\n",
    "```\n",
    "Input:\n",
    "    {\n",
    "    \"id\" : 2,\n",
    "    \"sample_script_eng\" : \"A: I have a cooking class this week. B: Really? A: I also have an art class on Saturday. B: That sounds exciting!\",\n",
    "    \"sample_script_kor\" : \"A: 나는 이번 주에 수업이 있어. B: 정말? A: 그리고 토요일에 수업도 있어. B: 멋지다!\"\n",
    "    }\n",
    "\n",
    "Output:\n",
    "    {\n",
    "    \"id\" : 2,\n",
    "    \"state\" : \"supplement\",\n",
    "    \"reason\": \"The Korean translation mostly preserves the meaning, but \"나는 이번 주에 수업이 있어.\" is too vague compared to \"I have a cooking class this week.\"\"\n",
    "    }\n",
    "```\n",
    "\n",
    "[EXAMPLE 3 : incorrect]\n",
    "```\n",
    "Input:\n",
    "    {\n",
    "    \"id\" : 3,\n",
    "    \"sample_script_eng\" : \"A: What will you do on Saturday? B: I will go to the park. A: What are your plans for next week? B: I will start a new hobby.\",\n",
    "    \"sample_script_kor\" : \"A: 너는 몇 시에 일어나니? B: 나는 7시에 일어나. A: 몇 시에 잠자리에 드니? B: 나는 11시에 잠자리에 들어.\"\n",
    "    }\n",
    "\n",
    "Output:\n",
    "    {\n",
    "    \"id\" : 3,\n",
    "    \"state\" : \"incorrect\",\n",
    "    \"reason\": \"The Korean translation does not match the English script at all. The topics and meanings are completely different.\"\n",
    "    }\n",
    "```\n",
    "\n",
    "[Input]\n",
    "```\n",
    "ID : {{id}}\n",
    "SAMPLE_SCRIPT_ENG : {{sample_script_eng}}\n",
    "SAMPLE_SCRIPT_KOR : {{sample_script_kor}}\n",
    "```\n",
    "\"\"\")"
   ]
  },
  {
   "cell_type": "code",
   "execution_count": 39,
   "metadata": {},
   "outputs": [],
   "source": [
    "class Reason(BaseModel):\n",
    "    id : int\n",
    "    state : str\n",
    "    reason : str"
   ]
  },
  {
   "cell_type": "code",
   "execution_count": 40,
   "metadata": {},
   "outputs": [],
   "source": [
    "response_format = type_to_response_format_param(Reason)"
   ]
  },
  {
   "cell_type": "code",
   "execution_count": 41,
   "metadata": {},
   "outputs": [
    {
     "data": {
      "text/plain": [
       "{'type': 'json_schema',\n",
       " 'json_schema': {'schema': {'properties': {'id': {'title': 'Id',\n",
       "     'type': 'integer'},\n",
       "    'state': {'title': 'State', 'type': 'string'},\n",
       "    'reason': {'title': 'Reason', 'type': 'string'}},\n",
       "   'required': ['id', 'state', 'reason'],\n",
       "   'title': 'Reason',\n",
       "   'type': 'object',\n",
       "   'additionalProperties': False},\n",
       "  'name': 'Reason',\n",
       "  'strict': True}}"
      ]
     },
     "execution_count": 41,
     "metadata": {},
     "output_type": "execute_result"
    }
   ],
   "source": [
    "response_format"
   ]
  },
  {
   "cell_type": "code",
   "execution_count": 42,
   "metadata": {},
   "outputs": [],
   "source": [
    "def completion(prompt : str) -> str:\n",
    "    response = client.beta.chat.completions.parse(\n",
    "        model = 'o3-mini',\n",
    "        reasoning_effort='low',\n",
    "        messages = [\n",
    "            {\"role\" : \"system\", \"content\" : \"You must check in detail whether Korean and English match.\"},\n",
    "            {\"role\" : \"user\", \"content\" : prompt}\n",
    "        ],\n",
    "        response_format = Reason,\n",
    "    )\n",
    "    return response.choices[0].message.parsed"
   ]
  },
  {
   "cell_type": "code",
   "execution_count": 43,
   "metadata": {},
   "outputs": [],
   "source": [
    "prompt = prompt_template.render(\n",
    "    id = 35,\n",
    "    sample_script_eng = \"A: How can I get to the museum? B: Take bus number 5 and get off at the final stop. A: Can you confirm the route? B: Absolutely, just follow the route map.\",\n",
    "    sample_script_kor = \"A: 어떻게 박물관에 갈 수 있나요? B: 5번 버스를 타고 마지막 정류장에서 내리세요. A: 경로를 다시 확인해 주실래요? B: 물론이죠, 지도에 따라 가시면 됩니다.\"\n",
    ")"
   ]
  },
  {
   "cell_type": "code",
   "execution_count": 44,
   "metadata": {},
   "outputs": [
    {
     "name": "stdout",
     "output_type": "stream",
     "text": [
      "\n",
      "[PERSONA]\n",
      "You are a translation review expert.\n",
      "\n",
      "[POLICY]\n",
      "1. Check if \"sample_script_eng\" and \"sample_script_kor\" have the same meaning.\n",
      "2. Classify the comparison result into one of the following states: \"correct\", \"supplement\", or \"incorrect\".\n",
      "3. Provide a reason for the assigned state in the \"reason\" field.\n",
      "                          \n",
      "[EXAMPLE 1 : correct]\n",
      "```\n",
      "Input:\n",
      "    {\n",
      "    \"id\" : 1,\n",
      "    \"sample_script_eng\" : \"A: Hello! It's wonderful to see you tonight. B: Good evening! I hope you have a pleasant time. A: Goodbye! Take care and see you soon.\",\n",
      "    \"sample_script_kor\" : \"A: 안녕하세요! 오늘 밤 당신을 보게 되어 반가워요. B: 좋은 저녁이에요! 즐거운 시간 보내길 바래요. A: 잘 가요! 조만간 또 봐요.\"\n",
      "    }\n",
      "\n",
      "Output:\n",
      "    {\n",
      "    \"id\" : 1,\n",
      "    \"state\" : \"correct\",\n",
      "    \"reason\": \"The Korean translation accurately reflects the meaning of the English script.\"\n",
      "    }\n",
      "```       \n",
      "\n",
      "[EXAMPLE 2 : supplement]\n",
      "```\n",
      "Input:\n",
      "    {\n",
      "    \"id\" : 2,\n",
      "    \"sample_script_eng\" : \"A: I have a cooking class this week. B: Really? A: I also have an art class on Saturday. B: That sounds exciting!\",\n",
      "    \"sample_script_kor\" : \"A: 나는 이번 주에 수업이 있어. B: 정말? A: 그리고 토요일에 수업도 있어. B: 멋지다!\"\n",
      "    }\n",
      "\n",
      "Output:\n",
      "    {\n",
      "    \"id\" : 2,\n",
      "    \"state\" : \"supplement\",\n",
      "    \"reason\": \"The Korean translation mostly preserves the meaning, but \"나는 이번 주에 수업이 있어.\" is too vague compared to \"I have a cooking class this week.\"\"\n",
      "    }\n",
      "```\n",
      "\n",
      "[EXAMPLE 3 : incorrect]\n",
      "```\n",
      "Input:\n",
      "    {\n",
      "    \"id\" : 3,\n",
      "    \"sample_script_eng\" : \"A: What will you do on Saturday? B: I will go to the park. A: What are your plans for next week? B: I will start a new hobby.\",\n",
      "    \"sample_script_kor\" : \"A: 너는 몇 시에 일어나니? B: 나는 7시에 일어나. A: 몇 시에 잠자리에 드니? B: 나는 11시에 잠자리에 들어.\"\n",
      "    }\n",
      "\n",
      "Output:\n",
      "    {\n",
      "    \"id\" : 3,\n",
      "    \"state\" : \"incorrect\",\n",
      "    \"reason\": \"The Korean translation does not match the English script at all. The topics and meanings are completely different.\"\n",
      "    }\n",
      "```\n",
      "\n",
      "[Input]\n",
      "```\n",
      "ID : 35\n",
      "SAMPLE_SCRIPT_ENG : A: How can I get to the museum? B: Take bus number 5 and get off at the final stop. A: Can you confirm the route? B: Absolutely, just follow the route map.\n",
      "SAMPLE_SCRIPT_KOR : A: 어떻게 박물관에 갈 수 있나요? B: 5번 버스를 타고 마지막 정류장에서 내리세요. A: 경로를 다시 확인해 주실래요? B: 물론이죠, 지도에 따라 가시면 됩니다.\n",
      "```\n"
     ]
    }
   ],
   "source": [
    "print(prompt)"
   ]
  },
  {
   "cell_type": "code",
   "execution_count": 45,
   "metadata": {},
   "outputs": [],
   "source": [
    "response = completion(prompt)"
   ]
  },
  {
   "cell_type": "code",
   "execution_count": 46,
   "metadata": {},
   "outputs": [
    {
     "name": "stdout",
     "output_type": "stream",
     "text": [
      "{\n",
      "  \"id\": 35,\n",
      "  \"state\": \"correct\",\n",
      "  \"reason\": \"The Korean translation accurately reflects the meaning of the English script. The dialogue is fully consistent, with the same instructions in terms of directions and inquiries.\"\n",
      "}\n"
     ]
    }
   ],
   "source": [
    "response_output = json.dumps(response.dict(), ensure_ascii=False, indent=2)\n",
    "print(response_output)"
   ]
  },
  {
   "cell_type": "code",
   "execution_count": 47,
   "metadata": {},
   "outputs": [
    {
     "data": {
      "text/plain": [
       "Index(['textbook ID', '학년', '출판사', '교육과정', 'Lesson', '구분', 'title', 'new_DES',\n",
       "       'DESCRIPTION', 'Key Expression (영어)', 'Key Expression (한국어)',\n",
       "       'Sub Expression (영어)', 'Sub Expression (한국어)', '학습목표', 'Quiz 1',\n",
       "       'Korean 1', 'Option 1-1', 'Option 1-2', 'Option 1-3', 'Answer 1',\n",
       "       'Index 1', 'Quiz 2', 'Korean 2', 'Option 2-1', 'Option 2-2',\n",
       "       'Option 2-3', 'Answer 2', 'Index 2', '샘플 스크립트 (영어)', '샘플 스크립트 (한국어)',\n",
       "       'Unnamed: 30', 'STRUCTURE - Title, New Desc 작업용', 'Unnamed: 32',\n",
       "       'Unnamed: 33', 'Unnamed: 34'],\n",
       "      dtype='object')"
      ]
     },
     "execution_count": 47,
     "metadata": {},
     "output_type": "execute_result"
    }
   ],
   "source": [
    "df_mid.columns"
   ]
  },
  {
   "cell_type": "code",
   "execution_count": null,
   "metadata": {},
   "outputs": [],
   "source": [
    "# def answer_duplication_check_quiz1(data:pd.DataFrame, output_filename = \"PreviewQuiz1_MID_duplicate_answer.csv\"):\n",
    "#     # 에러 리스트 확인\n",
    "#     duplicate_data = []\n",
    "\n",
    "#     # 파일 변환\n",
    "#     for i in tqdm(range(len(data)), total=len(data)):\n",
    "#         prompt = prompt_template.render(\n",
    "#             id = data.loc[i,\"id\"]\n",
    "#             sample_script_eng = data.loc[i, '샘플 스크립트 (영어)'],\n",
    "#             sample_script_kor = data.loc[i, '샘플 스크립트 (한국어)']\n",
    "#         )\n",
    "\n",
    "#         response = client.beta.chat.completions.parse(\n",
    "#             model = \"o3-mini\",\n",
    "#             reasoning_effort = \"low\",\n",
    "#             messages = [\n",
    "#                 {\"role\" : \"system\", \"content\" : \"You must check in detail whether Korean and English match.\"},\n",
    "#                 {\"role\" : \"user\", \"content\" : prompt}\n",
    "#             ],\n",
    "#             response_format = Reason\n",
    "#         )\n",
    "\n",
    "#         # 응답 결과 출력 및 결과 출력력\n",
    "#         output = response.choices[0].message.parsed\n",
    "#         possible_answers = output.possible_answer\n",
    "#         answer_reason = output.answer_reason\n",
    "\n",
    "#     # 최종적으로 중복된 문제를 출력\n",
    "#     if duplicate_data:\n",
    "#         df_duplicates = pd.DataFrame(duplicate_data)\n",
    "#         df_duplicates.to_csv(output_filename, index=False, encoding='utf-8-sig')\n",
    "#         print(f\"\\n중복된 문제 목록이 '{output_filename}' 파일에 저장되었습니다.\")\n",
    "#     else:\n",
    "#         print(\"\\n중복된 문제가 없습니다.\")\n",
    "    "
   ]
  },
  {
   "cell_type": "code",
   "execution_count": null,
   "metadata": {},
   "outputs": [],
   "source": []
  },
  {
   "cell_type": "code",
   "execution_count": null,
   "metadata": {},
   "outputs": [],
   "source": []
  },
  {
   "cell_type": "markdown",
   "metadata": {},
   "source": [
    "# 엑셀 전처리"
   ]
  },
  {
   "cell_type": "code",
   "execution_count": 205,
   "metadata": {},
   "outputs": [],
   "source": [
    "import pandas as pd\n",
    "db_mid = pd.read_csv(\"DB_MID.csv\")\n",
    "db_elem = pd.read_csv(\"DB_Elem.csv\")\n",
    "db_high = pd.read_csv(\"DB_High.csv\")"
   ]
  },
  {
   "cell_type": "code",
   "execution_count": 206,
   "metadata": {},
   "outputs": [
    {
     "data": {
      "text/plain": [
       "Index(['curriculum id', 'textbook ID', '학년', '출판사', '교육과정', 'Lesson', '구분',\n",
       "       'title', 'new_DES', 'DESCRIPTION', 'Key Expression (영어)',\n",
       "       'Key Expression (한국어)', 'Sub Expression (영어)', 'Sub Expression (한국어)',\n",
       "       '학습목표', 'Quiz 1', 'Korean 1', 'Option 1-1', 'Option 1-2', 'Option 1-3',\n",
       "       'Answer 1', 'Index 1', 'Quiz 2', 'Korean 2', 'Option 2-1', 'Option 2-2',\n",
       "       'Option 2-3', 'Answer 2', 'Index 2', '샘플 스크립트 (영어)', '샘플 스크립트 (한국어)',\n",
       "       'Unnamed: 31', 'STRUCTURE - Title, New Desc 작업용', 'Unnamed: 33',\n",
       "       'Unnamed: 34', 'Unnamed: 35'],\n",
       "      dtype='object')"
      ]
     },
     "execution_count": 206,
     "metadata": {},
     "output_type": "execute_result"
    }
   ],
   "source": [
    "db_mid.columns"
   ]
  },
  {
   "cell_type": "code",
   "execution_count": 207,
   "metadata": {},
   "outputs": [
    {
     "data": {
      "text/plain": [
       "Index(['curriculum id', 'textbook ID', '학년', '출판사', '교육과정', '단원 번호', '구분',\n",
       "       'title', 'new_DES', 'DESCRIPTION', 'KEY_EXPRESSION',\n",
       "       'KEY_EXPRESSION_KOR', 'SUB_EXPRESSION', 'SUB_EXPRESSION_KOR', '학습목표',\n",
       "       'Quiz 1', 'Korean 1', 'Option 1-1', 'Option 1-2', 'Option 1-3',\n",
       "       'Answer 1', 'Index 1', 'Quiz 2', 'Korean 2', 'Option 2-1', 'Option 2-2',\n",
       "       'Option 2-3', 'Answer 2', 'Index 2', '샘플 스크립트 (영어)', '샘플 스크립트 (한국어)'],\n",
       "      dtype='object')"
      ]
     },
     "execution_count": 207,
     "metadata": {},
     "output_type": "execute_result"
    }
   ],
   "source": [
    "db_elem.columns"
   ]
  },
  {
   "cell_type": "code",
   "execution_count": 208,
   "metadata": {},
   "outputs": [
    {
     "data": {
      "text/plain": [
       "Index(['curriculum id', 'textbook ID', '제목', '출판사', '교육과정', 'Lesson', '구분',\n",
       "       'title', 'new_DES', 'DESCRIPTION', 'Key Expression (영어)',\n",
       "       'Key Expression (한국어)', 'Sub Expression (영어)', 'Sub Expression (한국어)',\n",
       "       '학습목표', 'Quiz 1', 'Korean 1', 'Option 1-1', 'Option 1-2', 'Option 1-3',\n",
       "       'Answer 1', 'Index 1', 'Quiz 2', 'Korean 2', 'Option 2-1', 'Option 2-2',\n",
       "       'Option 2-3', 'Answer 2', 'Index 2', '샘플 스크립트 (영어)', '샘플 스크립트 (한국어)',\n",
       "       'Unnamed: 31', 'STRUCTURE - Title, New Desc 작업용', 'Unnamed: 33',\n",
       "       'Unnamed: 34', 'Unnamed: 35'],\n",
       "      dtype='object')"
      ]
     },
     "execution_count": 208,
     "metadata": {},
     "output_type": "execute_result"
    }
   ],
   "source": [
    "db_high.columns"
   ]
  },
  {
   "cell_type": "markdown",
   "metadata": {},
   "source": [
    "# 퀴즈 1"
   ]
  },
  {
   "cell_type": "code",
   "execution_count": 209,
   "metadata": {},
   "outputs": [],
   "source": [
    "drop_col_mid = ['textbook ID', '학년', '출판사', '교육과정', 'Lesson', '구분',\n",
    "       'title', 'new_DES', 'DESCRIPTION', 'Key Expression (영어)',\n",
    "       'Key Expression (한국어)', 'Sub Expression (영어)', 'Sub Expression (한국어)',\n",
    "       '학습목표',\n",
    "       'Answer 1', 'Index 1', 'Quiz 2', 'Korean 2', 'Option 2-1', 'Option 2-2',\n",
    "       'Option 2-3', 'Answer 2', 'Index 2', '샘플 스크립트 (영어)', '샘플 스크립트 (한국어)',\n",
    "       'Unnamed: 31', 'STRUCTURE - Title, New Desc 작업용', 'Unnamed: 33',\n",
    "       'Unnamed: 34', 'Unnamed: 35']\n",
    "db_mid.drop(columns=drop_col_mid, inplace=True)"
   ]
  },
  {
   "cell_type": "code",
   "execution_count": 210,
   "metadata": {},
   "outputs": [],
   "source": [
    "drop_col_elem = ['textbook ID', '학년', '출판사', '교육과정', '단원 번호', '구분',\n",
    "       'title', 'new_DES', 'DESCRIPTION', 'KEY_EXPRESSION',\n",
    "       'KEY_EXPRESSION_KOR', 'SUB_EXPRESSION', 'SUB_EXPRESSION_KOR', '학습목표',\n",
    "       'Answer 1', 'Index 1', 'Quiz 2', 'Korean 2', 'Option 2-1', 'Option 2-2',\n",
    "       'Option 2-3', 'Answer 2', 'Index 2', '샘플 스크립트 (영어)', '샘플 스크립트 (한국어)']\n",
    "db_elem.drop(columns=drop_col_elem, inplace=True)"
   ]
  },
  {
   "cell_type": "code",
   "execution_count": 211,
   "metadata": {},
   "outputs": [],
   "source": [
    "drop_col_high = ['textbook ID', '제목', '출판사', '교육과정', 'Lesson', '구분',\n",
    "       'title', 'new_DES', 'DESCRIPTION', 'Key Expression (영어)',\n",
    "       'Key Expression (한국어)', 'Sub Expression (영어)', 'Sub Expression (한국어)',\n",
    "       '학습목표',\n",
    "       'Answer 1', 'Index 1', 'Quiz 2', 'Korean 2', 'Option 2-1', 'Option 2-2',\n",
    "       'Option 2-3', 'Answer 2', 'Index 2', '샘플 스크립트 (영어)', '샘플 스크립트 (한국어)',\n",
    "       'Unnamed: 31', 'STRUCTURE - Title, New Desc 작업용', 'Unnamed: 33',\n",
    "       'Unnamed: 34', 'Unnamed: 35']\n",
    "db_high.drop(columns=drop_col_high, inplace=True)"
   ]
  },
  {
   "cell_type": "code",
   "execution_count": 212,
   "metadata": {},
   "outputs": [
    {
     "data": {
      "text/html": [
       "<div>\n",
       "<style scoped>\n",
       "    .dataframe tbody tr th:only-of-type {\n",
       "        vertical-align: middle;\n",
       "    }\n",
       "\n",
       "    .dataframe tbody tr th {\n",
       "        vertical-align: top;\n",
       "    }\n",
       "\n",
       "    .dataframe thead th {\n",
       "        text-align: right;\n",
       "    }\n",
       "</style>\n",
       "<table border=\"1\" class=\"dataframe\">\n",
       "  <thead>\n",
       "    <tr style=\"text-align: right;\">\n",
       "      <th></th>\n",
       "      <th>id</th>\n",
       "      <th>quiz</th>\n",
       "      <th>korean</th>\n",
       "      <th>option_1</th>\n",
       "      <th>option_2</th>\n",
       "      <th>option_3</th>\n",
       "    </tr>\n",
       "  </thead>\n",
       "  <tbody>\n",
       "    <tr>\n",
       "      <th>0</th>\n",
       "      <td>1</td>\n",
       "      <td>A: My name is Felix. I’m from ____.</td>\n",
       "      <td>A: 내 이름은 Felix야. 나는 Australia 출신이야. B: 만나서 반가워.</td>\n",
       "      <td>America</td>\n",
       "      <td>Australia</td>\n",
       "      <td>Canada</td>\n",
       "    </tr>\n",
       "    <tr>\n",
       "      <th>1</th>\n",
       "      <td>2</td>\n",
       "      <td>What is your ______ sport?</td>\n",
       "      <td>네가 가장 좋아하는 스포츠는 무엇이에요?</td>\n",
       "      <td>like</td>\n",
       "      <td>favorite</td>\n",
       "      <td>best</td>\n",
       "    </tr>\n",
       "    <tr>\n",
       "      <th>2</th>\n",
       "      <td>3</td>\n",
       "      <td>A: What are you _____ on your holiday? B: I’m ...</td>\n",
       "      <td>A: 너는 휴일에 무엇을 할 예정이니? B: 여행을 갈 거야.</td>\n",
       "      <td>planning to do</td>\n",
       "      <td>going to do</td>\n",
       "      <td>will do</td>\n",
       "    </tr>\n",
       "  </tbody>\n",
       "</table>\n",
       "</div>"
      ],
      "text/plain": [
       "   id                                               quiz  \\\n",
       "0   1                A: My name is Felix. I’m from ____.   \n",
       "1   2                         What is your ______ sport?   \n",
       "2   3  A: What are you _____ on your holiday? B: I’m ...   \n",
       "\n",
       "                                            korean        option_1  \\\n",
       "0  A: 내 이름은 Felix야. 나는 Australia 출신이야. B: 만나서 반가워.         America   \n",
       "1                           네가 가장 좋아하는 스포츠는 무엇이에요?            like   \n",
       "2               A: 너는 휴일에 무엇을 할 예정이니? B: 여행을 갈 거야.  planning to do   \n",
       "\n",
       "      option_2 option_3  \n",
       "0    Australia   Canada  \n",
       "1     favorite     best  \n",
       "2  going to do  will do  "
      ]
     },
     "execution_count": 212,
     "metadata": {},
     "output_type": "execute_result"
    }
   ],
   "source": [
    "db_mid = db_mid.rename(columns={\n",
    "    'curriculum id' : \"id\",\n",
    "    'Quiz 1' : \"quiz\",\n",
    "    'Korean 1' : \"korean\",\n",
    "    'Option 1-1' : \"option_1\",\n",
    "    'Option 1-2' : \"option_2\",\n",
    "    'Option 1-3' : \"option_3\",\n",
    "})\n",
    "db_mid.head(3)"
   ]
  },
  {
   "cell_type": "code",
   "execution_count": 213,
   "metadata": {},
   "outputs": [
    {
     "data": {
      "text/html": [
       "<div>\n",
       "<style scoped>\n",
       "    .dataframe tbody tr th:only-of-type {\n",
       "        vertical-align: middle;\n",
       "    }\n",
       "\n",
       "    .dataframe tbody tr th {\n",
       "        vertical-align: top;\n",
       "    }\n",
       "\n",
       "    .dataframe thead th {\n",
       "        text-align: right;\n",
       "    }\n",
       "</style>\n",
       "<table border=\"1\" class=\"dataframe\">\n",
       "  <thead>\n",
       "    <tr style=\"text-align: right;\">\n",
       "      <th></th>\n",
       "      <th>id</th>\n",
       "      <th>quiz</th>\n",
       "      <th>korean</th>\n",
       "      <th>option_1</th>\n",
       "      <th>option_2</th>\n",
       "      <th>option_3</th>\n",
       "    </tr>\n",
       "  </thead>\n",
       "  <tbody>\n",
       "    <tr>\n",
       "      <th>0</th>\n",
       "      <td>10001</td>\n",
       "      <td>___!</td>\n",
       "      <td>안녕하세요!</td>\n",
       "      <td>Goodbye!</td>\n",
       "      <td>Hello!</td>\n",
       "      <td>Hi!</td>\n",
       "    </tr>\n",
       "    <tr>\n",
       "      <th>1</th>\n",
       "      <td>10002</td>\n",
       "      <td>___ Minho.</td>\n",
       "      <td>나는 민호야.</td>\n",
       "      <td>I do</td>\n",
       "      <td>I’m</td>\n",
       "      <td>I goes</td>\n",
       "    </tr>\n",
       "    <tr>\n",
       "      <th>2</th>\n",
       "      <td>10003</td>\n",
       "      <td>A: _____ a lot. B: No problem.</td>\n",
       "      <td>A: 정말 고마워요. B: 별말씀을요.</td>\n",
       "      <td>Thankful</td>\n",
       "      <td>Thanks</td>\n",
       "      <td>Thank</td>\n",
       "    </tr>\n",
       "  </tbody>\n",
       "</table>\n",
       "</div>"
      ],
      "text/plain": [
       "      id                            quiz                 korean  option_1  \\\n",
       "0  10001                            ___!                 안녕하세요!  Goodbye!   \n",
       "1  10002                      ___ Minho.                나는 민호야.      I do   \n",
       "2  10003  A: _____ a lot. B: No problem.  A: 정말 고마워요. B: 별말씀을요.  Thankful   \n",
       "\n",
       "  option_2 option_3  \n",
       "0   Hello!      Hi!  \n",
       "1      I’m   I goes  \n",
       "2   Thanks    Thank  "
      ]
     },
     "execution_count": 213,
     "metadata": {},
     "output_type": "execute_result"
    }
   ],
   "source": [
    "db_elem = db_elem.rename(columns={\n",
    "    'curriculum id' : \"id\",\n",
    "    'Quiz 1' : \"quiz\",\n",
    "    'Korean 1' : \"korean\",\n",
    "    'Option 1-1' : \"option_1\",\n",
    "    'Option 1-2' : \"option_2\",\n",
    "    'Option 1-3' : \"option_3\",\n",
    "})\n",
    "db_elem.head(3)"
   ]
  },
  {
   "cell_type": "code",
   "execution_count": 214,
   "metadata": {},
   "outputs": [
    {
     "data": {
      "text/html": [
       "<div>\n",
       "<style scoped>\n",
       "    .dataframe tbody tr th:only-of-type {\n",
       "        vertical-align: middle;\n",
       "    }\n",
       "\n",
       "    .dataframe tbody tr th {\n",
       "        vertical-align: top;\n",
       "    }\n",
       "\n",
       "    .dataframe thead th {\n",
       "        text-align: right;\n",
       "    }\n",
       "</style>\n",
       "<table border=\"1\" class=\"dataframe\">\n",
       "  <thead>\n",
       "    <tr style=\"text-align: right;\">\n",
       "      <th></th>\n",
       "      <th>id</th>\n",
       "      <th>quiz</th>\n",
       "      <th>korean</th>\n",
       "      <th>option_1</th>\n",
       "      <th>option_2</th>\n",
       "      <th>option_3</th>\n",
       "    </tr>\n",
       "  </thead>\n",
       "  <tbody>\n",
       "    <tr>\n",
       "      <th>0</th>\n",
       "      <td>1001</td>\n",
       "      <td>You should ______.</td>\n",
       "      <td>너는 더 많이 자야 해.</td>\n",
       "      <td>eat a snack</td>\n",
       "      <td>get more sleep</td>\n",
       "      <td>take a walk</td>\n",
       "    </tr>\n",
       "    <tr>\n",
       "      <th>1</th>\n",
       "      <td>1002</td>\n",
       "      <td>I am fond of ___ new strategies.</td>\n",
       "      <td>저는 새로운 전략을 시도하는 것을 좋아해요.</td>\n",
       "      <td>try</td>\n",
       "      <td>trying</td>\n",
       "      <td>tried</td>\n",
       "    </tr>\n",
       "    <tr>\n",
       "      <th>2</th>\n",
       "      <td>1003</td>\n",
       "      <td>She embraces the idea ___ hard work pays off.</td>\n",
       "      <td>그녀는 열심히 일하면 보상이 따른다는 아이디어를 받아들였어요.</td>\n",
       "      <td>if</td>\n",
       "      <td>that</td>\n",
       "      <td>which</td>\n",
       "    </tr>\n",
       "  </tbody>\n",
       "</table>\n",
       "</div>"
      ],
      "text/plain": [
       "     id                                           quiz  \\\n",
       "0  1001                             You should ______.   \n",
       "1  1002               I am fond of ___ new strategies.   \n",
       "2  1003  She embraces the idea ___ hard work pays off.   \n",
       "\n",
       "                               korean     option_1        option_2  \\\n",
       "0                       너는 더 많이 자야 해.  eat a snack  get more sleep   \n",
       "1            저는 새로운 전략을 시도하는 것을 좋아해요.          try          trying   \n",
       "2  그녀는 열심히 일하면 보상이 따른다는 아이디어를 받아들였어요.           if            that   \n",
       "\n",
       "      option_3  \n",
       "0  take a walk  \n",
       "1        tried  \n",
       "2        which  "
      ]
     },
     "execution_count": 214,
     "metadata": {},
     "output_type": "execute_result"
    }
   ],
   "source": [
    "db_high = db_high.rename(columns={\n",
    "    'curriculum id' : \"id\",\n",
    "    'Quiz 1' : \"quiz\",\n",
    "    'Korean 1' : \"korean\",\n",
    "    'Option 1-1' : \"option_1\",\n",
    "    'Option 1-2' : \"option_2\",\n",
    "    'Option 1-3' : \"option_3\",\n",
    "})\n",
    "db_high.head(3)"
   ]
  },
  {
   "cell_type": "markdown",
   "metadata": {},
   "source": [
    "## 중등 나누기"
   ]
  },
  {
   "cell_type": "code",
   "execution_count": 215,
   "metadata": {},
   "outputs": [
    {
     "data": {
      "text/plain": [
       "1110"
      ]
     },
     "execution_count": 215,
     "metadata": {},
     "output_type": "execute_result"
    }
   ],
   "source": [
    "len(db_mid)"
   ]
  },
  {
   "cell_type": "code",
   "execution_count": 216,
   "metadata": {},
   "outputs": [
    {
     "name": "stdout",
     "output_type": "stream",
     "text": [
      "db_mid_1 크기 : 600\n",
      "db_mid_2 크기 : 510\n",
      "총 db 크기 1110\n"
     ]
    }
   ],
   "source": [
    "db_mid_1 = db_mid[:600]\n",
    "db_mid_2 = db_mid[600:]\n",
    "\n",
    "print(f\"db_mid_1 크기 : {len(db_mid_1)}\")\n",
    "print(f\"db_mid_2 크기 : {len(db_mid_2)}\")\n",
    "print(f\"총 db 크기 {len(db_mid_1) + len(db_mid_2)}\")\n",
    "\n",
    "# csv 파일 만들기\n",
    "db_mid_1.to_csv(\"Quiz1_MID_Duplicate_check_1.csv\", encoding=\"utf-8-sig\", index=False)\n",
    "db_mid_2.to_csv(\"Quiz1_MID_Duplicate_check_2.csv\", encoding=\"utf-8-sig\", index=False)"
   ]
  },
  {
   "cell_type": "markdown",
   "metadata": {},
   "source": [
    "## 초등 나누기"
   ]
  },
  {
   "cell_type": "code",
   "execution_count": 217,
   "metadata": {},
   "outputs": [
    {
     "name": "stdout",
     "output_type": "stream",
     "text": [
      "769\n"
     ]
    }
   ],
   "source": [
    "print(len(db_elem))\n",
    "\n",
    "# csv 파일 만들기\n",
    "db_elem.to_csv(\"Quiz1_ELEM_Duplicate_check.csv\", encoding=\"utf-8-sig\", index=False)"
   ]
  },
  {
   "cell_type": "markdown",
   "metadata": {},
   "source": [
    "## 고등 나누기"
   ]
  },
  {
   "cell_type": "code",
   "execution_count": 218,
   "metadata": {},
   "outputs": [],
   "source": [
    "len(db_high)\n",
    "\n",
    "# csv 파일 만들기\n",
    "db_high.to_csv(\"Quiz1_HIGH_Duplicate_check.csv\", encoding=\"utf-8-sig\", index=False)"
   ]
  },
  {
   "cell_type": "markdown",
   "metadata": {},
   "source": [
    "# 퀴즈 2"
   ]
  },
  {
   "cell_type": "code",
   "execution_count": 219,
   "metadata": {},
   "outputs": [],
   "source": [
    "import pandas as pd\n",
    "db_mid = pd.read_csv(\"DB_MID.csv\")\n",
    "db_elem = pd.read_csv(\"DB_Elem.csv\")\n",
    "db_high = pd.read_csv(\"DB_High.csv\")"
   ]
  },
  {
   "cell_type": "code",
   "execution_count": 220,
   "metadata": {},
   "outputs": [
    {
     "data": {
      "text/plain": [
       "Index(['curriculum id', 'textbook ID', '학년', '출판사', '교육과정', 'Lesson', '구분',\n",
       "       'title', 'new_DES', 'DESCRIPTION', 'Key Expression (영어)',\n",
       "       'Key Expression (한국어)', 'Sub Expression (영어)', 'Sub Expression (한국어)',\n",
       "       '학습목표', 'Quiz 1', 'Korean 1', 'Option 1-1', 'Option 1-2', 'Option 1-3',\n",
       "       'Answer 1', 'Index 1', 'Quiz 2', 'Korean 2', 'Option 2-1', 'Option 2-2',\n",
       "       'Option 2-3', 'Answer 2', 'Index 2', '샘플 스크립트 (영어)', '샘플 스크립트 (한국어)',\n",
       "       'Unnamed: 31', 'STRUCTURE - Title, New Desc 작업용', 'Unnamed: 33',\n",
       "       'Unnamed: 34', 'Unnamed: 35'],\n",
       "      dtype='object')"
      ]
     },
     "execution_count": 220,
     "metadata": {},
     "output_type": "execute_result"
    }
   ],
   "source": [
    "db_mid.columns"
   ]
  },
  {
   "cell_type": "code",
   "execution_count": 221,
   "metadata": {},
   "outputs": [
    {
     "data": {
      "text/plain": [
       "Index(['curriculum id', 'textbook ID', '학년', '출판사', '교육과정', '단원 번호', '구분',\n",
       "       'title', 'new_DES', 'DESCRIPTION', 'KEY_EXPRESSION',\n",
       "       'KEY_EXPRESSION_KOR', 'SUB_EXPRESSION', 'SUB_EXPRESSION_KOR', '학습목표',\n",
       "       'Quiz 1', 'Korean 1', 'Option 1-1', 'Option 1-2', 'Option 1-3',\n",
       "       'Answer 1', 'Index 1', 'Quiz 2', 'Korean 2', 'Option 2-1', 'Option 2-2',\n",
       "       'Option 2-3', 'Answer 2', 'Index 2', '샘플 스크립트 (영어)', '샘플 스크립트 (한국어)'],\n",
       "      dtype='object')"
      ]
     },
     "execution_count": 221,
     "metadata": {},
     "output_type": "execute_result"
    }
   ],
   "source": [
    "db_elem.columns"
   ]
  },
  {
   "cell_type": "code",
   "execution_count": 222,
   "metadata": {},
   "outputs": [
    {
     "data": {
      "text/plain": [
       "Index(['curriculum id', 'textbook ID', '제목', '출판사', '교육과정', 'Lesson', '구분',\n",
       "       'title', 'new_DES', 'DESCRIPTION', 'Key Expression (영어)',\n",
       "       'Key Expression (한국어)', 'Sub Expression (영어)', 'Sub Expression (한국어)',\n",
       "       '학습목표', 'Quiz 1', 'Korean 1', 'Option 1-1', 'Option 1-2', 'Option 1-3',\n",
       "       'Answer 1', 'Index 1', 'Quiz 2', 'Korean 2', 'Option 2-1', 'Option 2-2',\n",
       "       'Option 2-3', 'Answer 2', 'Index 2', '샘플 스크립트 (영어)', '샘플 스크립트 (한국어)',\n",
       "       'Unnamed: 31', 'STRUCTURE - Title, New Desc 작업용', 'Unnamed: 33',\n",
       "       'Unnamed: 34', 'Unnamed: 35'],\n",
       "      dtype='object')"
      ]
     },
     "execution_count": 222,
     "metadata": {},
     "output_type": "execute_result"
    }
   ],
   "source": [
    "db_high.columns"
   ]
  },
  {
   "cell_type": "code",
   "execution_count": 223,
   "metadata": {},
   "outputs": [],
   "source": [
    "drop_col_mid = ['textbook ID', '학년', '출판사', '교육과정', 'Lesson', '구분',\n",
    "       'title', 'new_DES', 'DESCRIPTION', 'Key Expression (영어)',\n",
    "       'Key Expression (한국어)', 'Sub Expression (영어)', 'Sub Expression (한국어)',\n",
    "       '학습목표', 'Quiz 1', 'Korean 1', 'Option 1-1', 'Option 1-2', 'Option 1-3',\n",
    "       'Answer 1', 'Index 1', 'Answer 2', 'Index 2', '샘플 스크립트 (영어)', '샘플 스크립트 (한국어)',\n",
    "       'Unnamed: 31', 'STRUCTURE - Title, New Desc 작업용', 'Unnamed: 33',\n",
    "       'Unnamed: 34', 'Unnamed: 35']\n",
    "db_mid.drop(columns=drop_col_mid, inplace=True)"
   ]
  },
  {
   "cell_type": "code",
   "execution_count": 224,
   "metadata": {},
   "outputs": [],
   "source": [
    "drop_col_elem = ['textbook ID', '학년', '출판사', '교육과정', '단원 번호', '구분',\n",
    "       'title', 'new_DES', 'DESCRIPTION', 'KEY_EXPRESSION',\n",
    "       'KEY_EXPRESSION_KOR', 'SUB_EXPRESSION', 'SUB_EXPRESSION_KOR', '학습목표',\n",
    "       'Quiz 1', 'Korean 1', 'Option 1-1', 'Option 1-2', 'Option 1-3',\n",
    "       'Answer 1', 'Index 1', 'Answer 2', 'Index 2', '샘플 스크립트 (영어)', '샘플 스크립트 (한국어)']\n",
    "db_elem.drop(columns=drop_col_elem, inplace=True)"
   ]
  },
  {
   "cell_type": "code",
   "execution_count": 225,
   "metadata": {},
   "outputs": [],
   "source": [
    "drop_col_high = ['textbook ID', '제목', '출판사', '교육과정', 'Lesson', '구분',\n",
    "       'title', 'new_DES', 'DESCRIPTION', 'Key Expression (영어)',\n",
    "       'Key Expression (한국어)', 'Sub Expression (영어)', 'Sub Expression (한국어)',\n",
    "       '학습목표', 'Quiz 1', 'Korean 1', 'Option 1-1', 'Option 1-2', 'Option 1-3',\n",
    "       'Answer 1', 'Index 1', 'Answer 2', 'Index 2', '샘플 스크립트 (영어)', '샘플 스크립트 (한국어)',\n",
    "       'Unnamed: 31', 'STRUCTURE - Title, New Desc 작업용', 'Unnamed: 33',\n",
    "       'Unnamed: 34', 'Unnamed: 35']\n",
    "db_high.drop(columns=drop_col_high, inplace=True)"
   ]
  },
  {
   "cell_type": "code",
   "execution_count": 226,
   "metadata": {},
   "outputs": [
    {
     "data": {
      "text/html": [
       "<div>\n",
       "<style scoped>\n",
       "    .dataframe tbody tr th:only-of-type {\n",
       "        vertical-align: middle;\n",
       "    }\n",
       "\n",
       "    .dataframe tbody tr th {\n",
       "        vertical-align: top;\n",
       "    }\n",
       "\n",
       "    .dataframe thead th {\n",
       "        text-align: right;\n",
       "    }\n",
       "</style>\n",
       "<table border=\"1\" class=\"dataframe\">\n",
       "  <thead>\n",
       "    <tr style=\"text-align: right;\">\n",
       "      <th></th>\n",
       "      <th>id</th>\n",
       "      <th>quiz</th>\n",
       "      <th>korean</th>\n",
       "      <th>option_1</th>\n",
       "      <th>option_2</th>\n",
       "      <th>option_3</th>\n",
       "    </tr>\n",
       "  </thead>\n",
       "  <tbody>\n",
       "    <tr>\n",
       "      <th>0</th>\n",
       "      <td>1</td>\n",
       "      <td>A: Hi, I’m Sam. I ____ from Korea. B: Nice to ...</td>\n",
       "      <td>A: 안녕, 나는 Sam이야. 나는 Korea에서 왔어. B: 만나서 반가워.</td>\n",
       "      <td>live</td>\n",
       "      <td>come</td>\n",
       "      <td>am</td>\n",
       "    </tr>\n",
       "    <tr>\n",
       "      <th>1</th>\n",
       "      <td>2</td>\n",
       "      <td>What do you ______ the most?</td>\n",
       "      <td>가장 좋아하는 것은 무엇이에요?</td>\n",
       "      <td>prefer</td>\n",
       "      <td>love</td>\n",
       "      <td>like</td>\n",
       "    </tr>\n",
       "    <tr>\n",
       "      <th>2</th>\n",
       "      <td>3</td>\n",
       "      <td>I'm _____ to try a new recipe.</td>\n",
       "      <td>나는 새로운 요리를 시도할 계획이야.</td>\n",
       "      <td>planning</td>\n",
       "      <td>preparing</td>\n",
       "      <td>deciding</td>\n",
       "    </tr>\n",
       "  </tbody>\n",
       "</table>\n",
       "</div>"
      ],
      "text/plain": [
       "   id                                               quiz  \\\n",
       "0   1  A: Hi, I’m Sam. I ____ from Korea. B: Nice to ...   \n",
       "1   2                       What do you ______ the most?   \n",
       "2   3                     I'm _____ to try a new recipe.   \n",
       "\n",
       "                                        korean  option_1   option_2  option_3  \n",
       "0  A: 안녕, 나는 Sam이야. 나는 Korea에서 왔어. B: 만나서 반가워.      live       come        am  \n",
       "1                            가장 좋아하는 것은 무엇이에요?    prefer       love      like  \n",
       "2                         나는 새로운 요리를 시도할 계획이야.  planning  preparing  deciding  "
      ]
     },
     "execution_count": 226,
     "metadata": {},
     "output_type": "execute_result"
    }
   ],
   "source": [
    "db_mid = db_mid.rename(columns={\n",
    "    'curriculum id' : \"id\",\n",
    "    'Quiz 2' : \"quiz\",\n",
    "    'Korean 2' : \"korean\",\n",
    "    'Option 2-1' : \"option_1\",\n",
    "    'Option 2-2' : \"option_2\",\n",
    "    'Option 2-3' : \"option_3\",\n",
    "})\n",
    "db_mid.head(3)"
   ]
  },
  {
   "cell_type": "code",
   "execution_count": 227,
   "metadata": {},
   "outputs": [
    {
     "data": {
      "text/html": [
       "<div>\n",
       "<style scoped>\n",
       "    .dataframe tbody tr th:only-of-type {\n",
       "        vertical-align: middle;\n",
       "    }\n",
       "\n",
       "    .dataframe tbody tr th {\n",
       "        vertical-align: top;\n",
       "    }\n",
       "\n",
       "    .dataframe thead th {\n",
       "        text-align: right;\n",
       "    }\n",
       "</style>\n",
       "<table border=\"1\" class=\"dataframe\">\n",
       "  <thead>\n",
       "    <tr style=\"text-align: right;\">\n",
       "      <th></th>\n",
       "      <th>id</th>\n",
       "      <th>quiz</th>\n",
       "      <th>korean</th>\n",
       "      <th>option_1</th>\n",
       "      <th>option_2</th>\n",
       "      <th>option_3</th>\n",
       "    </tr>\n",
       "  </thead>\n",
       "  <tbody>\n",
       "    <tr>\n",
       "      <th>0</th>\n",
       "      <td>10001</td>\n",
       "      <td>Good evening! ___ you soon!</td>\n",
       "      <td>좋은 저녁이에요! 곧 봐요!</td>\n",
       "      <td>See</td>\n",
       "      <td>Look</td>\n",
       "      <td>Meet</td>\n",
       "    </tr>\n",
       "    <tr>\n",
       "      <th>1</th>\n",
       "      <td>10002</td>\n",
       "      <td>My name is Minho. I ___ Minho.</td>\n",
       "      <td>내 이름은 민호야. 나는 민호라고 불러.</td>\n",
       "      <td>called</td>\n",
       "      <td>go by</td>\n",
       "      <td>roll by</td>\n",
       "    </tr>\n",
       "    <tr>\n",
       "      <th>2</th>\n",
       "      <td>10003</td>\n",
       "      <td>A: I _____ it. B: Anytime.</td>\n",
       "      <td>A: 나는 그것에 감사해. B: 언제든지.</td>\n",
       "      <td>accept</td>\n",
       "      <td>appreciate</td>\n",
       "      <td>ignore</td>\n",
       "    </tr>\n",
       "  </tbody>\n",
       "</table>\n",
       "</div>"
      ],
      "text/plain": [
       "      id                            quiz                   korean option_1  \\\n",
       "0  10001     Good evening! ___ you soon!          좋은 저녁이에요! 곧 봐요!      See   \n",
       "1  10002  My name is Minho. I ___ Minho.   내 이름은 민호야. 나는 민호라고 불러.   called   \n",
       "2  10003      A: I _____ it. B: Anytime.  A: 나는 그것에 감사해. B: 언제든지.   accept   \n",
       "\n",
       "     option_2 option_3  \n",
       "0        Look     Meet  \n",
       "1       go by  roll by  \n",
       "2  appreciate   ignore  "
      ]
     },
     "execution_count": 227,
     "metadata": {},
     "output_type": "execute_result"
    }
   ],
   "source": [
    "db_elem = db_elem.rename(columns={\n",
    "    'curriculum id' : \"id\",\n",
    "    'Quiz 2' : \"quiz\",\n",
    "    'Korean 2' : \"korean\",\n",
    "    'Option 2-1' : \"option_1\",\n",
    "    'Option 2-2' : \"option_2\",\n",
    "    'Option 2-3' : \"option_3\",\n",
    "})\n",
    "db_elem.head(3)"
   ]
  },
  {
   "cell_type": "code",
   "execution_count": 228,
   "metadata": {},
   "outputs": [
    {
     "data": {
      "text/html": [
       "<div>\n",
       "<style scoped>\n",
       "    .dataframe tbody tr th:only-of-type {\n",
       "        vertical-align: middle;\n",
       "    }\n",
       "\n",
       "    .dataframe tbody tr th {\n",
       "        vertical-align: top;\n",
       "    }\n",
       "\n",
       "    .dataframe thead th {\n",
       "        text-align: right;\n",
       "    }\n",
       "</style>\n",
       "<table border=\"1\" class=\"dataframe\">\n",
       "  <thead>\n",
       "    <tr style=\"text-align: right;\">\n",
       "      <th></th>\n",
       "      <th>id</th>\n",
       "      <th>quiz</th>\n",
       "      <th>korean</th>\n",
       "      <th>option_1</th>\n",
       "      <th>option_2</th>\n",
       "      <th>option_3</th>\n",
       "    </tr>\n",
       "  </thead>\n",
       "  <tbody>\n",
       "    <tr>\n",
       "      <th>0</th>\n",
       "      <td>1001</td>\n",
       "      <td>You should ______ every day.</td>\n",
       "      <td>네, 매일 연습해야 해.</td>\n",
       "      <td>sing</td>\n",
       "      <td>practice</td>\n",
       "      <td>play</td>\n",
       "    </tr>\n",
       "    <tr>\n",
       "      <th>1</th>\n",
       "      <td>1002</td>\n",
       "      <td>They are worried about ___ the bus.</td>\n",
       "      <td>그들은 버스를 놓칠까 봐 걱정해요.</td>\n",
       "      <td>miss</td>\n",
       "      <td>missing</td>\n",
       "      <td>missed</td>\n",
       "    </tr>\n",
       "    <tr>\n",
       "      <th>2</th>\n",
       "      <td>1003</td>\n",
       "      <td>They maintain the belief ___ every effort counts.</td>\n",
       "      <td>그들은 모든 노력이 중요하다는 믿음을 유지해요.</td>\n",
       "      <td>that</td>\n",
       "      <td>if</td>\n",
       "      <td>whether</td>\n",
       "    </tr>\n",
       "  </tbody>\n",
       "</table>\n",
       "</div>"
      ],
      "text/plain": [
       "     id                                               quiz  \\\n",
       "0  1001                       You should ______ every day.   \n",
       "1  1002                They are worried about ___ the bus.   \n",
       "2  1003  They maintain the belief ___ every effort counts.   \n",
       "\n",
       "                       korean option_1  option_2 option_3  \n",
       "0               네, 매일 연습해야 해.     sing  practice     play  \n",
       "1         그들은 버스를 놓칠까 봐 걱정해요.     miss   missing   missed  \n",
       "2  그들은 모든 노력이 중요하다는 믿음을 유지해요.     that        if  whether  "
      ]
     },
     "execution_count": 228,
     "metadata": {},
     "output_type": "execute_result"
    }
   ],
   "source": [
    "db_high = db_high.rename(columns={\n",
    "    'curriculum id' : \"id\",\n",
    "    'Quiz 2' : \"quiz\",\n",
    "    'Korean 2' : \"korean\",\n",
    "    'Option 2-1' : \"option_1\",\n",
    "    'Option 2-2' : \"option_2\",\n",
    "    'Option 2-3' : \"option_3\",\n",
    "})\n",
    "db_high.head(3)"
   ]
  },
  {
   "cell_type": "markdown",
   "metadata": {},
   "source": [
    "## 중등 나누기"
   ]
  },
  {
   "cell_type": "code",
   "execution_count": 229,
   "metadata": {},
   "outputs": [
    {
     "data": {
      "text/plain": [
       "1110"
      ]
     },
     "execution_count": 229,
     "metadata": {},
     "output_type": "execute_result"
    }
   ],
   "source": [
    "len(db_mid)"
   ]
  },
  {
   "cell_type": "code",
   "execution_count": 230,
   "metadata": {},
   "outputs": [
    {
     "name": "stdout",
     "output_type": "stream",
     "text": [
      "db_mid_1 크기 : 600\n",
      "db_mid_2 크기 : 510\n",
      "총 db 크기 1110\n"
     ]
    }
   ],
   "source": [
    "db_mid_1 = db_mid[:600]\n",
    "db_mid_2 = db_mid[600:]\n",
    "\n",
    "print(f\"db_mid_1 크기 : {len(db_mid_1)}\")\n",
    "print(f\"db_mid_2 크기 : {len(db_mid_2)}\")\n",
    "print(f\"총 db 크기 {len(db_mid_1) + len(db_mid_2)}\")\n",
    "\n",
    "# csv 파일 만들기\n",
    "db_mid_1.to_csv(\"Quiz2_MID_Duplicate_check_1.csv\", encoding=\"utf-8-sig\", index=False)\n",
    "db_mid_2.to_csv(\"Quiz2_MID_Duplicate_check_2.csv\", encoding=\"utf-8-sig\", index=False)"
   ]
  },
  {
   "cell_type": "markdown",
   "metadata": {},
   "source": [
    "## 초등 나누기기"
   ]
  },
  {
   "cell_type": "code",
   "execution_count": 231,
   "metadata": {},
   "outputs": [
    {
     "data": {
      "text/plain": [
       "769"
      ]
     },
     "execution_count": 231,
     "metadata": {},
     "output_type": "execute_result"
    }
   ],
   "source": [
    "len(db_elem)"
   ]
  },
  {
   "cell_type": "code",
   "execution_count": 232,
   "metadata": {},
   "outputs": [
    {
     "name": "stdout",
     "output_type": "stream",
     "text": [
      "769\n"
     ]
    }
   ],
   "source": [
    "print(len(db_elem))\n",
    "\n",
    "# csv 파일 만들기\n",
    "db_elem.to_csv(\"Quiz2_ELEM_Duplicate_check.csv\", encoding=\"utf-8-sig\", index=False)"
   ]
  },
  {
   "cell_type": "markdown",
   "metadata": {},
   "source": [
    "## 고등 나누기"
   ]
  },
  {
   "cell_type": "code",
   "execution_count": 233,
   "metadata": {},
   "outputs": [],
   "source": [
    "len(db_high)\n",
    "\n",
    "# csv 파일 만들기\n",
    "db_high.to_csv(\"Quiz2_HIGH_Duplicate_check.csv\", encoding=\"utf-8-sig\", index=False)"
   ]
  }
 ],
 "metadata": {
  "kernelspec": {
   "display_name": "base",
   "language": "python",
   "name": "python3"
  },
  "language_info": {
   "codemirror_mode": {
    "name": "ipython",
    "version": 3
   },
   "file_extension": ".py",
   "mimetype": "text/x-python",
   "name": "python",
   "nbconvert_exporter": "python",
   "pygments_lexer": "ipython3",
   "version": "3.12.7"
  }
 },
 "nbformat": 4,
 "nbformat_minor": 2
}
