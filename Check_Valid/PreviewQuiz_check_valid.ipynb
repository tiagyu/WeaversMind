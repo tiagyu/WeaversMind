{
 "cells": [
  {
   "cell_type": "markdown",
   "metadata": {},
   "source": [
    "# 커리큘럼 preview quiz 검수"
   ]
  },
  {
   "cell_type": "code",
   "execution_count": 1,
   "metadata": {},
   "outputs": [],
   "source": [
    "import pandas as pd\n",
    "import re\n",
    "import json\n",
    "import random\n",
    "import csv\n",
    "from tqdm.notebook import tqdm\n",
    "from collections import Counter"
   ]
  },
  {
   "cell_type": "code",
   "execution_count": 135,
   "metadata": {},
   "outputs": [],
   "source": [
    "df_mid = pd.read_csv(\"DB_MID.csv\")\n",
    "df_elem = pd.read_csv(\"DB_Elem.csv\")\n",
    "df_high =pd.read_csv(\"Curriculum_High.csv\")"
   ]
  },
  {
   "cell_type": "code",
   "execution_count": 3,
   "metadata": {},
   "outputs": [
    {
     "data": {
      "text/plain": [
       "Index(['textbook ID', '학년', '출판사', '교육과정', 'Lesson', '구분', 'title', 'new_DES',\n",
       "       'DESCRIPTION', 'Key Expression (영어)', 'Key Expression (한국어)',\n",
       "       'Sub Expression (영어)', 'Sub Expression (한국어)', '학습목표', 'Quiz 1',\n",
       "       'Korean 1', 'Option 1-1', 'Option 1-2', 'Option 1-3', 'Answer 1',\n",
       "       'Index 1', 'Quiz 2', 'Korean 2', 'Option 2-1', 'Option 2-2',\n",
       "       'Option 2-3', 'Answer 2', 'Index 2', '샘플 스크립트 (영어)', '샘플 스크립트 (한국어)',\n",
       "       'Unnamed: 30', 'STRUCTURE - Title, New Desc 작업용', 'Unnamed: 32',\n",
       "       'Unnamed: 33', 'Unnamed: 34'],\n",
       "      dtype='object')"
      ]
     },
     "execution_count": 3,
     "metadata": {},
     "output_type": "execute_result"
    }
   ],
   "source": [
    "df_mid.columns"
   ]
  },
  {
   "cell_type": "code",
   "execution_count": 165,
   "metadata": {},
   "outputs": [],
   "source": [
    "def preview_quiz_check_valid(data:pd.DataFrame):\n",
    "    # 에러 유무 확인\n",
    "    error_found = False\n",
    "    \n",
    "    # 변수 가져오기\n",
    "    for i in tqdm(range(len(data)), total = len(data)):\n",
    "        # quiz 1\n",
    "        quiz_1 = data[\"Quiz 1\"][i]\n",
    "        korean_1 = data[\"Korean 1\"][i]\n",
    "        option_1_1 = data[\"Option 1-1\"][i]\n",
    "        option_1_2 = data[\"Option 1-2\"][i]\n",
    "        option_1_3 = data[\"Option 1-3\"][i]\n",
    "        answer_1 = data[\"Answer 1\"][i]\n",
    "        index_1 = data[\"Index 1\"][i]\n",
    "\n",
    "        # quiz 2\n",
    "        quiz_2 = data[\"Quiz 2\"][i]\n",
    "        korean_2 = data[\"Korean 2\"][i]\n",
    "        option_2_1 = data[\"Option 2-1\"][i]\n",
    "        option_2_2 = data[\"Option 2-2\"][i]\n",
    "        option_2_3 = data[\"Option 2-3\"][i]\n",
    "        answer_2 = data[\"Answer 2\"][i]\n",
    "        index_2 = data[\"Index 2\"][i]\n",
    "\n",
    "        # QUIZ 1 확인\n",
    "        # 필드값 누락 체크\n",
    "        if (    not quiz_1\n",
    "                or not korean_1\n",
    "                or not option_1_1\n",
    "                or not option_1_2\n",
    "                or not option_1_3\n",
    "                or not answer_1\n",
    "                or not index_1\n",
    "            ):\n",
    "            print(f\"\\nQuiz 1 {i+2}번째 행 : 필드값 누락 체크\")\n",
    "            error_found = True\n",
    "\n",
    "        # 1. 빈칸이 하나 이상있고, 두 개 이상이 없는지 체크\n",
    "        appropriate_blank = r\"_+\"\n",
    "        underscores = re.findall(appropriate_blank, quiz_1)\n",
    "\n",
    "        if len(underscores) > 1:\n",
    "            print(f\"\\nQuiz 1 {i+2}번째 행 : Blank error - 밑줄이 두 개 이상 존재\")\n",
    "            error_found = True\n",
    "        elif len(underscores) ==1:\n",
    "            pass\n",
    "        else:\n",
    "            print(f\"\\nQuiz 1 {i+2}번째 행 : Blank error - 밑줄이 존재하지 않음\")\n",
    "            error_found = True\n",
    "\n",
    "        # 1-1 한국어 해석에 빈칸이 있는지\n",
    "        appropriate_blank_korean = r'[_~]+'\n",
    "        korean_underscores = re.findall(appropriate_blank_korean, korean_1)\n",
    "        if len(korean_underscores) >= 1:\n",
    "            print(f\"\\nQuiz 1 {i+2}번째 행 : 한국어 해석에 밑줄 있음\")\n",
    "            error_found = True\n",
    "\n",
    "        # 2. 정답이 옵션에 포함되어 있는지 체크\n",
    "        options_1 = [option_1_1, option_1_2, option_1_3]\n",
    "\n",
    "        # answer가 options에 있는지 확인\n",
    "        if answer_1 not in options_1:\n",
    "            print(f\"\\nQuiz 1 {i+2}번째 행 : Answer not in options error\")\n",
    "            error_found = True\n",
    "\n",
    "        # answer가 숫자로 이루어져있는지 확인\n",
    "        if isinstance(index_1, str) and not index_1.isnumeric():\n",
    "            print(f\"\\nQuiz 1 {i+2}번째 행 : Answer in options error\")\n",
    "            error_found = True\n",
    "\n",
    "        # 3. 정답의 인덱스가 answer_index와 일치하는지 확인\n",
    "        index_1 = int(index_1)\n",
    "        if options_1[index_1 - 1] != answer_1:\n",
    "            print((f\"\\nQuiz 1 {i+2}번째 행 : 정답의 인덱스가 answer_index와 불일치\"))\n",
    "            #print(f\"{options_1}의 정답이 {answer_1}이지만 index {index_1}로 적혀있는 에러\")\n",
    "            error_found = True\n",
    "\n",
    "        # QUIZ 2 확인\n",
    "        # 필드값 누락 체크\n",
    "        if (    not quiz_2\n",
    "                or not korean_2\n",
    "                or not option_2_1\n",
    "                or not option_2_2\n",
    "                or not option_2_3\n",
    "                or not answer_2\n",
    "                or not index_2\n",
    "            ):\n",
    "            print(f\"\\nQuiz 2 {i+2}번째 행 : 필드값 누락 체크\")\n",
    "            error_found = True\n",
    "\n",
    "        # 1. 빈칸이 하나 이상있고, 두 개 이상이 없는지 체크\n",
    "        appropriate_blank = r\"_+\"\n",
    "        underscores = re.findall(appropriate_blank, quiz_2)\n",
    "\n",
    "        if len(underscores) > 1:\n",
    "            print(f\"\\nQuiz 2 {i+2}번째 행 : Blank error - 밑줄이 두 개 이상 존재\")\n",
    "            error_found = True\n",
    "        elif len(underscores) ==1:\n",
    "            pass\n",
    "        else:\n",
    "            print(f\"\\nQuiz 2 {i+2}번째 행 : Blank error - 밑줄이 존재하지 않음\")\n",
    "            error_found = True\n",
    "        \n",
    "        # 1-1 한국어 해석에 빈칸이 있는지\n",
    "        appropriate_blank_korean = r'[_~]+'\n",
    "        korean_underscores = re.findall(appropriate_blank_korean, korean_2)\n",
    "        if len(korean_underscores) >= 1:\n",
    "            print(f\"\\nQuiz 2 {i+2}번째 행 : 한국어 해석에 밑줄 있음\")\n",
    "            error_found = True\n",
    "\n",
    "        # 2. 정답이 옵션에 포함되어 있는지 체크\n",
    "        options_2 = [option_2_1, option_2_2, option_2_3]\n",
    "\n",
    "        # answer가 options에 있는지 확인\n",
    "        if answer_2 not in options_2:\n",
    "            print(f\"\\nQuiz 2 {i+2}번째 행 : Answer not in options error\")\n",
    "            error_found = True\n",
    "\n",
    "        # answer가 숫자로 이루어져있는지 확인\n",
    "        if isinstance(index_2, str) and not index_2.isnumeric():\n",
    "            print(f\"\\nQuiz 2 {i+2}번째 행 : Answer in options error\")\n",
    "            error_found = True\n",
    "\n",
    "        # 3. 정답의 인덱스가 answer_index와 일치하는지 확인\n",
    "        index_2 = int(index_2)\n",
    "        if options_2[index_2 - 1] != answer_2:\n",
    "            print((f\"\\nQuiz 2 {i+2}번째 행 : 정답의 인덱스가 answer_index와 불일치\"))\n",
    "            #print(f\"{options_2}의 정답이 {answer_2}이지만 index {index_2}로 적혀있는 에러\")\n",
    "            error_found = True\n",
    "    \n",
    "    if not error_found:\n",
    "        print(\"모든 데이터가 정상입니다다\")\n"
   ]
  },
  {
   "cell_type": "code",
   "execution_count": 158,
   "metadata": {},
   "outputs": [
    {
     "data": {
      "text/plain": [
       "0    A: 내 이름은 Felix야. 나는 Australia 출신이야. B: 만나서 반가워.\n",
       "1                             네가 가장 좋아하는 스포츠는 무엇이에요?\n",
       "2                 A: 너는 휴일에 무엇을 할 예정이니? B: 여행을 갈 거야.\n",
       "3                                우리 도시에는 많은 공원이 있어요.\n",
       "4                  A: 너는 ______ 해야 해. B: 알겠어, 노력해볼게.\n",
       "Name: Korean 1, dtype: object"
      ]
     },
     "execution_count": 158,
     "metadata": {},
     "output_type": "execute_result"
    }
   ],
   "source": [
    "df_mid['Korean 1'][:5]"
   ]
  },
  {
   "cell_type": "code",
   "execution_count": 167,
   "metadata": {},
   "outputs": [
    {
     "name": "stderr",
     "output_type": "stream",
     "text": [
      "100%|██████████| 1110/1110 [00:00<00:00, 14620.82it/s]"
     ]
    },
    {
     "name": "stdout",
     "output_type": "stream",
     "text": [
      "\n",
      "Quiz 1 6번째 행 : 한국어 해석에 밑줄 있음\n",
      "\n",
      "Quiz 2 6번째 행 : 한국어 해석에 밑줄 있음\n",
      "\n",
      "Quiz 1 65번째 행 : 한국어 해석에 밑줄 있음\n",
      "\n",
      "Quiz 2 65번째 행 : 한국어 해석에 밑줄 있음\n",
      "\n",
      "Quiz 2 76번째 행 : 한국어 해석에 밑줄 있음\n",
      "\n",
      "Quiz 1 108번째 행 : 한국어 해석에 밑줄 있음\n",
      "\n",
      "Quiz 2 108번째 행 : 한국어 해석에 밑줄 있음\n",
      "\n",
      "Quiz 2 127번째 행 : 한국어 해석에 밑줄 있음\n",
      "\n",
      "Quiz 2 262번째 행 : 한국어 해석에 밑줄 있음\n",
      "\n",
      "Quiz 1 500번째 행 : 한국어 해석에 밑줄 있음\n",
      "\n",
      "Quiz 2 500번째 행 : 한국어 해석에 밑줄 있음\n",
      "\n",
      "Quiz 1 545번째 행 : 한국어 해석에 밑줄 있음\n",
      "\n",
      "Quiz 2 545번째 행 : 한국어 해석에 밑줄 있음\n",
      "\n",
      "Quiz 2 834번째 행 : 한국어 해석에 밑줄 있음\n",
      "\n",
      "Quiz 2 933번째 행 : 한국어 해석에 밑줄 있음\n"
     ]
    },
    {
     "name": "stderr",
     "output_type": "stream",
     "text": [
      "\n"
     ]
    }
   ],
   "source": [
    "preview_quiz_check_valid(df_mid)"
   ]
  },
  {
   "cell_type": "code",
   "execution_count": 163,
   "metadata": {},
   "outputs": [
    {
     "name": "stderr",
     "output_type": "stream",
     "text": [
      "100%|██████████| 769/769 [00:00<00:00, 14904.21it/s]"
     ]
    },
    {
     "name": "stdout",
     "output_type": "stream",
     "text": [
      "\n",
      "Quiz 2 44번째 행 : 한국어 해석에 밑줄 있음\n",
      "\n",
      "Quiz 2 58번째 행 : 한국어 해석에 밑줄 있음\n",
      "\n",
      "Quiz 2 107번째 행 : 한국어 해석에 밑줄 있음\n",
      "\n",
      "Quiz 2 123번째 행 : 한국어 해석에 밑줄 있음\n",
      "\n",
      "Quiz 2 126번째 행 : 한국어 해석에 밑줄 있음\n",
      "\n",
      "Quiz 2 132번째 행 : 한국어 해석에 밑줄 있음\n",
      "\n",
      "Quiz 2 208번째 행 : 한국어 해석에 밑줄 있음\n",
      "\n",
      "Quiz 2 252번째 행 : 한국어 해석에 밑줄 있음\n",
      "\n",
      "Quiz 2 253번째 행 : 한국어 해석에 밑줄 있음\n",
      "\n",
      "Quiz 2 286번째 행 : 한국어 해석에 밑줄 있음\n",
      "\n",
      "Quiz 2 297번째 행 : 한국어 해석에 밑줄 있음\n",
      "\n",
      "Quiz 2 303번째 행 : 한국어 해석에 밑줄 있음\n",
      "\n",
      "Quiz 2 326번째 행 : 한국어 해석에 밑줄 있음\n",
      "\n",
      "Quiz 2 392번째 행 : 한국어 해석에 밑줄 있음\n",
      "\n",
      "Quiz 2 424번째 행 : 한국어 해석에 밑줄 있음\n",
      "\n",
      "Quiz 2 449번째 행 : 한국어 해석에 밑줄 있음\n",
      "\n",
      "Quiz 2 459번째 행 : 한국어 해석에 밑줄 있음\n",
      "\n",
      "Quiz 2 468번째 행 : 한국어 해석에 밑줄 있음\n",
      "\n",
      "Quiz 2 495번째 행 : 한국어 해석에 밑줄 있음\n",
      "\n",
      "Quiz 2 523번째 행 : 한국어 해석에 밑줄 있음\n",
      "\n",
      "Quiz 2 545번째 행 : 한국어 해석에 밑줄 있음\n",
      "\n",
      "Quiz 2 572번째 행 : 한국어 해석에 밑줄 있음\n",
      "\n",
      "Quiz 2 573번째 행 : 한국어 해석에 밑줄 있음\n",
      "\n",
      "Quiz 2 584번째 행 : 한국어 해석에 밑줄 있음\n",
      "\n",
      "Quiz 2 608번째 행 : 한국어 해석에 밑줄 있음\n",
      "\n",
      "Quiz 2 616번째 행 : 한국어 해석에 밑줄 있음\n",
      "\n",
      "Quiz 2 660번째 행 : 한국어 해석에 밑줄 있음\n",
      "\n",
      "Quiz 2 689번째 행 : 한국어 해석에 밑줄 있음\n",
      "\n",
      "Quiz 2 731번째 행 : 한국어 해석에 밑줄 있음\n",
      "\n",
      "Quiz 2 733번째 행 : 한국어 해석에 밑줄 있음\n"
     ]
    },
    {
     "name": "stderr",
     "output_type": "stream",
     "text": [
      "\n"
     ]
    }
   ],
   "source": [
    "preview_quiz_check_valid(df_elem)"
   ]
  },
  {
   "cell_type": "code",
   "execution_count": 164,
   "metadata": {},
   "outputs": [],
   "source": [
    "# preview_quiz_check_valid(df_high)"
   ]
  },
  {
   "cell_type": "markdown",
   "metadata": {},
   "source": [
    "## 중복 정답 여부 확인"
   ]
  },
  {
   "cell_type": "code",
   "execution_count": 63,
   "metadata": {},
   "outputs": [],
   "source": [
    "from openai import OpenAI\n",
    "from getpass import getpass\n",
    "from jinja2 import Template\n",
    "from openai.lib._parsing import type_to_response_format_param\n",
    "from pydantic import BaseModel\n",
    "import json\n",
    "import pandas as pd\n",
    "from tqdm import tqdm"
   ]
  },
  {
   "cell_type": "code",
   "execution_count": 64,
   "metadata": {},
   "outputs": [],
   "source": [
    "api_key = getpass(\"OPENAI_API_KEY\")\n",
    "client = OpenAI(api_key=api_key)"
   ]
  },
  {
   "cell_type": "code",
   "execution_count": 108,
   "metadata": {},
   "outputs": [],
   "source": [
    "prompt_template = Template(\"\"\"\n",
    "[PURPOSE]\n",
    "You are going to solve the quiz and write down the answer_reason.\n",
    "There is not necessarily a single correct answer.\n",
    "Select all that are correct.\n",
    "                           \n",
    "[Example]\n",
    "```\n",
    "Input: \n",
    "    {\n",
    "    \"quiz\": \"What is your ______ sport?\",\n",
    "    \"korean\": \"네가 가장 좋아하는 스포츠는 무엇이에요?\",\n",
    "    \"option_1\": \"like\",\n",
    "    \"option_2\": \"favorite\",\n",
    "    \"option_3\": \"best\",\n",
    "  }\n",
    "\n",
    "Output:\n",
    "    {   \n",
    "    \"possible_answer\": [\"favorite\"],\n",
    "    \"answer_reason\": \"The word 'favorite' is the correct answer because the sentence is asking about someone's most preferred sport.\n",
    "\n",
    "1. 'favorite' means 가장 좋아하는 in Korean, which matches the meaning of the given Korean sentence.\n",
    "2. 'like' is a verb (좋아하다) and does not fit grammatically in this sentence.\n",
    "3. 'best' means 최고의, which refers to the highest quality rather than personal preference.\n",
    "\n",
    "Thus, 'favorite' is the correct choice.\"\n",
    "}\n",
    "```                     \n",
    "```\n",
    "Input: \n",
    "    {\n",
    "    \"quiz\": \"A: What are you _____ on your holiday? B: I’m going to travel.\",\n",
    "    \"korean\": \"A: 너는 휴일에 무엇을 할 예정이니? B: 여행을 갈 거야.\",\n",
    "    \"option_1\": \"planning to do\",\n",
    "    \"option_2\": \"going to do\",\n",
    "    \"option_3\": \"will do\",\n",
    "  }\n",
    "\n",
    "Output:\n",
    "    {   \n",
    "    \"possible_answer\": [\"planning to do, going to do\",]\n",
    "    \"answer_reason\": \"Both 'planning to do' and 'going to do' fit naturally in the sentence.\n",
    "\n",
    "1. 'Going to do' is commonly used for future plans and matches the response \"I’m going to travel.\"\n",
    "2. 'Planning to do' also makes sense because it refers to making arrangements for the holiday.\n",
    "3. 'Will do' is less natural in this context because it’s not commonly used for asking about planned activities.\"\n",
    "\n",
    "Thus, 'planning to do' and 'going to do' are the correct choice.\"\n",
    "}\n",
    "```\n",
    "\n",
    "[Input]\n",
    "```\n",
    "QUIZ : {{quiz}}\n",
    "KOREAN : {{korean}}\n",
    "OPTION_1 : {{option_1}}\n",
    "OPTION_2 : {{option_2}}\n",
    "OPTION_3 : {{option_3}}\n",
    "```\n",
    "\"\"\")"
   ]
  },
  {
   "cell_type": "code",
   "execution_count": 109,
   "metadata": {},
   "outputs": [],
   "source": [
    "class Reason(BaseModel):\n",
    "    possible_answer : list[str]\n",
    "    answer_reason : str"
   ]
  },
  {
   "cell_type": "code",
   "execution_count": 102,
   "metadata": {},
   "outputs": [],
   "source": [
    "response_format = type_to_response_format_param(Reason)"
   ]
  },
  {
   "cell_type": "code",
   "execution_count": 103,
   "metadata": {},
   "outputs": [
    {
     "data": {
      "text/plain": [
       "{'type': 'json_schema',\n",
       " 'json_schema': {'schema': {'properties': {'possible_answer': {'items': {'type': 'string'},\n",
       "     'title': 'Possible Answer',\n",
       "     'type': 'array'},\n",
       "    'answer_reason': {'title': 'Answer Reason', 'type': 'string'}},\n",
       "   'required': ['possible_answer', 'answer_reason'],\n",
       "   'title': 'Reason',\n",
       "   'type': 'object',\n",
       "   'additionalProperties': False},\n",
       "  'name': 'Reason',\n",
       "  'strict': True}}"
      ]
     },
     "execution_count": 103,
     "metadata": {},
     "output_type": "execute_result"
    }
   ],
   "source": [
    "response_format"
   ]
  },
  {
   "cell_type": "code",
   "execution_count": 69,
   "metadata": {},
   "outputs": [],
   "source": [
    "def completion(prompt : str) -> str:\n",
    "    response = client.beta.chat.completions.parse(\n",
    "        model = 'o3-mini',\n",
    "        reasoning_effort='low',\n",
    "        messages = [\n",
    "            {\"role\" : \"system\", \"content\" : \"You are going to solve the quiz and write down the answer_reason.\"},\n",
    "            {\"role\" : \"user\", \"content\" : prompt}\n",
    "        ],\n",
    "        response_format = Reason,\n",
    "    )\n",
    "    return response.choices[0].message.parsed"
   ]
  },
  {
   "cell_type": "code",
   "execution_count": 71,
   "metadata": {},
   "outputs": [],
   "source": [
    "prompt = prompt_template.render(\n",
    "    quiz = \"___ I borrow your book?\",\n",
    "    korean = \"내 책 좀 빌려도 될까요?\",\n",
    "    option_1 = \"May\",\n",
    "    option_2 = \"Can\",\n",
    "    option_3 = \"Might\"\n",
    ")"
   ]
  },
  {
   "cell_type": "code",
   "execution_count": 72,
   "metadata": {},
   "outputs": [],
   "source": [
    "response = completion(prompt)"
   ]
  },
  {
   "cell_type": "code",
   "execution_count": 74,
   "metadata": {},
   "outputs": [
    {
     "name": "stdout",
     "output_type": "stream",
     "text": [
      "{\n",
      "  \"possible_answer\": [\n",
      "    \"May\",\n",
      "    \"Can\"\n",
      "  ],\n",
      "  \"answer_reason\": \"The sentence is asking for permission, as indicated by the Korean '내 책 좀 빌려도 될까요?' which translates to 'May I borrow your book?'.\\n\\n1. 'May' is the traditional modal verb used for asking permission in formal or polite contexts.\\n2. 'Can' is commonly used in everyday conversation to ask for permission, even though its primary meaning is about ability.\\n3. 'Might' is less commonly used in this context and tends to sound overly formal or archaic, making it less suitable compared to 'May' and 'Can'.\\n\\nThus, 'May' and 'Can' are both acceptable answers.\"\n",
      "}\n"
     ]
    }
   ],
   "source": [
    "response_output = json.dumps(response.dict(), ensure_ascii=False, indent=2)\n",
    "print(response_output)"
   ]
  },
  {
   "cell_type": "code",
   "execution_count": 75,
   "metadata": {},
   "outputs": [
    {
     "data": {
      "text/plain": [
       "Index(['textbook ID', '학년', '출판사', '교육과정', 'Lesson', '구분', 'title', 'new_DES',\n",
       "       'DESCRIPTION', 'Key Expression (영어)', 'Key Expression (한국어)',\n",
       "       'Sub Expression (영어)', 'Sub Expression (한국어)', '학습목표', 'Quiz 1',\n",
       "       'Korean 1', 'Option 1-1', 'Option 1-2', 'Option 1-3', 'Answer 1',\n",
       "       'Index 1', 'Quiz 2', 'Korean 2', 'Option 2-1', 'Option 2-2',\n",
       "       'Option 2-3', 'Answer 2', 'Index 2', '샘플 스크립트 (영어)', '샘플 스크립트 (한국어)',\n",
       "       'Unnamed: 30', 'STRUCTURE - Title, New Desc 작업용', 'Unnamed: 32',\n",
       "       'Unnamed: 33', 'Unnamed: 34'],\n",
       "      dtype='object')"
      ]
     },
     "execution_count": 75,
     "metadata": {},
     "output_type": "execute_result"
    }
   ],
   "source": [
    "df_mid.columns"
   ]
  },
  {
   "cell_type": "code",
   "execution_count": null,
   "metadata": {},
   "outputs": [],
   "source": [
    "def answer_duplication_check_quiz1(data:pd.DataFrame, output_filename = \"PreviewQuiz1_MID_duplicate_answer.csv\"):\n",
    "    # 에러 리스트 확인\n",
    "    duplicate_data = []\n",
    "\n",
    "    # 파일 변환\n",
    "    for i in tqdm(range(len(data)), total=len(data)):\n",
    "        prompt = prompt_template.render(\n",
    "            quiz = data.loc[i, 'Quiz 1'],\n",
    "            korean = data.loc[i, 'Korean 1'],\n",
    "            option_1 = data.loc[i, 'Option 1-1'],\n",
    "            option_2 = data.loc[i, 'Option 1-2'],\n",
    "            option_3 = data.loc[i, 'Option 1-3']\n",
    "        )\n",
    "\n",
    "        response = client.beta.chat.completions.parse(\n",
    "            model = \"o3-mini\",\n",
    "            reasoning_effort = \"low\",\n",
    "            messages = [\n",
    "                {\"role\" : \"system\", \"content\" : \"You are going to solve the quiz and write down the answer_reason.\"},\n",
    "                {\"role\" : \"user\", \"content\" : prompt}\n",
    "            ],\n",
    "            response_format = Reason\n",
    "        )\n",
    "\n",
    "        # 응답 결과 출력 및 결과 출력력\n",
    "        output = response.choices[0].message.parsed\n",
    "        possible_answers = output.possible_answer\n",
    "        answer_reason = output.answer_reason\n",
    "\n",
    "        # 중복 답변 체크\n",
    "        if len(possible_answers) > 1:\n",
    "            row_number = i+2\n",
    "            duplicate_data.append({\"Row\": row_number, \"Reason\": answer_reason})\n",
    "\n",
    "    # 최종적으로 중복된 문제를 출력\n",
    "    if duplicate_data:\n",
    "        df_duplicates = pd.DataFrame(duplicate_data)\n",
    "        df_duplicates.to_csv(output_filename, index=False, encoding='utf-8-sig')\n",
    "        print(f\"\\n중복된 문제 목록이 '{output_filename}' 파일에 저장되었습니다.\")\n",
    "    else:\n",
    "        print(\"\\n중복된 문제가 없습니다.\")\n",
    "    "
   ]
  },
  {
   "cell_type": "code",
   "execution_count": 130,
   "metadata": {},
   "outputs": [],
   "source": [
    "def answer_duplication_check_quiz2(data:pd.DataFrame,output_filename = \"PreviewQuiz2_MID_duplicate_answer.csv\"):\n",
    "    # 에러 리스트 확인\n",
    "    duplicate_data = []\n",
    "\n",
    "    # 파일 변환\n",
    "    for i in tqdm(range(len(data)), total=len(data)):\n",
    "        prompt = prompt_template.render(\n",
    "            quiz = data.loc[i, 'Quiz 2'],\n",
    "            korean = data.loc[i, 'Korean 2'],\n",
    "            option_1 = data.loc[i, 'Option 2-1'],\n",
    "            option_2 = data.loc[i, 'Option 2-2'],\n",
    "            option_3 = data.loc[i, 'Option 2-3']\n",
    "        )\n",
    "\n",
    "        response = client.beta.chat.completions.parse(\n",
    "            model = \"o3-mini\",\n",
    "            reasoning_effort = \"low\",\n",
    "            messages = [\n",
    "                {\"role\" : \"system\", \"content\" : \"You are going to solve the quiz and write down the answer_reason.\"},\n",
    "                {\"role\" : \"user\", \"content\" : prompt}\n",
    "            ],\n",
    "            response_format = Reason\n",
    "        )\n",
    "\n",
    "        # 응답 결과 출력 및 결과 출력력\n",
    "        output = response.choices[0].message.parsed\n",
    "        possible_answers = output.possible_answer\n",
    "        answer_reason = output.answer_reason\n",
    "\n",
    "        # 중복 답변 체크\n",
    "        if len(possible_answers) > 1:\n",
    "            row_number = i+2\n",
    "            duplicate_data.append({\"Row\": row_number, \"Reason\": answer_reason})\n",
    "\n",
    "    # 최종적으로 중복된 문제를 출력\n",
    "    if duplicate_data:\n",
    "        df_duplicates = pd.DataFrame(duplicate_data)\n",
    "        df_duplicates.to_csv(output_filename, index=False, encoding='utf-8-sig')\n",
    "        print(f\"\\n중복된 문제 목록이 '{output_filename}' 파일에 저장되었습니다.\")\n",
    "    else:\n",
    "        print(\"\\n중복된 문제가 없습니다.\")\n",
    "    "
   ]
  },
  {
   "cell_type": "code",
   "execution_count": 128,
   "metadata": {},
   "outputs": [],
   "source": [
    "sample = df_mid[:5]"
   ]
  },
  {
   "cell_type": "code",
   "execution_count": 129,
   "metadata": {},
   "outputs": [
    {
     "name": "stderr",
     "output_type": "stream",
     "text": [
      "100%|██████████| 5/5 [00:16<00:00,  3.28s/it]"
     ]
    },
    {
     "name": "stdout",
     "output_type": "stream",
     "text": [
      "\n",
      "중복된 문제 목록이 'PreviewQuiz_MID_duplicate_answer.csv' 파일에 저장되었습니다.\n"
     ]
    },
    {
     "name": "stderr",
     "output_type": "stream",
     "text": [
      "\n"
     ]
    }
   ],
   "source": [
    "answer_duplication_check_quiz1(sample)"
   ]
  },
  {
   "cell_type": "code",
   "execution_count": 131,
   "metadata": {},
   "outputs": [
    {
     "name": "stderr",
     "output_type": "stream",
     "text": [
      "100%|██████████| 5/5 [00:18<00:00,  3.71s/it]"
     ]
    },
    {
     "name": "stdout",
     "output_type": "stream",
     "text": [
      "\n",
      "중복된 문제가 없습니다.\n"
     ]
    },
    {
     "name": "stderr",
     "output_type": "stream",
     "text": [
      "\n"
     ]
    }
   ],
   "source": [
    "answer_duplication_check_quiz2(sample)"
   ]
  },
  {
   "cell_type": "markdown",
   "metadata": {},
   "source": [
    "# 엑셀 전처리"
   ]
  },
  {
   "cell_type": "code",
   "execution_count": 184,
   "metadata": {},
   "outputs": [
    {
     "data": {
      "text/plain": [
       "Index(['textbook ID', '학년', '출판사', '교육과정', 'Lesson', '구분', 'title', 'new_DES',\n",
       "       'DESCRIPTION', 'Key Expression (영어)', 'Key Expression (한국어)',\n",
       "       'Sub Expression (영어)', 'Sub Expression (한국어)', '학습목표', 'Quiz 1',\n",
       "       'Korean 1', 'Option 1-1', 'Option 1-2', 'Option 1-3', 'Answer 1',\n",
       "       'Index 1', 'Quiz 2', 'Korean 2', 'Option 2-1', 'Option 2-2',\n",
       "       'Option 2-3', 'Answer 2', 'Index 2', '샘플 스크립트 (영어)', '샘플 스크립트 (한국어)',\n",
       "       'Unnamed: 30', 'STRUCTURE - Title, New Desc 작업용', 'Unnamed: 32',\n",
       "       'Unnamed: 33', 'Unnamed: 34'],\n",
       "      dtype='object')"
      ]
     },
     "execution_count": 184,
     "metadata": {},
     "output_type": "execute_result"
    }
   ],
   "source": [
    "import pandas as pd\n",
    "db_mid = pd.read_csv(\"DB_MID.csv\")\n",
    "db_mid.columns"
   ]
  },
  {
   "cell_type": "code",
   "execution_count": 185,
   "metadata": {},
   "outputs": [],
   "source": [
    "drop_col = ['textbook ID', '학년', '출판사', '교육과정', 'Lesson', '구분', 'title', 'new_DES',\n",
    "       'DESCRIPTION', 'Key Expression (영어)', 'Key Expression (한국어)',\n",
    "       'Sub Expression (영어)', 'Sub Expression (한국어)', '학습목표', 'Answer 1',\n",
    "       'Index 1', 'Quiz 2', 'Korean 2', 'Option 2-1', 'Option 2-2',\n",
    "       'Option 2-3', 'Answer 2', 'Index 2', '샘플 스크립트 (영어)', '샘플 스크립트 (한국어)',\n",
    "       'Unnamed: 30', 'STRUCTURE - Title, New Desc 작업용', 'Unnamed: 32',\n",
    "       'Unnamed: 33', 'Unnamed: 34']\n",
    "db_mid.drop(columns=drop_col, inplace=True)"
   ]
  },
  {
   "cell_type": "code",
   "execution_count": 186,
   "metadata": {},
   "outputs": [
    {
     "data": {
      "text/html": [
       "<div>\n",
       "<style scoped>\n",
       "    .dataframe tbody tr th:only-of-type {\n",
       "        vertical-align: middle;\n",
       "    }\n",
       "\n",
       "    .dataframe tbody tr th {\n",
       "        vertical-align: top;\n",
       "    }\n",
       "\n",
       "    .dataframe thead th {\n",
       "        text-align: right;\n",
       "    }\n",
       "</style>\n",
       "<table border=\"1\" class=\"dataframe\">\n",
       "  <thead>\n",
       "    <tr style=\"text-align: right;\">\n",
       "      <th></th>\n",
       "      <th>quiz</th>\n",
       "      <th>korean</th>\n",
       "      <th>option_1</th>\n",
       "      <th>option_2</th>\n",
       "      <th>option_3</th>\n",
       "    </tr>\n",
       "  </thead>\n",
       "  <tbody>\n",
       "    <tr>\n",
       "      <th>0</th>\n",
       "      <td>A: My name is Felix. I’m from ____.</td>\n",
       "      <td>A: 내 이름은 Felix야. 나는 Australia 출신이야. B: 만나서 반가워.</td>\n",
       "      <td>America</td>\n",
       "      <td>Australia</td>\n",
       "      <td>Canada</td>\n",
       "    </tr>\n",
       "    <tr>\n",
       "      <th>1</th>\n",
       "      <td>What is your ______ sport?</td>\n",
       "      <td>네가 가장 좋아하는 스포츠는 무엇이에요?</td>\n",
       "      <td>like</td>\n",
       "      <td>favorite</td>\n",
       "      <td>best</td>\n",
       "    </tr>\n",
       "    <tr>\n",
       "      <th>2</th>\n",
       "      <td>A: What are you _____ on your holiday? B: I’m ...</td>\n",
       "      <td>A: 너는 휴일에 무엇을 할 예정이니? B: 여행을 갈 거야.</td>\n",
       "      <td>planning to do</td>\n",
       "      <td>going to do</td>\n",
       "      <td>will do</td>\n",
       "    </tr>\n",
       "  </tbody>\n",
       "</table>\n",
       "</div>"
      ],
      "text/plain": [
       "                                                quiz  \\\n",
       "0                A: My name is Felix. I’m from ____.   \n",
       "1                         What is your ______ sport?   \n",
       "2  A: What are you _____ on your holiday? B: I’m ...   \n",
       "\n",
       "                                            korean        option_1  \\\n",
       "0  A: 내 이름은 Felix야. 나는 Australia 출신이야. B: 만나서 반가워.         America   \n",
       "1                           네가 가장 좋아하는 스포츠는 무엇이에요?            like   \n",
       "2               A: 너는 휴일에 무엇을 할 예정이니? B: 여행을 갈 거야.  planning to do   \n",
       "\n",
       "      option_2 option_3  \n",
       "0    Australia   Canada  \n",
       "1     favorite     best  \n",
       "2  going to do  will do  "
      ]
     },
     "execution_count": 186,
     "metadata": {},
     "output_type": "execute_result"
    }
   ],
   "source": [
    "db_mid = db_mid.rename(columns={\n",
    "    'Quiz 1' : \"quiz\",\n",
    "    'Korean 1' : \"korean\",\n",
    "    'Option 1-1' : \"option_1\",\n",
    "    'Option 1-2' : \"option_2\",\n",
    "    'Option 1-3' : \"option_3\"\n",
    "})\n",
    "db_mid.head(3)"
   ]
  },
  {
   "cell_type": "code",
   "execution_count": 192,
   "metadata": {},
   "outputs": [],
   "source": [
    "df_mid = pd.DataFrame(df_mid)"
   ]
  },
  {
   "cell_type": "code",
   "execution_count": 193,
   "metadata": {},
   "outputs": [],
   "source": [
    "# df_mid.index = range(1, len(df_mid))\n",
    "df_mid.index = range(1, len(df_mid) + 1)\n",
    "df_mid.index.name = 'id'\n",
    "\n",
    "\n",
    "db_mid[:100].to_csv(\"test1.csv\", encoding=\"utf-8-sig\", index=True)"
   ]
  }
 ],
 "metadata": {
  "kernelspec": {
   "display_name": "base",
   "language": "python",
   "name": "python3"
  },
  "language_info": {
   "codemirror_mode": {
    "name": "ipython",
    "version": 3
   },
   "file_extension": ".py",
   "mimetype": "text/x-python",
   "name": "python",
   "nbconvert_exporter": "python",
   "pygments_lexer": "ipython3",
   "version": "3.12.7"
  }
 },
 "nbformat": 4,
 "nbformat_minor": 2
}
