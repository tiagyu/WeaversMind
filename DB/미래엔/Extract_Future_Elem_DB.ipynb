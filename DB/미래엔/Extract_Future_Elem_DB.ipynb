{
 "cells": [
  {
   "cell_type": "markdown",
   "metadata": {},
   "source": [
    "# 초등 미래엔 커리큘럼 작업"
   ]
  },
  {
   "cell_type": "code",
   "execution_count": 11,
   "metadata": {},
   "outputs": [
    {
     "data": {
      "text/html": [
       "<div>\n",
       "<style scoped>\n",
       "    .dataframe tbody tr th:only-of-type {\n",
       "        vertical-align: middle;\n",
       "    }\n",
       "\n",
       "    .dataframe tbody tr th {\n",
       "        vertical-align: top;\n",
       "    }\n",
       "\n",
       "    .dataframe thead th {\n",
       "        text-align: right;\n",
       "    }\n",
       "</style>\n",
       "<table border=\"1\" class=\"dataframe\">\n",
       "  <thead>\n",
       "    <tr style=\"text-align: right;\">\n",
       "      <th></th>\n",
       "      <th>학년</th>\n",
       "      <th>출판사</th>\n",
       "      <th>교육과정</th>\n",
       "      <th>단원 번호</th>\n",
       "      <th>단원 명</th>\n",
       "      <th>의사소통 기능</th>\n",
       "      <th>prompt 수정 사항</th>\n",
       "      <th>어휘</th>\n",
       "      <th>문화</th>\n",
       "      <th>소재</th>\n",
       "      <th>Function Material 1</th>\n",
       "      <th>Function Material 2</th>\n",
       "      <th>Function Material 3</th>\n",
       "      <th>Function Material 4</th>\n",
       "      <th>Phonics</th>\n",
       "    </tr>\n",
       "  </thead>\n",
       "  <tbody>\n",
       "    <tr>\n",
       "      <th>328</th>\n",
       "      <td>초3</td>\n",
       "      <td>미래엔(강)</td>\n",
       "      <td>2022 개정 교육과정</td>\n",
       "      <td>1</td>\n",
       "      <td>Hi, I’m Olly</td>\n",
       "      <td>만날 때 인사하고 자기소개하기\\r\\nHello. / Hi. I’m Suho.\\r\\n...</td>\n",
       "      <td>NaN</td>\n",
       "      <td>be, bye, goodbye, hello, hi, I, meet, nice, to...</td>\n",
       "      <td>영어권 나라에서 어른에게 하는 인사말</td>\n",
       "      <td>학교생활, 사회생활</td>\n",
       "      <td>NaN</td>\n",
       "      <td>NaN</td>\n",
       "      <td>NaN</td>\n",
       "      <td>NaN</td>\n",
       "      <td>NaN</td>\n",
       "    </tr>\n",
       "    <tr>\n",
       "      <th>329</th>\n",
       "      <td>초3</td>\n",
       "      <td>미래엔(강)</td>\n",
       "      <td>2022 개정 교육과정</td>\n",
       "      <td>2</td>\n",
       "      <td>Sit Down, Please</td>\n",
       "      <td>요청하고 답하기\\r\\nStand up, please. Okay.\\r\\n\\r\\n감사하...</td>\n",
       "      <td>NaN</td>\n",
       "      <td>close, come, door, down, everyone, game, great...</td>\n",
       "      <td>영어에서 ‘마법의 말’</td>\n",
       "      <td>개인 생활, 학교생활, 사회생활, 민주시민</td>\n",
       "      <td>NaN</td>\n",
       "      <td>NaN</td>\n",
       "      <td>NaN</td>\n",
       "      <td>NaN</td>\n",
       "      <td>NaN</td>\n",
       "    </tr>\n",
       "    <tr>\n",
       "      <th>330</th>\n",
       "      <td>초3</td>\n",
       "      <td>미래엔(강)</td>\n",
       "      <td>2022 개정 교육과정</td>\n",
       "      <td>3</td>\n",
       "      <td>What’s This?</td>\n",
       "      <td>무엇인지 묻고 답하기\\r\\nWhat’s this? It’s a pencil.\\r\\n...</td>\n",
       "      <td>NaN</td>\n",
       "      <td>a, bag, ball, book, chair, cup, it, pencil, so...</td>\n",
       "      <td>나라별 역사박물관</td>\n",
       "      <td>개인 생활, 디지털·인공지능</td>\n",
       "      <td>NaN</td>\n",
       "      <td>NaN</td>\n",
       "      <td>NaN</td>\n",
       "      <td>NaN</td>\n",
       "      <td>NaN</td>\n",
       "    </tr>\n",
       "  </tbody>\n",
       "</table>\n",
       "</div>"
      ],
      "text/plain": [
       "     학년     출판사          교육과정  단원 번호              단원 명  \\\n",
       "328  초3  미래엔(강)  2022 개정 교육과정      1      Hi, I’m Olly   \n",
       "329  초3  미래엔(강)  2022 개정 교육과정      2  Sit Down, Please   \n",
       "330  초3  미래엔(강)  2022 개정 교육과정      3      What’s This?   \n",
       "\n",
       "                                               의사소통 기능 prompt 수정 사항  \\\n",
       "328  만날 때 인사하고 자기소개하기\\r\\nHello. / Hi. I’m Suho.\\r\\n...          NaN   \n",
       "329  요청하고 답하기\\r\\nStand up, please. Okay.\\r\\n\\r\\n감사하...          NaN   \n",
       "330  무엇인지 묻고 답하기\\r\\nWhat’s this? It’s a pencil.\\r\\n...          NaN   \n",
       "\n",
       "                                                    어휘                    문화  \\\n",
       "328  be, bye, goodbye, hello, hi, I, meet, nice, to...  영어권 나라에서 어른에게 하는 인사말   \n",
       "329  close, come, door, down, everyone, game, great...          영어에서 ‘마법의 말’   \n",
       "330  a, bag, ball, book, chair, cup, it, pencil, so...             나라별 역사박물관   \n",
       "\n",
       "                          소재 Function Material 1 Function Material 2  \\\n",
       "328               학교생활, 사회생활                 NaN                 NaN   \n",
       "329  개인 생활, 학교생활, 사회생활, 민주시민                 NaN                 NaN   \n",
       "330          개인 생활, 디지털·인공지능                 NaN                 NaN   \n",
       "\n",
       "    Function Material 3 Function Material 4 Phonics  \n",
       "328                 NaN                 NaN     NaN  \n",
       "329                 NaN                 NaN     NaN  \n",
       "330                 NaN                 NaN     NaN  "
      ]
     },
     "execution_count": 11,
     "metadata": {},
     "output_type": "execute_result"
    }
   ],
   "source": [
    "import pandas as pd\n",
    "df = pd.read_csv(\"Future_Elem_DB.csv\")\n",
    "df = df.loc[df['출판사'] == \"미래엔(강)\"]\n",
    "df.head(3)"
   ]
  },
  {
   "cell_type": "code",
   "execution_count": 12,
   "metadata": {},
   "outputs": [
    {
     "data": {
      "text/plain": [
       "Index(['학년', '출판사', '교육과정', '단원 번호', '단원 명', '의사소통 기능', 'prompt 수정 사항', '어휘',\n",
       "       '문화', '소재', 'Function Material 1', 'Function Material 2',\n",
       "       'Function Material 3', 'Function Material 4', 'Phonics'],\n",
       "      dtype='object')"
      ]
     },
     "execution_count": 12,
     "metadata": {},
     "output_type": "execute_result"
    }
   ],
   "source": [
    "df.columns"
   ]
  },
  {
   "cell_type": "code",
   "execution_count": 13,
   "metadata": {},
   "outputs": [
    {
     "data": {
      "text/html": [
       "<div>\n",
       "<style scoped>\n",
       "    .dataframe tbody tr th:only-of-type {\n",
       "        vertical-align: middle;\n",
       "    }\n",
       "\n",
       "    .dataframe tbody tr th {\n",
       "        vertical-align: top;\n",
       "    }\n",
       "\n",
       "    .dataframe thead th {\n",
       "        text-align: right;\n",
       "    }\n",
       "</style>\n",
       "<table border=\"1\" class=\"dataframe\">\n",
       "  <thead>\n",
       "    <tr style=\"text-align: right;\">\n",
       "      <th></th>\n",
       "      <th>학년</th>\n",
       "      <th>출판사</th>\n",
       "      <th>교육과정</th>\n",
       "      <th>단원 번호</th>\n",
       "      <th>단원 명</th>\n",
       "      <th>의사소통 기능</th>\n",
       "    </tr>\n",
       "  </thead>\n",
       "  <tbody>\n",
       "    <tr>\n",
       "      <th>328</th>\n",
       "      <td>초3</td>\n",
       "      <td>미래엔(강)</td>\n",
       "      <td>2022 개정 교육과정</td>\n",
       "      <td>1</td>\n",
       "      <td>Hi, I’m Olly</td>\n",
       "      <td>만날 때 인사하고 자기소개하기\\r\\nHello. / Hi. I’m Suho.\\r\\n...</td>\n",
       "    </tr>\n",
       "    <tr>\n",
       "      <th>329</th>\n",
       "      <td>초3</td>\n",
       "      <td>미래엔(강)</td>\n",
       "      <td>2022 개정 교육과정</td>\n",
       "      <td>2</td>\n",
       "      <td>Sit Down, Please</td>\n",
       "      <td>요청하고 답하기\\r\\nStand up, please. Okay.\\r\\n\\r\\n감사하...</td>\n",
       "    </tr>\n",
       "    <tr>\n",
       "      <th>330</th>\n",
       "      <td>초3</td>\n",
       "      <td>미래엔(강)</td>\n",
       "      <td>2022 개정 교육과정</td>\n",
       "      <td>3</td>\n",
       "      <td>What’s This?</td>\n",
       "      <td>무엇인지 묻고 답하기\\r\\nWhat’s this? It’s a pencil.\\r\\n...</td>\n",
       "    </tr>\n",
       "    <tr>\n",
       "      <th>331</th>\n",
       "      <td>초3</td>\n",
       "      <td>미래엔(강)</td>\n",
       "      <td>2022 개정 교육과정</td>\n",
       "      <td>4</td>\n",
       "      <td>I Like Pizza</td>\n",
       "      <td>좋아하는지 묻고 답하기\\r\\nDo you like pizza?\\r\\nYes, I d...</td>\n",
       "    </tr>\n",
       "    <tr>\n",
       "      <th>332</th>\n",
       "      <td>초3</td>\n",
       "      <td>미래엔(강)</td>\n",
       "      <td>2022 개정 교육과정</td>\n",
       "      <td>5</td>\n",
       "      <td>Do You Have a Brush?</td>\n",
       "      <td>가지고 있는지 묻고 답하기\\r\\nDo you have a brush?\\r\\nYes,...</td>\n",
       "    </tr>\n",
       "  </tbody>\n",
       "</table>\n",
       "</div>"
      ],
      "text/plain": [
       "     학년     출판사          교육과정  단원 번호                  단원 명  \\\n",
       "328  초3  미래엔(강)  2022 개정 교육과정      1          Hi, I’m Olly   \n",
       "329  초3  미래엔(강)  2022 개정 교육과정      2      Sit Down, Please   \n",
       "330  초3  미래엔(강)  2022 개정 교육과정      3          What’s This?   \n",
       "331  초3  미래엔(강)  2022 개정 교육과정      4          I Like Pizza   \n",
       "332  초3  미래엔(강)  2022 개정 교육과정      5  Do You Have a Brush?   \n",
       "\n",
       "                                               의사소통 기능  \n",
       "328  만날 때 인사하고 자기소개하기\\r\\nHello. / Hi. I’m Suho.\\r\\n...  \n",
       "329  요청하고 답하기\\r\\nStand up, please. Okay.\\r\\n\\r\\n감사하...  \n",
       "330  무엇인지 묻고 답하기\\r\\nWhat’s this? It’s a pencil.\\r\\n...  \n",
       "331  좋아하는지 묻고 답하기\\r\\nDo you like pizza?\\r\\nYes, I d...  \n",
       "332  가지고 있는지 묻고 답하기\\r\\nDo you have a brush?\\r\\nYes,...  "
      ]
     },
     "execution_count": 13,
     "metadata": {},
     "output_type": "execute_result"
    }
   ],
   "source": [
    "drop_col = ['prompt 수정 사항', '어휘', '문화', '소재', 'Function Material 1', 'Function Material 2', 'Function Material 3', 'Function Material 4', 'Phonics']\n",
    "df.drop(columns=drop_col, inplace=True)\n",
    "df.head()"
   ]
  },
  {
   "cell_type": "code",
   "execution_count": 22,
   "metadata": {},
   "outputs": [
    {
     "ename": "TypeError",
     "evalue": "StringMethods.split() takes from 1 to 2 positional arguments but 3 were given",
     "output_type": "error",
     "traceback": [
      "\u001b[1;31m---------------------------------------------------------------------------\u001b[0m",
      "\u001b[1;31mTypeError\u001b[0m                                 Traceback (most recent call last)",
      "Cell \u001b[1;32mIn[22], line 1\u001b[0m\n\u001b[1;32m----> 1\u001b[0m df[\u001b[38;5;124m'\u001b[39m\u001b[38;5;124m의사소통 기능\u001b[39m\u001b[38;5;124m'\u001b[39m][:\u001b[38;5;241m1\u001b[39m]\u001b[38;5;241m.\u001b[39mstr\u001b[38;5;241m.\u001b[39msplit(\u001b[38;5;124m\"\u001b[39m\u001b[38;5;130;01m\\n\u001b[39;00m\u001b[38;5;124m\"\u001b[39m, \u001b[38;5;124m\"\u001b[39m\u001b[38;5;124m \u001b[39m\u001b[38;5;124m\"\u001b[39m)\n",
      "File \u001b[1;32mc:\\Users\\WEAVERSMIND\\anaconda3\\Lib\\site-packages\\pandas\\core\\strings\\accessor.py:137\u001b[0m, in \u001b[0;36mforbid_nonstring_types.<locals>._forbid_nonstring_types.<locals>.wrapper\u001b[1;34m(self, *args, **kwargs)\u001b[0m\n\u001b[0;32m    132\u001b[0m     msg \u001b[38;5;241m=\u001b[39m (\n\u001b[0;32m    133\u001b[0m         \u001b[38;5;124mf\u001b[39m\u001b[38;5;124m\"\u001b[39m\u001b[38;5;124mCannot use .str.\u001b[39m\u001b[38;5;132;01m{\u001b[39;00mfunc_name\u001b[38;5;132;01m}\u001b[39;00m\u001b[38;5;124m with values of \u001b[39m\u001b[38;5;124m\"\u001b[39m\n\u001b[0;32m    134\u001b[0m         \u001b[38;5;124mf\u001b[39m\u001b[38;5;124m\"\u001b[39m\u001b[38;5;124minferred dtype \u001b[39m\u001b[38;5;124m'\u001b[39m\u001b[38;5;132;01m{\u001b[39;00m\u001b[38;5;28mself\u001b[39m\u001b[38;5;241m.\u001b[39m_inferred_dtype\u001b[38;5;132;01m}\u001b[39;00m\u001b[38;5;124m'\u001b[39m\u001b[38;5;124m.\u001b[39m\u001b[38;5;124m\"\u001b[39m\n\u001b[0;32m    135\u001b[0m     )\n\u001b[0;32m    136\u001b[0m     \u001b[38;5;28;01mraise\u001b[39;00m \u001b[38;5;167;01mTypeError\u001b[39;00m(msg)\n\u001b[1;32m--> 137\u001b[0m \u001b[38;5;28;01mreturn\u001b[39;00m func(\u001b[38;5;28mself\u001b[39m, \u001b[38;5;241m*\u001b[39margs, \u001b[38;5;241m*\u001b[39m\u001b[38;5;241m*\u001b[39mkwargs)\n",
      "\u001b[1;31mTypeError\u001b[0m: StringMethods.split() takes from 1 to 2 positional arguments but 3 were given"
     ]
    }
   ],
   "source": [
    "df['의사소통 기능'][:1].str.split(\"\\n\", \" \")"
   ]
  }
 ],
 "metadata": {
  "kernelspec": {
   "display_name": "base",
   "language": "python",
   "name": "python3"
  },
  "language_info": {
   "codemirror_mode": {
    "name": "ipython",
    "version": 3
   },
   "file_extension": ".py",
   "mimetype": "text/x-python",
   "name": "python",
   "nbconvert_exporter": "python",
   "pygments_lexer": "ipython3",
   "version": "3.12.7"
  }
 },
 "nbformat": 4,
 "nbformat_minor": 2
}
