{
 "cells": [
  {
   "cell_type": "markdown",
   "metadata": {},
   "source": [
    "# Voca 중고딩 예문 양산"
   ]
  },
  {
   "cell_type": "code",
   "execution_count": 22,
   "metadata": {},
   "outputs": [],
   "source": [
    "from pydantic import BaseModel\n",
    "from openai import OpenAI\n",
    "from openai.lib._parsing import type_to_response_format_param\n",
    "import json\n",
    "from getpass import getpass\n",
    "\n",
    "openai_api_key = getpass(\"OPENAI_API_KEY\")\n",
    "client = OpenAI(api_key=openai_api_key)"
   ]
  },
  {
   "cell_type": "code",
   "execution_count": 23,
   "metadata": {},
   "outputs": [],
   "source": [
    "from jinja2 import Template\n",
    "\n",
    "prompt_template = Template(\"\"\"\n",
    "You are going to be given a set of English words and Korean meaning. Generate English sentences using each of those words, and provide Korean translation, too. For contextual reference, see the given Korean meaning.\n",
    "\n",
    "[POLICY]\n",
    "1. A sentence must be about 15 words.\n",
    "2. Separate the sentence with a tab in between.\n",
    "3. For Korean translation, use '~요' at the end of each translated sentence to soften the tone. Make it natural.\n",
    "\n",
    "[EXAMPLE]\n",
    "```\n",
    "Input:\n",
    "    {\n",
    "    \"WORDTEXT\" : \"challenge\",\n",
    "    \"WORDMEANING\" : \"난제\",\n",
    "    \"POSTEXT\" : \"명사\"\n",
    "    }\n",
    "\n",
    "Output:\n",
    "    {\n",
    "     \"example_sentence\" : \"This difficult problem was truly a challenge, and I had to think a lot to solve it.\",\n",
    "     \"example_sentence_kor\" : \"이 어려운 문제는 정말 큰 난제였고, 그것을 해결하기 위해 많은 고민을 했어요.\"\n",
    "    }\n",
    "```                           \n",
    "                           \n",
    "[Input]\n",
    "```\n",
    "WORDTEXT : {{Wordtext}}\n",
    "WORDMEANING : {{WordMeaning}}\n",
    "POSTEXT : {{PoSText}}\n",
    "```                   \n",
    "\n",
    "\"\"\")"
   ]
  },
  {
   "cell_type": "code",
   "execution_count": 24,
   "metadata": {},
   "outputs": [],
   "source": [
    "prompt = prompt_template.render(\n",
    "    Wordtext = \"alarm\",\n",
    "    WordMeaning = \"놀람,경보\",\n",
    "    PoSText = \"명사\",\n",
    ")"
   ]
  },
  {
   "cell_type": "code",
   "execution_count": 25,
   "metadata": {},
   "outputs": [
    {
     "name": "stdout",
     "output_type": "stream",
     "text": [
      "\n",
      "You are going to be given a set of English words and Korean meaning. Generate English sentences using each of those words, and provide Korean translation, too. For contextual reference, see the given Korean meaning.\n",
      "\n",
      "[POLICY]\n",
      "1. A sentence must be about 15 words.\n",
      "2. Separate the sentence with a tab in between.\n",
      "3. For Korean translation, use '~요' at the end of each translated sentence to soften the tone. Make it natural.\n",
      "\n",
      "[EXAMPLE]\n",
      "```\n",
      "Input:\n",
      "    {\n",
      "    \"WORDTEXT\" : \"challenge\",\n",
      "    \"WORDMEANING\" : \"난제\",\n",
      "    \"POSTEXT\" : \"명사\"\n",
      "    }\n",
      "\n",
      "Output:\n",
      "    {\n",
      "     \"example_sentence\" : \"This difficult problem was truly a challenge, and I had to think a lot to solve it.\",\n",
      "     \"example_sentence_kor\" : \"이 어려운 문제는 정말 큰 난제였고, 그것을 해결하기 위해 많은 고민을 했어요.\"\n",
      "    }\n",
      "```                           \n",
      "                           \n",
      "[Input]\n",
      "```\n",
      "WORDTEXT : alarm\n",
      "WORDMEANING : 놀람,경보\n",
      "POSTEXT : 명사\n",
      "```                   \n",
      "\n"
     ]
    }
   ],
   "source": [
    "print(prompt)"
   ]
  },
  {
   "cell_type": "code",
   "execution_count": 26,
   "metadata": {},
   "outputs": [],
   "source": [
    "class Example(BaseModel):\n",
    "    example_sentence : str\n",
    "    example_sentence_kor : str"
   ]
  },
  {
   "cell_type": "code",
   "execution_count": 27,
   "metadata": {},
   "outputs": [],
   "source": [
    "response_format = type_to_response_format_param(Example)"
   ]
  },
  {
   "cell_type": "code",
   "execution_count": 28,
   "metadata": {},
   "outputs": [
    {
     "data": {
      "text/plain": [
       "{'type': 'json_schema',\n",
       " 'json_schema': {'schema': {'properties': {'example_sentence': {'title': 'Example Sentence',\n",
       "     'type': 'string'},\n",
       "    'example_sentence_kor': {'title': 'Example Sentence Kor',\n",
       "     'type': 'string'}},\n",
       "   'required': ['example_sentence', 'example_sentence_kor'],\n",
       "   'title': 'Example',\n",
       "   'type': 'object',\n",
       "   'additionalProperties': False},\n",
       "  'name': 'Example',\n",
       "  'strict': True}}"
      ]
     },
     "execution_count": 28,
     "metadata": {},
     "output_type": "execute_result"
    }
   ],
   "source": [
    "response_format"
   ]
  },
  {
   "cell_type": "code",
   "execution_count": 29,
   "metadata": {},
   "outputs": [],
   "source": [
    "def completion(prompt : str) -> str:\n",
    "    response = client.beta.chat.completions.parse(\n",
    "        model = 'o3-mini',\n",
    "        reasoning_effort='low',\n",
    "        messages = [\n",
    "            {\"role\" : \"system\", \"content\" : \"Generate an example sentence for each word.\"},\n",
    "            {\"role\" : \"user\", \"content\" : prompt}\n",
    "        ],\n",
    "        response_format = Example,\n",
    "    )\n",
    "    return response.choices[0].message.parsed"
   ]
  },
  {
   "cell_type": "code",
   "execution_count": 30,
   "metadata": {},
   "outputs": [],
   "source": [
    "response = completion(prompt)"
   ]
  },
  {
   "cell_type": "code",
   "execution_count": 31,
   "metadata": {},
   "outputs": [
    {
     "name": "stdout",
     "output_type": "stream",
     "text": [
      "example_sentence='During the morning meeting, the loud alarm unexpectedly startled everyone in the bustling busy office.' example_sentence_kor='아침 회의 중에 시끄러운 경보가 갑자기 울리면서 모든 사무실 직원들을 놀라게 했어요.'\n"
     ]
    }
   ],
   "source": [
    "print(response)"
   ]
  },
  {
   "cell_type": "code",
   "execution_count": 32,
   "metadata": {},
   "outputs": [
    {
     "name": "stdout",
     "output_type": "stream",
     "text": [
      "{\n",
      "    \"example_sentence\": \"During the morning meeting, the loud alarm unexpectedly startled everyone in the bustling busy office.\",\n",
      "    \"example_sentence_kor\": \"아침 회의 중에 시끄러운 경보가 갑자기 울리면서 모든 사무실 직원들을 놀라게 했어요.\"\n",
      "}\n"
     ]
    },
    {
     "data": {
      "text/plain": [
       "str"
      ]
     },
     "execution_count": 32,
     "metadata": {},
     "output_type": "execute_result"
    }
   ],
   "source": [
    "response_output = json.dumps(response.dict(), ensure_ascii=False, indent = 4)\n",
    "print(response_output)\n",
    "type(response_output)"
   ]
  },
  {
   "cell_type": "markdown",
   "metadata": {},
   "source": [
    "# for문 돌려서 Batch API jsonl 파일 형식 만들기"
   ]
  },
  {
   "cell_type": "code",
   "execution_count": 46,
   "metadata": {},
   "outputs": [],
   "source": [
    "def SentenceMake(data, output_filename):\n",
    "    jsonl_data = []\n",
    "\n",
    "    for i in range(len(data)):\n",
    "        prompt = prompt_template.render(\n",
    "            Wordtext = data.loc[i,\"WordText\"],\n",
    "            WordMeaning = data.loc[i,\"WordMeaning\"],\n",
    "            PoSText = data.loc[i,\"품사\"],\n",
    "        )\n",
    "\n",
    "        quiz_request = {\n",
    "            \"custom_id\" : f\"request-{i+1}\",\n",
    "            \"method\" : \"POST\",\n",
    "            \"url\" : \"/v1/chat/completions\",\n",
    "            \"body\" : {\n",
    "                \"model\" : \"o3-mini-2025-01-31\",\n",
    "                \"messages\" : [\n",
    "                    {\"role\": \"system\", \"content\": \"Generate an example sentence for each word.\"},\n",
    "                    {\"role\": \"user\", \"content\": prompt}\n",
    "                ],\n",
    "                \"response_format\" : response_format\n",
    "            }\n",
    "        }\n",
    "\n",
    "        jsonl_data.append(quiz_request)\n",
    "\n",
    "        with open(output_filename, 'w', encoding='utf-8') as jsonl_file:\n",
    "            for item in jsonl_data:\n",
    "                jsonl_file.write(json.dumps(item, ensure_ascii=False) + '\\n')\n",
    "\n",
    "    print(f'JSONL 파일 생성 완료 : {output_filename}-{i+1}')"
   ]
  },
  {
   "cell_type": "code",
   "execution_count": 56,
   "metadata": {},
   "outputs": [
    {
     "name": "stdout",
     "output_type": "stream",
     "text": [
      "2842\n",
      "700\n",
      "700\n",
      "700\n",
      "742\n",
      "total : 2842\n"
     ]
    }
   ],
   "source": [
    "import pandas as pd\n",
    "\n",
    "df = pd.read_csv('Voca_MidHigh.csv', skiprows=1)\n",
    "sample = df[:10]\n",
    "print(len(df))\n",
    "df1 = df[:700]\n",
    "print(len(df1))\n",
    "df2 = df[700:1400]\n",
    "print(len(df2))\n",
    "df3 = df[1400:2100]\n",
    "print(len(df3))\n",
    "df4 = df[2100:]\n",
    "print(len(df4))\n",
    "print(f'total : {len(df1) +len(df2) + len(df3) + len(df4)}')\n",
    "\n",
    "#인덱스 리셋\n",
    "df2 = df2.reset_index()\n",
    "df3 = df3.reset_index()\n",
    "df4 = df4.reset_index()"
   ]
  },
  {
   "cell_type": "code",
   "execution_count": 57,
   "metadata": {},
   "outputs": [
    {
     "name": "stdout",
     "output_type": "stream",
     "text": [
      "JSONL 파일 생성 완료 : VocaList_batch_1.jsonl-700\n",
      "JSONL 파일 생성 완료 : VocaList_batch_2.jsonl-700\n",
      "JSONL 파일 생성 완료 : VocaList_batch_3.jsonl-700\n",
      "JSONL 파일 생성 완료 : VocaList_batch_4.jsonl-742\n"
     ]
    }
   ],
   "source": [
    "SentenceMake(df1,\"VocaList_batch_1.jsonl\")\n",
    "SentenceMake(df2,\"VocaList_batch_2.jsonl\")\n",
    "SentenceMake(df3,\"VocaList_batch_3.jsonl\")\n",
    "SentenceMake(df4,\"VocaList_batch_4.jsonl\")"
   ]
  }
 ],
 "metadata": {
  "kernelspec": {
   "display_name": "base",
   "language": "python",
   "name": "python3"
  },
  "language_info": {
   "codemirror_mode": {
    "name": "ipython",
    "version": 3
   },
   "file_extension": ".py",
   "mimetype": "text/x-python",
   "name": "python",
   "nbconvert_exporter": "python",
   "pygments_lexer": "ipython3",
   "version": "3.12.7"
  }
 },
 "nbformat": 4,
 "nbformat_minor": 2
}
