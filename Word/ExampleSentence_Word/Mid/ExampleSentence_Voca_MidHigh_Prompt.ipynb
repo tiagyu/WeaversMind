{
 "cells": [
  {
   "cell_type": "markdown",
   "metadata": {},
   "source": [
    "# Voca 중고딩 예문 양산"
   ]
  },
  {
   "cell_type": "code",
   "execution_count": 30,
   "metadata": {},
   "outputs": [],
   "source": [
    "from pydantic import BaseModel\n",
    "from openai import OpenAI\n",
    "from openai.lib._parsing import type_to_response_format_param\n",
    "import json\n",
    "from getpass import getpass\n",
    "\n",
    "openai_api_key = getpass(\"OPENAI_API_KEY\")\n",
    "client = OpenAI(api_key=openai_api_key)"
   ]
  },
  {
   "cell_type": "code",
   "execution_count": 31,
   "metadata": {},
   "outputs": [],
   "source": [
    "from jinja2 import Template\n",
    "\n",
    "prompt_template = Template(\"\"\"\n",
    "[PERSONA]\n",
    "You are going to be given a set of English words and some of their Korean meaning. As an middle and high school English teacher, generate English sentences using each of those words, and provide Korean translation, too. You must refer to the given Korean meaning to generate the examples. Overall sentences must be very easy and kids-friendly. You must refer to the given Korean meaning to generate the examples.\n",
    "\n",
    "[POLICY]\n",
    "1. A sentence must be about 8 words.\n",
    "2. Separate the sentence with a tab in between.\n",
    "3. For Korean translation, use '~요' at the end of each translated sentence to soften the tone. Make it natural.\n",
    "4. The whole data must strictly follow CEFR A2 level.\n",
    "\n",
    "\n",
    "[EXAMPLE]\n",
    "```\n",
    "Input:\n",
    "    {\n",
    "    \"voca_NO\" : 123\n",
    "    \"WordText\" : \"challenge\",\n",
    "    \"WordMeaning\" : \"난제\",\n",
    "    \"PoSText\" : \"명사\"\n",
    "    }\n",
    "\n",
    "Output:\n",
    "    {\n",
    "     \"example_sentence\" : \"Math problems can be a big challenge.\",\n",
    "     \"example_sentence_kor\" : \"수학 문제는 큰 난제가 될 수 있어요.\"\n",
    "    }\n",
    "```                           \n",
    "                           \n",
    "[Input]\n",
    "```\n",
    "voca_NO : {{voca_NO}}\n",
    "WordText : {{WordText}}\n",
    "WordMeaning : {{WordMeaning}}\n",
    "PoSText : {{PoSText}}\n",
    "```                   \n",
    "\"\"\"              \n",
    "\n",
    ")"
   ]
  },
  {
   "cell_type": "code",
   "execution_count": 32,
   "metadata": {},
   "outputs": [],
   "source": [
    "prompt = prompt_template.render(\n",
    "    voca_NO = \"123\",\n",
    "    WordText = \"alarm\",\n",
    "    WordMeaning = \"놀람,경보\",\n",
    "    PoSText = \"명사\",\n",
    ")"
   ]
  },
  {
   "cell_type": "code",
   "execution_count": 33,
   "metadata": {},
   "outputs": [
    {
     "name": "stdout",
     "output_type": "stream",
     "text": [
      "\n",
      "[PERSONA]\n",
      "You are going to be given a set of English words and some of their Korean meaning. As an middle and high school English teacher, generate English sentences using each of those words, and provide Korean translation, too. You must refer to the given Korean meaning to generate the examples. Overall sentences must be very easy and kids-friendly. You must refer to the given Korean meaning to generate the examples.\n",
      "\n",
      "[POLICY]\n",
      "1. A sentence must be about 8 words.\n",
      "2. Separate the sentence with a tab in between.\n",
      "3. For Korean translation, use '~요' at the end of each translated sentence to soften the tone. Make it natural.\n",
      "4. The whole data must strictly follow CEFR A2 level.\n",
      "\n",
      "\n",
      "[EXAMPLE]\n",
      "```\n",
      "Input:\n",
      "    {\n",
      "    \"voca_NO\" : 123\n",
      "    \"WordText\" : \"challenge\",\n",
      "    \"WordMeaning\" : \"난제\",\n",
      "    \"PoSText\" : \"명사\"\n",
      "    }\n",
      "\n",
      "Output:\n",
      "    {\n",
      "     \"example_sentence\" : \"Math problems can be a big challenge.\",\n",
      "     \"example_sentence_kor\" : \"수학 문제는 큰 난제가 될 수 있어요.\"\n",
      "    }\n",
      "```                           \n",
      "                           \n",
      "[Input]\n",
      "```\n",
      "voca_NO : 123\n",
      "WordText : alarm\n",
      "WordMeaning : 놀람,경보\n",
      "PoSText : 명사\n",
      "```                   \n"
     ]
    }
   ],
   "source": [
    "print(prompt)"
   ]
  },
  {
   "cell_type": "code",
   "execution_count": 34,
   "metadata": {},
   "outputs": [],
   "source": [
    "class Example(BaseModel):\n",
    "    example_sentence : str\n",
    "    example_sentence_kor : str"
   ]
  },
  {
   "cell_type": "code",
   "execution_count": 35,
   "metadata": {},
   "outputs": [],
   "source": [
    "response_format = type_to_response_format_param(Example)"
   ]
  },
  {
   "cell_type": "code",
   "execution_count": 36,
   "metadata": {},
   "outputs": [
    {
     "data": {
      "text/plain": [
       "{'type': 'json_schema',\n",
       " 'json_schema': {'schema': {'properties': {'example_sentence': {'title': 'Example Sentence',\n",
       "     'type': 'string'},\n",
       "    'example_sentence_kor': {'title': 'Example Sentence Kor',\n",
       "     'type': 'string'}},\n",
       "   'required': ['example_sentence', 'example_sentence_kor'],\n",
       "   'title': 'Example',\n",
       "   'type': 'object',\n",
       "   'additionalProperties': False},\n",
       "  'name': 'Example',\n",
       "  'strict': True}}"
      ]
     },
     "execution_count": 36,
     "metadata": {},
     "output_type": "execute_result"
    }
   ],
   "source": [
    "response_format"
   ]
  },
  {
   "cell_type": "code",
   "execution_count": 37,
   "metadata": {},
   "outputs": [],
   "source": [
    "def completion(prompt : str) -> str:\n",
    "    response = client.beta.chat.completions.parse(\n",
    "        model = 'o3-mini',\n",
    "        reasoning_effort='low',\n",
    "        messages = [\n",
    "            {\"role\" : \"system\", \"content\" : \"Generate an example sentence for each word.\"},\n",
    "            {\"role\" : \"user\", \"content\" : prompt}\n",
    "        ],\n",
    "        response_format = Example,\n",
    "    )\n",
    "    return response.choices[0].message.parsed"
   ]
  },
  {
   "cell_type": "code",
   "execution_count": 38,
   "metadata": {},
   "outputs": [],
   "source": [
    "response = completion(prompt)"
   ]
  },
  {
   "cell_type": "code",
   "execution_count": 39,
   "metadata": {},
   "outputs": [
    {
     "name": "stdout",
     "output_type": "stream",
     "text": [
      "example_sentence='The\\talarm\\tring\\talways\\tstartles\\tmy\\tsmall\\tcat.' example_sentence_kor='경보음은\\t언제나\\t제\\t작은\\t고양이를\\t놀라게\\t해요.'\n"
     ]
    }
   ],
   "source": [
    "print(response)"
   ]
  },
  {
   "cell_type": "code",
   "execution_count": 40,
   "metadata": {},
   "outputs": [
    {
     "name": "stdout",
     "output_type": "stream",
     "text": [
      "{\n",
      "    \"example_sentence\": \"The\\talarm\\tring\\talways\\tstartles\\tmy\\tsmall\\tcat.\",\n",
      "    \"example_sentence_kor\": \"경보음은\\t언제나\\t제\\t작은\\t고양이를\\t놀라게\\t해요.\"\n",
      "}\n"
     ]
    }
   ],
   "source": [
    "response_output = json.dumps(response.dict(), ensure_ascii=False, indent = 4)\n",
    "print(response_output)"
   ]
  },
  {
   "cell_type": "markdown",
   "metadata": {},
   "source": [
    "# for문 돌려서 Batch API jsonl 파일 형식 만들기"
   ]
  },
  {
   "cell_type": "code",
   "execution_count": 41,
   "metadata": {},
   "outputs": [],
   "source": [
    "def SentenceMake(data, output_filename):\n",
    "    jsonl_data = []\n",
    "\n",
    "    for i in range(len(data)):\n",
    "        prompt = prompt_template.render(\n",
    "            voca_NO = data.loc[i,'voca NO'],\n",
    "            WordText = data.loc[i,\"WordText\"],\n",
    "            WordMeaning = data.loc[i,\"WordMeaning\"],\n",
    "            PoSText = data.loc[i,\"품사\"],\n",
    "        )\n",
    "\n",
    "        quiz_request = {\n",
    "            \"custom_id\" : f\"request-{i+1}\",\n",
    "            \"method\" : \"POST\",\n",
    "            \"url\" : \"/v1/chat/completions\",\n",
    "            \"body\" : {\n",
    "                \"model\" : \"o3-mini-2025-01-31\",\n",
    "                \"messages\" : [\n",
    "                    {\"role\": \"system\", \"content\": \"Generate easy example sentences.\"},\n",
    "                    {\"role\": \"user\", \"content\": prompt}\n",
    "                ],\n",
    "                \"response_format\" : response_format\n",
    "            }\n",
    "        }\n",
    "\n",
    "        jsonl_data.append(quiz_request)\n",
    "\n",
    "        with open(output_filename, 'w', encoding='utf-8') as jsonl_file:\n",
    "            for item in jsonl_data:\n",
    "                jsonl_file.write(json.dumps(item, ensure_ascii=False) + '\\n')\n",
    "\n",
    "    print(f'JSONL 파일 생성 완료 : {output_filename}-{i+1}')"
   ]
  },
  {
   "cell_type": "code",
   "execution_count": 42,
   "metadata": {},
   "outputs": [
    {
     "name": "stdout",
     "output_type": "stream",
     "text": [
      "7251\n",
      "1000\n",
      "1000\n",
      "1000\n",
      "1000\n",
      "1000\n",
      "1000\n",
      "1251\n",
      "total : 7251\n"
     ]
    }
   ],
   "source": [
    "import pandas as pd\n",
    "\n",
    "df = pd.read_csv('Final_Voca_MidHigh.csv', skiprows=2)\n",
    "print(len(df))\n",
    "df1 = df[:1000]\n",
    "print(len(df1))\n",
    "df2 = df[1000:2000]\n",
    "print(len(df2))\n",
    "df3 = df[2000:3000]\n",
    "print(len(df3))\n",
    "df4 = df[3000:4000]\n",
    "print(len(df4))\n",
    "df5 = df[4000:5000]\n",
    "print(len(df5))\n",
    "df6 = df[5000:6000]\n",
    "print(len(df6))\n",
    "df7 = df[6000:]\n",
    "print(len(df7))\n",
    "\n",
    "print(f'total : {len(df1) + len(df2) + len(df3) + len(df4) + len(df5) + len(df6) + len(df7)}')\n",
    "\n",
    "#인덱스 리셋\n",
    "df2 = df2.reset_index()\n",
    "df3 = df3.reset_index()\n",
    "df4 = df4.reset_index()\n",
    "df5 = df5.reset_index()\n",
    "df6 = df6.reset_index()\n",
    "df7 = df7.reset_index()"
   ]
  },
  {
   "cell_type": "code",
   "execution_count": 44,
   "metadata": {},
   "outputs": [
    {
     "name": "stdout",
     "output_type": "stream",
     "text": [
      "JSONL 파일 생성 완료 : VocaList_batch_1.jsonl-1000\n",
      "JSONL 파일 생성 완료 : VocaList_batch_2.jsonl-1000\n",
      "JSONL 파일 생성 완료 : VocaList_batch_3.jsonl-1000\n",
      "JSONL 파일 생성 완료 : VocaList_batch_4.jsonl-1000\n",
      "JSONL 파일 생성 완료 : VocaList_batch_5.jsonl-1000\n",
      "JSONL 파일 생성 완료 : VocaList_batch_6.jsonl-1000\n",
      "JSONL 파일 생성 완료 : VocaList_batch_7.jsonl-1251\n"
     ]
    }
   ],
   "source": [
    "SentenceMake(df1,\"VocaList_batch_1.jsonl\")\n",
    "SentenceMake(df2,\"VocaList_batch_2.jsonl\")\n",
    "SentenceMake(df3,\"VocaList_batch_3.jsonl\")\n",
    "SentenceMake(df4,\"VocaList_batch_4.jsonl\")\n",
    "SentenceMake(df5,\"VocaList_batch_5.jsonl\")\n",
    "SentenceMake(df6,\"VocaList_batch_6.jsonl\")\n",
    "SentenceMake(df7,\"VocaList_batch_7.jsonl\")"
   ]
  },
  {
   "cell_type": "markdown",
   "metadata": {},
   "source": [
    "# 범용 데이터 전처리"
   ]
  },
  {
   "cell_type": "code",
   "execution_count": 66,
   "metadata": {},
   "outputs": [
    {
     "data": {
      "text/plain": [
       "Index(['구분', 'voca NO', 'grade ID', 'grade NO', 'WordText', 'WordMeaning',\n",
       "       'PoS', '품사', 'image ID', 'WordID(SoundID)', 'WordSymbol',\n",
       "       'example_english', 'example_korean', 'new_example_english',\n",
       "       'new_example_korean', 'fill_in_blank_quiz', 'korean_translation',\n",
       "       'answer', 'hint_eng', 'hint_kor', '중고등1200 포함여부', '예시 단어 포함 여부',\n",
       "       'answer/wordtext 일치여부', 'Unnamed: 23', 'Unnamed: 24', '사운드파일명', '사운드배치',\n",
       "       '이미지파일명', '이미지배치', 'Unnamed: 29', 'Unnamed: 30', '고등교과서 gradeID 업데이트'],\n",
       "      dtype='object')"
      ]
     },
     "execution_count": 66,
     "metadata": {},
     "output_type": "execute_result"
    }
   ],
   "source": [
    "import pandas as pd\n",
    "df = pd.read_csv(\"Final_ExampleSentence_Voca_MidHigh.csv\", skiprows=2)\n",
    "df.columns"
   ]
  },
  {
   "cell_type": "code",
   "execution_count": 67,
   "metadata": {},
   "outputs": [
    {
     "data": {
      "text/html": [
       "<div>\n",
       "<style scoped>\n",
       "    .dataframe tbody tr th:only-of-type {\n",
       "        vertical-align: middle;\n",
       "    }\n",
       "\n",
       "    .dataframe tbody tr th {\n",
       "        vertical-align: top;\n",
       "    }\n",
       "\n",
       "    .dataframe thead th {\n",
       "        text-align: right;\n",
       "    }\n",
       "</style>\n",
       "<table border=\"1\" class=\"dataframe\">\n",
       "  <thead>\n",
       "    <tr style=\"text-align: right;\">\n",
       "      <th></th>\n",
       "      <th>구분</th>\n",
       "      <th>voca NO</th>\n",
       "      <th>grade ID</th>\n",
       "      <th>grade NO</th>\n",
       "      <th>WordText</th>\n",
       "      <th>WordMeaning</th>\n",
       "      <th>PoS</th>\n",
       "      <th>품사</th>\n",
       "      <th>image ID</th>\n",
       "      <th>WordID(SoundID)</th>\n",
       "      <th>...</th>\n",
       "      <th>answer/wordtext 일치여부</th>\n",
       "      <th>Unnamed: 23</th>\n",
       "      <th>Unnamed: 24</th>\n",
       "      <th>사운드파일명</th>\n",
       "      <th>사운드배치</th>\n",
       "      <th>이미지파일명</th>\n",
       "      <th>이미지배치</th>\n",
       "      <th>Unnamed: 29</th>\n",
       "      <th>Unnamed: 30</th>\n",
       "      <th>고등교과서 gradeID 업데이트</th>\n",
       "    </tr>\n",
       "  </thead>\n",
       "  <tbody>\n",
       "    <tr>\n",
       "      <th>0</th>\n",
       "      <td>중고등1200</td>\n",
       "      <td>1</td>\n",
       "      <td>중등</td>\n",
       "      <td>9</td>\n",
       "      <td>accent</td>\n",
       "      <td>강세</td>\n",
       "      <td>2</td>\n",
       "      <td>명사</td>\n",
       "      <td>5094</td>\n",
       "      <td>14274</td>\n",
       "      <td>...</td>\n",
       "      <td>TRUE</td>\n",
       "      <td>NaN</td>\n",
       "      <td>NaN</td>\n",
       "      <td>14274</td>\n",
       "      <td>XCOPY /F/Y .\\014274.mp3 .\\cutMp3\\</td>\n",
       "      <td>5094</td>\n",
       "      <td>XCOPY /F/Y .\\005094.png .\\cutPng\\</td>\n",
       "      <td>NaN</td>\n",
       "      <td>NaN</td>\n",
       "      <td>NaN</td>\n",
       "    </tr>\n",
       "  </tbody>\n",
       "</table>\n",
       "<p>1 rows × 32 columns</p>\n",
       "</div>"
      ],
      "text/plain": [
       "        구분  voca NO grade ID  grade NO WordText WordMeaning  PoS  품사  \\\n",
       "0  중고등1200        1       중등         9   accent          강세    2  명사   \n",
       "\n",
       "   image ID  WordID(SoundID)  ... answer/wordtext 일치여부 Unnamed: 23  \\\n",
       "0      5094            14274  ...                 TRUE         NaN   \n",
       "\n",
       "  Unnamed: 24 사운드파일명                              사운드배치 이미지파일명  \\\n",
       "0         NaN  14274  XCOPY /F/Y .\\014274.mp3 .\\cutMp3\\   5094   \n",
       "\n",
       "                               이미지배치 Unnamed: 29 Unnamed: 30  \\\n",
       "0  XCOPY /F/Y .\\005094.png .\\cutPng\\         NaN         NaN   \n",
       "\n",
       "  고등교과서 gradeID 업데이트  \n",
       "0                NaN  \n",
       "\n",
       "[1 rows x 32 columns]"
      ]
     },
     "execution_count": 67,
     "metadata": {},
     "output_type": "execute_result"
    }
   ],
   "source": [
    "df.head(1)"
   ]
  },
  {
   "cell_type": "code",
   "execution_count": 68,
   "metadata": {},
   "outputs": [
    {
     "data": {
      "text/html": [
       "<div>\n",
       "<style scoped>\n",
       "    .dataframe tbody tr th:only-of-type {\n",
       "        vertical-align: middle;\n",
       "    }\n",
       "\n",
       "    .dataframe tbody tr th {\n",
       "        vertical-align: top;\n",
       "    }\n",
       "\n",
       "    .dataframe thead th {\n",
       "        text-align: right;\n",
       "    }\n",
       "</style>\n",
       "<table border=\"1\" class=\"dataframe\">\n",
       "  <thead>\n",
       "    <tr style=\"text-align: right;\">\n",
       "      <th></th>\n",
       "      <th>voca NO</th>\n",
       "      <th>WordText</th>\n",
       "      <th>WordMeaning</th>\n",
       "      <th>품사</th>\n",
       "    </tr>\n",
       "  </thead>\n",
       "  <tbody>\n",
       "    <tr>\n",
       "      <th>0</th>\n",
       "      <td>1</td>\n",
       "      <td>accent</td>\n",
       "      <td>강세</td>\n",
       "      <td>명사</td>\n",
       "    </tr>\n",
       "    <tr>\n",
       "      <th>1</th>\n",
       "      <td>2</td>\n",
       "      <td>accent</td>\n",
       "      <td>억양</td>\n",
       "      <td>명사</td>\n",
       "    </tr>\n",
       "    <tr>\n",
       "      <th>2</th>\n",
       "      <td>3</td>\n",
       "      <td>advertise</td>\n",
       "      <td>광고하다</td>\n",
       "      <td>동사</td>\n",
       "    </tr>\n",
       "  </tbody>\n",
       "</table>\n",
       "</div>"
      ],
      "text/plain": [
       "   voca NO   WordText WordMeaning  품사\n",
       "0        1     accent          강세  명사\n",
       "1        2     accent          억양  명사\n",
       "2        3  advertise        광고하다  동사"
      ]
     },
     "execution_count": 68,
     "metadata": {},
     "output_type": "execute_result"
    }
   ],
   "source": [
    "drop_col = ['구분', 'image ID', 'WordID(SoundID)', 'WordSymbol',\n",
    "       'example_english', 'example_korean', 'new_example_english',\n",
    "       'new_example_korean', 'fill_in_blank_quiz', 'korean_translation',\n",
    "       'answer', 'hint_eng', 'hint_kor', '중고등1200 포함여부', '예시 단어 포함 여부',\n",
    "       'answer/wordtext 일치여부', 'Unnamed: 23', 'Unnamed: 24', '사운드파일명', '사운드배치',\n",
    "       '이미지파일명', '이미지배치', 'Unnamed: 29', 'Unnamed: 30', '고등교과서 gradeID 업데이트', 'grade ID', 'grade NO', 'PoS']\n",
    "df.drop(columns=drop_col, inplace=True)\n",
    "df.head(3)"
   ]
  },
  {
   "cell_type": "code",
   "execution_count": 69,
   "metadata": {},
   "outputs": [
    {
     "data": {
      "text/html": [
       "<div>\n",
       "<style scoped>\n",
       "    .dataframe tbody tr th:only-of-type {\n",
       "        vertical-align: middle;\n",
       "    }\n",
       "\n",
       "    .dataframe tbody tr th {\n",
       "        vertical-align: top;\n",
       "    }\n",
       "\n",
       "    .dataframe thead th {\n",
       "        text-align: right;\n",
       "    }\n",
       "</style>\n",
       "<table border=\"1\" class=\"dataframe\">\n",
       "  <thead>\n",
       "    <tr style=\"text-align: right;\">\n",
       "      <th></th>\n",
       "      <th>id</th>\n",
       "      <th>WordText</th>\n",
       "      <th>WordMeaning</th>\n",
       "      <th>PoSText</th>\n",
       "    </tr>\n",
       "  </thead>\n",
       "  <tbody>\n",
       "    <tr>\n",
       "      <th>0</th>\n",
       "      <td>1</td>\n",
       "      <td>accent</td>\n",
       "      <td>강세</td>\n",
       "      <td>명사</td>\n",
       "    </tr>\n",
       "    <tr>\n",
       "      <th>1</th>\n",
       "      <td>2</td>\n",
       "      <td>accent</td>\n",
       "      <td>억양</td>\n",
       "      <td>명사</td>\n",
       "    </tr>\n",
       "    <tr>\n",
       "      <th>2</th>\n",
       "      <td>3</td>\n",
       "      <td>advertise</td>\n",
       "      <td>광고하다</td>\n",
       "      <td>동사</td>\n",
       "    </tr>\n",
       "  </tbody>\n",
       "</table>\n",
       "</div>"
      ],
      "text/plain": [
       "   id   WordText WordMeaning PoSText\n",
       "0   1     accent          강세      명사\n",
       "1   2     accent          억양      명사\n",
       "2   3  advertise        광고하다      동사"
      ]
     },
     "execution_count": 69,
     "metadata": {},
     "output_type": "execute_result"
    }
   ],
   "source": [
    "df = df.rename({\"품사\" : \"PoSText\",\n",
    "                \"voca NO\" : \"id\"}, axis=1)\n",
    "df.head(3)"
   ]
  },
  {
   "cell_type": "code",
   "execution_count": 70,
   "metadata": {},
   "outputs": [
    {
     "name": "stdout",
     "output_type": "stream",
     "text": [
      "총 사이즈 5486\n",
      "df1 사이즈 1000\n",
      "df2 사이즈 1000\n",
      "df3 사이즈 1000\n",
      "df4 사이즈 1000\n",
      "df5 사이즈 1000\n",
      "df6 사이즈 486\n"
     ]
    }
   ],
   "source": [
    "df = df[7251:]\n",
    "df = df.reset_index(drop=True)\n",
    "print(f\"총 사이즈 {len(df)}\")\n",
    "df1 = df[:1000]\n",
    "df2 = df[1000:2000]\n",
    "df3 = df[2000:3000]\n",
    "df4 = df[3000:4000]\n",
    "df5 = df[4000:5000]\n",
    "df6 = df[5000:]\n",
    "\n",
    "print(f\"df1 사이즈 {len(df1)}\")\n",
    "print(f\"df2 사이즈 {len(df2)}\")\n",
    "print(f\"df3 사이즈 {len(df3)}\")\n",
    "print(f\"df4 사이즈 {len(df4)}\")\n",
    "print(f\"df5 사이즈 {len(df5)}\")\n",
    "print(f\"df6 사이즈 {len(df6)}\")"
   ]
  },
  {
   "cell_type": "code",
   "execution_count": 71,
   "metadata": {},
   "outputs": [
    {
     "data": {
      "text/html": [
       "<div>\n",
       "<style scoped>\n",
       "    .dataframe tbody tr th:only-of-type {\n",
       "        vertical-align: middle;\n",
       "    }\n",
       "\n",
       "    .dataframe tbody tr th {\n",
       "        vertical-align: top;\n",
       "    }\n",
       "\n",
       "    .dataframe thead th {\n",
       "        text-align: right;\n",
       "    }\n",
       "</style>\n",
       "<table border=\"1\" class=\"dataframe\">\n",
       "  <thead>\n",
       "    <tr style=\"text-align: right;\">\n",
       "      <th></th>\n",
       "      <th>id</th>\n",
       "      <th>WordText</th>\n",
       "      <th>WordMeaning</th>\n",
       "      <th>PoSText</th>\n",
       "    </tr>\n",
       "  </thead>\n",
       "  <tbody>\n",
       "    <tr>\n",
       "      <th>5000</th>\n",
       "      <td>24652</td>\n",
       "      <td>stimulating</td>\n",
       "      <td>자극하는,활기를 주는</td>\n",
       "      <td>형용사</td>\n",
       "    </tr>\n",
       "    <tr>\n",
       "      <th>5001</th>\n",
       "      <td>24653</td>\n",
       "      <td>stir up</td>\n",
       "      <td>문제를 일으키다</td>\n",
       "      <td>숙어/관용어</td>\n",
       "    </tr>\n",
       "    <tr>\n",
       "      <th>5002</th>\n",
       "      <td>24654</td>\n",
       "      <td>store</td>\n",
       "      <td>가게,상점</td>\n",
       "      <td>명사</td>\n",
       "    </tr>\n",
       "    <tr>\n",
       "      <th>5003</th>\n",
       "      <td>24655</td>\n",
       "      <td>store</td>\n",
       "      <td>저장하다</td>\n",
       "      <td>동사</td>\n",
       "    </tr>\n",
       "    <tr>\n",
       "      <th>5004</th>\n",
       "      <td>24656</td>\n",
       "      <td>straighten</td>\n",
       "      <td>정돈하다,~을 똑바르게 하다</td>\n",
       "      <td>동사</td>\n",
       "    </tr>\n",
       "  </tbody>\n",
       "</table>\n",
       "</div>"
      ],
      "text/plain": [
       "         id     WordText      WordMeaning PoSText\n",
       "5000  24652  stimulating      자극하는,활기를 주는     형용사\n",
       "5001  24653      stir up         문제를 일으키다  숙어/관용어\n",
       "5002  24654        store            가게,상점      명사\n",
       "5003  24655        store             저장하다      동사\n",
       "5004  24656   straighten  정돈하다,~을 똑바르게 하다      동사"
      ]
     },
     "execution_count": 71,
     "metadata": {},
     "output_type": "execute_result"
    }
   ],
   "source": [
    "df6.head()"
   ]
  },
  {
   "cell_type": "code",
   "execution_count": 72,
   "metadata": {},
   "outputs": [],
   "source": [
    "df1.to_csv(\"Voca_MidHigh_example_sentencef1.csv\", index=False, encoding='utf-8-sig')\n",
    "df2.to_csv(\"Voca_MidHigh_example_sentencef2.csv\", index=False, encoding='utf-8-sig')\n",
    "df3.to_csv(\"Voca_MidHigh_example_sentencef3.csv\", index=False, encoding='utf-8-sig')\n",
    "df4.to_csv(\"Voca_MidHigh_example_sentencef4.csv\", index=False, encoding='utf-8-sig')\n",
    "df5.to_csv(\"Voca_MidHigh_example_sentencef5.csv\", index=False, encoding='utf-8-sig')\n",
    "df6.to_csv(\"Voca_MidHigh_example_sentencef6.csv\", index=False, encoding='utf-8-sig')"
   ]
  }
 ],
 "metadata": {
  "kernelspec": {
   "display_name": "base",
   "language": "python",
   "name": "python3"
  },
  "language_info": {
   "codemirror_mode": {
    "name": "ipython",
    "version": 3
   },
   "file_extension": ".py",
   "mimetype": "text/x-python",
   "name": "python",
   "nbconvert_exporter": "python",
   "pygments_lexer": "ipython3",
   "version": "3.12.7"
  }
 },
 "nbformat": 4,
 "nbformat_minor": 2
}
