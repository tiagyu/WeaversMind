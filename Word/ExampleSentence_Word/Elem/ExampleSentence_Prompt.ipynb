{
 "cells": [
  {
   "cell_type": "markdown",
   "metadata": {},
   "source": [
    "# Elem Example Sentence Prompt"
   ]
  },
  {
   "cell_type": "code",
   "execution_count": 1,
   "metadata": {},
   "outputs": [],
   "source": [
    "import pandas as pd\n",
    "from openai import OpenAI\n",
    "from jinja2 import Template\n",
    "from pydantic import BaseModel\n",
    "from openai.lib._parsing import type_to_response_format_param\n",
    "import json\n",
    "from getpass import getpass"
   ]
  },
  {
   "cell_type": "code",
   "execution_count": 2,
   "metadata": {},
   "outputs": [],
   "source": [
    "openai_api_key = getpass(\"OPENAI_API_KEY\")\n",
    "client = OpenAI(api_key=openai_api_key)"
   ]
  },
  {
   "cell_type": "markdown",
   "metadata": {},
   "source": [
    "# 초등 prompt 설정"
   ]
  },
  {
   "cell_type": "code",
   "execution_count": 6,
   "metadata": {},
   "outputs": [],
   "source": [
    "prompt_voca_sentence_elem_template = Template(\"\"\"\n",
    "[PERSONA]\n",
    "You are going to be given a set of English words and some of their Korean meaning. As an elementary school English teacher, generate English sentences using each of those words, and provide Korean translation, too. You must refer to the given Korean meaning to generate the examples. Overall sentences must be very easy and kids-friendly. You must refer to the given Korean meaning to generate the examples.\n",
    "\n",
    "\n",
    "[POLICY]\n",
    "1. A sentence must not be over 6 words.\n",
    "2. Separate the sentence with a tab in between.\n",
    "3. For Korean translation, use '~요' at the end of each translated sentence to soften the tone. Make it natural.\n",
    "4. The whole data must strictly follow CEFR A1 level.\n",
    "\n",
    "[EXAMPLE]\n",
    "```\n",
    "Input:\n",
    "    {\n",
    "    \"voca_NO\" : 123\n",
    "    \"WordText\" : \"cat\",\n",
    "    \"WordMeaning\" : \"고양이\",\n",
    "    \"PoSText\" : \"명사\"\n",
    "    }\n",
    "\n",
    "Output:\n",
    "    {\n",
    "     \"example_sentence\" : \"The cat sleeps on the bed.\",\n",
    "     \"example_sentence_kor\" : \"고양이가 침대에서 자요.\"\n",
    "    }\n",
    "```                           \n",
    "                           \n",
    "[Input]\n",
    "```\n",
    "voca_NO : {{voca_NO}}\n",
    "WordText : {{WordText}}\n",
    "WordMeaning : {{WordMeaning}}\n",
    "PoSText : {{PoSText}}\n",
    "```                   \n",
    "\"\"\"                                \n",
    ")\n"
   ]
  },
  {
   "cell_type": "markdown",
   "metadata": {},
   "source": [
    "- 예시 출력"
   ]
  },
  {
   "cell_type": "code",
   "execution_count": 18,
   "metadata": {},
   "outputs": [],
   "source": [
    "prompt_voca_sentence_elem = prompt_voca_sentence_elem_template.render(\n",
    "    voca_NO = \"123\",\n",
    "    WordText = \"everyone\",\n",
    "    WordMeaning = \"모든 사람\",\n",
    "    PoSText = \"대명사\"\n",
    ")"
   ]
  },
  {
   "cell_type": "code",
   "execution_count": 27,
   "metadata": {},
   "outputs": [
    {
     "name": "stdout",
     "output_type": "stream",
     "text": [
      "\n",
      "[PERSONA]\n",
      "You are going to be given a set of English words and some of their Korean meaning. As an elementary school English teacher, generate English sentences using each of those words, and provide Korean translation, too. You must refer to the given Korean meaning to generate the examples. Overall sentences must be very easy and kids-friendly. You must refer to the given Korean meaning to generate the examples.\n",
      "\n",
      "\n",
      "[POLICY]\n",
      "1. A sentence must not be over 6 words.\n",
      "2. Separate the sentence with a tab in between.\n",
      "3. For Korean translation, use '~요' at the end of each translated sentence to soften the tone. Make it natural.\n",
      "4. The whole data must strictly follow CEFR A1 level.\n",
      "\n",
      "[EXAMPLE]\n",
      "```\n",
      "Input:\n",
      "    {\n",
      "    \"voca_NO\" : 123\n",
      "    \"WordText\" : \"cat\",\n",
      "    \"WordMeaning\" : \"고양이\",\n",
      "    \"PoSText\" : \"명사\"\n",
      "    }\n",
      "\n",
      "Output:\n",
      "    {\n",
      "     \"example_sentence\" : \"The cat sleeps on the bed.\",\n",
      "     \"example_sentence_kor\" : \"고양이가 침대에서 자요.\"\n",
      "    }\n",
      "```                           \n",
      "                           \n",
      "[Input]\n",
      "```\n",
      "voca_NO : 123\n",
      "WordText : everyone\n",
      "WordMeaning : 모든 사람\n",
      "PoSText : 대명사\n",
      "```                   \n"
     ]
    }
   ],
   "source": [
    "print(prompt_voca_sentence_elem)"
   ]
  },
  {
   "cell_type": "code",
   "execution_count": 28,
   "metadata": {},
   "outputs": [],
   "source": [
    "class ExampleSentence(BaseModel):\n",
    "    example_sentence : str\n",
    "    example_sentence_kor : str"
   ]
  },
  {
   "cell_type": "code",
   "execution_count": 10,
   "metadata": {},
   "outputs": [],
   "source": [
    "response_format = type_to_response_format_param(ExampleSentence)"
   ]
  },
  {
   "cell_type": "code",
   "execution_count": 11,
   "metadata": {},
   "outputs": [
    {
     "data": {
      "text/plain": [
       "{'type': 'json_schema',\n",
       " 'json_schema': {'schema': {'properties': {'example_sentence': {'title': 'Example Sentence',\n",
       "     'type': 'string'},\n",
       "    'example_sentence_kor': {'title': 'Example Sentence Kor',\n",
       "     'type': 'string'}},\n",
       "   'required': ['example_sentence', 'example_sentence_kor'],\n",
       "   'title': 'ExampleSentence',\n",
       "   'type': 'object',\n",
       "   'additionalProperties': False},\n",
       "  'name': 'ExampleSentence',\n",
       "  'strict': True}}"
      ]
     },
     "execution_count": 11,
     "metadata": {},
     "output_type": "execute_result"
    }
   ],
   "source": [
    "response_format"
   ]
  },
  {
   "cell_type": "code",
   "execution_count": 29,
   "metadata": {},
   "outputs": [],
   "source": [
    "def completion(prompt : str, response_format : str) -> str:\n",
    "    response = client.beta.chat.completions.parse(\n",
    "        model = 'o3-mini',\n",
    "        reasoning_effort = 'low',\n",
    "        messages = [\n",
    "            {\"role\" : \"system\", \"content\" : \"Generate easy example sentences.\"},\n",
    "            {\"role\" : \"user\", \"content\" : prompt}\n",
    "        ],\n",
    "        response_format = response_format\n",
    "    )\n",
    "    return response.choices[0].message.parsed"
   ]
  },
  {
   "cell_type": "code",
   "execution_count": 30,
   "metadata": {},
   "outputs": [],
   "source": [
    "response = completion(prompt_voca_sentence_elem, response_format = ExampleSentence)"
   ]
  },
  {
   "cell_type": "code",
   "execution_count": 31,
   "metadata": {},
   "outputs": [
    {
     "name": "stdout",
     "output_type": "stream",
     "text": [
      "example_sentence='Everyone plays in the park.' example_sentence_kor='모든 사람이 공원에서 놀아요.'\n"
     ]
    }
   ],
   "source": [
    "print(response)"
   ]
  },
  {
   "cell_type": "code",
   "execution_count": 32,
   "metadata": {},
   "outputs": [
    {
     "name": "stdout",
     "output_type": "stream",
     "text": [
      "{\n",
      "    \"example_sentence\": \"Everyone plays in the park.\",\n",
      "    \"example_sentence_kor\": \"모든 사람이 공원에서 놀아요.\"\n",
      "}\n"
     ]
    }
   ],
   "source": [
    "response_output = json.dumps(response.dict(), ensure_ascii=False, indent=4)\n",
    "print(response_output)"
   ]
  },
  {
   "cell_type": "markdown",
   "metadata": {},
   "source": [
    "# data 추가"
   ]
  },
  {
   "cell_type": "code",
   "execution_count": 37,
   "metadata": {},
   "outputs": [
    {
     "data": {
      "text/html": [
       "<div>\n",
       "<style scoped>\n",
       "    .dataframe tbody tr th:only-of-type {\n",
       "        vertical-align: middle;\n",
       "    }\n",
       "\n",
       "    .dataframe tbody tr th {\n",
       "        vertical-align: top;\n",
       "    }\n",
       "\n",
       "    .dataframe thead th {\n",
       "        text-align: right;\n",
       "    }\n",
       "</style>\n",
       "<table border=\"1\" class=\"dataframe\">\n",
       "  <thead>\n",
       "    <tr style=\"text-align: right;\">\n",
       "      <th></th>\n",
       "      <th>textbook ID</th>\n",
       "      <th>학년</th>\n",
       "      <th>출판사(저자)</th>\n",
       "      <th>교육과정</th>\n",
       "      <th>레슨</th>\n",
       "      <th>단어</th>\n",
       "      <th>뜻</th>\n",
       "      <th>예문</th>\n",
       "      <th>예문 해석</th>\n",
       "      <th>영영풀이</th>\n",
       "      <th>초등800 포함여부</th>\n",
       "    </tr>\n",
       "  </thead>\n",
       "  <tbody>\n",
       "    <tr>\n",
       "      <th>0</th>\n",
       "      <td>301</td>\n",
       "      <td>초3</td>\n",
       "      <td>천재(함)</td>\n",
       "      <td>2015</td>\n",
       "      <td>1</td>\n",
       "      <td>bye</td>\n",
       "      <td>int. 안녕\\nn.부전승</td>\n",
       "      <td>NaN</td>\n",
       "      <td>NaN</td>\n",
       "      <td>NaN</td>\n",
       "      <td>True</td>\n",
       "    </tr>\n",
       "    <tr>\n",
       "      <th>1</th>\n",
       "      <td>301</td>\n",
       "      <td>초3</td>\n",
       "      <td>천재(함)</td>\n",
       "      <td>2015</td>\n",
       "      <td>1</td>\n",
       "      <td>hi</td>\n",
       "      <td>int.안녕</td>\n",
       "      <td>NaN</td>\n",
       "      <td>NaN</td>\n",
       "      <td>NaN</td>\n",
       "      <td>True</td>\n",
       "    </tr>\n",
       "    <tr>\n",
       "      <th>2</th>\n",
       "      <td>301</td>\n",
       "      <td>초3</td>\n",
       "      <td>천재(함)</td>\n",
       "      <td>2015</td>\n",
       "      <td>1</td>\n",
       "      <td>hello</td>\n",
       "      <td>pl. 만났을때 인사, 안녕하세요</td>\n",
       "      <td>NaN</td>\n",
       "      <td>NaN</td>\n",
       "      <td>NaN</td>\n",
       "      <td>True</td>\n",
       "    </tr>\n",
       "    <tr>\n",
       "      <th>3</th>\n",
       "      <td>301</td>\n",
       "      <td>초3</td>\n",
       "      <td>천재(함)</td>\n",
       "      <td>2015</td>\n",
       "      <td>1</td>\n",
       "      <td>I</td>\n",
       "      <td>n.(알파벳)아이, (로마숫자)1</td>\n",
       "      <td>NaN</td>\n",
       "      <td>NaN</td>\n",
       "      <td>NaN</td>\n",
       "      <td>True</td>\n",
       "    </tr>\n",
       "    <tr>\n",
       "      <th>4</th>\n",
       "      <td>301</td>\n",
       "      <td>초3</td>\n",
       "      <td>천재(함)</td>\n",
       "      <td>2015</td>\n",
       "      <td>1</td>\n",
       "      <td>sorry</td>\n",
       "      <td>a.안된, 미안한</td>\n",
       "      <td>NaN</td>\n",
       "      <td>NaN</td>\n",
       "      <td>NaN</td>\n",
       "      <td>True</td>\n",
       "    </tr>\n",
       "  </tbody>\n",
       "</table>\n",
       "</div>"
      ],
      "text/plain": [
       "   textbook ID  학년 출판사(저자)  교육과정 레슨     단어                   뜻   예문  예문 해석  \\\n",
       "0          301  초3   천재(함)  2015  1    bye      int. 안녕\\nn.부전승  NaN    NaN   \n",
       "1          301  초3   천재(함)  2015  1     hi              int.안녕  NaN    NaN   \n",
       "2          301  초3   천재(함)  2015  1  hello  pl. 만났을때 인사, 안녕하세요  NaN    NaN   \n",
       "3          301  초3   천재(함)  2015  1      I  n.(알파벳)아이, (로마숫자)1  NaN    NaN   \n",
       "4          301  초3   천재(함)  2015  1  sorry           a.안된, 미안한  NaN    NaN   \n",
       "\n",
       "   영영풀이 초등800 포함여부  \n",
       "0   NaN       True  \n",
       "1   NaN       True  \n",
       "2   NaN       True  \n",
       "3   NaN       True  \n",
       "4   NaN       True  "
      ]
     },
     "execution_count": 37,
     "metadata": {},
     "output_type": "execute_result"
    }
   ],
   "source": [
    "file_name = \"Final_Voca_Elem.csv\"\n",
    "df = pd.read_csv(file_name)\n",
    "df.head(5)"
   ]
  },
  {
   "cell_type": "markdown",
   "metadata": {},
   "source": [
    "# jsonl 파일 변환"
   ]
  },
  {
   "cell_type": "code",
   "execution_count": 26,
   "metadata": {},
   "outputs": [],
   "source": [
    "def VocaQuizMake(data, output_filename):\n",
    "    jsonl_data = []\n",
    "\n",
    "    for i in range(len(data)):\n",
    "        prompt = prompt_voca_sentence_elem_template.render(\n",
    "            id = data.loc['voca NO'],\n",
    "            word = data.loc[i,\"WordText\"],\n",
    "            meaning = data.loc[i,\"WordMeaning\"],\n",
    "            part_of_speech = data.loc[i,\"품사\"]\n",
    "        )\n",
    "\n",
    "        quiz_request = {\n",
    "            \"custom_id\" : f\"request-{i+1}\",\n",
    "            \"method\" : \"POST\",\n",
    "            \"url\" : \"/v1/chat/completions\",\n",
    "            \"body\" : {\n",
    "                \"model\" : \"o3-mini-2025-01-31\",\n",
    "                \"messages\" : [\n",
    "                    {\"role\": \"system\", \"content\": \"Generate easy example sentences.\"},\n",
    "                    {\"role\": \"user\", \"content\": prompt}\n",
    "                ],\n",
    "                \"response_format\" : response_format\n",
    "            }\n",
    "        }\n",
    "\n",
    "        jsonl_data.append(quiz_request)\n",
    "\n",
    "        with open(output_filename, 'w', encoding='utf-8') as jsonl_file:\n",
    "            for item in jsonl_data:\n",
    "                jsonl_file.write(json.dumps(item, ensure_ascii=False) + '\\n')\n",
    "\n",
    "    print(f'JSONL 파일 생성 완료 : {output_filename}-{i+1}')"
   ]
  },
  {
   "cell_type": "code",
   "execution_count": null,
   "metadata": {},
   "outputs": [],
   "source": []
  }
 ],
 "metadata": {
  "kernelspec": {
   "display_name": "base",
   "language": "python",
   "name": "python3"
  },
  "language_info": {
   "codemirror_mode": {
    "name": "ipython",
    "version": 3
   },
   "file_extension": ".py",
   "mimetype": "text/x-python",
   "name": "python",
   "nbconvert_exporter": "python",
   "pygments_lexer": "ipython3",
   "version": "3.12.7"
  }
 },
 "nbformat": 4,
 "nbformat_minor": 2
}
