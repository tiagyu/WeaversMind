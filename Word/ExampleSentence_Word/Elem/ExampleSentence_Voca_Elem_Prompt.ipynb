{
 "cells": [
  {
   "cell_type": "markdown",
   "metadata": {},
   "source": [
    "# Voca 초딩 예문 양산"
   ]
  },
  {
   "cell_type": "code",
   "execution_count": 1,
   "metadata": {},
   "outputs": [],
   "source": [
    "from pydantic import BaseModel\n",
    "from openai import OpenAI\n",
    "from openai.lib._parsing import type_to_response_format_param\n",
    "import json\n",
    "from getpass import getpass\n",
    "\n",
    "openai_api_key = getpass(\"OPENAI_API_KEY\")\n",
    "client = OpenAI(api_key=openai_api_key)"
   ]
  },
  {
   "cell_type": "code",
   "execution_count": 2,
   "metadata": {},
   "outputs": [],
   "source": [
    "from jinja2 import Template\n",
    "\n",
    "prompt_template = Template(\"\"\"\n",
    "[PERSONA]\n",
    "You are going to be given a set of English words and some of their Korean meaning. As an elementary school English teacher, generate English sentences using each of those words, and provide Korean translation, too. You must refer to the given Korean meaning to generate the examples. Overall sentences must be very easy and kids-friendly. You must refer to the given Korean meaning to generate the examples.\n",
    "\n",
    "\n",
    "[POLICY]\n",
    "1. A sentence must not be over 6 words.\n",
    "2. Separate the sentence with a tab in between.\n",
    "3. For Korean translation, use '~요' at the end of each translated sentence to soften the tone. Make it natural.\n",
    "4. The whole data must strictly follow CEFR A1 level.\n",
    "\n",
    "[EXAMPLE]\n",
    "```\n",
    "Input:\n",
    "    {\n",
    "    \"voca_NO\" : 123\n",
    "    \"WordText\" : \"cat\",\n",
    "    \"WordMeaning\" : \"고양이\",\n",
    "    \"PoSText\" : \"명사\"\n",
    "    }\n",
    "\n",
    "Output:\n",
    "    {\n",
    "     \"example_sentence\" : \"The cat sleeps on the bed.\",\n",
    "     \"example_sentence_kor\" : \"고양이가 침대에서 자요.\"\n",
    "    }\n",
    "```                           \n",
    "                           \n",
    "[Input]\n",
    "```\n",
    "voca_NO : {{voca_NO}}\n",
    "WordText : {{WordText}}\n",
    "WordMeaning : {{WordMeaning}}\n",
    "PoSText : {{PoSText}}\n",
    "```                   \n",
    "\"\"\"                                    \n",
    "\n",
    ")"
   ]
  },
  {
   "cell_type": "code",
   "execution_count": 3,
   "metadata": {},
   "outputs": [],
   "source": [
    "prompt = prompt_template.render(\n",
    "    voca_NO = \"10001\",\n",
    "    WordText = \"about\",\n",
    "    WordMeaning = \"~에 대하여\",\n",
    "    PoSText = \"전치사\",\n",
    ")"
   ]
  },
  {
   "cell_type": "code",
   "execution_count": 4,
   "metadata": {},
   "outputs": [
    {
     "name": "stdout",
     "output_type": "stream",
     "text": [
      "\n",
      "[PERSONA]\n",
      "You are going to be given a set of English words and some of their Korean meaning. As an elementary school English teacher, generate English sentences using each of those words, and provide Korean translation, too. You must refer to the given Korean meaning to generate the examples. Overall sentences must be very easy and kids-friendly. You must refer to the given Korean meaning to generate the examples.\n",
      "\n",
      "\n",
      "[POLICY]\n",
      "1. A sentence must not be over 6 words.\n",
      "2. Separate the sentence with a tab in between.\n",
      "3. For Korean translation, use '~요' at the end of each translated sentence to soften the tone. Make it natural.\n",
      "4. The whole data must strictly follow CEFR A1 level.\n",
      "\n",
      "[EXAMPLE]\n",
      "```\n",
      "Input:\n",
      "    {\n",
      "    \"voca_NO\" : 123\n",
      "    \"WordText\" : \"cat\",\n",
      "    \"WordMeaning\" : \"고양이\",\n",
      "    \"PoSText\" : \"명사\"\n",
      "    }\n",
      "\n",
      "Output:\n",
      "    {\n",
      "     \"example_sentence\" : \"The cat sleeps on the bed.\",\n",
      "     \"example_sentence_kor\" : \"고양이가 침대에서 자요.\"\n",
      "    }\n",
      "```                           \n",
      "                           \n",
      "[Input]\n",
      "```\n",
      "voca_NO : 10001\n",
      "WordText : about\n",
      "WordMeaning : ~에 대하여\n",
      "PoSText : 전치사\n",
      "```                   \n"
     ]
    }
   ],
   "source": [
    "print(prompt)"
   ]
  },
  {
   "cell_type": "code",
   "execution_count": 5,
   "metadata": {},
   "outputs": [],
   "source": [
    "class Example(BaseModel):\n",
    "    example_sentence : str\n",
    "    example_sentence_kor : str"
   ]
  },
  {
   "cell_type": "code",
   "execution_count": 6,
   "metadata": {},
   "outputs": [],
   "source": [
    "response_format = type_to_response_format_param(Example)"
   ]
  },
  {
   "cell_type": "code",
   "execution_count": 7,
   "metadata": {},
   "outputs": [
    {
     "data": {
      "text/plain": [
       "{'type': 'json_schema',\n",
       " 'json_schema': {'schema': {'properties': {'example_sentence': {'title': 'Example Sentence',\n",
       "     'type': 'string'},\n",
       "    'example_sentence_kor': {'title': 'Example Sentence Kor',\n",
       "     'type': 'string'}},\n",
       "   'required': ['example_sentence', 'example_sentence_kor'],\n",
       "   'title': 'Example',\n",
       "   'type': 'object',\n",
       "   'additionalProperties': False},\n",
       "  'name': 'Example',\n",
       "  'strict': True}}"
      ]
     },
     "execution_count": 7,
     "metadata": {},
     "output_type": "execute_result"
    }
   ],
   "source": [
    "response_format"
   ]
  },
  {
   "cell_type": "code",
   "execution_count": 8,
   "metadata": {},
   "outputs": [],
   "source": [
    "def completion(prompt : str) -> str:\n",
    "    response = client.beta.chat.completions.parse(\n",
    "        model = 'o3-mini',\n",
    "        reasoning_effort='low',\n",
    "        messages = [\n",
    "            {\"role\" : \"system\", \"content\" : \"Generate an example sentence for each word.\"},\n",
    "            {\"role\" : \"user\", \"content\" : prompt}\n",
    "        ],\n",
    "        response_format = Example,\n",
    "    )\n",
    "    return response.choices[0].message.parsed"
   ]
  },
  {
   "cell_type": "code",
   "execution_count": 12,
   "metadata": {},
   "outputs": [],
   "source": [
    "response = completion(prompt)"
   ]
  },
  {
   "cell_type": "code",
   "execution_count": 10,
   "metadata": {},
   "outputs": [
    {
     "name": "stdout",
     "output_type": "stream",
     "text": [
      "example_sentence='I talk about games.' example_sentence_kor='나는 게임에 대하여 말해요.'\n"
     ]
    }
   ],
   "source": [
    "print(response)"
   ]
  },
  {
   "cell_type": "code",
   "execution_count": 13,
   "metadata": {},
   "outputs": [
    {
     "name": "stdout",
     "output_type": "stream",
     "text": [
      "{\n",
      "    \"example_sentence\": \"He talks about his toy.\",\n",
      "    \"example_sentence_kor\": \"그는 장난감에 대하여 얘기해요.\"\n",
      "}\n"
     ]
    }
   ],
   "source": [
    "response_output = json.dumps(response.dict(), ensure_ascii=False, indent = 4)\n",
    "print(response_output)"
   ]
  },
  {
   "cell_type": "markdown",
   "metadata": {},
   "source": [
    "# for문 돌려서 Batch API jsonl 파일 형식 만들기"
   ]
  },
  {
   "cell_type": "code",
   "execution_count": 23,
   "metadata": {},
   "outputs": [],
   "source": [
    "def SentenceMake(data, output_filename):\n",
    "    jsonl_data = []\n",
    "\n",
    "    for i in range(len(data)):\n",
    "        prompt = prompt_template.render(\n",
    "            voca_NO = data.loc[i,'voca NO'],\n",
    "            WordText = data.loc[i,\"WordText\"],\n",
    "            WordMeaning = data.loc[i,\"WordMeaning\"],\n",
    "            PoSText = data.loc[i,\"품사\"],\n",
    "        )\n",
    "\n",
    "        quiz_request = {\n",
    "            \"custom_id\" : f\"request-{i+1}\",\n",
    "            \"method\" : \"POST\",\n",
    "            \"url\" : \"/v1/chat/completions\",\n",
    "            \"body\" : {\n",
    "                \"model\" : \"o3-mini-2025-01-31\",\n",
    "                \"messages\" : [\n",
    "                    {\"role\": \"system\", \"content\": \"Generate easy example sentences.\"},\n",
    "                    {\"role\": \"user\", \"content\": prompt}\n",
    "                ],\n",
    "                \"response_format\" : response_format\n",
    "            }\n",
    "        }\n",
    "\n",
    "        jsonl_data.append(quiz_request)\n",
    "\n",
    "        with open(output_filename, 'w', encoding='utf-8') as jsonl_file:\n",
    "            for item in jsonl_data:\n",
    "                jsonl_file.write(json.dumps(item, ensure_ascii=False) + '\\n')\n",
    "\n",
    "    print(f'JSONL 파일 생성 완료 : {output_filename}-{i+1}')"
   ]
  },
  {
   "cell_type": "code",
   "execution_count": 20,
   "metadata": {},
   "outputs": [
    {
     "name": "stdout",
     "output_type": "stream",
     "text": [
      "2433\n",
      "500\n",
      "500\n",
      "500\n",
      "500\n",
      "433\n",
      "total : 2433\n"
     ]
    }
   ],
   "source": [
    "import pandas as pd\n",
    "\n",
    "df = pd.read_csv(\"ExampleSentence_Voca_Elem.csv\")\n",
    "print(len(df))\n",
    "df1 = df[:500]\n",
    "print(len(df1))\n",
    "df2 = df[500:1000]\n",
    "print(len(df2))\n",
    "df3 = df[1000:1500]\n",
    "print(len(df3))\n",
    "df4 = df[1500:2000]\n",
    "print(len(df4))\n",
    "df5 = df[2000:]\n",
    "print(len(df5))\n",
    "\n",
    "print(f'total : {len(df1) + len(df2) + len(df3) + len(df4) + len(df5)}')\n",
    "\n",
    "#인덱스 리셋\n",
    "df2 = df2.reset_index()\n",
    "df3 = df3.reset_index()\n",
    "df4 = df4.reset_index()\n",
    "df5 = df5.reset_index()"
   ]
  },
  {
   "cell_type": "code",
   "execution_count": 22,
   "metadata": {},
   "outputs": [
    {
     "data": {
      "text/plain": [
       "Index(['구분', 'voca NO', 'grade ID', 'grade NO', 'WordText', 'WordMeaning',\n",
       "       'PoS', '품사', 'image ID', 'WordID(SoundID)', 'WordSymbol',\n",
       "       'example_english', 'example_korean', '초등800 포함여부', 'Unnamed: 14',\n",
       "       '워드P 매핑용', '워드P 매핑용 쿼리', 'Unnamed: 17', '사운드파일명', '사운드배치', '이미지파일명',\n",
       "       '이미지배치'],\n",
       "      dtype='object')"
      ]
     },
     "execution_count": 22,
     "metadata": {},
     "output_type": "execute_result"
    }
   ],
   "source": [
    "df.columns"
   ]
  },
  {
   "cell_type": "code",
   "execution_count": 25,
   "metadata": {},
   "outputs": [
    {
     "name": "stdout",
     "output_type": "stream",
     "text": [
      "JSONL 파일 생성 완료 : ExampleSentence_Voca_Elem_batch_1.jsonl-500\n",
      "JSONL 파일 생성 완료 : ExampleSentence_Voca_Elem_batch_2.jsonl-500\n",
      "JSONL 파일 생성 완료 : ExampleSentence_Voca_Elem_batch_3.jsonl-500\n",
      "JSONL 파일 생성 완료 : ExampleSentence_Voca_Elem_batch_4.jsonl-500\n",
      "JSONL 파일 생성 완료 : ExampleSentence_Voca_Elem_batch_5.jsonl-433\n"
     ]
    }
   ],
   "source": [
    "SentenceMake(df1,\"ExampleSentence_Voca_Elem_batch_1.jsonl\")\n",
    "SentenceMake(df2,\"ExampleSentence_Voca_Elem_batch_2.jsonl\")\n",
    "SentenceMake(df3,\"ExampleSentence_Voca_Elem_batch_3.jsonl\")\n",
    "SentenceMake(df4,\"ExampleSentence_Voca_Elem_batch_4.jsonl\")\n",
    "SentenceMake(df5,\"ExampleSentence_Voca_Elem_batch_5.jsonl\")"
   ]
  }
 ],
 "metadata": {
  "kernelspec": {
   "display_name": "base",
   "language": "python",
   "name": "python3"
  },
  "language_info": {
   "codemirror_mode": {
    "name": "ipython",
    "version": 3
   },
   "file_extension": ".py",
   "mimetype": "text/x-python",
   "name": "python",
   "nbconvert_exporter": "python",
   "pygments_lexer": "ipython3",
   "version": "3.12.7"
  }
 },
 "nbformat": 4,
 "nbformat_minor": 2
}
