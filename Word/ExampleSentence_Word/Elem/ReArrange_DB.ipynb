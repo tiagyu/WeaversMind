{
 "cells": [
  {
   "cell_type": "code",
   "execution_count": null,
   "metadata": {},
   "outputs": [],
   "source": []
  },
  {
   "cell_type": "code",
   "execution_count": 84,
   "metadata": {},
   "outputs": [],
   "source": [
    "import pandas as pd"
   ]
  },
  {
   "cell_type": "code",
   "execution_count": 85,
   "metadata": {},
   "outputs": [
    {
     "data": {
      "text/html": [
       "<div>\n",
       "<style scoped>\n",
       "    .dataframe tbody tr th:only-of-type {\n",
       "        vertical-align: middle;\n",
       "    }\n",
       "\n",
       "    .dataframe tbody tr th {\n",
       "        vertical-align: top;\n",
       "    }\n",
       "\n",
       "    .dataframe thead th {\n",
       "        text-align: right;\n",
       "    }\n",
       "</style>\n",
       "<table border=\"1\" class=\"dataframe\">\n",
       "  <thead>\n",
       "    <tr style=\"text-align: right;\">\n",
       "      <th></th>\n",
       "      <th>학년</th>\n",
       "      <th>출판사(저자)</th>\n",
       "      <th>교육과정</th>\n",
       "      <th>레슨</th>\n",
       "      <th>단어</th>\n",
       "      <th>뜻</th>\n",
       "      <th>예문</th>\n",
       "      <th>예문 해석</th>\n",
       "      <th>영영풀이</th>\n",
       "    </tr>\n",
       "  </thead>\n",
       "  <tbody>\n",
       "    <tr>\n",
       "      <th>0</th>\n",
       "      <td>초3</td>\n",
       "      <td>YBM(김)</td>\n",
       "      <td>2022</td>\n",
       "      <td>1</td>\n",
       "      <td>be</td>\n",
       "      <td>NaN</td>\n",
       "      <td>NaN</td>\n",
       "      <td>NaN</td>\n",
       "      <td>NaN</td>\n",
       "    </tr>\n",
       "    <tr>\n",
       "      <th>1</th>\n",
       "      <td>초3</td>\n",
       "      <td>YBM(김)</td>\n",
       "      <td>2022</td>\n",
       "      <td>1</td>\n",
       "      <td>everyone</td>\n",
       "      <td>NaN</td>\n",
       "      <td>NaN</td>\n",
       "      <td>NaN</td>\n",
       "      <td>NaN</td>\n",
       "    </tr>\n",
       "    <tr>\n",
       "      <th>2</th>\n",
       "      <td>초3</td>\n",
       "      <td>YBM(김)</td>\n",
       "      <td>2022</td>\n",
       "      <td>1</td>\n",
       "      <td>goodbye</td>\n",
       "      <td>NaN</td>\n",
       "      <td>NaN</td>\n",
       "      <td>NaN</td>\n",
       "      <td>NaN</td>\n",
       "    </tr>\n",
       "    <tr>\n",
       "      <th>3</th>\n",
       "      <td>초3</td>\n",
       "      <td>YBM(김)</td>\n",
       "      <td>2022</td>\n",
       "      <td>1</td>\n",
       "      <td>hello</td>\n",
       "      <td>NaN</td>\n",
       "      <td>NaN</td>\n",
       "      <td>NaN</td>\n",
       "      <td>NaN</td>\n",
       "    </tr>\n",
       "    <tr>\n",
       "      <th>4</th>\n",
       "      <td>초3</td>\n",
       "      <td>YBM(김)</td>\n",
       "      <td>2022</td>\n",
       "      <td>1</td>\n",
       "      <td>I</td>\n",
       "      <td>NaN</td>\n",
       "      <td>NaN</td>\n",
       "      <td>NaN</td>\n",
       "      <td>NaN</td>\n",
       "    </tr>\n",
       "  </tbody>\n",
       "</table>\n",
       "</div>"
      ],
      "text/plain": [
       "   학년 출판사(저자)  교육과정 레슨        단어    뜻  예문  예문 해석  영영풀이\n",
       "0  초3  YBM(김)  2022  1        be  NaN NaN    NaN   NaN\n",
       "1  초3  YBM(김)  2022  1  everyone  NaN NaN    NaN   NaN\n",
       "2  초3  YBM(김)  2022  1   goodbye  NaN NaN    NaN   NaN\n",
       "3  초3  YBM(김)  2022  1     hello  NaN NaN    NaN   NaN\n",
       "4  초3  YBM(김)  2022  1         I  NaN NaN    NaN   NaN"
      ]
     },
     "execution_count": 85,
     "metadata": {},
     "output_type": "execute_result"
    }
   ],
   "source": [
    "df = pd.read_csv('Elem_Voca.csv')\n",
    "df.head()"
   ]
  },
  {
   "cell_type": "markdown",
   "metadata": {},
   "source": [
    "# TEXT ID"
   ]
  },
  {
   "cell_type": "code",
   "execution_count": 86,
   "metadata": {},
   "outputs": [
    {
     "data": {
      "text/html": [
       "<div>\n",
       "<style scoped>\n",
       "    .dataframe tbody tr th:only-of-type {\n",
       "        vertical-align: middle;\n",
       "    }\n",
       "\n",
       "    .dataframe tbody tr th {\n",
       "        vertical-align: top;\n",
       "    }\n",
       "\n",
       "    .dataframe thead th {\n",
       "        text-align: right;\n",
       "    }\n",
       "</style>\n",
       "<table border=\"1\" class=\"dataframe\">\n",
       "  <thead>\n",
       "    <tr style=\"text-align: right;\">\n",
       "      <th></th>\n",
       "      <th>textbook ID</th>\n",
       "      <th>학년</th>\n",
       "      <th>교육과정</th>\n",
       "      <th>출판사</th>\n",
       "    </tr>\n",
       "  </thead>\n",
       "  <tbody>\n",
       "    <tr>\n",
       "      <th>0</th>\n",
       "      <td>301</td>\n",
       "      <td>초3</td>\n",
       "      <td>2015</td>\n",
       "      <td>천재 (함순애)</td>\n",
       "    </tr>\n",
       "    <tr>\n",
       "      <th>1</th>\n",
       "      <td>302</td>\n",
       "      <td>초3</td>\n",
       "      <td>2015</td>\n",
       "      <td>YBM (김혜리)</td>\n",
       "    </tr>\n",
       "    <tr>\n",
       "      <th>2</th>\n",
       "      <td>303</td>\n",
       "      <td>초3</td>\n",
       "      <td>2015</td>\n",
       "      <td>YBM (최은경)</td>\n",
       "    </tr>\n",
       "    <tr>\n",
       "      <th>3</th>\n",
       "      <td>304</td>\n",
       "      <td>초3</td>\n",
       "      <td>2015</td>\n",
       "      <td>동아 (박기화)</td>\n",
       "    </tr>\n",
       "    <tr>\n",
       "      <th>4</th>\n",
       "      <td>305</td>\n",
       "      <td>초3</td>\n",
       "      <td>2015</td>\n",
       "      <td>아이스크림</td>\n",
       "    </tr>\n",
       "    <tr>\n",
       "      <th>...</th>\n",
       "      <td>...</td>\n",
       "      <td>...</td>\n",
       "      <td>...</td>\n",
       "      <td>...</td>\n",
       "    </tr>\n",
       "    <tr>\n",
       "      <th>88</th>\n",
       "      <td>905</td>\n",
       "      <td>중3</td>\n",
       "      <td>2015</td>\n",
       "      <td>비상 (김진완)</td>\n",
       "    </tr>\n",
       "    <tr>\n",
       "      <th>89</th>\n",
       "      <td>906</td>\n",
       "      <td>중3</td>\n",
       "      <td>2015</td>\n",
       "      <td>천재 (이재영)</td>\n",
       "    </tr>\n",
       "    <tr>\n",
       "      <th>90</th>\n",
       "      <td>907</td>\n",
       "      <td>중3</td>\n",
       "      <td>2015</td>\n",
       "      <td>천재 (정사열)</td>\n",
       "    </tr>\n",
       "    <tr>\n",
       "      <th>91</th>\n",
       "      <td>908</td>\n",
       "      <td>중3</td>\n",
       "      <td>2015</td>\n",
       "      <td>YBM (박준언)</td>\n",
       "    </tr>\n",
       "    <tr>\n",
       "      <th>92</th>\n",
       "      <td>909</td>\n",
       "      <td>중3</td>\n",
       "      <td>2015</td>\n",
       "      <td>YBM (송미정)</td>\n",
       "    </tr>\n",
       "  </tbody>\n",
       "</table>\n",
       "<p>93 rows × 4 columns</p>\n",
       "</div>"
      ],
      "text/plain": [
       "    textbook ID   학년  교육과정        출판사\n",
       "0           301  초3   2015   천재 (함순애)\n",
       "1           302  초3   2015  YBM (김혜리)\n",
       "2           303  초3   2015  YBM (최은경)\n",
       "3           304  초3   2015   동아 (박기화)\n",
       "4           305  초3   2015      아이스크림\n",
       "..          ...  ...   ...        ...\n",
       "88          905  중3   2015   비상 (김진완)\n",
       "89          906  중3   2015   천재 (이재영)\n",
       "90          907  중3   2015   천재 (정사열)\n",
       "91          908  중3   2015  YBM (박준언)\n",
       "92          909  중3   2015  YBM (송미정)\n",
       "\n",
       "[93 rows x 4 columns]"
      ]
     },
     "metadata": {},
     "output_type": "display_data"
    }
   ],
   "source": [
    "id = pd.read_csv('../../../DB/Text_ID.csv')\n",
    "id.columns\n",
    "drop_col = ['구분','교과서 확보', '어휘 자료','function', 'structure', 'Issue']\n",
    "id.drop(columns=drop_col, inplace=True)\n",
    "id['학년 정보'] = id['학년 정보'].astype(str).replace('영어', '', regex=True)\n",
    "id.rename(columns={\n",
    "    '학년 정보': '학년',\n",
    "    '개정 정보': '교육과정'\n",
    "}, inplace=True)\n",
    "display(id)"
   ]
  },
  {
   "cell_type": "code",
   "execution_count": 87,
   "metadata": {},
   "outputs": [],
   "source": [
    "# 변환 함수 정의\n",
    "def modify_publisher(name):\n",
    "    if \"(\" in name and \")\" in name:  # 저자 이름이 있는 경우만 처리\n",
    "        parts = name.split(\"(\")  # 괄호를 기준으로 분리\n",
    "        publisher = parts[0].strip()  # 출판사 이름\n",
    "        author_initial = parts[1][0]  # 저자의 첫 글자만 추출\n",
    "        return f\"{publisher}({author_initial})\"\n",
    "    return name  # 저자가 없는 경우 그대로 반환\n",
    "\n",
    "# 데이터 변환 적용\n",
    "id[\"출판사\"] = id[\"출판사\"].apply(modify_publisher)"
   ]
  },
  {
   "cell_type": "code",
   "execution_count": 88,
   "metadata": {},
   "outputs": [],
   "source": [
    "id['출판사'] = id['출판사'].replace('비상(김)','비상')"
   ]
  },
  {
   "cell_type": "code",
   "execution_count": 89,
   "metadata": {},
   "outputs": [
    {
     "data": {
      "text/plain": [
       "출판사\n",
       "천재(함)      8\n",
       "천재(이)      8\n",
       "동아(윤)      8\n",
       "YBM(김)     7\n",
       "YBM(최)     6\n",
       "아이스크림      6\n",
       "미래엔        6\n",
       "능률(김)      4\n",
       "YBM(박)     4\n",
       "동아(이)      4\n",
       "천재(김)      4\n",
       "동아(박)      4\n",
       "능률(양)      3\n",
       "비상         3\n",
       "천재(정)      3\n",
       "YBM(송)     3\n",
       "시사(최)      2\n",
       "대교(이)      2\n",
       "금성(최)      1\n",
       "다락원(강)     1\n",
       "미래(최)      1\n",
       "지학사(민)     1\n",
       "천재(소)      1\n",
       "미래엔(문)     1\n",
       "비상교육(황)    1\n",
       "지학사(송)     1\n",
       "Name: count, dtype: int64"
      ]
     },
     "execution_count": 89,
     "metadata": {},
     "output_type": "execute_result"
    }
   ],
   "source": [
    "id['출판사'].value_counts()"
   ]
  },
  {
   "cell_type": "code",
   "execution_count": 90,
   "metadata": {},
   "outputs": [
    {
     "data": {
      "text/html": [
       "<div>\n",
       "<style scoped>\n",
       "    .dataframe tbody tr th:only-of-type {\n",
       "        vertical-align: middle;\n",
       "    }\n",
       "\n",
       "    .dataframe tbody tr th {\n",
       "        vertical-align: top;\n",
       "    }\n",
       "\n",
       "    .dataframe thead th {\n",
       "        text-align: right;\n",
       "    }\n",
       "</style>\n",
       "<table border=\"1\" class=\"dataframe\">\n",
       "  <thead>\n",
       "    <tr style=\"text-align: right;\">\n",
       "      <th></th>\n",
       "      <th>textbook ID</th>\n",
       "      <th>학년</th>\n",
       "      <th>교육과정</th>\n",
       "      <th>출판사</th>\n",
       "    </tr>\n",
       "  </thead>\n",
       "  <tbody>\n",
       "    <tr>\n",
       "      <th>0</th>\n",
       "      <td>301</td>\n",
       "      <td>초3</td>\n",
       "      <td>2015</td>\n",
       "      <td>천재(함)</td>\n",
       "    </tr>\n",
       "    <tr>\n",
       "      <th>1</th>\n",
       "      <td>302</td>\n",
       "      <td>초3</td>\n",
       "      <td>2015</td>\n",
       "      <td>YBM(김)</td>\n",
       "    </tr>\n",
       "    <tr>\n",
       "      <th>2</th>\n",
       "      <td>303</td>\n",
       "      <td>초3</td>\n",
       "      <td>2015</td>\n",
       "      <td>YBM(최)</td>\n",
       "    </tr>\n",
       "    <tr>\n",
       "      <th>3</th>\n",
       "      <td>304</td>\n",
       "      <td>초3</td>\n",
       "      <td>2015</td>\n",
       "      <td>동아(박)</td>\n",
       "    </tr>\n",
       "    <tr>\n",
       "      <th>4</th>\n",
       "      <td>305</td>\n",
       "      <td>초3</td>\n",
       "      <td>2015</td>\n",
       "      <td>아이스크림</td>\n",
       "    </tr>\n",
       "  </tbody>\n",
       "</table>\n",
       "</div>"
      ],
      "text/plain": [
       "   textbook ID   학년  교육과정     출판사\n",
       "0          301  초3   2015   천재(함)\n",
       "1          302  초3   2015  YBM(김)\n",
       "2          303  초3   2015  YBM(최)\n",
       "3          304  초3   2015   동아(박)\n",
       "4          305  초3   2015   아이스크림"
      ]
     },
     "execution_count": 90,
     "metadata": {},
     "output_type": "execute_result"
    }
   ],
   "source": [
    "id.head()"
   ]
  },
  {
   "cell_type": "code",
   "execution_count": 91,
   "metadata": {},
   "outputs": [
    {
     "data": {
      "text/plain": [
       "Index(['textbook ID', '학년', '교육과정', '출판사'], dtype='object')"
      ]
     },
     "execution_count": 91,
     "metadata": {},
     "output_type": "execute_result"
    }
   ],
   "source": [
    "id.columns"
   ]
  },
  {
   "cell_type": "code",
   "execution_count": 92,
   "metadata": {},
   "outputs": [
    {
     "data": {
      "text/plain": [
       "학년\n",
       "중1     23\n",
       "초3     14\n",
       "초4     14\n",
       "초5     12\n",
       "초6     12\n",
       "중2      9\n",
       "중3      9\n",
       "Name: count, dtype: int64"
      ]
     },
     "execution_count": 92,
     "metadata": {},
     "output_type": "execute_result"
    }
   ],
   "source": [
    "id['학년'].value_counts()"
   ]
  },
  {
   "cell_type": "code",
   "execution_count": 93,
   "metadata": {},
   "outputs": [
    {
     "data": {
      "text/plain": [
       "학년\n",
       "중1    23\n",
       "초3    14\n",
       "초4    14\n",
       "초5    12\n",
       "초6    12\n",
       "중2     9\n",
       "중3     9\n",
       "Name: count, dtype: int64"
      ]
     },
     "execution_count": 93,
     "metadata": {},
     "output_type": "execute_result"
    }
   ],
   "source": [
    "id['학년'] = id['학년'].str.strip()\n",
    "id['학년'].value_counts()"
   ]
  },
  {
   "cell_type": "code",
   "execution_count": 94,
   "metadata": {},
   "outputs": [
    {
     "data": {
      "text/html": [
       "<div>\n",
       "<style scoped>\n",
       "    .dataframe tbody tr th:only-of-type {\n",
       "        vertical-align: middle;\n",
       "    }\n",
       "\n",
       "    .dataframe tbody tr th {\n",
       "        vertical-align: top;\n",
       "    }\n",
       "\n",
       "    .dataframe thead th {\n",
       "        text-align: right;\n",
       "    }\n",
       "</style>\n",
       "<table border=\"1\" class=\"dataframe\">\n",
       "  <thead>\n",
       "    <tr style=\"text-align: right;\">\n",
       "      <th></th>\n",
       "      <th>textbook ID</th>\n",
       "      <th>학년</th>\n",
       "      <th>교육과정</th>\n",
       "      <th>출판사</th>\n",
       "    </tr>\n",
       "  </thead>\n",
       "  <tbody>\n",
       "    <tr>\n",
       "      <th>0</th>\n",
       "      <td>301</td>\n",
       "      <td>초3</td>\n",
       "      <td>2015</td>\n",
       "      <td>천재(함)</td>\n",
       "    </tr>\n",
       "    <tr>\n",
       "      <th>1</th>\n",
       "      <td>302</td>\n",
       "      <td>초3</td>\n",
       "      <td>2015</td>\n",
       "      <td>YBM(김)</td>\n",
       "    </tr>\n",
       "    <tr>\n",
       "      <th>2</th>\n",
       "      <td>303</td>\n",
       "      <td>초3</td>\n",
       "      <td>2015</td>\n",
       "      <td>YBM(최)</td>\n",
       "    </tr>\n",
       "    <tr>\n",
       "      <th>3</th>\n",
       "      <td>304</td>\n",
       "      <td>초3</td>\n",
       "      <td>2015</td>\n",
       "      <td>동아(박)</td>\n",
       "    </tr>\n",
       "    <tr>\n",
       "      <th>4</th>\n",
       "      <td>305</td>\n",
       "      <td>초3</td>\n",
       "      <td>2015</td>\n",
       "      <td>아이스크림</td>\n",
       "    </tr>\n",
       "  </tbody>\n",
       "</table>\n",
       "</div>"
      ],
      "text/plain": [
       "   textbook ID  학년  교육과정     출판사\n",
       "0          301  초3  2015   천재(함)\n",
       "1          302  초3  2015  YBM(김)\n",
       "2          303  초3  2015  YBM(최)\n",
       "3          304  초3  2015   동아(박)\n",
       "4          305  초3  2015   아이스크림"
      ]
     },
     "execution_count": 94,
     "metadata": {},
     "output_type": "execute_result"
    }
   ],
   "source": [
    "filtered_data = id.loc[id['학년'].isin(['초3', '초4', '초5', '초6'])]\n",
    "filtered_data.head()"
   ]
  },
  {
   "cell_type": "code",
   "execution_count": 95,
   "metadata": {},
   "outputs": [],
   "source": [
    "filtered_data = filtered_data.rename(columns={\n",
    "    \"출판사\" : \"출판사(저자)\"\n",
    "})"
   ]
  },
  {
   "cell_type": "code",
   "execution_count": 96,
   "metadata": {},
   "outputs": [],
   "source": [
    "merged_data = df.merge(filtered_data, on=[\"학년\", \"출판사(저자)\", \"교육과정\"], how=\"left\")\n",
    "merged_data = merged_data[[\"textbook ID\"] + [col for col in merged_data.columns if col != \"textbook ID\"]]\n",
    "merged_data['textbook ID'] = merged_data['textbook ID'].astype(int)"
   ]
  },
  {
   "cell_type": "code",
   "execution_count": 97,
   "metadata": {},
   "outputs": [
    {
     "data": {
      "text/html": [
       "<div>\n",
       "<style scoped>\n",
       "    .dataframe tbody tr th:only-of-type {\n",
       "        vertical-align: middle;\n",
       "    }\n",
       "\n",
       "    .dataframe tbody tr th {\n",
       "        vertical-align: top;\n",
       "    }\n",
       "\n",
       "    .dataframe thead th {\n",
       "        text-align: right;\n",
       "    }\n",
       "</style>\n",
       "<table border=\"1\" class=\"dataframe\">\n",
       "  <thead>\n",
       "    <tr style=\"text-align: right;\">\n",
       "      <th></th>\n",
       "      <th>textbook ID</th>\n",
       "      <th>학년</th>\n",
       "      <th>출판사(저자)</th>\n",
       "      <th>교육과정</th>\n",
       "      <th>레슨</th>\n",
       "      <th>단어</th>\n",
       "      <th>뜻</th>\n",
       "      <th>예문</th>\n",
       "      <th>예문 해석</th>\n",
       "      <th>영영풀이</th>\n",
       "    </tr>\n",
       "  </thead>\n",
       "  <tbody>\n",
       "    <tr>\n",
       "      <th>0</th>\n",
       "      <td>310</td>\n",
       "      <td>초3</td>\n",
       "      <td>YBM(김)</td>\n",
       "      <td>2022</td>\n",
       "      <td>1</td>\n",
       "      <td>be</td>\n",
       "      <td>NaN</td>\n",
       "      <td>NaN</td>\n",
       "      <td>NaN</td>\n",
       "      <td>NaN</td>\n",
       "    </tr>\n",
       "    <tr>\n",
       "      <th>1</th>\n",
       "      <td>310</td>\n",
       "      <td>초3</td>\n",
       "      <td>YBM(김)</td>\n",
       "      <td>2022</td>\n",
       "      <td>1</td>\n",
       "      <td>everyone</td>\n",
       "      <td>NaN</td>\n",
       "      <td>NaN</td>\n",
       "      <td>NaN</td>\n",
       "      <td>NaN</td>\n",
       "    </tr>\n",
       "    <tr>\n",
       "      <th>2</th>\n",
       "      <td>310</td>\n",
       "      <td>초3</td>\n",
       "      <td>YBM(김)</td>\n",
       "      <td>2022</td>\n",
       "      <td>1</td>\n",
       "      <td>goodbye</td>\n",
       "      <td>NaN</td>\n",
       "      <td>NaN</td>\n",
       "      <td>NaN</td>\n",
       "      <td>NaN</td>\n",
       "    </tr>\n",
       "    <tr>\n",
       "      <th>3</th>\n",
       "      <td>310</td>\n",
       "      <td>초3</td>\n",
       "      <td>YBM(김)</td>\n",
       "      <td>2022</td>\n",
       "      <td>1</td>\n",
       "      <td>hello</td>\n",
       "      <td>NaN</td>\n",
       "      <td>NaN</td>\n",
       "      <td>NaN</td>\n",
       "      <td>NaN</td>\n",
       "    </tr>\n",
       "    <tr>\n",
       "      <th>4</th>\n",
       "      <td>310</td>\n",
       "      <td>초3</td>\n",
       "      <td>YBM(김)</td>\n",
       "      <td>2022</td>\n",
       "      <td>1</td>\n",
       "      <td>I</td>\n",
       "      <td>NaN</td>\n",
       "      <td>NaN</td>\n",
       "      <td>NaN</td>\n",
       "      <td>NaN</td>\n",
       "    </tr>\n",
       "  </tbody>\n",
       "</table>\n",
       "</div>"
      ],
      "text/plain": [
       "   textbook ID  학년 출판사(저자)  교육과정 레슨        단어    뜻  예문  예문 해석  영영풀이\n",
       "0          310  초3  YBM(김)  2022  1        be  NaN NaN    NaN   NaN\n",
       "1          310  초3  YBM(김)  2022  1  everyone  NaN NaN    NaN   NaN\n",
       "2          310  초3  YBM(김)  2022  1   goodbye  NaN NaN    NaN   NaN\n",
       "3          310  초3  YBM(김)  2022  1     hello  NaN NaN    NaN   NaN\n",
       "4          310  초3  YBM(김)  2022  1         I  NaN NaN    NaN   NaN"
      ]
     },
     "execution_count": 97,
     "metadata": {},
     "output_type": "execute_result"
    }
   ],
   "source": [
    "merged_data.head()"
   ]
  },
  {
   "cell_type": "code",
   "execution_count": 98,
   "metadata": {},
   "outputs": [],
   "source": [
    "merged_data.to_csv('merged_data.csv', encoding='utf-8-sig')"
   ]
  }
 ],
 "metadata": {
  "kernelspec": {
   "display_name": "base",
   "language": "python",
   "name": "python3"
  },
  "language_info": {
   "codemirror_mode": {
    "name": "ipython",
    "version": 3
   },
   "file_extension": ".py",
   "mimetype": "text/x-python",
   "name": "python",
   "nbconvert_exporter": "python",
   "pygments_lexer": "ipython3",
   "version": "3.12.7"
  }
 },
 "nbformat": 4,
 "nbformat_minor": 2
}
