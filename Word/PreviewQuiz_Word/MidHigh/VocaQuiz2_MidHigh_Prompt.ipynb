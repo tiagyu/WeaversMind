{
 "cells": [
  {
   "cell_type": "markdown",
   "metadata": {},
   "source": [
    "# Voca Quiz Mid and High prompt - [  ] 작업"
   ]
  },
  {
   "cell_type": "code",
   "execution_count": 44,
   "metadata": {},
   "outputs": [],
   "source": [
    "import json\n",
    "from openai import OpenAI\n",
    "from pydantic import BaseModel\n",
    "import jinja2\n",
    "import pandas as pd\n",
    "from getpass import getpass\n",
    "from openai.lib._parsing import type_to_response_format_param\n",
    "\n",
    "api_key = getpass(\"OEPNAI_API_KEY\")\n",
    "client = OpenAI(api_key=api_key)"
   ]
  },
  {
   "cell_type": "code",
   "execution_count": 83,
   "metadata": {},
   "outputs": [],
   "source": [
    "from jinja2 import Template\n",
    "\n",
    "prompt_template = Template(\"\"\"\n",
    "[PERSONA]\n",
    "You are an AI that processes and modifies string data.\n",
    "\n",
    "[PURPOSE]\n",
    "```\n",
    "Identify the \"WordMeaning\" value inside the \"korean_translation\" string.\n",
    "Wrap the \"WordMeaning\" value in double square brackets [[ ]].\n",
    "```\n",
    "\n",
    "[Example]\n",
    "```\n",
    "Input: \n",
    "    {\n",
    "    \"WordText\": \"accent\",\n",
    "    \"WordMeaning\": \"강세\",\n",
    "    \"PoSText\": \"명사\",\n",
    "    \"fill_in_blank_quiz\" : \"She speaks with a unique ___.\",\n",
    "    \"korean_translation\" : \"그녀는 독특한 강세로 말해요.\"\n",
    "  }\n",
    "\n",
    "Output:\n",
    "    {\n",
    "    \"korean_translation_blank\": \"그녀는 독특한 [[강세]]로 말해요.\"\n",
    "    }\n",
    "```\n",
    "                           \n",
    "[Example]\n",
    "```\n",
    "Input: \n",
    "    {\n",
    "    \"WordText\": \"work out\",\n",
    "    \"WordMeaning\": \"(일이) 잘 풀리다\",\n",
    "    \"PoSText\": \"숙어/관용어\",\n",
    "    \"fill_in_blank_quiz\" : \"I believe things will ___ soon.\",\n",
    "    \"korean_translation\" : \"나는 곧 모든 일이 잘 풀릴 거라고 믿어요.\"\n",
    "  }\n",
    "\n",
    "Output:\n",
    "    {\n",
    "    \"korean_translation_blank\": \"나는 곧 모든 일이 [[잘 풀릴 거라고]] 믿어요.\"\n",
    "    }\n",
    "```\n",
    "\n",
    "[Input]\n",
    "```\n",
    "WordText : {{WordText}}\n",
    "WordMeaning : {{WordMeaning}}\n",
    "PoSText : {{PoSText}}\n",
    "FILLINTHEBLANK : {{fill_in_blank_quiz}}\n",
    "KOREANTRANSLATION : {{korean_translation}}\n",
    "```\n",
    "\"\"\"\n",
    ")"
   ]
  },
  {
   "cell_type": "code",
   "execution_count": 100,
   "metadata": {},
   "outputs": [],
   "source": [
    "prompt = prompt_template.render(\n",
    "    WordText = \"warm up\",\n",
    "    WordMeaning = \"준비 운동을 하다\",\n",
    "    PoSText = \"숙어/관용어\",\n",
    "    fill_in_blank_quiz = \"I always ___ before jogging.\",\n",
    "    korean_translation = \"나는 조깅하기 전에 준비 운동을 해요.\",\n",
    ")"
   ]
  },
  {
   "cell_type": "code",
   "execution_count": 101,
   "metadata": {},
   "outputs": [
    {
     "name": "stdout",
     "output_type": "stream",
     "text": [
      "\n",
      "[PERSONA]\n",
      "You are an AI that processes and modifies string data.\n",
      "\n",
      "[PURPOSE]\n",
      "```\n",
      "Identify the \"WordMeaning\" value inside the \"korean_translation\" string.\n",
      "Wrap the \"WordMeaning\" value in double square brackets [[ ]].\n",
      "```\n",
      "\n",
      "[Example]\n",
      "```\n",
      "Input: \n",
      "    {\n",
      "    \"WordText\": \"accent\",\n",
      "    \"WordMeaning\": \"강세\",\n",
      "    \"PoSText\": \"명사\",\n",
      "    \"fill_in_blank_quiz\" : \"She speaks with a unique ___.\",\n",
      "    \"korean_translation\" : \"그녀는 독특한 강세로 말해요.\"\n",
      "  }\n",
      "\n",
      "Output:\n",
      "    {\n",
      "    \"korean_translation_blank\": \"그녀는 독특한 [[강세]]로 말해요.\"\n",
      "    }\n",
      "```\n",
      "                           \n",
      "[Example]\n",
      "```\n",
      "Input: \n",
      "    {\n",
      "    \"WordText\": \"work out\",\n",
      "    \"WordMeaning\": \"(일이) 잘 풀리다\",\n",
      "    \"PoSText\": \"숙어/관용어\",\n",
      "    \"fill_in_blank_quiz\" : \"I believe things will ___ soon.\",\n",
      "    \"korean_translation\" : \"나는 곧 모든 일이 잘 풀릴 거라고 믿어요.\"\n",
      "  }\n",
      "\n",
      "Output:\n",
      "    {\n",
      "    \"korean_translation_blank\": \"나는 곧 모든 일이 [[잘 풀릴 거라고]] 믿어요.\"\n",
      "    }\n",
      "```\n",
      "\n",
      "[Input]\n",
      "```\n",
      "WordText : warm up\n",
      "WordMeaning : 준비 운동을 하다\n",
      "PoSText : 숙어/관용어\n",
      "FILLINTHEBLANK : I always ___ before jogging.\n",
      "KOREANTRANSLATION : 나는 조깅하기 전에 준비 운동을 해요.\n",
      "```\n"
     ]
    }
   ],
   "source": [
    "print(prompt)"
   ]
  },
  {
   "cell_type": "code",
   "execution_count": 76,
   "metadata": {},
   "outputs": [],
   "source": [
    "class QuizResponse(BaseModel):\n",
    "    korean_translation_blank : str"
   ]
  },
  {
   "cell_type": "code",
   "execution_count": 70,
   "metadata": {},
   "outputs": [
    {
     "data": {
      "text/plain": [
       "{'type': 'json_schema',\n",
       " 'json_schema': {'schema': {'properties': {'korean_translation_blank': {'title': 'Korean Translation Blank',\n",
       "     'type': 'string'}},\n",
       "   'required': ['korean_translation_blank'],\n",
       "   'title': 'QuizResponse',\n",
       "   'type': 'object',\n",
       "   'additionalProperties': False},\n",
       "  'name': 'QuizResponse',\n",
       "  'strict': True}}"
      ]
     },
     "execution_count": 70,
     "metadata": {},
     "output_type": "execute_result"
    }
   ],
   "source": [
    "response_format = type_to_response_format_param(QuizResponse)\n",
    "response_format"
   ]
  },
  {
   "cell_type": "code",
   "execution_count": 87,
   "metadata": {},
   "outputs": [],
   "source": [
    "def completion(prompt : str) -> str:\n",
    "    response = client.beta.chat.completions.parse(\n",
    "        model = 'o3-mini',\n",
    "        reasoning_effort='low',\n",
    "        messages = [\n",
    "            {\"role\" : \"system\", \"content\" : \"You need to create natural parentheses in Korean sentences by matching the meaning of a word to its definition.\"},\n",
    "            {\"role\" : \"user\", \"content\" : prompt}\n",
    "        ],\n",
    "        response_format = QuizResponse,\n",
    "    )\n",
    "    return response.choices[0].message.parsed"
   ]
  },
  {
   "cell_type": "code",
   "execution_count": 107,
   "metadata": {},
   "outputs": [],
   "source": [
    "response = completion(prompt)"
   ]
  },
  {
   "cell_type": "code",
   "execution_count": 108,
   "metadata": {},
   "outputs": [
    {
     "name": "stdout",
     "output_type": "stream",
     "text": [
      "{\n",
      "  \"korean_translation_blank\": \"나는 조깅하기 전에 [[준비 운동을 해요]].\"\n",
      "}\n"
     ]
    }
   ],
   "source": [
    "response_output = json.dumps(response.dict(), ensure_ascii=False, indent=2)\n",
    "print(response_output)"
   ]
  }
 ],
 "metadata": {
  "kernelspec": {
   "display_name": "base",
   "language": "python",
   "name": "python3"
  },
  "language_info": {
   "codemirror_mode": {
    "name": "ipython",
    "version": 3
   },
   "file_extension": ".py",
   "mimetype": "text/x-python",
   "name": "python",
   "nbconvert_exporter": "python",
   "pygments_lexer": "ipython3",
   "version": "3.12.7"
  }
 },
 "nbformat": 4,
 "nbformat_minor": 2
}
