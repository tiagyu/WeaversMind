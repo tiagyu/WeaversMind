{
 "cells": [
  {
   "cell_type": "markdown",
   "metadata": {},
   "source": [
    "# Voca Quiz Mid and High prompt"
   ]
  },
  {
   "cell_type": "code",
   "execution_count": 1,
   "metadata": {},
   "outputs": [],
   "source": [
    "from pydantic import BaseModel\n",
    "from openai import OpenAI\n",
    "from openai.lib._parsing import type_to_response_format_param\n",
    "import json\n",
    "from getpass import getpass\n",
    "\n",
    "openai_api_key = getpass(\"OPENAI_API_KEY\")\n",
    "client = OpenAI(api_key=openai_api_key)"
   ]
  },
  {
   "cell_type": "code",
   "execution_count": 2,
   "metadata": {},
   "outputs": [],
   "source": [
    "from jinja2 import Template\n",
    "\n",
    "prompt_template = Template(\"\"\"\n",
    "[PURPOSE]\n",
    "You are going to generate fill-in-the-blank quiz and its Korean translation for vocabularies based on the given input. The quizzes must ask the words themselves written in the example_sentence. The students will guess the answer by reading the Korean translation. You must provide adequate hints for each question with Korean translation.\n",
    "\n",
    "[QUIZ GUIDELINES]\n",
    "- You must create one quizzes per word.\n",
    "- A quiz sentence must not be over 8 words.\n",
    "- You must put blanks on the GIVEN word, NOWHERE ELSE.\n",
    "- You must provide Korean translation.\n",
    "- You must put blanks on the matching part of Korean translation.\n",
    "- You must put brackets on the given word in Korean translation.\n",
    "- There must not be any English in the Korean translation, including the inside of the brackets. \n",
    "- You must choose ONLY ONE type of hints.\n",
    "- You must shuffle your hint type to distribute them evenly, 25% probability for each type. You must not forget to use HINT 4, EXPLAIN.\n",
    "- You must not put any blanks in Korean translation. \n",
    "- The overall quizzes must be in the level of CEFR A1 to A2.\n",
    "\n",
    "[HINT 1: ALPHABET]\n",
    "- As a hint, provide the first letter of the word.\n",
    "\te.g.) Input: \"believe\"\n",
    "\t\t\t\tOutput: [\"It starts with 'b'!\", \"b로 시작하는 단어예요!\"]\n",
    "\n",
    "[HINT 2: UNSCRAMBLE]\n",
    "- As a hint, scramble the letters of the word.\n",
    "\te.g.) Input: \"flood\"\n",
    "\t\t\t\tOutput: [\"Rearrange these letters!: L O F D O\", \"다음 글자들을 재배열 해보세요!: L O F D O\"]\n",
    "\t\t\t\t\n",
    "[HINT 3: LETTER]\n",
    "- This only applies to a word that is under 8 letters, and non-phrases. As a hint, provide the number of the letters in the word.\n",
    "\te.g.) Input: \"example\"\n",
    "\t\t\t\tOutput: [\"It has 7 letters!\", \"7글자예요!\"]\n",
    "\n",
    "[HINT 4: EXPLAIN]\n",
    "- As a hint, explain the word without mentioning it. When you explain, you must make sure your explanation is CEFR A2 level or easier.\n",
    "\te.g.) Input 1: \"glasses\"\n",
    "\t\t\t\tOutput 1: [\"You wear 'these' to see better.\", \"더 잘 볼 수 있도록 '이것'을 써요.\"]\n",
    "\t\t\t\tInput 2: \"excited\"\n",
    "\t\t\t\tOutput 2: [\"How would you feel when you go on a field trip?\", \"수학여행을 갈 때 기분이 어떨 것 같아요?\"]\n",
    "\n",
    "[POLICY]\n",
    "Each quiz needs:\n",
    "- A blank to test the word. You must not include any grammatical suffix if any.\n",
    "- A blank in the Korean translation as well.\n",
    "- Shuffle the hint types to prevent getting boring.\n",
    "\n",
    "[Example]\n",
    "```\n",
    "Input: \n",
    "    {\n",
    "    \"voca_NO\": 1234\n",
    "    \"WordText\": \"command\",\n",
    "    \"WordMeaning\": \"명령하다\",\n",
    "    \"PoS\": 1\n",
    "    \"PoSText\": \"동사\"\n",
    "  }\n",
    "\n",
    "Output:\n",
    "    {\n",
    "    \"voca_quizzes\":\n",
    "      {\n",
    "        \"fill_in_blank_quiz\": \"The officer ___ed the soldiers to move forward.\",\n",
    "        \"korean_translation\": \"장교는 군인들에게 전진하라고 [[명령]]했어요.\",\n",
    "        \"answer\": \"command\",\n",
    "      },\n",
    "    \"hint\": \n",
    "\t    {\n",
    "\t\t    \"hint_eng\": \"Rearrange these letters!: O A N M M C D\"\n",
    "\t\t    \"hint_kor\": \"다음 글자들을 재배열 해보세요!: O A N M M C D\"\n",
    "\t\t  }\n",
    "\n",
    "}\n",
    "```\n",
    "\n",
    "[Input]\n",
    "```\n",
    "voca_NO : {{voca_NO}}\n",
    "WordText : {{WordText}}\n",
    "WordMeaning : {{WordMeaning}}\n",
    "PoSText : {{PoSText}}\n",
    "```\n",
    "\"\"\"\n",
    ")"
   ]
  },
  {
   "cell_type": "code",
   "execution_count": 3,
   "metadata": {},
   "outputs": [],
   "source": [
    "prompt = prompt_template.render(\n",
    "    voca_NO = \"104\",\n",
    "    WordText = \"ordinary\",\n",
    "    WordMeaning = \"평범한\",\n",
    "    PoSText = \"형용사\"\n",
    ") "
   ]
  },
  {
   "cell_type": "code",
   "execution_count": 4,
   "metadata": {},
   "outputs": [
    {
     "name": "stdout",
     "output_type": "stream",
     "text": [
      "\n",
      "[PURPOSE]\n",
      "You are going to generate fill-in-the-blank quiz and its Korean translation for vocabularies based on the given input. The quizzes must ask the words themselves written in the example_sentence. The students will guess the answer by reading the Korean translation. You must provide adequate hints for each question with Korean translation.\n",
      "\n",
      "[QUIZ GUIDELINES]\n",
      "- You must create one quizzes per word.\n",
      "- A quiz sentence must not be over 8 words.\n",
      "- You must put blanks on the GIVEN word, NOWHERE ELSE.\n",
      "- You must provide Korean translation.\n",
      "- You must put blanks on the matching part of Korean translation.\n",
      "- You must put brackets on the given word in Korean translation.\n",
      "- There must not be any English in the Korean translation, including the inside of the brackets. \n",
      "- You must choose ONLY ONE type of hints.\n",
      "- You must shuffle your hint type to distribute them evenly, 25% probability for each type. You must not forget to use HINT 4, EXPLAIN.\n",
      "- You must not put any blanks in Korean translation. \n",
      "- The overall quizzes must be in the level of CEFR A1 to A2.\n",
      "\n",
      "[HINT 1: ALPHABET]\n",
      "- As a hint, provide the first letter of the word.\n",
      "\te.g.) Input: \"believe\"\n",
      "\t\t\t\tOutput: [\"It starts with 'b'!\", \"b로 시작하는 단어예요!\"]\n",
      "\n",
      "[HINT 2: UNSCRAMBLE]\n",
      "- As a hint, scramble the letters of the word.\n",
      "\te.g.) Input: \"flood\"\n",
      "\t\t\t\tOutput: [\"Rearrange these letters!: L O F D O\", \"다음 글자들을 재배열 해보세요!: L O F D O\"]\n",
      "\t\t\t\t\n",
      "[HINT 3: LETTER]\n",
      "- This only applies to a word that is under 8 letters, and non-phrases. As a hint, provide the number of the letters in the word.\n",
      "\te.g.) Input: \"example\"\n",
      "\t\t\t\tOutput: [\"It has 7 letters!\", \"7글자예요!\"]\n",
      "\n",
      "[HINT 4: EXPLAIN]\n",
      "- As a hint, explain the word without mentioning it. When you explain, you must make sure your explanation is CEFR A2 level or easier.\n",
      "\te.g.) Input 1: \"glasses\"\n",
      "\t\t\t\tOutput 1: [\"You wear 'these' to see better.\", \"더 잘 볼 수 있도록 '이것'을 써요.\"]\n",
      "\t\t\t\tInput 2: \"excited\"\n",
      "\t\t\t\tOutput 2: [\"How would you feel when you go on a field trip?\", \"수학여행을 갈 때 기분이 어떨 것 같아요?\"]\n",
      "\n",
      "[POLICY]\n",
      "Each quiz needs:\n",
      "- A blank to test the word. You must not include any grammatical suffix if any.\n",
      "- A blank in the Korean translation as well.\n",
      "- Shuffle the hint types to prevent getting boring.\n",
      "\n",
      "[Example]\n",
      "```\n",
      "Input: \n",
      "    {\n",
      "    \"voca_NO\": 1234\n",
      "    \"WordText\": \"command\",\n",
      "    \"WordMeaning\": \"명령하다\",\n",
      "    \"PoS\": 1\n",
      "    \"PoSText\": \"동사\"\n",
      "  }\n",
      "\n",
      "Output:\n",
      "    {\n",
      "    \"voca_quizzes\":\n",
      "      {\n",
      "        \"fill_in_blank_quiz\": \"The officer ___ed the soldiers to move forward.\",\n",
      "        \"korean_translation\": \"장교는 군인들에게 전진하라고 [[명령]]했어요.\",\n",
      "        \"answer\": \"command\",\n",
      "      },\n",
      "    \"hint\": \n",
      "\t    {\n",
      "\t\t    \"hint_eng\": \"Rearrange these letters!: O A N M M C D\"\n",
      "\t\t    \"hint_kor\": \"다음 글자들을 재배열 해보세요!: O A N M M C D\"\n",
      "\t\t  }\n",
      "\n",
      "}\n",
      "```\n",
      "\n",
      "[Input]\n",
      "```\n",
      "voca_NO : 104\n",
      "WordText : ordinary\n",
      "WordMeaning : 평범한\n",
      "PoSText : 형용사\n",
      "```\n"
     ]
    }
   ],
   "source": [
    "print(prompt)"
   ]
  },
  {
   "cell_type": "code",
   "execution_count": 5,
   "metadata": {},
   "outputs": [],
   "source": [
    "class VocaQuiz(BaseModel):\n",
    "    fill_in_blank_quiz : str\n",
    "    korean_translation : str\n",
    "    answer : str\n",
    "\n",
    "class QuizHint(BaseModel):\n",
    "    hint_eng : str\n",
    "    hint_kor : str\n",
    "\n",
    "class QuizResponse(BaseModel):\n",
    "    voca_quizzes : list[VocaQuiz]\n",
    "    hint : list[QuizHint]"
   ]
  },
  {
   "cell_type": "code",
   "execution_count": 6,
   "metadata": {},
   "outputs": [],
   "source": [
    "response_format = type_to_response_format_param(QuizResponse)"
   ]
  },
  {
   "cell_type": "code",
   "execution_count": 7,
   "metadata": {},
   "outputs": [
    {
     "data": {
      "text/plain": [
       "{'type': 'json_schema',\n",
       " 'json_schema': {'schema': {'$defs': {'QuizHint': {'properties': {'hint_eng': {'title': 'Hint Eng',\n",
       "       'type': 'string'},\n",
       "      'hint_kor': {'title': 'Hint Kor', 'type': 'string'}},\n",
       "     'required': ['hint_eng', 'hint_kor'],\n",
       "     'title': 'QuizHint',\n",
       "     'type': 'object',\n",
       "     'additionalProperties': False},\n",
       "    'VocaQuiz': {'properties': {'fill_in_blank_quiz': {'title': 'Fill In Blank Quiz',\n",
       "       'type': 'string'},\n",
       "      'korean_translation': {'title': 'Korean Translation', 'type': 'string'},\n",
       "      'answer': {'title': 'Answer', 'type': 'string'}},\n",
       "     'required': ['fill_in_blank_quiz', 'korean_translation', 'answer'],\n",
       "     'title': 'VocaQuiz',\n",
       "     'type': 'object',\n",
       "     'additionalProperties': False}},\n",
       "   'properties': {'voca_quizzes': {'items': {'$ref': '#/$defs/VocaQuiz'},\n",
       "     'title': 'Voca Quizzes',\n",
       "     'type': 'array'},\n",
       "    'hint': {'items': {'$ref': '#/$defs/QuizHint'},\n",
       "     'title': 'Hint',\n",
       "     'type': 'array'}},\n",
       "   'required': ['voca_quizzes', 'hint'],\n",
       "   'title': 'QuizResponse',\n",
       "   'type': 'object',\n",
       "   'additionalProperties': False},\n",
       "  'name': 'QuizResponse',\n",
       "  'strict': True}}"
      ]
     },
     "execution_count": 7,
     "metadata": {},
     "output_type": "execute_result"
    }
   ],
   "source": [
    "response_format"
   ]
  },
  {
   "cell_type": "code",
   "execution_count": 8,
   "metadata": {},
   "outputs": [],
   "source": [
    "def completion(prompt : str) -> str:\n",
    "    response = client.beta.chat.completions.parse(\n",
    "        model = 'o3-mini',\n",
    "        reasoning_effort='low',\n",
    "        messages = [\n",
    "            {\"role\" : \"system\", \"content\" : \"You will provide a fill-in-the-blank quiz for each given word, a Korean translation, and a hint.\"},\n",
    "            {\"role\" : \"user\", \"content\" : prompt}\n",
    "        ],\n",
    "        response_format = QuizResponse,\n",
    "    )\n",
    "    return response.choices[0].message.parsed"
   ]
  },
  {
   "cell_type": "code",
   "execution_count": 9,
   "metadata": {},
   "outputs": [],
   "source": [
    "response = completion(prompt)"
   ]
  },
  {
   "cell_type": "code",
   "execution_count": 10,
   "metadata": {},
   "outputs": [
    {
     "data": {
      "text/plain": [
       "QuizResponse(voca_quizzes=[VocaQuiz(fill_in_blank_quiz='It is an ___ day.', korean_translation='오늘은 [[평범]]한 날이에요.', answer='ordinary')], hint=[QuizHint(hint_eng='It means not special.', hint_kor='특별하지 않은 것을 말해요.')])"
      ]
     },
     "execution_count": 10,
     "metadata": {},
     "output_type": "execute_result"
    }
   ],
   "source": [
    "response"
   ]
  },
  {
   "cell_type": "code",
   "execution_count": 11,
   "metadata": {},
   "outputs": [
    {
     "name": "stdout",
     "output_type": "stream",
     "text": [
      "{\n",
      "    \"voca_quizzes\": [\n",
      "        {\n",
      "            \"fill_in_blank_quiz\": \"It is an ___ day.\",\n",
      "            \"korean_translation\": \"오늘은 [[평범]]한 날이에요.\",\n",
      "            \"answer\": \"ordinary\"\n",
      "        }\n",
      "    ],\n",
      "    \"hint\": [\n",
      "        {\n",
      "            \"hint_eng\": \"It means not special.\",\n",
      "            \"hint_kor\": \"특별하지 않은 것을 말해요.\"\n",
      "        }\n",
      "    ]\n",
      "}\n"
     ]
    }
   ],
   "source": [
    "response_output = json.dumps(response.dict(), ensure_ascii=False, indent = 4)\n",
    "print(response_output)"
   ]
  },
  {
   "cell_type": "markdown",
   "metadata": {},
   "source": [
    "# for문 돌려서 Batch API jsonl 파일 형식 만들기"
   ]
  },
  {
   "cell_type": "markdown",
   "metadata": {},
   "source": [
    "확인 사항\n",
    "- A1, A2, B1, B2, C1, C2 CEFR level 별로 퀴즈만 만들어지면 되는건가?\n",
    "- 여섯개의 레벨 모두 만들어야하는지, 일부 레벨(A1, B1, C1)만 만들면 되는지도 결정\n",
    "\n",
    "1. 커리큘럼 정보 csv 파일 읽어오기\n",
    "2. for문으로 한줄씩 순회하면서 프롬프트 만들어주기들어주기\n",
    "3. 렌더링한 프롬프트 파일에 써주기 (처음엔 조금만, ex. 5개 커리큘럼)\n",
    "4. openai batch API 요청해서 task_id 받아오기 \n",
    "5. batch task 완료되면 결과 받아오고 검수하기"
   ]
  },
  {
   "cell_type": "code",
   "execution_count": 12,
   "metadata": {},
   "outputs": [],
   "source": [
    "def VocaQuizMake(data, output_filename):\n",
    "    jsonl_data = []\n",
    "\n",
    "    for i in range(len(data)):\n",
    "        prompt = prompt_template.render(\n",
    "            voca_NO = data.loc[i,\"voca NO\"],\n",
    "            WordText = data.loc[i,\"WordText\"],\n",
    "            WordMeaning = data.loc[i,\"WordMeaning\"],\n",
    "            PoSText = data.loc[i,\"품사\"]\n",
    "        )\n",
    "\n",
    "        quiz_request = {\n",
    "            \"custom_id\" : f\"request-{i+1}\",\n",
    "            \"method\" : \"POST\",\n",
    "            \"url\" : \"/v1/chat/completions\",\n",
    "            \"body\" : {\n",
    "                \"model\" : \"o3-mini-2025-01-31\",\n",
    "                \"messages\" : [\n",
    "                    {\"role\": \"system\", \"content\": \"You will provide a fill-in-the-blank quiz for each given word, a Korean translation, and a hint.\"},\n",
    "                    {\"role\": \"user\", \"content\": prompt}\n",
    "                ],\n",
    "                \"response_format\" : response_format\n",
    "            }\n",
    "        }\n",
    "\n",
    "        jsonl_data.append(quiz_request)\n",
    "\n",
    "        with open(output_filename, 'w', encoding='utf-8') as jsonl_file:\n",
    "            for item in jsonl_data:\n",
    "                jsonl_file.write(json.dumps(item, ensure_ascii=False) + '\\n')\n",
    "\n",
    "    print(f'JSONL 파일 생성 완료 : {output_filename}-{i+1}')"
   ]
  },
  {
   "cell_type": "code",
   "execution_count": 13,
   "metadata": {},
   "outputs": [
    {
     "name": "stdout",
     "output_type": "stream",
     "text": [
      "7251\n",
      "1000\n",
      "1000\n",
      "1000\n",
      "1000\n",
      "1000\n",
      "1000\n",
      "1251\n",
      "total : 7251\n"
     ]
    }
   ],
   "source": [
    "import pandas as pd\n",
    "\n",
    "df = pd.read_csv('Final_Voca_MidHigh.csv', skiprows=2)\n",
    "print(len(df))\n",
    "df1 = df[:1000]\n",
    "print(len(df1))\n",
    "df2 = df[1000:2000]\n",
    "print(len(df2))\n",
    "df3 = df[2000:3000]\n",
    "print(len(df3))\n",
    "df4 = df[3000:4000]\n",
    "print(len(df4))\n",
    "df5 = df[4000:5000]\n",
    "print(len(df5))\n",
    "df6 = df[5000:6000]\n",
    "print(len(df6))\n",
    "df7 = df[6000:]\n",
    "print(len(df7))\n",
    "\n",
    "print(f'total : {len(df1) + len(df2) + len(df3) + len(df4) + len(df5) + len(df6) + len(df7)}')\n",
    "\n",
    "#인덱스 리셋\n",
    "df2 = df2.reset_index()\n",
    "df3 = df3.reset_index()\n",
    "df4 = df4.reset_index()\n",
    "df5 = df5.reset_index()\n",
    "df6 = df6.reset_index()\n",
    "df7 = df7.reset_index()"
   ]
  },
  {
   "cell_type": "code",
   "execution_count": 14,
   "metadata": {},
   "outputs": [
    {
     "name": "stdout",
     "output_type": "stream",
     "text": [
      "JSONL 파일 생성 완료 : VocaQuiz_MidHigh_batch_1.jsonl-1000\n",
      "JSONL 파일 생성 완료 : VocaQuiz_MidHigh_batch_2.jsonl-1000\n",
      "JSONL 파일 생성 완료 : VocaQuiz_MidHigh_batch_3.jsonl-1000\n",
      "JSONL 파일 생성 완료 : VocaQuiz_MidHigh_batch_4.jsonl-1000\n",
      "JSONL 파일 생성 완료 : VocaQuiz_MidHigh_batch_5.jsonl-1000\n",
      "JSONL 파일 생성 완료 : VocaQuiz_MidHigh_batch_6.jsonl-1000\n",
      "JSONL 파일 생성 완료 : VocaQuiz_MidHigh_batch_7.jsonl-1251\n"
     ]
    }
   ],
   "source": [
    "VocaQuizMake(df1,\"VocaQuiz_MidHigh_batch_1.jsonl\")\n",
    "VocaQuizMake(df2,\"VocaQuiz_MidHigh_batch_2.jsonl\")\n",
    "VocaQuizMake(df3,\"VocaQuiz_MidHigh_batch_3.jsonl\")\n",
    "VocaQuizMake(df4,\"VocaQuiz_MidHigh_batch_4.jsonl\")\n",
    "VocaQuizMake(df5,\"VocaQuiz_MidHigh_batch_5.jsonl\")\n",
    "VocaQuizMake(df6,\"VocaQuiz_MidHigh_batch_6.jsonl\")\n",
    "VocaQuizMake(df7,\"VocaQuiz_MidHigh_batch_7.jsonl\")"
   ]
  }
 ],
 "metadata": {
  "kernelspec": {
   "display_name": "base",
   "language": "python",
   "name": "python3"
  },
  "language_info": {
   "codemirror_mode": {
    "name": "ipython",
    "version": 3
   },
   "file_extension": ".py",
   "mimetype": "text/x-python",
   "name": "python",
   "nbconvert_exporter": "python",
   "pygments_lexer": "ipython3",
   "version": "3.12.7"
  }
 },
 "nbformat": 4,
 "nbformat_minor": 2
}
