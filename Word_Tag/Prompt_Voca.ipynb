{
 "cells": [
  {
   "cell_type": "markdown",
   "metadata": {},
   "source": [
    "# Voca prompt"
   ]
  },
  {
   "cell_type": "code",
   "execution_count": 21,
   "metadata": {},
   "outputs": [],
   "source": [
    "from pydantic import BaseModel, create_model\n",
    "from openai import OpenAI\n",
    "from openai.lib._parsing import type_to_response_format_param\n",
    "import json\n",
    "from getpass import getpass\n",
    "from jinja2 import Template\n",
    "import re\n",
    "from enum import Enum\n",
    "from typing import Optional"
   ]
  },
  {
   "cell_type": "code",
   "execution_count": 22,
   "metadata": {},
   "outputs": [],
   "source": [
    "openai_api_key = getpass('OPENAI_API_KEY')\n",
    "client = OpenAI(api_key=openai_api_key)"
   ]
  },
  {
   "cell_type": "code",
   "execution_count": 23,
   "metadata": {},
   "outputs": [],
   "source": [
    "prompt_template = Template(\"\"\"\n",
    "[GUIDELINE]\n",
    "\n",
    "Provide matching \"VOCA_OPTIONS\".\n",
    "If the \"WORD\" of the input has more than one match in the lists of \"VOCA_OPTIONS\", judge with [\"PART_OF_SPEECH\", \"POS_NO\", \"MEANING\", \"EXAMPLE_SENTENCE\", \"EXAMPLE_SENTENCE_KOR\"] to indicate the most adequate match.\n",
    "If the \"WORD\" of the input has NO match from \"VOCA_OPTIONS\", leave the voca_id as null.\n",
    "\n",
    "                           \n",
    "[EXAMPLE]\n",
    "```\n",
    "Input:\n",
    "    {\n",
    "    \"TEXTBOOK_ID\" : \"701\",\n",
    "    \"LESSON\" : \"3\",\n",
    "    \"WORD\" : \"donate\",\n",
    "    \"PART_OF_SPEECH\" : \"동사\",\n",
    "    \"POS_NO\" : \"1\"                    \n",
    "    \"MEANING\" : \"기부하다, 기증하다\",\n",
    "    \"EXAMPLE_SENTENCE\" : \"I donate money to many different charities each year.\",\n",
    "    \"EXAMPLE_SENTENCE_KOR\" : \"나는 매년 여러 다양한 자선 단체에 돈을 기부한다.\",\n",
    "    \"VOCA_OPTIONS\" : \"[[1093, \"donate\", \"헌혈하다,(장기를) 기증하다\", 1, \"동사\"], [1094, \"donate\", \"기부하다\", 1, \"동사\"]]\" \n",
    "    }\n",
    "\n",
    "Output:\n",
    "    {\n",
    "        \"voca_id\": 1094\n",
    "    }\n",
    "'''\n",
    "```\n",
    "Input:\n",
    "    {\n",
    "    \"TEXTBOOK_ID\" :\"802\",\n",
    "    \"LESSON\" : \"3\",\n",
    "    \"WORD\" : \"get\",\n",
    "    \"PART_OF_SPEECH\" : \"동사\",\n",
    "    \"POS_NO\" : \"1\"                    \n",
    "    \"MEANING\" : \"도착하다\",\n",
    "    \"EXAMPLE_SENTENCE\" : \"He got to Europe to perform.\",\n",
    "    \"EXAMPLE_SENTENCE_KOR\" : \"그는 공연을 위해 유럽에 도착했어요.\",\n",
    "    \"VOCA_OPTIONS\" : \"[[2914, \"get\", \"얻다\", 1, \"동사\"], [2915, \"get\", \"이해하다\", 1, \"동사\"]]\" \n",
    "    }\n",
    "\n",
    "Output:\n",
    "    {\n",
    "        \"voca_id\": null\n",
    "    }\n",
    "'''                           \n",
    "                           \n",
    "[Input]\n",
    "```\n",
    "TEXTBOOK_ID : {{textbook_id}}\n",
    "LESSON : {{lesson}}\n",
    "WORD : {{word}}\n",
    "PART_OF_SPEECH : {{part_of_speech}}\n",
    "POS_NO : {{pos_no}}\n",
    "MEANING: {{meaning}}\n",
    "EXAMPLE_SENTENCE: {{example_sentence}}\n",
    "EXAMPLE_SENTENCE_KOR: {{example_sentence_kor}}\n",
    "VOCA_OPTIONS: {{voca_options}}\n",
    "```                   \n",
    "\"\"\"\n",
    ")"
   ]
  },
  {
   "cell_type": "code",
   "execution_count": 24,
   "metadata": {},
   "outputs": [],
   "source": [
    "voca_option_list = eval('[[2624, \"discount\", \"할인\", 2, \"명사\"], [2625, \"discount\", \"할인하다\", 1, \"동사\"]]')"
   ]
  },
  {
   "cell_type": "code",
   "execution_count": 25,
   "metadata": {},
   "outputs": [
    {
     "data": {
      "text/plain": [
       "[[2624, 'discount', '할인', 2, '명사'], [2625, 'discount', '할인하다', 1, '동사']]"
      ]
     },
     "execution_count": 25,
     "metadata": {},
     "output_type": "execute_result"
    }
   ],
   "source": [
    "voca_option_list"
   ]
  },
  {
   "cell_type": "code",
   "execution_count": 26,
   "metadata": {},
   "outputs": [
    {
     "name": "stdout",
     "output_type": "stream",
     "text": [
      "2624\n",
      "2625\n"
     ]
    }
   ],
   "source": [
    "voca_id_list = [print(x[0]) for x in voca_option_list]"
   ]
  },
  {
   "cell_type": "code",
   "execution_count": 27,
   "metadata": {},
   "outputs": [],
   "source": [
    "prompt = prompt_template.render(\n",
    "    textbook_id = \"807\",\n",
    "    lesson = \"5\",\n",
    "    word = \"charge\",\n",
    "    part_of_speech = \"명사\",\n",
    "    pos_no = \"2\",\n",
    "    meaning = \"담당, 책임\",\n",
    "    example_sentence = \"He took charge of the farm after his father's death.\",\n",
    "    example_sentence_kor = \"그는 아버지가 죽고 나서 농장을 책임지게 되었다.\",\n",
    "    voca_options = '[[1843, \"charge\", \"청구하다\", 1, \"동사\"], [1844, \"charge\", \"충전하다\", 1, \"동사\"], [1845, \"charge\", \"책임을 맡기다\", 1, \"동사\"], [1846, \"charge\", \"기소하다, 고소하다\", 1, \"동사\"], [1847, \"charge\", \"(외상으로) 달아놓다\", 1, \"동사\"], [1848, \"charge\", \"비난\", 2, \"명사\"], [1849, \"charge\", \"기소, 혐의\", 2, \"명사\"], [1850, \"charge\", \"요금\", 2, \"명사\"]]'\n",
    ")"
   ]
  },
  {
   "cell_type": "code",
   "execution_count": 28,
   "metadata": {},
   "outputs": [
    {
     "name": "stdout",
     "output_type": "stream",
     "text": [
      "\n",
      "[GUIDELINE]\n",
      "\n",
      "Provide matching \"VOCA_OPTIONS\".\n",
      "If the \"WORD\" of the input has more than one match in the lists of \"VOCA_OPTIONS\", judge with [\"PART_OF_SPEECH\", \"POS_NO\", \"MEANING\", \"EXAMPLE_SENTENCE\", \"EXAMPLE_SENTENCE_KOR\"] to indicate the most adequate match.\n",
      "If the \"WORD\" of the input has NO match from \"VOCA_OPTIONS\", leave the voca_id as null.\n",
      "\n",
      "                           \n",
      "[EXAMPLE]\n",
      "```\n",
      "Input:\n",
      "    {\n",
      "    \"TEXTBOOK_ID\" : \"701\",\n",
      "    \"LESSON\" : \"3\",\n",
      "    \"WORD\" : \"donate\",\n",
      "    \"PART_OF_SPEECH\" : \"동사\",\n",
      "    \"POS_NO\" : \"1\"                    \n",
      "    \"MEANING\" : \"기부하다, 기증하다\",\n",
      "    \"EXAMPLE_SENTENCE\" : \"I donate money to many different charities each year.\",\n",
      "    \"EXAMPLE_SENTENCE_KOR\" : \"나는 매년 여러 다양한 자선 단체에 돈을 기부한다.\",\n",
      "    \"VOCA_OPTIONS\" : \"[[1093, \"donate\", \"헌혈하다,(장기를) 기증하다\", 1, \"동사\"], [1094, \"donate\", \"기부하다\", 1, \"동사\"]]\" \n",
      "    }\n",
      "\n",
      "Output:\n",
      "    {\n",
      "        \"voca_id\": 1094\n",
      "    }\n",
      "'''\n",
      "```\n",
      "Input:\n",
      "    {\n",
      "    \"TEXTBOOK_ID\" :\"802\",\n",
      "    \"LESSON\" : \"3\",\n",
      "    \"WORD\" : \"get\",\n",
      "    \"PART_OF_SPEECH\" : \"동사\",\n",
      "    \"POS_NO\" : \"1\"                    \n",
      "    \"MEANING\" : \"도착하다\",\n",
      "    \"EXAMPLE_SENTENCE\" : \"He got to Europe to perform.\",\n",
      "    \"EXAMPLE_SENTENCE_KOR\" : \"그는 공연을 위해 유럽에 도착했어요.\",\n",
      "    \"VOCA_OPTIONS\" : \"[[2914, \"get\", \"얻다\", 1, \"동사\"], [2915, \"get\", \"이해하다\", 1, \"동사\"]]\" \n",
      "    }\n",
      "\n",
      "Output:\n",
      "    {\n",
      "        \"voca_id\": null\n",
      "    }\n",
      "'''                           \n",
      "                           \n",
      "[Input]\n",
      "```\n",
      "TEXTBOOK_ID : 807\n",
      "LESSON : 5\n",
      "WORD : charge\n",
      "PART_OF_SPEECH : 명사\n",
      "POS_NO : 2\n",
      "MEANING: 담당, 책임\n",
      "EXAMPLE_SENTENCE: He took charge of the farm after his father's death.\n",
      "EXAMPLE_SENTENCE_KOR: 그는 아버지가 죽고 나서 농장을 책임지게 되었다.\n",
      "VOCA_OPTIONS: [[1843, \"charge\", \"청구하다\", 1, \"동사\"], [1844, \"charge\", \"충전하다\", 1, \"동사\"], [1845, \"charge\", \"책임을 맡기다\", 1, \"동사\"], [1846, \"charge\", \"기소하다, 고소하다\", 1, \"동사\"], [1847, \"charge\", \"(외상으로) 달아놓다\", 1, \"동사\"], [1848, \"charge\", \"비난\", 2, \"명사\"], [1849, \"charge\", \"기소, 혐의\", 2, \"명사\"], [1850, \"charge\", \"요금\", 2, \"명사\"]]\n",
      "```                   \n"
     ]
    }
   ],
   "source": [
    "print(prompt)"
   ]
  },
  {
   "cell_type": "code",
   "execution_count": 29,
   "metadata": {},
   "outputs": [],
   "source": [
    "from enum import Enum\n",
    "from pydantic import create_model\n",
    "from openai.lib._parsing import type_to_response_format_param\n",
    "from typing import Optional\n",
    "\n",
    "def get_enum_response_format(voca_id_list: list[int]):\n",
    "    enum_dict = {str(x): x for x in voca_id_list}\n",
    "    VocaIdEnum = Enum(\"VocaIdEnum\", enum_dict) # 동적 enum 클래스 생성\n",
    "    response_format_dict = {\n",
    "        \"voca_id\": (Optional[VocaIdEnum], ...)\n",
    "    }\n",
    "    ResponseModel = create_model(\"VocaIdResponse\", **response_format_dict)\n",
    "    return type_to_response_format_param(ResponseModel)"
   ]
  },
  {
   "cell_type": "markdown",
   "metadata": {},
   "source": [
    "- response format임 -> 출력만 쉽게 나온다는 것\n",
    "- prompt에 잘 작성을 해야할 것"
   ]
  },
  {
   "cell_type": "code",
   "execution_count": 30,
   "metadata": {},
   "outputs": [
    {
     "data": {
      "text/plain": [
       "[None, None]"
      ]
     },
     "execution_count": 30,
     "metadata": {},
     "output_type": "execute_result"
    }
   ],
   "source": [
    "voca_id_list"
   ]
  },
  {
   "cell_type": "code",
   "execution_count": 31,
   "metadata": {},
   "outputs": [],
   "source": [
    "enum_response_format = get_enum_response_format(voca_id_list)"
   ]
  },
  {
   "cell_type": "code",
   "execution_count": 32,
   "metadata": {},
   "outputs": [
    {
     "data": {
      "text/plain": [
       "{'type': 'json_schema',\n",
       " 'json_schema': {'schema': {'$defs': {'VocaIdEnum': {'const': None,\n",
       "     'enum': [None],\n",
       "     'title': 'VocaIdEnum'}},\n",
       "   'properties': {'voca_id': {'anyOf': [{'$ref': '#/$defs/VocaIdEnum'},\n",
       "      {'type': 'null'}]}},\n",
       "   'required': ['voca_id'],\n",
       "   'title': 'VocaIdResponse',\n",
       "   'type': 'object',\n",
       "   'additionalProperties': False},\n",
       "  'name': 'VocaIdResponse',\n",
       "  'strict': True}}"
      ]
     },
     "execution_count": 32,
     "metadata": {},
     "output_type": "execute_result"
    }
   ],
   "source": [
    "enum_response_format"
   ]
  },
  {
   "cell_type": "code",
   "execution_count": 33,
   "metadata": {},
   "outputs": [],
   "source": [
    "import json\n",
    "\n",
    "def completion(prompt : str, response_format: str) -> str:\n",
    "    response = client.beta.chat.completions.parse(\n",
    "        model = 'o3-mini-2025-01-31',\n",
    "        reasoning_effort='low',\n",
    "        messages = [\n",
    "            {\"role\" : \"system\", \"content\" : \"Choose the most adequate word\"},\n",
    "            {\"role\" : \"user\", \"content\" : prompt}\n",
    "        ],\n",
    "        response_format=response_format,\n",
    "    )\n",
    "    generated_str = response.choices[0].message.content\n",
    "    generated_json = json.loads(generated_str)\n",
    "    return generated_json"
   ]
  },
  {
   "cell_type": "code",
   "execution_count": 34,
   "metadata": {},
   "outputs": [
    {
     "ename": "BadRequestError",
     "evalue": "Error code: 400 - {'error': {'message': \"Invalid schema: Objects provided via 'anyOf' must not share identical first keys. Consider adding a discriminator key or rearranging the properties to ensure the first key is unique.\", 'type': 'invalid_request_error', 'param': None, 'code': None}}",
     "output_type": "error",
     "traceback": [
      "\u001b[1;31m---------------------------------------------------------------------------\u001b[0m",
      "\u001b[1;31mBadRequestError\u001b[0m                           Traceback (most recent call last)",
      "Cell \u001b[1;32mIn[34], line 1\u001b[0m\n\u001b[1;32m----> 1\u001b[0m response \u001b[38;5;241m=\u001b[39m completion(prompt, enum_response_format)\n",
      "Cell \u001b[1;32mIn[33], line 4\u001b[0m, in \u001b[0;36mcompletion\u001b[1;34m(prompt, response_format)\u001b[0m\n\u001b[0;32m      3\u001b[0m \u001b[38;5;28;01mdef\u001b[39;00m \u001b[38;5;21mcompletion\u001b[39m(prompt : \u001b[38;5;28mstr\u001b[39m, response_format: \u001b[38;5;28mstr\u001b[39m) \u001b[38;5;241m-\u001b[39m\u001b[38;5;241m>\u001b[39m \u001b[38;5;28mstr\u001b[39m:\n\u001b[1;32m----> 4\u001b[0m     response \u001b[38;5;241m=\u001b[39m client\u001b[38;5;241m.\u001b[39mbeta\u001b[38;5;241m.\u001b[39mchat\u001b[38;5;241m.\u001b[39mcompletions\u001b[38;5;241m.\u001b[39mparse(\n\u001b[0;32m      5\u001b[0m         model \u001b[38;5;241m=\u001b[39m \u001b[38;5;124m'\u001b[39m\u001b[38;5;124mo3-mini-2025-01-31\u001b[39m\u001b[38;5;124m'\u001b[39m,\n\u001b[0;32m      6\u001b[0m         reasoning_effort\u001b[38;5;241m=\u001b[39m\u001b[38;5;124m'\u001b[39m\u001b[38;5;124mlow\u001b[39m\u001b[38;5;124m'\u001b[39m,\n\u001b[0;32m      7\u001b[0m         messages \u001b[38;5;241m=\u001b[39m [\n\u001b[0;32m      8\u001b[0m             {\u001b[38;5;124m\"\u001b[39m\u001b[38;5;124mrole\u001b[39m\u001b[38;5;124m\"\u001b[39m : \u001b[38;5;124m\"\u001b[39m\u001b[38;5;124msystem\u001b[39m\u001b[38;5;124m\"\u001b[39m, \u001b[38;5;124m\"\u001b[39m\u001b[38;5;124mcontent\u001b[39m\u001b[38;5;124m\"\u001b[39m : \u001b[38;5;124m\"\u001b[39m\u001b[38;5;124mChoose the most adequate word\u001b[39m\u001b[38;5;124m\"\u001b[39m},\n\u001b[0;32m      9\u001b[0m             {\u001b[38;5;124m\"\u001b[39m\u001b[38;5;124mrole\u001b[39m\u001b[38;5;124m\"\u001b[39m : \u001b[38;5;124m\"\u001b[39m\u001b[38;5;124muser\u001b[39m\u001b[38;5;124m\"\u001b[39m, \u001b[38;5;124m\"\u001b[39m\u001b[38;5;124mcontent\u001b[39m\u001b[38;5;124m\"\u001b[39m : prompt}\n\u001b[0;32m     10\u001b[0m         ],\n\u001b[0;32m     11\u001b[0m         response_format\u001b[38;5;241m=\u001b[39mresponse_format,\n\u001b[0;32m     12\u001b[0m     )\n\u001b[0;32m     13\u001b[0m     generated_str \u001b[38;5;241m=\u001b[39m response\u001b[38;5;241m.\u001b[39mchoices[\u001b[38;5;241m0\u001b[39m]\u001b[38;5;241m.\u001b[39mmessage\u001b[38;5;241m.\u001b[39mcontent\n\u001b[0;32m     14\u001b[0m     generated_json \u001b[38;5;241m=\u001b[39m json\u001b[38;5;241m.\u001b[39mloads(generated_str)\n",
      "File \u001b[1;32mc:\\Users\\WEAVERSMIND\\anaconda3\\Lib\\site-packages\\openai\\resources\\beta\\chat\\completions.py:161\u001b[0m, in \u001b[0;36mCompletions.parse\u001b[1;34m(self, messages, model, audio, response_format, frequency_penalty, function_call, functions, logit_bias, logprobs, max_completion_tokens, max_tokens, metadata, modalities, n, parallel_tool_calls, prediction, presence_penalty, reasoning_effort, seed, service_tier, stop, store, stream_options, temperature, tool_choice, tools, top_logprobs, top_p, user, extra_headers, extra_query, extra_body, timeout)\u001b[0m\n\u001b[0;32m    154\u001b[0m \u001b[38;5;28;01mdef\u001b[39;00m \u001b[38;5;21mparser\u001b[39m(raw_completion: ChatCompletion) \u001b[38;5;241m-\u001b[39m\u001b[38;5;241m>\u001b[39m ParsedChatCompletion[ResponseFormatT]:\n\u001b[0;32m    155\u001b[0m     \u001b[38;5;28;01mreturn\u001b[39;00m _parse_chat_completion(\n\u001b[0;32m    156\u001b[0m         response_format\u001b[38;5;241m=\u001b[39mresponse_format,\n\u001b[0;32m    157\u001b[0m         chat_completion\u001b[38;5;241m=\u001b[39mraw_completion,\n\u001b[0;32m    158\u001b[0m         input_tools\u001b[38;5;241m=\u001b[39mtools,\n\u001b[0;32m    159\u001b[0m     )\n\u001b[1;32m--> 161\u001b[0m \u001b[38;5;28;01mreturn\u001b[39;00m \u001b[38;5;28mself\u001b[39m\u001b[38;5;241m.\u001b[39m_post(\n\u001b[0;32m    162\u001b[0m     \u001b[38;5;124m\"\u001b[39m\u001b[38;5;124m/chat/completions\u001b[39m\u001b[38;5;124m\"\u001b[39m,\n\u001b[0;32m    163\u001b[0m     body\u001b[38;5;241m=\u001b[39mmaybe_transform(\n\u001b[0;32m    164\u001b[0m         {\n\u001b[0;32m    165\u001b[0m             \u001b[38;5;124m\"\u001b[39m\u001b[38;5;124mmessages\u001b[39m\u001b[38;5;124m\"\u001b[39m: messages,\n\u001b[0;32m    166\u001b[0m             \u001b[38;5;124m\"\u001b[39m\u001b[38;5;124mmodel\u001b[39m\u001b[38;5;124m\"\u001b[39m: model,\n\u001b[0;32m    167\u001b[0m             \u001b[38;5;124m\"\u001b[39m\u001b[38;5;124maudio\u001b[39m\u001b[38;5;124m\"\u001b[39m: audio,\n\u001b[0;32m    168\u001b[0m             \u001b[38;5;124m\"\u001b[39m\u001b[38;5;124mfrequency_penalty\u001b[39m\u001b[38;5;124m\"\u001b[39m: frequency_penalty,\n\u001b[0;32m    169\u001b[0m             \u001b[38;5;124m\"\u001b[39m\u001b[38;5;124mfunction_call\u001b[39m\u001b[38;5;124m\"\u001b[39m: function_call,\n\u001b[0;32m    170\u001b[0m             \u001b[38;5;124m\"\u001b[39m\u001b[38;5;124mfunctions\u001b[39m\u001b[38;5;124m\"\u001b[39m: functions,\n\u001b[0;32m    171\u001b[0m             \u001b[38;5;124m\"\u001b[39m\u001b[38;5;124mlogit_bias\u001b[39m\u001b[38;5;124m\"\u001b[39m: logit_bias,\n\u001b[0;32m    172\u001b[0m             \u001b[38;5;124m\"\u001b[39m\u001b[38;5;124mlogprobs\u001b[39m\u001b[38;5;124m\"\u001b[39m: logprobs,\n\u001b[0;32m    173\u001b[0m             \u001b[38;5;124m\"\u001b[39m\u001b[38;5;124mmax_completion_tokens\u001b[39m\u001b[38;5;124m\"\u001b[39m: max_completion_tokens,\n\u001b[0;32m    174\u001b[0m             \u001b[38;5;124m\"\u001b[39m\u001b[38;5;124mmax_tokens\u001b[39m\u001b[38;5;124m\"\u001b[39m: max_tokens,\n\u001b[0;32m    175\u001b[0m             \u001b[38;5;124m\"\u001b[39m\u001b[38;5;124mmetadata\u001b[39m\u001b[38;5;124m\"\u001b[39m: metadata,\n\u001b[0;32m    176\u001b[0m             \u001b[38;5;124m\"\u001b[39m\u001b[38;5;124mmodalities\u001b[39m\u001b[38;5;124m\"\u001b[39m: modalities,\n\u001b[0;32m    177\u001b[0m             \u001b[38;5;124m\"\u001b[39m\u001b[38;5;124mn\u001b[39m\u001b[38;5;124m\"\u001b[39m: n,\n\u001b[0;32m    178\u001b[0m             \u001b[38;5;124m\"\u001b[39m\u001b[38;5;124mparallel_tool_calls\u001b[39m\u001b[38;5;124m\"\u001b[39m: parallel_tool_calls,\n\u001b[0;32m    179\u001b[0m             \u001b[38;5;124m\"\u001b[39m\u001b[38;5;124mprediction\u001b[39m\u001b[38;5;124m\"\u001b[39m: prediction,\n\u001b[0;32m    180\u001b[0m             \u001b[38;5;124m\"\u001b[39m\u001b[38;5;124mpresence_penalty\u001b[39m\u001b[38;5;124m\"\u001b[39m: presence_penalty,\n\u001b[0;32m    181\u001b[0m             \u001b[38;5;124m\"\u001b[39m\u001b[38;5;124mreasoning_effort\u001b[39m\u001b[38;5;124m\"\u001b[39m: reasoning_effort,\n\u001b[0;32m    182\u001b[0m             \u001b[38;5;124m\"\u001b[39m\u001b[38;5;124mresponse_format\u001b[39m\u001b[38;5;124m\"\u001b[39m: _type_to_response_format(response_format),\n\u001b[0;32m    183\u001b[0m             \u001b[38;5;124m\"\u001b[39m\u001b[38;5;124mseed\u001b[39m\u001b[38;5;124m\"\u001b[39m: seed,\n\u001b[0;32m    184\u001b[0m             \u001b[38;5;124m\"\u001b[39m\u001b[38;5;124mservice_tier\u001b[39m\u001b[38;5;124m\"\u001b[39m: service_tier,\n\u001b[0;32m    185\u001b[0m             \u001b[38;5;124m\"\u001b[39m\u001b[38;5;124mstop\u001b[39m\u001b[38;5;124m\"\u001b[39m: stop,\n\u001b[0;32m    186\u001b[0m             \u001b[38;5;124m\"\u001b[39m\u001b[38;5;124mstore\u001b[39m\u001b[38;5;124m\"\u001b[39m: store,\n\u001b[0;32m    187\u001b[0m             \u001b[38;5;124m\"\u001b[39m\u001b[38;5;124mstream\u001b[39m\u001b[38;5;124m\"\u001b[39m: \u001b[38;5;28;01mFalse\u001b[39;00m,\n\u001b[0;32m    188\u001b[0m             \u001b[38;5;124m\"\u001b[39m\u001b[38;5;124mstream_options\u001b[39m\u001b[38;5;124m\"\u001b[39m: stream_options,\n\u001b[0;32m    189\u001b[0m             \u001b[38;5;124m\"\u001b[39m\u001b[38;5;124mtemperature\u001b[39m\u001b[38;5;124m\"\u001b[39m: temperature,\n\u001b[0;32m    190\u001b[0m             \u001b[38;5;124m\"\u001b[39m\u001b[38;5;124mtool_choice\u001b[39m\u001b[38;5;124m\"\u001b[39m: tool_choice,\n\u001b[0;32m    191\u001b[0m             \u001b[38;5;124m\"\u001b[39m\u001b[38;5;124mtools\u001b[39m\u001b[38;5;124m\"\u001b[39m: tools,\n\u001b[0;32m    192\u001b[0m             \u001b[38;5;124m\"\u001b[39m\u001b[38;5;124mtop_logprobs\u001b[39m\u001b[38;5;124m\"\u001b[39m: top_logprobs,\n\u001b[0;32m    193\u001b[0m             \u001b[38;5;124m\"\u001b[39m\u001b[38;5;124mtop_p\u001b[39m\u001b[38;5;124m\"\u001b[39m: top_p,\n\u001b[0;32m    194\u001b[0m             \u001b[38;5;124m\"\u001b[39m\u001b[38;5;124muser\u001b[39m\u001b[38;5;124m\"\u001b[39m: user,\n\u001b[0;32m    195\u001b[0m         },\n\u001b[0;32m    196\u001b[0m         completion_create_params\u001b[38;5;241m.\u001b[39mCompletionCreateParams,\n\u001b[0;32m    197\u001b[0m     ),\n\u001b[0;32m    198\u001b[0m     options\u001b[38;5;241m=\u001b[39mmake_request_options(\n\u001b[0;32m    199\u001b[0m         extra_headers\u001b[38;5;241m=\u001b[39mextra_headers,\n\u001b[0;32m    200\u001b[0m         extra_query\u001b[38;5;241m=\u001b[39mextra_query,\n\u001b[0;32m    201\u001b[0m         extra_body\u001b[38;5;241m=\u001b[39mextra_body,\n\u001b[0;32m    202\u001b[0m         timeout\u001b[38;5;241m=\u001b[39mtimeout,\n\u001b[0;32m    203\u001b[0m         post_parser\u001b[38;5;241m=\u001b[39mparser,\n\u001b[0;32m    204\u001b[0m     ),\n\u001b[0;32m    205\u001b[0m     \u001b[38;5;66;03m# we turn the `ChatCompletion` instance into a `ParsedChatCompletion`\u001b[39;00m\n\u001b[0;32m    206\u001b[0m     \u001b[38;5;66;03m# in the `parser` function above\u001b[39;00m\n\u001b[0;32m    207\u001b[0m     cast_to\u001b[38;5;241m=\u001b[39mcast(Type[ParsedChatCompletion[ResponseFormatT]], ChatCompletion),\n\u001b[0;32m    208\u001b[0m     stream\u001b[38;5;241m=\u001b[39m\u001b[38;5;28;01mFalse\u001b[39;00m,\n\u001b[0;32m    209\u001b[0m )\n",
      "File \u001b[1;32mc:\\Users\\WEAVERSMIND\\anaconda3\\Lib\\site-packages\\openai\\_base_client.py:1283\u001b[0m, in \u001b[0;36mSyncAPIClient.post\u001b[1;34m(self, path, cast_to, body, options, files, stream, stream_cls)\u001b[0m\n\u001b[0;32m   1269\u001b[0m \u001b[38;5;28;01mdef\u001b[39;00m \u001b[38;5;21mpost\u001b[39m(\n\u001b[0;32m   1270\u001b[0m     \u001b[38;5;28mself\u001b[39m,\n\u001b[0;32m   1271\u001b[0m     path: \u001b[38;5;28mstr\u001b[39m,\n\u001b[1;32m   (...)\u001b[0m\n\u001b[0;32m   1278\u001b[0m     stream_cls: \u001b[38;5;28mtype\u001b[39m[_StreamT] \u001b[38;5;241m|\u001b[39m \u001b[38;5;28;01mNone\u001b[39;00m \u001b[38;5;241m=\u001b[39m \u001b[38;5;28;01mNone\u001b[39;00m,\n\u001b[0;32m   1279\u001b[0m ) \u001b[38;5;241m-\u001b[39m\u001b[38;5;241m>\u001b[39m ResponseT \u001b[38;5;241m|\u001b[39m _StreamT:\n\u001b[0;32m   1280\u001b[0m     opts \u001b[38;5;241m=\u001b[39m FinalRequestOptions\u001b[38;5;241m.\u001b[39mconstruct(\n\u001b[0;32m   1281\u001b[0m         method\u001b[38;5;241m=\u001b[39m\u001b[38;5;124m\"\u001b[39m\u001b[38;5;124mpost\u001b[39m\u001b[38;5;124m\"\u001b[39m, url\u001b[38;5;241m=\u001b[39mpath, json_data\u001b[38;5;241m=\u001b[39mbody, files\u001b[38;5;241m=\u001b[39mto_httpx_files(files), \u001b[38;5;241m*\u001b[39m\u001b[38;5;241m*\u001b[39moptions\n\u001b[0;32m   1282\u001b[0m     )\n\u001b[1;32m-> 1283\u001b[0m     \u001b[38;5;28;01mreturn\u001b[39;00m cast(ResponseT, \u001b[38;5;28mself\u001b[39m\u001b[38;5;241m.\u001b[39mrequest(cast_to, opts, stream\u001b[38;5;241m=\u001b[39mstream, stream_cls\u001b[38;5;241m=\u001b[39mstream_cls))\n",
      "File \u001b[1;32mc:\\Users\\WEAVERSMIND\\anaconda3\\Lib\\site-packages\\openai\\_base_client.py:960\u001b[0m, in \u001b[0;36mSyncAPIClient.request\u001b[1;34m(self, cast_to, options, remaining_retries, stream, stream_cls)\u001b[0m\n\u001b[0;32m    957\u001b[0m \u001b[38;5;28;01melse\u001b[39;00m:\n\u001b[0;32m    958\u001b[0m     retries_taken \u001b[38;5;241m=\u001b[39m \u001b[38;5;241m0\u001b[39m\n\u001b[1;32m--> 960\u001b[0m \u001b[38;5;28;01mreturn\u001b[39;00m \u001b[38;5;28mself\u001b[39m\u001b[38;5;241m.\u001b[39m_request(\n\u001b[0;32m    961\u001b[0m     cast_to\u001b[38;5;241m=\u001b[39mcast_to,\n\u001b[0;32m    962\u001b[0m     options\u001b[38;5;241m=\u001b[39moptions,\n\u001b[0;32m    963\u001b[0m     stream\u001b[38;5;241m=\u001b[39mstream,\n\u001b[0;32m    964\u001b[0m     stream_cls\u001b[38;5;241m=\u001b[39mstream_cls,\n\u001b[0;32m    965\u001b[0m     retries_taken\u001b[38;5;241m=\u001b[39mretries_taken,\n\u001b[0;32m    966\u001b[0m )\n",
      "File \u001b[1;32mc:\\Users\\WEAVERSMIND\\anaconda3\\Lib\\site-packages\\openai\\_base_client.py:1064\u001b[0m, in \u001b[0;36mSyncAPIClient._request\u001b[1;34m(self, cast_to, options, retries_taken, stream, stream_cls)\u001b[0m\n\u001b[0;32m   1061\u001b[0m         err\u001b[38;5;241m.\u001b[39mresponse\u001b[38;5;241m.\u001b[39mread()\n\u001b[0;32m   1063\u001b[0m     log\u001b[38;5;241m.\u001b[39mdebug(\u001b[38;5;124m\"\u001b[39m\u001b[38;5;124mRe-raising status error\u001b[39m\u001b[38;5;124m\"\u001b[39m)\n\u001b[1;32m-> 1064\u001b[0m     \u001b[38;5;28;01mraise\u001b[39;00m \u001b[38;5;28mself\u001b[39m\u001b[38;5;241m.\u001b[39m_make_status_error_from_response(err\u001b[38;5;241m.\u001b[39mresponse) \u001b[38;5;28;01mfrom\u001b[39;00m \u001b[38;5;28;01mNone\u001b[39;00m\n\u001b[0;32m   1066\u001b[0m \u001b[38;5;28;01mreturn\u001b[39;00m \u001b[38;5;28mself\u001b[39m\u001b[38;5;241m.\u001b[39m_process_response(\n\u001b[0;32m   1067\u001b[0m     cast_to\u001b[38;5;241m=\u001b[39mcast_to,\n\u001b[0;32m   1068\u001b[0m     options\u001b[38;5;241m=\u001b[39moptions,\n\u001b[1;32m   (...)\u001b[0m\n\u001b[0;32m   1072\u001b[0m     retries_taken\u001b[38;5;241m=\u001b[39mretries_taken,\n\u001b[0;32m   1073\u001b[0m )\n",
      "\u001b[1;31mBadRequestError\u001b[0m: Error code: 400 - {'error': {'message': \"Invalid schema: Objects provided via 'anyOf' must not share identical first keys. Consider adding a discriminator key or rearranging the properties to ensure the first key is unique.\", 'type': 'invalid_request_error', 'param': None, 'code': None}}"
     ]
    }
   ],
   "source": [
    "response = completion(prompt, enum_response_format)"
   ]
  },
  {
   "cell_type": "code",
   "execution_count": null,
   "metadata": {},
   "outputs": [
    {
     "name": "stdout",
     "output_type": "stream",
     "text": [
      "{'voca_id': None}\n"
     ]
    }
   ],
   "source": [
    "print(response)"
   ]
  },
  {
   "cell_type": "code",
   "execution_count": null,
   "metadata": {},
   "outputs": [],
   "source": [
    "# response_output = json.dumps(response.dict(), ensure_ascii=False, indent=2)\n",
    "# print(response_output)"
   ]
  },
  {
   "cell_type": "markdown",
   "metadata": {},
   "source": [
    "# Sample Data 만들기"
   ]
  },
  {
   "cell_type": "code",
   "execution_count": null,
   "metadata": {},
   "outputs": [],
   "source": [
    "import pandas as pd\n",
    "data = [\n",
    "    [808, 8, \"charge\", \"동사\", 1, \"(지불, 대금 등을) 청구하다\", \"They charge you $20 to get in the museum.\", \"그들은 박물관에 들어가는 데 너에게 20달러를 청구한다.\",[[1843, \"charge\", \"청구하다\", 1, \"동사\"], [1844, \"charge\", \"충전하다\", 1, \"동사\"], [1845, \"charge\", \"책임을 맡기다\", 1, \"동사\"], [1846, \"charge\", \"기소하다, 고소하다\", 1, \"동사\"], [1847, \"charge\", \"(외상으로) 달아놓다\", 1, \"동사\"], [1848, \"charge\", \"비난\", 2, \"명사\"], [1849, \"charge\", \"기소, 혐의\", 2, \"명사\"], [1850, \"charge\", \"요금\", 2, \"명사\"]]],\n",
    "    [903, 6, \"charge\", \"동사\", 1, \"(요금을) 청구하다\", \"They charge you $5 to get in the museum.\", \"그들은 박물관에 들어가는 데 5달러를 당신에게 부과할 것이다.\",[[1843, \"charge\", \"청구하다\", 1, \"동사\"], [1844, \"charge\", \"충전하다\", 1, \"동사\"], [1845, \"charge\", \"책임을 맡기다\", 1, \"동사\"], [1846, \"charge\", \"기소하다, 고소하다\", 1, \"동사\"], [1847, \"charge\", \"(외상으로) 달아놓다\", 1, \"동사\"], [1848, \"charge\", \"비난\", 2, \"명사\"], [1849, \"charge\", \"기소, 혐의\", 2, \"명사\"], [1850, \"charge\", \"요금\", 2, \"명사\"]]],\n",
    "    [906, 5, \"charge\", \"명사\", 2, \"기소, 혐의\", \"He was arrested on the charge of robbery.\", \"그는 강도 혐의로 체포되었다.\",[[1843, \"charge\", \"청구하다\", 1, \"동사\"], [1844, \"charge\", \"충전하다\", 1, \"동사\"], [1845, \"charge\", \"책임을 맡기다\", 1, \"동사\"], [1846, \"charge\", \"기소하다, 고소하다\", 1, \"동사\"], [1847, \"charge\", \"(외상으로) 달아놓다\", 1, \"동사\"], [1848, \"charge\", \"비난\", 2, \"명사\"], [1849, \"charge\", \"기소, 혐의\", 2, \"명사\"], [1850, \"charge\", \"요금\", 2, \"명사\"]]],\n",
    "    [715, 7, \"be in charge of\", \"숙어/관용어\", 9, \"~을 담당하다\", \"The coach is in charge of the team practice.\", \"코치는 팀 연습을 담당하고 있다.\",[[1843, \"charge\", \"청구하다\", 1, \"동사\"], [1844, \"charge\", \"충전하다\", 1, \"동사\"], [1845, \"charge\", \"책임을 맡기다\", 1, \"동사\"], [1846, \"charge\", \"기소하다, 고소하다\", 1, \"동사\"], [1847, \"charge\", \"(외상으로) 달아놓다\", 1, \"동사\"], [1848, \"charge\", \"비난\", 2, \"명사\"], [1849, \"charge\", \"기소, 혐의\", 2, \"명사\"], [1850, \"charge\", \"요금\", 2, \"명사\"]]],\n",
    "    [807, 5, \"charge\", \"명사\", 2, \"담당, 책임\", \"He took charge of the farm after his father's death.\", \"그는 아버지가 죽고 나서 농장을 책임지게 되었다.\",[[1843, \"charge\", \"청구하다\", 1, \"동사\"], [1844, \"charge\", \"충전하다\", 1, \"동사\"], [1845, \"charge\", \"책임을 맡기다\", 1, \"동사\"], [1846, \"charge\", \"기소하다, 고소하다\", 1, \"동사\"], [1847, \"charge\", \"(외상으로) 달아놓다\", 1, \"동사\"], [1848, \"charge\", \"비난\", 2, \"명사\"], [1849, \"charge\", \"기소, 혐의\", 2, \"명사\"], [1850, \"charge\", \"요금\", 2, \"명사\"]]],\n",
    "    [901, 1, \"match\", \"명사\", 2, \"경기, 시합\", \"I want to see the final match of the World Cup!\", \"나는 어서 월드컵 결승전을 보고 싶어!\",[[823, \"match\", \"대응하다, 연결하다\", 1, \"동사\"],[824, \"match\", \"맞먹다, 필적하다\", 1, \"동사\"],[825, \"match\", \"부응하다\", 1, \"동사\"],[826, \"match\", \"연결시키다\", 1, \"동사\"],[827, \"match\", \"어울리다\", 1, \"동사\"],[828, \"match\", \"일치하다\", 1, \"동사\"],[829, \"match\", \"짝짓기 하다\", 1, \"동사\"],[830, \"match\", \"맞수, 호적수\", 2, \"명사\"],[831, \"match\", \"성냥, 시합\", 2, \"명사\"],[832, \"match\", \"경기, 시합\", 2, \"명사\"]]],\n",
    "    [905, 7, \"match\", \"동사\", 1, \"(동) 어울리다\", \"The bag doesn't match your jacket.\", \"그 가방은 너의 재킷과 어울리지 않는다.\",[[823, \"match\", \"대응하다, 연결하다\", 1, \"동사\"],[824, \"match\", \"맞먹다, 필적하다\", 1, \"동사\"],[825, \"match\", \"부응하다\", 1, \"동사\"],[826, \"match\", \"연결시키다\", 1, \"동사\"],[827, \"match\", \"어울리다\", 1, \"동사\"],[828, \"match\", \"일치하다\", 1, \"동사\"],[829, \"match\", \"짝짓기 하다\", 1, \"동사\"],[830, \"match\", \"맞수, 호적수\", 2, \"명사\"],[831, \"match\", \"성냥, 시합\", 2, \"명사\"],[832, \"match\", \"경기, 시합\", 2, \"명사\"]]],\n",
    "    [905, 8, \"match up\", \"동사,숙어/관용어\", \"#N/A\", \"맞추다\", \"It doesn't match up with this hole.\", \"그것은 이 구멍과 맞지 않는다.\",[[823, \"match\", \"대응하다, 연결하다\", 1, \"동사\"],[824, \"match\", \"맞먹다, 필적하다\", 1, \"동사\"],[825, \"match\", \"부응하다\", 1, \"동사\"],[826, \"match\", \"연결시키다\", 1, \"동사\"],[827, \"match\", \"어울리다\", 1, \"동사\"],[828, \"match\", \"일치하다\", 1, \"동사\"],[829, \"match\", \"짝짓기 하다\", 1, \"동사\"],[830, \"match\", \"맞수, 호적수\", 2, \"명사\"],[831, \"match\", \"성냥, 시합\", 2, \"명사\"],[832, \"match\", \"경기, 시합\", 2, \"명사\"]]],\n",
    "    [701, 6, \"match\", \"동사\", 1, \"조화시키다, 맞추다, 어울리다\", \"My dog can match these pictures to their names.\", \"우리 집 개는 이 사진과 그 이름을 연결시켜 맞출 수 있다.\",[[823, \"match\", \"대응하다, 연결하다\", 1, \"동사\"],[824, \"match\", \"맞먹다, 필적하다\", 1, \"동사\"],[825, \"match\", \"부응하다\", 1, \"동사\"],[826, \"match\", \"연결시키다\", 1, \"동사\"],[827, \"match\", \"어울리다\", 1, \"동사\"],[828, \"match\", \"일치하다\", 1, \"동사\"],[829, \"match\", \"짝짓기 하다\", 1, \"동사\"],[830, \"match\", \"맞수, 호적수\", 2, \"명사\"],[831, \"match\", \"성냥, 시합\", 2, \"명사\"],[832, \"match\", \"경기, 시합\", 2, \"명사\"]]],\n",
    "    [701, 8, \"match\", \"동사\", 1, \"조화시키다, 맞추다, 어울리다\", \"My dog can match these pictures to their names.\", \"우리 집 개는 이 사진과 그 이름을 연결시켜 맞출 수 있다.\",[[823, \"match\", \"대응하다, 연결하다\", 1, \"동사\"],[824, \"match\", \"맞먹다, 필적하다\", 1, \"동사\"],[825, \"match\", \"부응하다\", 1, \"동사\"],[826, \"match\", \"연결시키다\", 1, \"동사\"],[827, \"match\", \"어울리다\", 1, \"동사\"],[828, \"match\", \"일치하다\", 1, \"동사\"],[829, \"match\", \"짝짓기 하다\", 1, \"동사\"],[830, \"match\", \"맞수, 호적수\", 2, \"명사\"],[831, \"match\", \"성냥, 시합\", 2, \"명사\"],[832, \"match\", \"경기, 시합\", 2, \"명사\"]]],\n",
    "    [702, 1, \"match\", \"동사\", 1, \"연결시키다; 어울리다\", \"Match the faces with the names.\", \"이름과 얼굴 표정을 연결하세요.\",[[823, \"match\", \"대응하다, 연결하다\", 1, \"동사\"],[824, \"match\", \"맞먹다, 필적하다\", 1, \"동사\"],[825, \"match\", \"부응하다\", 1, \"동사\"],[826, \"match\", \"연결시키다\", 1, \"동사\"],[827, \"match\", \"어울리다\", 1, \"동사\"],[828, \"match\", \"일치하다\", 1, \"동사\"],[829, \"match\", \"짝짓기 하다\", 1, \"동사\"],[830, \"match\", \"맞수, 호적수\", 2, \"명사\"],[831, \"match\", \"성냥, 시합\", 2, \"명사\"],[832, \"match\", \"경기, 시합\", 2, \"명사\"]]],\n",
    "    [703, 8, \"match\", \"명사\", 2, \"경기, 시합\", \"There's a volleyball match every week at the stadium.\", \"매주 경기장에서 배구 경기가 있다.\",[[823, \"match\", \"대응하다, 연결하다\", 1, \"동사\"],[824, \"match\", \"맞먹다, 필적하다\", 1, \"동사\"],[825, \"match\", \"부응하다\", 1, \"동사\"],[826, \"match\", \"연결시키다\", 1, \"동사\"],[827, \"match\", \"어울리다\", 1, \"동사\"],[828, \"match\", \"일치하다\", 1, \"동사\"],[829, \"match\", \"짝짓기 하다\", 1, \"동사\"],[830, \"match\", \"맞수, 호적수\", 2, \"명사\"],[831, \"match\", \"성냥, 시합\", 2, \"명사\"],[832, \"match\", \"경기, 시합\", 2, \"명사\"]]],\n",
    "    [705, 8, \"match\", \"명사\", 2, \"시합\", \"We played a match yesterday.\", \"우리는 어제 시합을 했다.\",[[823, \"match\", \"대응하다, 연결하다\", 1, \"동사\"],[824, \"match\", \"맞먹다, 필적하다\", 1, \"동사\"],[825, \"match\", \"부응하다\", 1, \"동사\"],[826, \"match\", \"연결시키다\", 1, \"동사\"],[827, \"match\", \"어울리다\", 1, \"동사\"],[828, \"match\", \"일치하다\", 1, \"동사\"],[829, \"match\", \"짝짓기 하다\", 1, \"동사\"],[830, \"match\", \"맞수, 호적수\", 2, \"명사\"],[831, \"match\", \"성냥, 시합\", 2, \"명사\"],[832, \"match\", \"경기, 시합\", 2, \"명사\"]]]\n",
    "]\n",
    "\n",
    "columns = [\"textbook ID\", \"레슨\", \"단어\", \"품사\", \"PoS\", \"뜻\", \"예문\", \"예문 해석\",'voca_options']\n",
    "df = pd.DataFrame(data, columns=columns)\n",
    "df.to_csv('example.csv',encoding='utf-8-sig')"
   ]
  },
  {
   "cell_type": "code",
   "execution_count": null,
   "metadata": {},
   "outputs": [
    {
     "data": {
      "text/html": [
       "<div>\n",
       "<style scoped>\n",
       "    .dataframe tbody tr th:only-of-type {\n",
       "        vertical-align: middle;\n",
       "    }\n",
       "\n",
       "    .dataframe tbody tr th {\n",
       "        vertical-align: top;\n",
       "    }\n",
       "\n",
       "    .dataframe thead th {\n",
       "        text-align: right;\n",
       "    }\n",
       "</style>\n",
       "<table border=\"1\" class=\"dataframe\">\n",
       "  <thead>\n",
       "    <tr style=\"text-align: right;\">\n",
       "      <th></th>\n",
       "      <th>textbook ID</th>\n",
       "      <th>레슨</th>\n",
       "      <th>단어</th>\n",
       "      <th>품사</th>\n",
       "      <th>PoS</th>\n",
       "      <th>뜻</th>\n",
       "      <th>예문</th>\n",
       "      <th>예문 해석</th>\n",
       "      <th>voca_options</th>\n",
       "    </tr>\n",
       "  </thead>\n",
       "  <tbody>\n",
       "    <tr>\n",
       "      <th>0</th>\n",
       "      <td>808</td>\n",
       "      <td>8</td>\n",
       "      <td>charge</td>\n",
       "      <td>동사</td>\n",
       "      <td>1</td>\n",
       "      <td>(지불, 대금 등을) 청구하다</td>\n",
       "      <td>They charge you $20 to get in the museum.</td>\n",
       "      <td>그들은 박물관에 들어가는 데 너에게 20달러를 청구한다.</td>\n",
       "      <td>[[1843, charge, 청구하다, 1, 동사], [1844, charge, 충...</td>\n",
       "    </tr>\n",
       "    <tr>\n",
       "      <th>1</th>\n",
       "      <td>903</td>\n",
       "      <td>6</td>\n",
       "      <td>charge</td>\n",
       "      <td>동사</td>\n",
       "      <td>1</td>\n",
       "      <td>(요금을) 청구하다</td>\n",
       "      <td>They charge you $5 to get in the museum.</td>\n",
       "      <td>그들은 박물관에 들어가는 데 5달러를 당신에게 부과할 것이다.</td>\n",
       "      <td>[[1843, charge, 청구하다, 1, 동사], [1844, charge, 충...</td>\n",
       "    </tr>\n",
       "    <tr>\n",
       "      <th>2</th>\n",
       "      <td>906</td>\n",
       "      <td>5</td>\n",
       "      <td>charge</td>\n",
       "      <td>명사</td>\n",
       "      <td>2</td>\n",
       "      <td>기소, 혐의</td>\n",
       "      <td>He was arrested on the charge of robbery.</td>\n",
       "      <td>그는 강도 혐의로 체포되었다.</td>\n",
       "      <td>[[1843, charge, 청구하다, 1, 동사], [1844, charge, 충...</td>\n",
       "    </tr>\n",
       "    <tr>\n",
       "      <th>3</th>\n",
       "      <td>715</td>\n",
       "      <td>7</td>\n",
       "      <td>be in charge of</td>\n",
       "      <td>숙어/관용어</td>\n",
       "      <td>9</td>\n",
       "      <td>~을 담당하다</td>\n",
       "      <td>The coach is in charge of the team practice.</td>\n",
       "      <td>코치는 팀 연습을 담당하고 있다.</td>\n",
       "      <td>[[1843, charge, 청구하다, 1, 동사], [1844, charge, 충...</td>\n",
       "    </tr>\n",
       "    <tr>\n",
       "      <th>4</th>\n",
       "      <td>807</td>\n",
       "      <td>5</td>\n",
       "      <td>charge</td>\n",
       "      <td>명사</td>\n",
       "      <td>2</td>\n",
       "      <td>담당, 책임</td>\n",
       "      <td>He took charge of the farm after his father's ...</td>\n",
       "      <td>그는 아버지가 죽고 나서 농장을 책임지게 되었다.</td>\n",
       "      <td>[[1843, charge, 청구하다, 1, 동사], [1844, charge, 충...</td>\n",
       "    </tr>\n",
       "  </tbody>\n",
       "</table>\n",
       "</div>"
      ],
      "text/plain": [
       "   textbook ID  레슨               단어      품사 PoS                 뜻  \\\n",
       "0          808   8           charge      동사   1  (지불, 대금 등을) 청구하다   \n",
       "1          903   6           charge      동사   1        (요금을) 청구하다   \n",
       "2          906   5           charge      명사   2            기소, 혐의   \n",
       "3          715   7  be in charge of  숙어/관용어   9           ~을 담당하다   \n",
       "4          807   5           charge      명사   2            담당, 책임   \n",
       "\n",
       "                                                  예문  \\\n",
       "0          They charge you $20 to get in the museum.   \n",
       "1           They charge you $5 to get in the museum.   \n",
       "2          He was arrested on the charge of robbery.   \n",
       "3       The coach is in charge of the team practice.   \n",
       "4  He took charge of the farm after his father's ...   \n",
       "\n",
       "                                예문 해석  \\\n",
       "0     그들은 박물관에 들어가는 데 너에게 20달러를 청구한다.   \n",
       "1  그들은 박물관에 들어가는 데 5달러를 당신에게 부과할 것이다.   \n",
       "2                    그는 강도 혐의로 체포되었다.   \n",
       "3                  코치는 팀 연습을 담당하고 있다.   \n",
       "4         그는 아버지가 죽고 나서 농장을 책임지게 되었다.   \n",
       "\n",
       "                                        voca_options  \n",
       "0  [[1843, charge, 청구하다, 1, 동사], [1844, charge, 충...  \n",
       "1  [[1843, charge, 청구하다, 1, 동사], [1844, charge, 충...  \n",
       "2  [[1843, charge, 청구하다, 1, 동사], [1844, charge, 충...  \n",
       "3  [[1843, charge, 청구하다, 1, 동사], [1844, charge, 충...  \n",
       "4  [[1843, charge, 청구하다, 1, 동사], [1844, charge, 충...  "
      ]
     },
     "execution_count": 18,
     "metadata": {},
     "output_type": "execute_result"
    }
   ],
   "source": [
    "df.head()"
   ]
  },
  {
   "cell_type": "markdown",
   "metadata": {},
   "source": [
    "# for문 돌려서 jsonl 파일 만들기"
   ]
  },
  {
   "cell_type": "code",
   "execution_count": null,
   "metadata": {},
   "outputs": [],
   "source": [
    "def VocaTag(data:pd.DataFrame, output_filename : str) -> str:\n",
    "    jsonl_data = []\n",
    "\n",
    "    for i in range(len(data)):\n",
    "        prompt = prompt_template.render(\n",
    "            textbook_id = data.loc[i,\"textbook ID\"],\n",
    "            lesson = data.loc[i,\"레슨\"],\n",
    "            word = data.loc[i,\"단어\"],\n",
    "            part_of_speech_of = data.loc[i,\"품사\"],\n",
    "            meaning = data.loc[i,\"뜻\"],\n",
    "            example_sentence = data.loc[i,\"예문\"],\n",
    "            example_sentence_kor = data.loc[i,\"예문 해석\"],\n",
    "            voca_options = data.loc[i,\"voca_options\"]\n",
    "        )\n",
    "        voca_options = data.loc[i,\"voca_options\"]\n",
    "        voca_id_list = [x[0] for x in voca_options]\n",
    "        response_format = get_enum_response_format(voca_id_list)\n",
    "        structure_request = {\n",
    "            \"custom_id\" : f\"request-{i+1}\",\n",
    "            \"method\" : \"POST\",\n",
    "            \"url\" : \"/v1/chat/completions\",\n",
    "            \"body\" : {\n",
    "                \"model\" : \"o3-mini-2025-01-31\",\n",
    "                \"reasoning_effort\" : \"low\",\n",
    "                \"messages\" : [\n",
    "                    {\"role\" : \"system\", \"content\" : \"Choose the most adequate word\"},\n",
    "                    {\"role\": \"user\", \"content\": prompt}\n",
    "                ],\n",
    "                \"response_format\" : response_format\n",
    "            }\n",
    "        }\n",
    "        jsonl_data.append(structure_request)\n",
    "\n",
    "    with open(output_filename, 'w', encoding='utf-8') as jsonl_file:\n",
    "        for item in jsonl_data:\n",
    "            jsonl_file.write(json.dumps(item, ensure_ascii=False) + '\\n')\n",
    "\n",
    "    print(f'JSONL 파일 생성 완료 : {output_filename}-{i+1}')"
   ]
  },
  {
   "cell_type": "code",
   "execution_count": null,
   "metadata": {},
   "outputs": [
    {
     "name": "stdout",
     "output_type": "stream",
     "text": [
      "JSONL 파일 생성 완료 : sample_voca.jsonl-13\n"
     ]
    }
   ],
   "source": [
    "VocaTag(df, output_filename='sample_voca.jsonl')"
   ]
  },
  {
   "cell_type": "code",
   "execution_count": null,
   "metadata": {},
   "outputs": [],
   "source": []
  }
 ],
 "metadata": {
  "kernelspec": {
   "display_name": "base",
   "language": "python",
   "name": "python3"
  },
  "language_info": {
   "codemirror_mode": {
    "name": "ipython",
    "version": 3
   },
   "file_extension": ".py",
   "mimetype": "text/x-python",
   "name": "python",
   "nbconvert_exporter": "python",
   "pygments_lexer": "ipython3",
   "version": "3.12.7"
  }
 },
 "nbformat": 4,
 "nbformat_minor": 2
}
