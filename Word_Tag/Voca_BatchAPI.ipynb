{
 "cells": [
  {
   "cell_type": "markdown",
   "metadata": {},
   "source": [
    "# Uploading Batch Input File"
   ]
  },
  {
   "cell_type": "code",
   "execution_count": 1,
   "metadata": {},
   "outputs": [],
   "source": [
    "from openai.lib._parsing import type_to_response_format_param\n",
    "from pydantic import BaseModel\n",
    "from getpass import getpass\n",
    "from openai import OpenAI\n",
    "import json\n",
    "import pandas as pd"
   ]
  },
  {
   "cell_type": "code",
   "execution_count": 45,
   "metadata": {},
   "outputs": [],
   "source": [
    "openai_api_key = getpass(\"OPENAI_API_KEY\")\n",
    "client = OpenAI(api_key=openai_api_key)"
   ]
  },
  {
   "cell_type": "code",
   "execution_count": 46,
   "metadata": {},
   "outputs": [
    {
     "name": "stdout",
     "output_type": "stream",
     "text": [
      "FileObject(id='file-UwQG9EmV39VNZKT53f8vHk', bytes=40791, created_at=1739434851, filename='sample_voca.jsonl', object='file', purpose='batch', status='processed', status_details=None)\n"
     ]
    }
   ],
   "source": [
    "batch_input_file = client.files.create(\n",
    "    file=open('sample_voca.jsonl','rb'),\n",
    "    purpose='batch'\n",
    ")\n",
    "\n",
    "print(batch_input_file)"
   ]
  },
  {
   "cell_type": "markdown",
   "metadata": {},
   "source": [
    "# Create the Batch"
   ]
  },
  {
   "cell_type": "code",
   "execution_count": 47,
   "metadata": {},
   "outputs": [
    {
     "data": {
      "text/plain": [
       "'file-UwQG9EmV39VNZKT53f8vHk'"
      ]
     },
     "execution_count": 47,
     "metadata": {},
     "output_type": "execute_result"
    }
   ],
   "source": [
    "batch_input_file_id = batch_input_file.id\n",
    "batch_input_file_id"
   ]
  },
  {
   "cell_type": "code",
   "execution_count": 48,
   "metadata": {},
   "outputs": [],
   "source": [
    "batch_info = client.batches.create(\n",
    "    input_file_id = batch_input_file_id,\n",
    "    endpoint = \"/v1/chat/completions\", # 챗봇 api,\n",
    "    completion_window = \"24h\", # 현재는 이 기능만 가능\n",
    "    metadata = {\n",
    "        \"voca tag\" : \"mid voca tag\"\n",
    "    }\n",
    ")"
   ]
  },
  {
   "cell_type": "code",
   "execution_count": 49,
   "metadata": {},
   "outputs": [
    {
     "name": "stdout",
     "output_type": "stream",
     "text": [
      "{\n",
      "  \"id\": \"batch_67adab678bb08190b6ba59dc2b95a0d7\",\n",
      "  \"completion_window\": \"24h\",\n",
      "  \"created_at\": 1739434855,\n",
      "  \"endpoint\": \"/v1/chat/completions\",\n",
      "  \"input_file_id\": \"file-UwQG9EmV39VNZKT53f8vHk\",\n",
      "  \"object\": \"batch\",\n",
      "  \"status\": \"validating\",\n",
      "  \"cancelled_at\": null,\n",
      "  \"cancelling_at\": null,\n",
      "  \"completed_at\": null,\n",
      "  \"error_file_id\": null,\n",
      "  \"errors\": null,\n",
      "  \"expired_at\": null,\n",
      "  \"expires_at\": 1739521255,\n",
      "  \"failed_at\": null,\n",
      "  \"finalizing_at\": null,\n",
      "  \"in_progress_at\": null,\n",
      "  \"metadata\": {\n",
      "    \"voca tag\": \"mid voca tag\"\n",
      "  },\n",
      "  \"output_file_id\": null,\n",
      "  \"request_counts\": {\n",
      "    \"completed\": 0,\n",
      "    \"failed\": 0,\n",
      "    \"total\": 0\n",
      "  }\n",
      "}\n"
     ]
    }
   ],
   "source": [
    "response_json = json.loads(batch_info.json())\n",
    "response_output = json.dumps(response_json, ensure_ascii=False, indent=2)\n",
    "print(response_output)"
   ]
  },
  {
   "cell_type": "markdown",
   "metadata": {},
   "source": [
    "# Checking the Status of Batch"
   ]
  },
  {
   "cell_type": "markdown",
   "metadata": {},
   "source": [
    "- batch_id : sample : 'batch_67ad9b5f1cf48190b786b780cc7d2bd5'\n",
    "- batch_id : sample_basemodel : 'batch_67ad9f549890819090f5c4555d02093b'"
   ]
  },
  {
   "cell_type": "code",
   "execution_count": 51,
   "metadata": {},
   "outputs": [
    {
     "data": {
      "text/plain": [
       "{'id': 'batch_67adab678bb08190b6ba59dc2b95a0d7',\n",
       " 'completion_window': '24h',\n",
       " 'created_at': 1739434855,\n",
       " 'endpoint': '/v1/chat/completions',\n",
       " 'input_file_id': 'file-UwQG9EmV39VNZKT53f8vHk',\n",
       " 'object': 'batch',\n",
       " 'status': 'completed',\n",
       " 'cancelled_at': None,\n",
       " 'cancelling_at': None,\n",
       " 'completed_at': 1739434926,\n",
       " 'error_file_id': None,\n",
       " 'errors': None,\n",
       " 'expired_at': None,\n",
       " 'expires_at': 1739521255,\n",
       " 'failed_at': None,\n",
       " 'finalizing_at': 1739434924,\n",
       " 'in_progress_at': 1739434856,\n",
       " 'metadata': {'voca tag': 'mid voca tag'},\n",
       " 'output_file_id': 'file-QD2jc2MCG3JDCuZf24R1ub',\n",
       " 'request_counts': {'completed': 13, 'failed': 0, 'total': 13}}"
      ]
     },
     "execution_count": 51,
     "metadata": {},
     "output_type": "execute_result"
    }
   ],
   "source": [
    "batch_id = 'batch_67adab678bb08190b6ba59dc2b95a0d7'\n",
    "batch = client.batches.retrieve(batch_id)\n",
    "batch_json = json.loads(batch.json())\n",
    "batch_json"
   ]
  },
  {
   "cell_type": "markdown",
   "metadata": {},
   "source": [
    "# Retrieving the Results\n",
    "- batch_id : sample : 'file-HvfB4XnYoZ9eP5Bbuzhgww'"
   ]
  },
  {
   "cell_type": "code",
   "execution_count": 52,
   "metadata": {},
   "outputs": [
    {
     "name": "stdout",
     "output_type": "stream",
     "text": [
      "{\"id\": \"batch_req_67adabacfe30819097a35b52aaa58261\", \"custom_id\": \"request-1\", \"response\": {\"status_code\": 200, \"request_id\": \"41c5af17e4818b859e727bf39c92ba82\", \"body\": {\"id\": \"chatcmpl-B0Ol7zN1iFYyEixB92NDqTbU2Lfpp\", \"object\": \"chat.completion\", \"created\": 1739434873, \"model\": \"o3-mini-2025-01-31\", \"choices\": [{\"index\": 0, \"message\": {\"role\": \"assistant\", \"content\": \"{\\\"voca_id\\\": 1843}\", \"refusal\": null}, \"finish_reason\": \"stop\"}], \"usage\": {\"prompt_tokens\": 851, \"completion_tokens\": 83, \"total_tokens\": 934, \"prompt_tokens_details\": {\"cached_tokens\": 0, \"audio_tokens\": 0}, \"completion_tokens_details\": {\"reasoning_tokens\": 64, \"audio_tokens\": 0, \"accepted_prediction_tokens\": 0, \"rejected_prediction_tokens\": 0}}, \"service_tier\": \"default\", \"system_fingerprint\": \"fp_8bcaa0ca21\"}}, \"error\": null}\n",
      "{\"id\": \"batch_req_67adabad0e2481909b7e582c7b91ba3f\", \"custom_id\": \"request-2\", \"response\": {\"status_code\": 200, \"request_id\": \"cae0b32c872f33457fe62175d1d95a3c\", \"body\": {\"id\": \"chatcmpl-B0OlAQv8LAnmov0hfpdM06ylpWFpk\", \"object\": \"chat.completion\", \"created\": 1739434876, \"model\": \"o3-mini-2025-01-31\", \"choices\": [{\"index\": 0, \"message\": {\"role\": \"assistant\", \"content\": \"{\\\"voca_id\\\": 1843}\", \"refusal\": null}, \"finish_reason\": \"stop\"}], \"usage\": {\"prompt_tokens\": 848, \"completion_tokens\": 339, \"total_tokens\": 1187, \"prompt_tokens_details\": {\"cached_tokens\": 0, \"audio_tokens\": 0}, \"completion_tokens_details\": {\"reasoning_tokens\": 320, \"audio_tokens\": 0, \"accepted_prediction_tokens\": 0, \"rejected_prediction_tokens\": 0}}, \"service_tier\": \"default\", \"system_fingerprint\": \"fp_8bcaa0ca21\"}}, \"error\": null}\n",
      "{\"id\": \"batch_req_67adabad1e848190a7715d4da069b69c\", \"custom_id\": \"request-3\", \"response\": {\"status_code\": 200, \"request_id\": \"0e0548d44aefe675fd95bbfb61ddc097\", \"body\": {\"id\": \"chatcmpl-B0OlEDa2ugmFt43b20RvCmHtem4tH\", \"object\": \"chat.completion\", \"created\": 1739434880, \"model\": \"o3-mini-2025-01-31\", \"choices\": [{\"index\": 0, \"message\": {\"role\": \"assistant\", \"content\": \"{\\\"voca_id\\\": 1849}\", \"refusal\": null}, \"finish_reason\": \"stop\"}], \"usage\": {\"prompt_tokens\": 836, \"completion_tokens\": 83, \"total_tokens\": 919, \"prompt_tokens_details\": {\"cached_tokens\": 0, \"audio_tokens\": 0}, \"completion_tokens_details\": {\"reasoning_tokens\": 64, \"audio_tokens\": 0, \"accepted_prediction_tokens\": 0, \"rejected_prediction_tokens\": 0}}, \"service_tier\": \"default\", \"system_fingerprint\": \"fp_8bcaa0ca21\"}}, \"error\": null}\n",
      "{\"id\": \"batch_req_67adabad330c8190ba2a27be35390dc2\", \"custom_id\": \"request-4\", \"response\": {\"status_code\": 200, \"request_id\": \"6e26a729c2b287b631d46cca15c7c833\", \"body\": {\"id\": \"chatcmpl-B0OlHgOmciJUajo9lej27DmEUjhGG\", \"object\": \"chat.completion\", \"created\": 1739434883, \"model\": \"o3-mini-2025-01-31\", \"choices\": [{\"index\": 0, \"message\": {\"role\": \"assistant\", \"content\": \"{\\\"voca_id\\\": null}\", \"refusal\": null}, \"finish_reason\": \"stop\"}], \"usage\": {\"prompt_tokens\": 836, \"completion_tokens\": 209, \"total_tokens\": 1045, \"prompt_tokens_details\": {\"cached_tokens\": 0, \"audio_tokens\": 0}, \"completion_tokens_details\": {\"reasoning_tokens\": 192, \"audio_tokens\": 0, \"accepted_prediction_tokens\": 0, \"rejected_prediction_tokens\": 0}}, \"service_tier\": \"default\", \"system_fingerprint\": \"fp_8bcaa0ca21\"}}, \"error\": null}\n",
      "{\"id\": \"batch_req_67adabad4f588190b6d94d00fd5c2657\", \"custom_id\": \"request-5\", \"response\": {\"status_code\": 200, \"request_id\": \"9b3b754b3d7c6042ccb7a237d5df8909\", \"body\": {\"id\": \"chatcmpl-B0OlL2AgVdtqzWoR51WOOn7H1Q3A2\", \"object\": \"chat.completion\", \"created\": 1739434887, \"model\": \"o3-mini-2025-01-31\", \"choices\": [{\"index\": 0, \"message\": {\"role\": \"assistant\", \"content\": \"{\\\"voca_id\\\": 1845}\", \"refusal\": null}, \"finish_reason\": \"stop\"}], \"usage\": {\"prompt_tokens\": 839, \"completion_tokens\": 275, \"total_tokens\": 1114, \"prompt_tokens_details\": {\"cached_tokens\": 0, \"audio_tokens\": 0}, \"completion_tokens_details\": {\"reasoning_tokens\": 256, \"audio_tokens\": 0, \"accepted_prediction_tokens\": 0, \"rejected_prediction_tokens\": 0}}, \"service_tier\": \"default\", \"system_fingerprint\": \"fp_8bcaa0ca21\"}}, \"error\": null}\n",
      "{\"id\": \"batch_req_67adabad61dc8190ba8c1bbabbac9f95\", \"custom_id\": \"request-6\", \"response\": {\"status_code\": 200, \"request_id\": \"6be5a4454fee03e7116a0d55c0fee8c1\", \"body\": {\"id\": \"chatcmpl-B0OlYVERhL1UbNuVoZHC8yb3XMp99\", \"object\": \"chat.completion\", \"created\": 1739434900, \"model\": \"o3-mini-2025-01-31\", \"choices\": [{\"index\": 0, \"message\": {\"role\": \"assistant\", \"content\": \"{\\n  \\\"voca_id\\\": 832\\n}\", \"refusal\": null}, \"finish_reason\": \"stop\"}], \"usage\": {\"prompt_tokens\": 867, \"completion_tokens\": 149, \"total_tokens\": 1016, \"prompt_tokens_details\": {\"cached_tokens\": 0, \"audio_tokens\": 0}, \"completion_tokens_details\": {\"reasoning_tokens\": 128, \"audio_tokens\": 0, \"accepted_prediction_tokens\": 0, \"rejected_prediction_tokens\": 0}}, \"service_tier\": \"default\", \"system_fingerprint\": \"fp_8bcaa0ca21\"}}, \"error\": null}\n",
      "{\"id\": \"batch_req_67adabad721c8190b2804b9d337bdb72\", \"custom_id\": \"request-7\", \"response\": {\"status_code\": 200, \"request_id\": \"10e86b7d868722e56a79c064d35e6b68\", \"body\": {\"id\": \"chatcmpl-B0OlcIj9eTxpsHDXvK93Glo61Us30\", \"object\": \"chat.completion\", \"created\": 1739434904, \"model\": \"o3-mini-2025-01-31\", \"choices\": [{\"index\": 0, \"message\": {\"role\": \"assistant\", \"content\": \"{\\\"voca_id\\\": 827}\", \"refusal\": null}, \"finish_reason\": \"stop\"}], \"usage\": {\"prompt_tokens\": 867, \"completion_tokens\": 82, \"total_tokens\": 949, \"prompt_tokens_details\": {\"cached_tokens\": 0, \"audio_tokens\": 0}, \"completion_tokens_details\": {\"reasoning_tokens\": 64, \"audio_tokens\": 0, \"accepted_prediction_tokens\": 0, \"rejected_prediction_tokens\": 0}}, \"service_tier\": \"default\", \"system_fingerprint\": \"fp_8bcaa0ca21\"}}, \"error\": null}\n",
      "{\"id\": \"batch_req_67adabad824081909c2ddb2db4750acc\", \"custom_id\": \"request-8\", \"response\": {\"status_code\": 200, \"request_id\": \"1d3591539735b500e2d3122c28099a3c\", \"body\": {\"id\": \"chatcmpl-B0Ole0fyw5db2JEH8uUQFSTMOaAwF\", \"object\": \"chat.completion\", \"created\": 1739434906, \"model\": \"o3-mini-2025-01-31\", \"choices\": [{\"index\": 0, \"message\": {\"role\": \"assistant\", \"content\": \"{\\\"voca_id\\\": 828}\", \"refusal\": null}, \"finish_reason\": \"stop\"}], \"usage\": {\"prompt_tokens\": 861, \"completion_tokens\": 210, \"total_tokens\": 1071, \"prompt_tokens_details\": {\"cached_tokens\": 0, \"audio_tokens\": 0}, \"completion_tokens_details\": {\"reasoning_tokens\": 192, \"audio_tokens\": 0, \"accepted_prediction_tokens\": 0, \"rejected_prediction_tokens\": 0}}, \"service_tier\": \"default\", \"system_fingerprint\": \"fp_8bcaa0ca21\"}}, \"error\": null}\n",
      "{\"id\": \"batch_req_67adabad94348190adb1534abdc3c657\", \"custom_id\": \"request-9\", \"response\": {\"status_code\": 200, \"request_id\": \"901ad7a22b8ac95c96d7f043e57b22f7\", \"body\": {\"id\": \"chatcmpl-B0Olgkfanb0uaX5Y2d87cblyztRQQ\", \"object\": \"chat.completion\", \"created\": 1739434908, \"model\": \"o3-mini-2025-01-31\", \"choices\": [{\"index\": 0, \"message\": {\"role\": \"assistant\", \"content\": \"{\\\"voca_id\\\": 827}\", \"refusal\": null}, \"finish_reason\": \"stop\"}], \"usage\": {\"prompt_tokens\": 879, \"completion_tokens\": 82, \"total_tokens\": 961, \"prompt_tokens_details\": {\"cached_tokens\": 0, \"audio_tokens\": 0}, \"completion_tokens_details\": {\"reasoning_tokens\": 64, \"audio_tokens\": 0, \"accepted_prediction_tokens\": 0, \"rejected_prediction_tokens\": 0}}, \"service_tier\": \"default\", \"system_fingerprint\": \"fp_8bcaa0ca21\"}}, \"error\": null}\n",
      "{\"id\": \"batch_req_67adabada6b48190b88efb5fa766093a\", \"custom_id\": \"request-10\", \"response\": {\"status_code\": 200, \"request_id\": \"29d90de29d014824cfadff4f9a26faea\", \"body\": {\"id\": \"chatcmpl-B0OliTHWcSbt89YTIYhcNbO5x0ved\", \"object\": \"chat.completion\", \"created\": 1739434910, \"model\": \"o3-mini-2025-01-31\", \"choices\": [{\"index\": 0, \"message\": {\"role\": \"assistant\", \"content\": \"{\\\"voca_id\\\": 827}\", \"refusal\": null}, \"finish_reason\": \"stop\"}], \"usage\": {\"prompt_tokens\": 879, \"completion_tokens\": 210, \"total_tokens\": 1089, \"prompt_tokens_details\": {\"cached_tokens\": 0, \"audio_tokens\": 0}, \"completion_tokens_details\": {\"reasoning_tokens\": 192, \"audio_tokens\": 0, \"accepted_prediction_tokens\": 0, \"rejected_prediction_tokens\": 0}}, \"service_tier\": \"default\", \"system_fingerprint\": \"fp_8bcaa0ca21\"}}, \"error\": null}\n",
      "{\"id\": \"batch_req_67adabadb7d8819084da1db848726ab5\", \"custom_id\": \"request-11\", \"response\": {\"status_code\": 200, \"request_id\": \"f4ab37329c6153ff45dc93a2953de27c\", \"body\": {\"id\": \"chatcmpl-B0OlmnEL36Gd4022ve9LYr9rG2WQQ\", \"object\": \"chat.completion\", \"created\": 1739434914, \"model\": \"o3-mini-2025-01-31\", \"choices\": [{\"index\": 0, \"message\": {\"role\": \"assistant\", \"content\": \"{\\\"voca_id\\\": 826}\", \"refusal\": null}, \"finish_reason\": \"stop\"}], \"usage\": {\"prompt_tokens\": 861, \"completion_tokens\": 338, \"total_tokens\": 1199, \"prompt_tokens_details\": {\"cached_tokens\": 0, \"audio_tokens\": 0}, \"completion_tokens_details\": {\"reasoning_tokens\": 320, \"audio_tokens\": 0, \"accepted_prediction_tokens\": 0, \"rejected_prediction_tokens\": 0}}, \"service_tier\": \"default\", \"system_fingerprint\": \"fp_8bcaa0ca21\"}}, \"error\": null}\n",
      "{\"id\": \"batch_req_67adabadc7888190b021753145556ac0\", \"custom_id\": \"request-12\", \"response\": {\"status_code\": 200, \"request_id\": \"e3c8df09fdbf735b32df30c87e48c4dd\", \"body\": {\"id\": \"chatcmpl-B0OlpIN9kH1bljJqHny7xMmpKRD2I\", \"object\": \"chat.completion\", \"created\": 1739434917, \"model\": \"o3-mini-2025-01-31\", \"choices\": [{\"index\": 0, \"message\": {\"role\": \"assistant\", \"content\": \"{\\\"voca_id\\\": 832}\", \"refusal\": null}, \"finish_reason\": \"stop\"}], \"usage\": {\"prompt_tokens\": 862, \"completion_tokens\": 146, \"total_tokens\": 1008, \"prompt_tokens_details\": {\"cached_tokens\": 0, \"audio_tokens\": 0}, \"completion_tokens_details\": {\"reasoning_tokens\": 128, \"audio_tokens\": 0, \"accepted_prediction_tokens\": 0, \"rejected_prediction_tokens\": 0}}, \"service_tier\": \"default\", \"system_fingerprint\": \"fp_8bcaa0ca21\"}}, \"error\": null}\n",
      "{\"id\": \"batch_req_67adabadd7bc8190933265f433be402a\", \"custom_id\": \"request-13\", \"response\": {\"status_code\": 200, \"request_id\": \"0806458fa8f7fd6f7dd607ce7a75b874\", \"body\": {\"id\": \"chatcmpl-B0Oltiiwer1jHa3jHYmBt66MdMGPt\", \"object\": \"chat.completion\", \"created\": 1739434921, \"model\": \"o3-mini-2025-01-31\", \"choices\": [{\"index\": 0, \"message\": {\"role\": \"assistant\", \"content\": \"{\\\"voca_id\\\": 832}\", \"refusal\": null}, \"finish_reason\": \"stop\"}], \"usage\": {\"prompt_tokens\": 854, \"completion_tokens\": 210, \"total_tokens\": 1064, \"prompt_tokens_details\": {\"cached_tokens\": 0, \"audio_tokens\": 0}, \"completion_tokens_details\": {\"reasoning_tokens\": 192, \"audio_tokens\": 0, \"accepted_prediction_tokens\": 0, \"rejected_prediction_tokens\": 0}}, \"service_tier\": \"default\", \"system_fingerprint\": \"fp_8bcaa0ca21\"}}, \"error\": null}\n",
      "\n"
     ]
    }
   ],
   "source": [
    "file_response = client.files.content('file-QD2jc2MCG3JDCuZf24R1ub') # output_file_id 이용\n",
    "print(file_response.text)"
   ]
  },
  {
   "cell_type": "markdown",
   "metadata": {},
   "source": [
    "# batch 결과"
   ]
  },
  {
   "cell_type": "code",
   "execution_count": 53,
   "metadata": {},
   "outputs": [],
   "source": [
    "sample_list = file_response.text.split(\"\\n\")\n",
    "sample_list = [item for item in sample_list if item.strip()]"
   ]
  },
  {
   "cell_type": "code",
   "execution_count": 54,
   "metadata": {},
   "outputs": [
    {
     "name": "stdout",
     "output_type": "stream",
     "text": [
      "{\"voca_id\": 1843}\n",
      "{\"voca_id\": 1843}\n",
      "{\"voca_id\": 1849}\n",
      "{\"voca_id\": null}\n",
      "{\"voca_id\": 1845}\n",
      "{\n",
      "  \"voca_id\": 832\n",
      "}\n",
      "{\"voca_id\": 827}\n",
      "{\"voca_id\": 828}\n",
      "{\"voca_id\": 827}\n",
      "{\"voca_id\": 827}\n",
      "{\"voca_id\": 826}\n",
      "{\"voca_id\": 832}\n",
      "{\"voca_id\": 832}\n"
     ]
    }
   ],
   "source": [
    "for s in sample_list:\n",
    "    s_json = json.loads(s)\n",
    "    contents = s_json['response']['body']\n",
    "    print(contents[\"choices\"][0][\"message\"][\"content\"])"
   ]
  },
  {
   "cell_type": "code",
   "execution_count": null,
   "metadata": {},
   "outputs": [],
   "source": []
  }
 ],
 "metadata": {
  "kernelspec": {
   "display_name": "base",
   "language": "python",
   "name": "python3"
  },
  "language_info": {
   "codemirror_mode": {
    "name": "ipython",
    "version": 3
   },
   "file_extension": ".py",
   "mimetype": "text/x-python",
   "name": "python",
   "nbconvert_exporter": "python",
   "pygments_lexer": "ipython3",
   "version": "3.12.7"
  }
 },
 "nbformat": 4,
 "nbformat_minor": 2
}
