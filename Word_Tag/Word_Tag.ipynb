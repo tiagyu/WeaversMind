{
 "cells": [
  {
   "cell_type": "code",
   "execution_count": 33,
   "metadata": {},
   "outputs": [],
   "source": [
    "from openai import OpenAI\n",
    "import pandas as pd\n",
    "from getpass import getpass\n",
    "from fuzzywuzzy import fuzz"
   ]
  },
  {
   "cell_type": "code",
   "execution_count": 6,
   "metadata": {},
   "outputs": [],
   "source": [
    "openai_api_key = getpass(\"OEPNAI_API_KEY\")\n",
    "\n",
    "client = OpenAI(api_key=openai_api_key)"
   ]
  },
  {
   "cell_type": "code",
   "execution_count": 34,
   "metadata": {},
   "outputs": [],
   "source": [
    "voca_index = pd.read_csv('Voca_Index.csv', skiprows=1)\n",
    "voca_index.copy()\n",
    "word_list = pd.read_csv('WordList_Mid.csv')\n",
    "sample_word_list = word_list.loc[word_list['textbook ID'].isin([701])]"
   ]
  },
  {
   "cell_type": "code",
   "execution_count": 38,
   "metadata": {},
   "outputs": [
    {
     "data": {
      "text/html": [
       "<div>\n",
       "<style scoped>\n",
       "    .dataframe tbody tr th:only-of-type {\n",
       "        vertical-align: middle;\n",
       "    }\n",
       "\n",
       "    .dataframe tbody tr th {\n",
       "        vertical-align: top;\n",
       "    }\n",
       "\n",
       "    .dataframe thead th {\n",
       "        text-align: right;\n",
       "    }\n",
       "</style>\n",
       "<table border=\"1\" class=\"dataframe\">\n",
       "  <thead>\n",
       "    <tr style=\"text-align: right;\">\n",
       "      <th></th>\n",
       "      <th>textbook ID</th>\n",
       "      <th>레슨</th>\n",
       "      <th>단어</th>\n",
       "      <th>품사</th>\n",
       "      <th>PoS</th>\n",
       "      <th>뜻</th>\n",
       "      <th>예문</th>\n",
       "      <th>예문 해석</th>\n",
       "    </tr>\n",
       "  </thead>\n",
       "  <tbody>\n",
       "    <tr>\n",
       "      <th>0</th>\n",
       "      <td>701</td>\n",
       "      <td>7</td>\n",
       "      <td>actually</td>\n",
       "      <td>부사</td>\n",
       "      <td>4</td>\n",
       "      <td>실제로, 정말로</td>\n",
       "      <td>Actually, exercise can be good for your sleep.</td>\n",
       "      <td>운동은 실제로 숙면에 좋을 수 있다.</td>\n",
       "    </tr>\n",
       "    <tr>\n",
       "      <th>1</th>\n",
       "      <td>701</td>\n",
       "      <td>1</td>\n",
       "      <td>add</td>\n",
       "      <td>동사</td>\n",
       "      <td>1</td>\n",
       "      <td>더하다, 추가하다</td>\n",
       "      <td>Can you add her name to the list?</td>\n",
       "      <td>그녀의 이름을 명단에 추가해 주시겠습니까?</td>\n",
       "    </tr>\n",
       "    <tr>\n",
       "      <th>2</th>\n",
       "      <td>701</td>\n",
       "      <td>3</td>\n",
       "      <td>advice</td>\n",
       "      <td>명사</td>\n",
       "      <td>2</td>\n",
       "      <td>조언, 충고</td>\n",
       "      <td>I need your advice.</td>\n",
       "      <td>당신의 조언이 필요합니다.</td>\n",
       "    </tr>\n",
       "    <tr>\n",
       "      <th>3</th>\n",
       "      <td>701</td>\n",
       "      <td>7</td>\n",
       "      <td>amazing</td>\n",
       "      <td>형용사</td>\n",
       "      <td>3</td>\n",
       "      <td>놀라운, 굉장한</td>\n",
       "      <td>His story was amazing.</td>\n",
       "      <td>그의 이야기는 놀라웠다.</td>\n",
       "    </tr>\n",
       "    <tr>\n",
       "      <th>4</th>\n",
       "      <td>701</td>\n",
       "      <td>3</td>\n",
       "      <td>arrive</td>\n",
       "      <td>동사</td>\n",
       "      <td>1</td>\n",
       "      <td>도착하다</td>\n",
       "      <td>We arrived at the airport on time.</td>\n",
       "      <td>우리는 제 시간에 공항에 도착했다.</td>\n",
       "    </tr>\n",
       "  </tbody>\n",
       "</table>\n",
       "</div>"
      ],
      "text/plain": [
       "   textbook ID 레슨        단어   품사 PoS          뜻  \\\n",
       "0          701  7  actually   부사   4   실제로, 정말로   \n",
       "1          701  1       add   동사   1  더하다, 추가하다   \n",
       "2          701  3    advice   명사   2     조언, 충고   \n",
       "3          701  7   amazing  형용사   3   놀라운, 굉장한   \n",
       "4          701  3    arrive   동사   1       도착하다   \n",
       "\n",
       "                                               예문                    예문 해석  \n",
       "0  Actually, exercise can be good for your sleep.     운동은 실제로 숙면에 좋을 수 있다.  \n",
       "1               Can you add her name to the list?  그녀의 이름을 명단에 추가해 주시겠습니까?  \n",
       "2                             I need your advice.           당신의 조언이 필요합니다.  \n",
       "3                          His story was amazing.            그의 이야기는 놀라웠다.  \n",
       "4              We arrived at the airport on time.      우리는 제 시간에 공항에 도착했다.  "
      ]
     },
     "execution_count": 38,
     "metadata": {},
     "output_type": "execute_result"
    }
   ],
   "source": [
    "sample_word_list.head()"
   ]
  },
  {
   "cell_type": "code",
   "execution_count": 39,
   "metadata": {},
   "outputs": [
    {
     "data": {
      "text/plain": [
       "품사\n",
       "명사            66\n",
       "동사            46\n",
       "형용사           30\n",
       "부사            10\n",
       "숙어/관용어         3\n",
       "동사, 명사         2\n",
       "대명사            1\n",
       "전치사            1\n",
       "명사,형용사         1\n",
       "명사, 형용사        1\n",
       "동사, 숙어/관용어     1\n",
       "형용사, 명사        1\n",
       "동사,숙어/관용어      1\n",
       "명사, 동사         1\n",
       "Name: count, dtype: int64"
      ]
     },
     "execution_count": 39,
     "metadata": {},
     "output_type": "execute_result"
    }
   ],
   "source": [
    "sample_word_list['품사'].value_counts()"
   ]
  },
  {
   "cell_type": "code",
   "execution_count": 36,
   "metadata": {},
   "outputs": [
    {
     "data": {
      "text/html": [
       "<div>\n",
       "<style scoped>\n",
       "    .dataframe tbody tr th:only-of-type {\n",
       "        vertical-align: middle;\n",
       "    }\n",
       "\n",
       "    .dataframe tbody tr th {\n",
       "        vertical-align: top;\n",
       "    }\n",
       "\n",
       "    .dataframe thead th {\n",
       "        text-align: right;\n",
       "    }\n",
       "</style>\n",
       "<table border=\"1\" class=\"dataframe\">\n",
       "  <thead>\n",
       "    <tr style=\"text-align: right;\">\n",
       "      <th></th>\n",
       "      <th>voca NO</th>\n",
       "      <th>WordText</th>\n",
       "      <th>WordMeaning</th>\n",
       "      <th>PoS</th>\n",
       "      <th>품사</th>\n",
       "    </tr>\n",
       "  </thead>\n",
       "  <tbody>\n",
       "    <tr>\n",
       "      <th>0</th>\n",
       "      <td>1</td>\n",
       "      <td>accent</td>\n",
       "      <td>강세</td>\n",
       "      <td>2</td>\n",
       "      <td>명사</td>\n",
       "    </tr>\n",
       "    <tr>\n",
       "      <th>1</th>\n",
       "      <td>2</td>\n",
       "      <td>accent</td>\n",
       "      <td>억양</td>\n",
       "      <td>2</td>\n",
       "      <td>명사</td>\n",
       "    </tr>\n",
       "    <tr>\n",
       "      <th>2</th>\n",
       "      <td>3</td>\n",
       "      <td>advertise</td>\n",
       "      <td>광고하다</td>\n",
       "      <td>1</td>\n",
       "      <td>동사</td>\n",
       "    </tr>\n",
       "    <tr>\n",
       "      <th>3</th>\n",
       "      <td>4</td>\n",
       "      <td>advertize</td>\n",
       "      <td>광고하다</td>\n",
       "      <td>1</td>\n",
       "      <td>동사</td>\n",
       "    </tr>\n",
       "    <tr>\n",
       "      <th>4</th>\n",
       "      <td>5</td>\n",
       "      <td>airline</td>\n",
       "      <td>항공사</td>\n",
       "      <td>2</td>\n",
       "      <td>명사</td>\n",
       "    </tr>\n",
       "  </tbody>\n",
       "</table>\n",
       "</div>"
      ],
      "text/plain": [
       "   voca NO   WordText WordMeaning  PoS  품사\n",
       "0        1     accent          강세    2  명사\n",
       "1        2     accent          억양    2  명사\n",
       "2        3  advertise        광고하다    1  동사\n",
       "3        4  advertize        광고하다    1  동사\n",
       "4        5    airline         항공사    2  명사"
      ]
     },
     "execution_count": 36,
     "metadata": {},
     "output_type": "execute_result"
    }
   ],
   "source": [
    "voca_index.columns\n",
    "drop_cols = ['image ID','WordID(SoundID)', 'WordSymbol']\n",
    "voca_index.drop(columns=drop_cols, inplace=True)\n",
    "voca_index.head()"
   ]
  },
  {
   "cell_type": "code",
   "execution_count": 40,
   "metadata": {},
   "outputs": [
    {
     "data": {
      "text/plain": [
       "품사\n",
       "명사     1318\n",
       "동사     1060\n",
       "형용사     372\n",
       "부사       53\n",
       "전치사      20\n",
       "대명사      10\n",
       "접속사       9\n",
       "Name: count, dtype: int64"
      ]
     },
     "execution_count": 40,
     "metadata": {},
     "output_type": "execute_result"
    }
   ],
   "source": [
    "voca_index['품사'].value_counts()"
   ]
  },
  {
   "cell_type": "code",
   "execution_count": null,
   "metadata": {},
   "outputs": [],
   "source": []
  }
 ],
 "metadata": {
  "kernelspec": {
   "display_name": "base",
   "language": "python",
   "name": "python3"
  },
  "language_info": {
   "codemirror_mode": {
    "name": "ipython",
    "version": 3
   },
   "file_extension": ".py",
   "mimetype": "text/x-python",
   "name": "python",
   "nbconvert_exporter": "python",
   "pygments_lexer": "ipython3",
   "version": "3.12.7"
  }
 },
 "nbformat": 4,
 "nbformat_minor": 2
}
