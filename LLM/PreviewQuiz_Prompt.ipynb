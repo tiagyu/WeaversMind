{
 "cells": [
  {
   "cell_type": "markdown",
   "metadata": {},
   "source": [
    "# Preview Quiz prompt"
   ]
  },
  {
   "cell_type": "code",
   "execution_count": 1,
   "metadata": {},
   "outputs": [],
   "source": [
    "from pydantic import BaseModel\n",
    "from openai import OpenAI\n",
    "import json\n",
    "\n",
    "client = OpenAI()"
   ]
  },
  {
   "cell_type": "code",
   "execution_count": 2,
   "metadata": {},
   "outputs": [],
   "source": [
    "prompt = \"\"\"\n",
    "[PURPOSE]\n",
    "Preview lesson content through quizzes to give a sneak peek before the actual lesson.\n",
    "The quizzes must ask key expressions/the most meaningful words themselves written in GOAL/DESCRIPTION.\n",
    "\n",
    "[QUIZ GUIDELINES]\n",
    "- Create two preview quizzes per topic. One from KEY_EXPRESSION, the other from SUB_EXPRESSIONS.\n",
    "- Put blanks on the KEY_EXPRESSION and SUB_EXPRESSION itself.\n",
    "- No blanks or tildes on Korean translation\n",
    "- Blanks must directly ask the key expressions/the most meaningful words themselves.\n",
    "- Match CEFR level difficulty\n",
    "- Answer index = the position number of the answer.\n",
    "\n",
    "[FORMAT]\n",
    "Each quiz needs:\n",
    "- A blank (test key patterns itself)\n",
    "- Complete Korean translation (no blanks or tildes)\n",
    "- Three options (one correct, two wrong)\n",
    "- Wrong options must be adequately confusing.\n",
    "- No possibility of multiple \"equally valid\" answers\n",
    "- Shuffle the order of answer choices='answer indexes (1-3)' to avoid predictability.\n",
    "\n",
    "[Example]\n",
    "```\n",
    "Input: \n",
    "    {\n",
    "    \"CEFR_level\": \"A2\",\n",
    "    \"DESCRIPTION\": \"This is my friend, ~와 같은 표현을 사용해 사람을 소개하기.\",\n",
    "    \"KEY_EXPRESSION\": \"A: This is my friend, Jake.\",\n",
    "    \"SUB_EXPRESSION\": [\n",
    "      \"A: Let me introduce my friend, ~.\",\n",
    "      \"A: Meet my friend, ~.\"\n",
    "    ]\n",
    "  }\n",
    "\n",
    "Output:\n",
    "    {\n",
    "    \"goal\": [\n",
    "      \"다른 사람을 소개하는 표현을 사용할 수 있어요.\",\n",
    "      \"This is my friend, ~과 같은 표현을 사용하여 친구를 소개할 수 있어요.\"\n",
    "    ],\n",
    "    \"preview_quizzes\": [\n",
    "      {\n",
    "        \"fill_in_blank_quiz\": \"___ is my friend, Jennie.\",\n",
    "        \"korean_translation\": \"이쪽은 내 친구 Jennie야.\",\n",
    "        \"options\": [\"I\", \"They\", \"This\"],\n",
    "        \"answer\": \"This\",\n",
    "        \"answer_index\": 3\n",
    "      },\n",
    "      {\n",
    "        \"fill_in_blank_quiz\": \"Let me ___ my friend, Sarah.\",\n",
    "        \"korean_translation\": \"내 친구 Sarah를 소개할게.\",\n",
    "        \"options\": [\"introduce\", \"inter\", \"intro\"],\n",
    "        \"answer\": \"introduce\",\n",
    "        \"answer_index\": 2\n",
    "      }\n",
    "    ]\n",
    "  }\n",
    "}\n",
    "```\n",
    "```\n",
    "[Input]\n",
    "\n",
    "CEFR level: {{cefr_level}}\n",
    "DESCRIPTION: {{description}}\n",
    "KEY EXPRESSION: {{key_expression}}\n",
    "SUB EXPRESSION: {{sub_expression}}\n",
    "```\n",
    "\n",
    "\"\"\""
   ]
  },
  {
   "cell_type": "code",
   "execution_count": null,
   "metadata": {},
   "outputs": [],
   "source": [
    "prompt_template = prompt.format(\n",
    "    cefr_level = \"B1\",\n",
    "    description = \"자기소개와 출신지에 대해 말하고, 이에 반응하기.\",\n",
    "    key_expression = \"A: My name is Felix. I’m from Australia. B: Glad to meet you.\",\n",
    "    sub_expression = [\n",
    "        \"A: Hi, I’m (). I come from (). B: Nice to meet you.\",\n",
    "        \"A: Hello, my name is (). I’m from (). B: Great to meet you.\"\n",
    "    ]\n",
    ")"
   ]
  },
  {
   "cell_type": "code",
   "execution_count": 5,
   "metadata": {},
   "outputs": [
    {
     "name": "stdout",
     "output_type": "stream",
     "text": [
      "\n",
      "[PURPOSE]\n",
      "Preview lesson content through quizzes to give a sneak peek before the actual lesson.\n",
      "The quizzes must ask key expressions/the most meaningful words themselves written in GOAL/DESCRIPTION.\n",
      "\n",
      "[QUIZ GUIDELINES]\n",
      "- Create two preview quizzes per topic. One from KEY_EXPRESSION, the other from SUB_EXPRESSIONS.\n",
      "- Put blanks on the KEY_EXPRESSION and SUB_EXPRESSION itself.\n",
      "- No blanks or tildes on Korean translation\n",
      "- Blanks must directly ask the key expressions/the most meaningful words themselves.\n",
      "- Match CEFR level difficulty\n",
      "- Answer index = the position number of the answer.\n",
      "\n",
      "[FORMAT]\n",
      "Each quiz needs:\n",
      "- A blank (test key patterns itself)\n",
      "- Complete Korean translation (no blanks or tildes)\n",
      "- Three options (one correct, two wrong)\n",
      "- Wrong options must be adequately confusing.\n",
      "- No possibility of multiple \"equally valid\" answers\n",
      "- Shuffle the order of answer choices='answer indexes (1-3)' to avoid predictability.\n",
      "\n",
      "[Example]\n",
      "```\n",
      "Input: \n",
      "    {\n",
      "    \"CEFR_level\": \"A2\",\n",
      "    \"DESCRIPTION\": \"This is my friend, ~와 같은 표현을 사용해 사람을 소개하기.\",\n",
      "    \"KEY_EXPRESSION\": \"A: This is my friend, Jake.\",\n",
      "    \"SUB_EXPRESSION\": [\n",
      "      \"A: Let me introduce my friend, ~.\",\n",
      "      \"A: Meet my friend, ~.\"\n",
      "    ]\n",
      "  }\n",
      "\n",
      "Output:\n",
      "    {\n",
      "    \"goal\": [\n",
      "      \"다른 사람을 소개하는 표현을 사용할 수 있어요.\",\n",
      "      \"This is my friend, ~과 같은 표현을 사용하여 친구를 소개할 수 있어요.\"\n",
      "    ],\n",
      "    \"preview_quizzes\": [\n",
      "      {\n",
      "        \"fill_in_blank_quiz\": \"___ is my friend, Jennie.\",\n",
      "        \"korean_translation\": \"이쪽은 내 친구 Jennie야.\",\n",
      "        \"options\": [\"I\", \"They\", \"This\"],\n",
      "        \"answer\": \"This\",\n",
      "        \"answer_index\": 3\n",
      "      },\n",
      "      {\n",
      "        \"fill_in_blank_quiz\": \"Let me ___ my friend, Sarah.\",\n",
      "        \"korean_translation\": \"내 친구 Sarah를 소개할게.\",\n",
      "        \"options\": [\"introduce\", \"inter\", \"intro\"],\n",
      "        \"answer\": \"introduce\",\n",
      "        \"answer_index\": 2\n",
      "      }\n",
      "    ]\n",
      "  }\n",
      "}\n",
      "```\n",
      "```\n",
      "[Input]\n",
      "\n",
      "CEFR level: {{cefr_level}}\n",
      "DESCRIPTION: {{description}}\n",
      "KEY EXPRESSION: {{key_expression}}\n",
      "SUB EXPRESSION: {{sub_expression}}\n",
      "```\n",
      "\n",
      "\n"
     ]
    }
   ],
   "source": [
    "print(prompt)"
   ]
  },
  {
   "cell_type": "code",
   "execution_count": 8,
   "metadata": {},
   "outputs": [],
   "source": [
    "class Quiz(BaseModel):\n",
    "    fill_in_blank_quiz : str\n",
    "    korean_translation : str\n",
    "    options : list[str]\n",
    "    answer : str\n",
    "    answer_index : int\n",
    "\n",
    "class PreviewQuiz(BaseModel):\n",
    "    goal : str\n",
    "    preview_quizzes : list[Quiz]"
   ]
  },
  {
   "cell_type": "code",
   "execution_count": 10,
   "metadata": {},
   "outputs": [],
   "source": [
    "completion = client.beta.chat.completions.parse(\n",
    "    model = 'o3-mini-2025-01-31',\n",
    "    messages = [\n",
    "        {\"role\" : \"system\", \"content\" : \"You will provide quizzes related to the topics students have learned, appropriately matching their CEFR level for middle school students.\"},\n",
    "        {\"role\" : \"user\", \"content\" : prompt}\n",
    "    ],\n",
    "    response_format = PreviewQuiz,\n",
    ")\n",
    "\n",
    "response = completion.choices[0].message.parsed"
   ]
  },
  {
   "cell_type": "code",
   "execution_count": 12,
   "metadata": {},
   "outputs": [
    {
     "data": {
      "text/plain": [
       "PreviewQuiz(goal='친근한 인사 표현을 사용할 수 있어요. 그리고 친근하게 인사하는 다양한 표현을 이해할 수 있어요.', preview_quizzes=[Quiz(fill_in_blank_quiz='___, how are you?', korean_translation='안녕, 어떻게 지내?', options=['Hi', 'Hello', 'Hey'], answer='Hello', answer_index=2), Quiz(fill_in_blank_quiz=\"___, how's it going?\", korean_translation='이봐, 어떻게 지내?', options=['Hey', 'Hi', 'Hello'], answer='Hey', answer_index=1)])"
      ]
     },
     "execution_count": 12,
     "metadata": {},
     "output_type": "execute_result"
    }
   ],
   "source": [
    "response"
   ]
  },
  {
   "cell_type": "code",
   "execution_count": 14,
   "metadata": {},
   "outputs": [
    {
     "name": "stdout",
     "output_type": "stream",
     "text": [
      "{\n",
      "    \"goal\": \"친근한 인사 표현을 사용할 수 있어요. 그리고 친근하게 인사하는 다양한 표현을 이해할 수 있어요.\",\n",
      "    \"preview_quizzes\": [\n",
      "        {\n",
      "            \"fill_in_blank_quiz\": \"___, how are you?\",\n",
      "            \"korean_translation\": \"안녕, 어떻게 지내?\",\n",
      "            \"options\": [\n",
      "                \"Hi\",\n",
      "                \"Hello\",\n",
      "                \"Hey\"\n",
      "            ],\n",
      "            \"answer\": \"Hello\",\n",
      "            \"answer_index\": 2\n",
      "        },\n",
      "        {\n",
      "            \"fill_in_blank_quiz\": \"___, how's it going?\",\n",
      "            \"korean_translation\": \"이봐, 어떻게 지내?\",\n",
      "            \"options\": [\n",
      "                \"Hey\",\n",
      "                \"Hi\",\n",
      "                \"Hello\"\n",
      "            ],\n",
      "            \"answer\": \"Hey\",\n",
      "            \"answer_index\": 1\n",
      "        }\n",
      "    ]\n",
      "}\n"
     ]
    }
   ],
   "source": [
    "response_output = json.dumps(response.dict(), ensure_ascii=False, indent = 4)\n",
    "print(response_output)"
   ]
  },
  {
   "cell_type": "code",
   "execution_count": null,
   "metadata": {},
   "outputs": [],
   "source": []
  }
 ],
 "metadata": {
  "kernelspec": {
   "display_name": "base",
   "language": "python",
   "name": "python3"
  },
  "language_info": {
   "codemirror_mode": {
    "name": "ipython",
    "version": 3
   },
   "file_extension": ".py",
   "mimetype": "text/x-python",
   "name": "python",
   "nbconvert_exporter": "python",
   "pygments_lexer": "ipython3",
   "version": "3.12.7"
  }
 },
 "nbformat": 4,
 "nbformat_minor": 2
}
