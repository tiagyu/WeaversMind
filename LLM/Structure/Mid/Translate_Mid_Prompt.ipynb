{
 "cells": [
  {
   "cell_type": "markdown",
   "metadata": {},
   "source": [
    "# Preview Quiz prompt"
   ]
  },
  {
   "cell_type": "code",
   "execution_count": 1,
   "metadata": {},
   "outputs": [],
   "source": [
    "from pydantic import BaseModel\n",
    "from openai import OpenAI\n",
    "from openai.lib._parsing import type_to_response_format_param\n",
    "import json\n",
    "from getpass import getpass\n",
    "\n",
    "openai_api_key = getpass(\"OPENAI_API_KEY\")\n",
    "client = OpenAI(api_key=openai_api_key)"
   ]
  },
  {
   "cell_type": "code",
   "execution_count": 12,
   "metadata": {},
   "outputs": [],
   "source": [
    "from jinja2 import Template\n",
    "\n",
    "prompt_template = Template(\"\"\"\n",
    "[PURPOSE]\n",
    "Please translate the content in SUB_EXPRESSION naturally into Korean.  \n",
    "Make it sound casual, like talking to a friend.\n",
    "\n",
    "[Example]\n",
    "```\n",
    "Input: \n",
    "    {\n",
    "    \"SUB_EXPRESSION\": \"A: What is this? B: It's a ~. A: What is that? B: It's a ~.\"\n",
    "  }\n",
    "\n",
    "Output:\n",
    "    {\n",
    "    \"sub_expression_kor\": \"A: 이것은 뭐야? B: 이것은 ~야. A: 저것은 뭐야? B: 저것은 ~야.\"\n",
    "  }\n",
    "}\n",
    "```\n",
    "```\n",
    "Input: \n",
    "    {\n",
    "    \"SUB_EXPRESSION\": \"A: I enjoy ~. A: I'm fond of ~.\"\n",
    "  }\n",
    "\n",
    "Output:\n",
    "    {\n",
    "    \"sub_expression_kor\": \"A: 나는 ~을 즐겨. A: 나는 ~을 좋아해.\"\n",
    "  }\n",
    "}\n",
    "```\n",
    "```\n",
    "Input: \n",
    "    {\n",
    "    \"SUB_EXPRESSION\": \"It’s no big deal. Don’t mention it.\"\n",
    "  }\n",
    "\n",
    "Output:\n",
    "    {\n",
    "    \"sub_expression_kor\": \"별거 아니야. 천만에.\"\n",
    "  }\n",
    "}\n",
    "```                        \n",
    "\n",
    "\n",
    "[Input]\n",
    "```\n",
    "DESCRIPTION: {{description}}\n",
    "KEY EXPRESSION: {{key_expression}}\n",
    "SUB EXPRESSION: {{sub_expression}}\n",
    "```\n",
    "\n",
    "\"\"\")"
   ]
  },
  {
   "cell_type": "code",
   "execution_count": 13,
   "metadata": {},
   "outputs": [],
   "source": [
    "prompt = prompt_template.render(\n",
    "    sub_expression = [\n",
    "        \"A: Hi, I’m (). I come from (). B: Nice to meet you. A: Hello, my name is (). I’m from (). B: Great to meet you.\"\n",
    "    ]\n",
    ")"
   ]
  },
  {
   "cell_type": "code",
   "execution_count": 14,
   "metadata": {},
   "outputs": [
    {
     "name": "stdout",
     "output_type": "stream",
     "text": [
      "\n",
      "[PURPOSE]\n",
      "Please translate the content in SUB_EXPRESSION naturally into Korean.  \n",
      "Make it sound casual, like talking to a friend.\n",
      "\n",
      "[Example]\n",
      "```\n",
      "Input: \n",
      "    {\n",
      "    \"SUB_EXPRESSION\": \"A: What is this? B: It's a ~. A: What is that? B: It's a ~.\"\n",
      "  }\n",
      "\n",
      "Output:\n",
      "    {\n",
      "    \"sub_expression_kor\": \"A: 이것은 뭐야? B: 이것은 ~야. A: 저것은 뭐야? B: 저것은 ~야.\"\n",
      "  }\n",
      "}\n",
      "```\n",
      "```\n",
      "Input: \n",
      "    {\n",
      "    \"SUB_EXPRESSION\": \"A: I enjoy ~. A: I'm fond of ~.\"\n",
      "  }\n",
      "\n",
      "Output:\n",
      "    {\n",
      "    \"sub_expression_kor\": \"A: 나는 ~을 즐겨. A: 나는 ~을 좋아해.\"\n",
      "  }\n",
      "}\n",
      "```\n",
      "```\n",
      "Input: \n",
      "    {\n",
      "    \"SUB_EXPRESSION\": \"It’s no big deal. Don’t mention it.\"\n",
      "  }\n",
      "\n",
      "Output:\n",
      "    {\n",
      "    \"sub_expression_kor\": \"별거 아니야. 천만에.\"\n",
      "  }\n",
      "}\n",
      "```                        \n",
      "\n",
      "\n",
      "[Input]\n",
      "```\n",
      "DESCRIPTION: \n",
      "KEY EXPRESSION: \n",
      "SUB EXPRESSION: ['A: Hi, I’m (). I come from (). B: Nice to meet you. A: Hello, my name is (). I’m from (). B: Great to meet you.']\n",
      "```\n",
      "\n"
     ]
    }
   ],
   "source": [
    "print(prompt)"
   ]
  },
  {
   "cell_type": "code",
   "execution_count": 15,
   "metadata": {},
   "outputs": [],
   "source": [
    "class Translate(BaseModel):\n",
    "    sub_expression_kor : str"
   ]
  },
  {
   "cell_type": "code",
   "execution_count": 16,
   "metadata": {},
   "outputs": [],
   "source": [
    "response_format = type_to_response_format_param(Translate)"
   ]
  },
  {
   "cell_type": "code",
   "execution_count": 17,
   "metadata": {},
   "outputs": [
    {
     "data": {
      "text/plain": [
       "{'type': 'json_schema',\n",
       " 'json_schema': {'schema': {'properties': {'sub_expression_kor': {'title': 'Sub Expression Kor',\n",
       "     'type': 'string'}},\n",
       "   'required': ['sub_expression_kor'],\n",
       "   'title': 'Translate',\n",
       "   'type': 'object',\n",
       "   'additionalProperties': False},\n",
       "  'name': 'Translate',\n",
       "  'strict': True}}"
      ]
     },
     "execution_count": 17,
     "metadata": {},
     "output_type": "execute_result"
    }
   ],
   "source": [
    "response_format"
   ]
  },
  {
   "cell_type": "code",
   "execution_count": 18,
   "metadata": {},
   "outputs": [],
   "source": [
    "def completion(prompt : str) -> str:\n",
    "    response = client.beta.chat.completions.parse(\n",
    "        model = 'o3-mini',\n",
    "        reasoning_effort='low',\n",
    "        messages = [\n",
    "            {\"role\" : \"system\", \"content\" : \"You will provide a Korean translation.\"},\n",
    "            {\"role\" : \"user\", \"content\" : prompt}\n",
    "        ],\n",
    "        response_format = Translate,\n",
    "    )\n",
    "    return response.choices[0].message.parsed"
   ]
  },
  {
   "cell_type": "code",
   "execution_count": 19,
   "metadata": {},
   "outputs": [],
   "source": [
    "response = completion(prompt)"
   ]
  },
  {
   "cell_type": "code",
   "execution_count": 20,
   "metadata": {},
   "outputs": [
    {
     "data": {
      "text/plain": [
       "Translate(sub_expression_kor='A: 안녕, 난 ()야. ()에서 왔어. B: 만나서 반가워. A: 안녕, 내 이름은 ()야. ()에서 왔어. B: 만나서 정말 반가워.')"
      ]
     },
     "execution_count": 20,
     "metadata": {},
     "output_type": "execute_result"
    }
   ],
   "source": [
    "response"
   ]
  },
  {
   "cell_type": "code",
   "execution_count": 21,
   "metadata": {},
   "outputs": [
    {
     "name": "stdout",
     "output_type": "stream",
     "text": [
      "{\n",
      "    \"sub_expression_kor\": \"A: 안녕, 난 ()야. ()에서 왔어. B: 만나서 반가워. A: 안녕, 내 이름은 ()야. ()에서 왔어. B: 만나서 정말 반가워.\"\n",
      "}\n"
     ]
    }
   ],
   "source": [
    "response_output = json.dumps(response.dict(), ensure_ascii=False, indent = 4)\n",
    "print(response_output)"
   ]
  },
  {
   "cell_type": "code",
   "execution_count": 22,
   "metadata": {},
   "outputs": [
    {
     "name": "stdout",
     "output_type": "stream",
     "text": [
      "sub_expression_kor='A: 안녕, 난 ()야. ()에서 왔어. B: 만나서 반가워. A: 안녕, 내 이름은 ()야. ()에서 왔어. B: 만나서 정말 반가워.'\n"
     ]
    }
   ],
   "source": [
    "print(response)"
   ]
  },
  {
   "cell_type": "markdown",
   "metadata": {},
   "source": [
    "# for문 돌려서 Batch API jsonl 파일 형식 만들기"
   ]
  },
  {
   "cell_type": "markdown",
   "metadata": {},
   "source": [
    "확인 사항\n",
    "- A1, A2, B1, B2, C1, C2 CEFR level 별로 퀴즈만 만들어지면 되는건가?\n",
    "- 여섯개의 레벨 모두 만들어야하는지, 일부 레벨(A1, B1, C1)만 만들면 되는지도 결정\n",
    "\n",
    "1. 커리큘럼 정보 csv 파일 읽어오기\n",
    "2. for문으로 한줄씩 순회하면서 프롬프트 만들어주기들어주기\n",
    "3. 렌더링한 프롬프트 파일에 써주기 (처음엔 조금만, ex. 5개 커리큘럼)\n",
    "4. openai batch API 요청해서 task_id 받아오기 \n",
    "5. batch task 완료되면 결과 받아오고 검수하기"
   ]
  },
  {
   "cell_type": "code",
   "execution_count": 29,
   "metadata": {},
   "outputs": [],
   "source": [
    "def Translate(data, output_filename):\n",
    "    jsonl_data = []\n",
    "\n",
    "    for i in range(len(data)):\n",
    "        prompt = prompt_template.render(\n",
    "            sub_expression = data.loc[i,\"Sub Expression (영어)\"]\n",
    "        )\n",
    "\n",
    "        quiz_request = {\n",
    "            \"custom_id\" : f\"request-{i+1}\",\n",
    "            \"method\" : \"POST\",\n",
    "            \"url\" : \"/v1/chat/completions\",\n",
    "            \"body\" : {\n",
    "                \"model\" : \"o3-mini-2025-01-31\",\n",
    "                \"messages\" : [\n",
    "                    {\"role\": \"system\", \"content\": \"You will provide a Korean translation.\"},\n",
    "                    {\"role\": \"user\", \"content\": prompt}\n",
    "                ],\n",
    "                \"response_format\" : response_format\n",
    "            }\n",
    "        }\n",
    "\n",
    "        jsonl_data.append(quiz_request)\n",
    "\n",
    "        with open(output_filename, 'w', encoding='utf-8') as jsonl_file:\n",
    "            for item in jsonl_data:\n",
    "                jsonl_file.write(json.dumps(item, ensure_ascii=False) + '\\n')\n",
    "\n",
    "    print(f'JSONL 파일 생성 완료 : {output_filename}-{i+1}')"
   ]
  },
  {
   "cell_type": "markdown",
   "metadata": {},
   "source": [
    "## 초등학교 jsonl 파일"
   ]
  },
  {
   "cell_type": "code",
   "execution_count": null,
   "metadata": {},
   "outputs": [
    {
     "name": "stdout",
     "output_type": "stream",
     "text": [
      "494\n"
     ]
    },
    {
     "name": "stderr",
     "output_type": "stream",
     "text": [
      "C:\\Users\\Public\\Documents\\ESTsoft\\CreatorTemp\\ipykernel_18336\\297044827.py:13: SettingWithCopyWarning: \n",
      "A value is trying to be set on a copy of a slice from a DataFrame\n",
      "\n",
      "See the caveats in the documentation: https://pandas.pydata.org/pandas-docs/stable/user_guide/indexing.html#returning-a-view-versus-a-copy\n",
      "  function_df.drop(columns=drop_col, inplace=True)\n"
     ]
    }
   ],
   "source": [
    "import pandas as pd\n",
    "\n",
    "df = pd.read_csv('MergedData_Mid.csv')\n",
    "function_df = df.loc[df['구분'] == 'function']\n",
    "structure_df = df.loc[df['구분'] == 'structure']\n",
    "\n",
    "drop_col = ['textbook ID', '학년', '출판사', '교육과정', 'Lesson', '구분', 'Title',\n",
    "       'DESCRIPTION', 'Key Expression (영어)', 'Key Expression (한국어)','학습목표', 'Quiz 1',\n",
    "       'Korean 1', 'Option 1-1', 'Option 1-2', 'Option 1-3', 'Answer 1',\n",
    "       'Index 1', 'Quiz 2', 'Korean 2', 'Option 2-1', 'Option 2-2',\n",
    "       'Option 2-3', 'Answer 2', 'Index 2', '샘플 스크립트 (영어)', '샘플 스크립트 (한국어)', 'Sub Expression (한국어)'\n",
    "       ]\n",
    "function_df.drop(columns=drop_col, inplace=True)\n",
    "\n",
    "print(len(function_df))"
   ]
  },
  {
   "cell_type": "code",
   "execution_count": 26,
   "metadata": {},
   "outputs": [
    {
     "data": {
      "text/html": [
       "<div>\n",
       "<style scoped>\n",
       "    .dataframe tbody tr th:only-of-type {\n",
       "        vertical-align: middle;\n",
       "    }\n",
       "\n",
       "    .dataframe tbody tr th {\n",
       "        vertical-align: top;\n",
       "    }\n",
       "\n",
       "    .dataframe thead th {\n",
       "        text-align: right;\n",
       "    }\n",
       "</style>\n",
       "<table border=\"1\" class=\"dataframe\">\n",
       "  <thead>\n",
       "    <tr style=\"text-align: right;\">\n",
       "      <th></th>\n",
       "      <th>Sub Expression (영어)</th>\n",
       "    </tr>\n",
       "  </thead>\n",
       "  <tbody>\n",
       "    <tr>\n",
       "      <th>0</th>\n",
       "      <td>A: Hi, I’m (). I come from ().\\n B: Nice to me...</td>\n",
       "    </tr>\n",
       "    <tr>\n",
       "      <th>1</th>\n",
       "      <td>A: What do you like the most?\\n B: I enjoy ()....</td>\n",
       "    </tr>\n",
       "    <tr>\n",
       "      <th>2</th>\n",
       "      <td>A: What are your plans for ~? B: I’m planning ...</td>\n",
       "    </tr>\n",
       "    <tr>\n",
       "      <th>3</th>\n",
       "      <td>You can find () ().\\n () has ().</td>\n",
       "    </tr>\n",
       "    <tr>\n",
       "      <th>4</th>\n",
       "      <td>A: It’s a good idea to ().\\n B: I’ll give it a...</td>\n",
       "    </tr>\n",
       "  </tbody>\n",
       "</table>\n",
       "</div>"
      ],
      "text/plain": [
       "                                 Sub Expression (영어)\n",
       "0  A: Hi, I’m (). I come from ().\\n B: Nice to me...\n",
       "1  A: What do you like the most?\\n B: I enjoy ()....\n",
       "2  A: What are your plans for ~? B: I’m planning ...\n",
       "3                   You can find () ().\\n () has ().\n",
       "4  A: It’s a good idea to ().\\n B: I’ll give it a..."
      ]
     },
     "execution_count": 26,
     "metadata": {},
     "output_type": "execute_result"
    }
   ],
   "source": [
    "function_df.head()"
   ]
  },
  {
   "cell_type": "code",
   "execution_count": 31,
   "metadata": {},
   "outputs": [
    {
     "name": "stdout",
     "output_type": "stream",
     "text": [
      "JSONL 파일 생성 완료 : Translate_Mid_batch.jsonl-494\n"
     ]
    }
   ],
   "source": [
    "Translate(function_df, output_filename = 'Translate_Mid_batch.jsonl')"
   ]
  }
 ],
 "metadata": {
  "kernelspec": {
   "display_name": "base",
   "language": "python",
   "name": "python3"
  },
  "language_info": {
   "codemirror_mode": {
    "name": "ipython",
    "version": 3
   },
   "file_extension": ".py",
   "mimetype": "text/x-python",
   "name": "python",
   "nbconvert_exporter": "python",
   "pygments_lexer": "ipython3",
   "version": "3.12.7"
  }
 },
 "nbformat": 4,
 "nbformat_minor": 2
}
