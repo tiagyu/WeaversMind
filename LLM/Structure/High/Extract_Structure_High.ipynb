{
 "cells": [
  {
   "cell_type": "code",
   "execution_count": 150,
   "metadata": {},
   "outputs": [],
   "source": [
    "import pandas as pd"
   ]
  },
  {
   "cell_type": "code",
   "execution_count": 151,
   "metadata": {},
   "outputs": [
    {
     "data": {
      "text/html": [
       "<div>\n",
       "<style scoped>\n",
       "    .dataframe tbody tr th:only-of-type {\n",
       "        vertical-align: middle;\n",
       "    }\n",
       "\n",
       "    .dataframe tbody tr th {\n",
       "        vertical-align: top;\n",
       "    }\n",
       "\n",
       "    .dataframe thead th {\n",
       "        text-align: right;\n",
       "    }\n",
       "</style>\n",
       "<table border=\"1\" class=\"dataframe\">\n",
       "  <thead>\n",
       "    <tr style=\"text-align: right;\">\n",
       "      <th></th>\n",
       "      <th>제목</th>\n",
       "      <th>출판사</th>\n",
       "      <th>교육과정</th>\n",
       "      <th>Lesson</th>\n",
       "      <th>Title</th>\n",
       "      <th>Goal</th>\n",
       "      <th>Functions (의사소통기능)</th>\n",
       "      <th>Structures (언어 형식)</th>\n",
       "      <th>Functions Material 1</th>\n",
       "      <th>Functions Material 2</th>\n",
       "      <th>Unnamed: 10</th>\n",
       "    </tr>\n",
       "  </thead>\n",
       "  <tbody>\n",
       "    <tr>\n",
       "      <th>0</th>\n",
       "      <td>영어</td>\n",
       "      <td>능률(김)</td>\n",
       "      <td>2015</td>\n",
       "      <td>1</td>\n",
       "      <td>The Part You Play</td>\n",
       "      <td>NaN</td>\n",
       "      <td>• 의도 표현하기\\nI’m going to call and tell my frien...</td>\n",
       "      <td>• 전치사의 목적어로서의 동명사\\nInstead of running straight...</td>\n",
       "      <td>[DESCRIPTION]\\r\\n\\r\\nbe going to ()를 활용해 의도 표현...</td>\n",
       "      <td>[DESCRIPTION]\\r\\n\\r\\nshould를 활용해 도덕적 의무 표현하기.\\...</td>\n",
       "      <td>NaN</td>\n",
       "    </tr>\n",
       "    <tr>\n",
       "      <th>1</th>\n",
       "      <td>영어</td>\n",
       "      <td>능률(김)</td>\n",
       "      <td>2015</td>\n",
       "      <td>2</td>\n",
       "      <td>The Power of Creativity</td>\n",
       "      <td>NaN</td>\n",
       "      <td>• 가능성 정도 표현하기\\nMaybe that will make it easier ...</td>\n",
       "      <td>• 명사를 수식하는 과거분사(구)\\nThe giant pictures made fr...</td>\n",
       "      <td>[DESCRIPTION]\\n\\n부사 maybe를 활용해서 가능성의 정도를 표현하기\\...</td>\n",
       "      <td>[DESCRIPTION]\\n\\nIt seems to me that ()의 구조를 활...</td>\n",
       "      <td>NaN</td>\n",
       "    </tr>\n",
       "  </tbody>\n",
       "</table>\n",
       "</div>"
      ],
      "text/plain": [
       "   제목    출판사  교육과정  Lesson                    Title  Goal  \\\n",
       "0  영어  능률(김)  2015       1        The Part You Play   NaN   \n",
       "1  영어  능률(김)  2015       2  The Power of Creativity   NaN   \n",
       "\n",
       "                                  Functions (의사소통기능)  \\\n",
       "0  • 의도 표현하기\\nI’m going to call and tell my frien...   \n",
       "1  • 가능성 정도 표현하기\\nMaybe that will make it easier ...   \n",
       "\n",
       "                                  Structures (언어 형식)  \\\n",
       "0  • 전치사의 목적어로서의 동명사\\nInstead of running straight...   \n",
       "1  • 명사를 수식하는 과거분사(구)\\nThe giant pictures made fr...   \n",
       "\n",
       "                                Functions Material 1  \\\n",
       "0  [DESCRIPTION]\\r\\n\\r\\nbe going to ()를 활용해 의도 표현...   \n",
       "1  [DESCRIPTION]\\n\\n부사 maybe를 활용해서 가능성의 정도를 표현하기\\...   \n",
       "\n",
       "                                Functions Material 2 Unnamed: 10  \n",
       "0  [DESCRIPTION]\\r\\n\\r\\nshould를 활용해 도덕적 의무 표현하기.\\...         NaN  \n",
       "1  [DESCRIPTION]\\n\\nIt seems to me that ()의 구조를 활...         NaN  "
      ]
     },
     "execution_count": 151,
     "metadata": {},
     "output_type": "execute_result"
    }
   ],
   "source": [
    "file_name = \"High_Curriculum.csv\"\n",
    "df = pd.read_csv(file_name)\n",
    "df.head(2)"
   ]
  },
  {
   "cell_type": "code",
   "execution_count": 152,
   "metadata": {},
   "outputs": [
    {
     "data": {
      "text/plain": [
       "167"
      ]
     },
     "execution_count": 152,
     "metadata": {},
     "output_type": "execute_result"
    }
   ],
   "source": [
    "len(df)"
   ]
  },
  {
   "cell_type": "code",
   "execution_count": 153,
   "metadata": {},
   "outputs": [],
   "source": [
    "df['Splitted Structures'] = df['Structures (언어 형식)'].str.split(\"\\n\")\n",
    "\n",
    "def split_structures(struct_list):\n",
    "    if len(struct_list) >=4:\n",
    "        structure_1 = \"\\n\".join(struct_list[:3]).strip()\n",
    "        structure_2 = \"\\n\".join(struct_list[3:]).strip()\n",
    "    else:\n",
    "        structure_1 = \"\\n\".join(struct_list).strip()\n",
    "        structure_2 = \"\"\n",
    "    return pd.Series([structure_1, structure_2])"
   ]
  },
  {
   "cell_type": "code",
   "execution_count": 154,
   "metadata": {},
   "outputs": [],
   "source": [
    "df[[\"Structure 1\", \"Structure 2\"]] = df[\"Splitted Structures\"].apply(split_structures)"
   ]
  },
  {
   "cell_type": "code",
   "execution_count": 155,
   "metadata": {},
   "outputs": [
    {
     "data": {
      "text/plain": [
       "'• 수동태\\nThe hat was worn by the yangban.\\nThe hat was shipped to Panama.'"
      ]
     },
     "execution_count": 155,
     "metadata": {},
     "output_type": "execute_result"
    }
   ],
   "source": [
    "df['Structure 1'][137]"
   ]
  },
  {
   "cell_type": "code",
   "execution_count": 156,
   "metadata": {},
   "outputs": [
    {
     "data": {
      "text/plain": [
       "''"
      ]
     },
     "execution_count": 156,
     "metadata": {},
     "output_type": "execute_result"
    }
   ],
   "source": [
    "df['Structure 2'][137]"
   ]
  },
  {
   "cell_type": "code",
   "execution_count": 157,
   "metadata": {},
   "outputs": [
    {
     "data": {
      "text/plain": [
       "Index(['제목', '출판사', '교육과정', 'Lesson', 'Title', 'Goal', 'Functions (의사소통기능)',\n",
       "       'Structures (언어 형식)', 'Functions Material 1', 'Functions Material 2',\n",
       "       'Unnamed: 10', 'Splitted Structures', 'Structure 1', 'Structure 2'],\n",
       "      dtype='object')"
      ]
     },
     "execution_count": 157,
     "metadata": {},
     "output_type": "execute_result"
    }
   ],
   "source": [
    "df.columns"
   ]
  },
  {
   "cell_type": "code",
   "execution_count": 158,
   "metadata": {},
   "outputs": [
    {
     "data": {
      "text/html": [
       "<div>\n",
       "<style scoped>\n",
       "    .dataframe tbody tr th:only-of-type {\n",
       "        vertical-align: middle;\n",
       "    }\n",
       "\n",
       "    .dataframe tbody tr th {\n",
       "        vertical-align: top;\n",
       "    }\n",
       "\n",
       "    .dataframe thead th {\n",
       "        text-align: right;\n",
       "    }\n",
       "</style>\n",
       "<table border=\"1\" class=\"dataframe\">\n",
       "  <thead>\n",
       "    <tr style=\"text-align: right;\">\n",
       "      <th></th>\n",
       "      <th>제목</th>\n",
       "      <th>출판사</th>\n",
       "      <th>교육과정</th>\n",
       "      <th>Lesson</th>\n",
       "      <th>Title</th>\n",
       "      <th>Structure 1</th>\n",
       "      <th>Structure 2</th>\n",
       "    </tr>\n",
       "  </thead>\n",
       "  <tbody>\n",
       "    <tr>\n",
       "      <th>0</th>\n",
       "      <td>영어</td>\n",
       "      <td>능률(김)</td>\n",
       "      <td>2015</td>\n",
       "      <td>1</td>\n",
       "      <td>The Part You Play</td>\n",
       "      <td>• 전치사의 목적어로서의 동명사\\nInstead of running straight...</td>\n",
       "      <td>• 진주어 to부정사와 의미상의 주어\\nIt is difficult for him ...</td>\n",
       "    </tr>\n",
       "    <tr>\n",
       "      <th>1</th>\n",
       "      <td>영어</td>\n",
       "      <td>능률(김)</td>\n",
       "      <td>2015</td>\n",
       "      <td>2</td>\n",
       "      <td>The Power of Creativity</td>\n",
       "      <td>• 명사를 수식하는 과거분사(구)\\nThe giant pictures made fr...</td>\n",
       "      <td>• 주격 관계대명사\\nThe German government showed us an...</td>\n",
       "    </tr>\n",
       "    <tr>\n",
       "      <th>2</th>\n",
       "      <td>영어</td>\n",
       "      <td>능률(김)</td>\n",
       "      <td>2015</td>\n",
       "      <td>3</td>\n",
       "      <td>Sound Life</td>\n",
       "      <td>• 사역동사+목적어+동사원형\\nHas a painting, a movie, or a...</td>\n",
       "      <td>• 관계대명사 what\\nThis is what makes you special.</td>\n",
       "    </tr>\n",
       "  </tbody>\n",
       "</table>\n",
       "</div>"
      ],
      "text/plain": [
       "   제목    출판사  교육과정  Lesson                    Title  \\\n",
       "0  영어  능률(김)  2015       1        The Part You Play   \n",
       "1  영어  능률(김)  2015       2  The Power of Creativity   \n",
       "2  영어  능률(김)  2015       3               Sound Life   \n",
       "\n",
       "                                         Structure 1  \\\n",
       "0  • 전치사의 목적어로서의 동명사\\nInstead of running straight...   \n",
       "1  • 명사를 수식하는 과거분사(구)\\nThe giant pictures made fr...   \n",
       "2  • 사역동사+목적어+동사원형\\nHas a painting, a movie, or a...   \n",
       "\n",
       "                                         Structure 2  \n",
       "0  • 진주어 to부정사와 의미상의 주어\\nIt is difficult for him ...  \n",
       "1  • 주격 관계대명사\\nThe German government showed us an...  \n",
       "2      • 관계대명사 what\\nThis is what makes you special.  "
      ]
     },
     "execution_count": 158,
     "metadata": {},
     "output_type": "execute_result"
    }
   ],
   "source": [
    "drop_col = ['Goal', 'Functions (의사소통기능)','Structures (언어 형식)', 'Functions Material 1', 'Functions Material 2','Unnamed: 10', 'Splitted Structures']\n",
    "df.drop(columns=drop_col, inplace=True)\n",
    "df.head(3)"
   ]
  },
  {
   "cell_type": "code",
   "execution_count": 159,
   "metadata": {},
   "outputs": [
    {
     "data": {
      "text/html": [
       "<div>\n",
       "<style scoped>\n",
       "    .dataframe tbody tr th:only-of-type {\n",
       "        vertical-align: middle;\n",
       "    }\n",
       "\n",
       "    .dataframe tbody tr th {\n",
       "        vertical-align: top;\n",
       "    }\n",
       "\n",
       "    .dataframe thead th {\n",
       "        text-align: right;\n",
       "    }\n",
       "</style>\n",
       "<table border=\"1\" class=\"dataframe\">\n",
       "  <thead>\n",
       "    <tr style=\"text-align: right;\">\n",
       "      <th></th>\n",
       "      <th>제목</th>\n",
       "      <th>출판사</th>\n",
       "      <th>교육과정</th>\n",
       "      <th>Lesson</th>\n",
       "      <th>Title</th>\n",
       "      <th>Structure Material</th>\n",
       "      <th>Structure</th>\n",
       "    </tr>\n",
       "  </thead>\n",
       "  <tbody>\n",
       "    <tr>\n",
       "      <th>0</th>\n",
       "      <td>영어</td>\n",
       "      <td>능률(김)</td>\n",
       "      <td>2015</td>\n",
       "      <td>1</td>\n",
       "      <td>The Part You Play</td>\n",
       "      <td>Structure 1</td>\n",
       "      <td>• 전치사의 목적어로서의 동명사\\nInstead of running straight...</td>\n",
       "    </tr>\n",
       "    <tr>\n",
       "      <th>1</th>\n",
       "      <td>영어</td>\n",
       "      <td>능률(김)</td>\n",
       "      <td>2015</td>\n",
       "      <td>2</td>\n",
       "      <td>The Power of Creativity</td>\n",
       "      <td>Structure 1</td>\n",
       "      <td>• 명사를 수식하는 과거분사(구)\\nThe giant pictures made fr...</td>\n",
       "    </tr>\n",
       "    <tr>\n",
       "      <th>2</th>\n",
       "      <td>영어</td>\n",
       "      <td>능률(김)</td>\n",
       "      <td>2015</td>\n",
       "      <td>3</td>\n",
       "      <td>Sound Life</td>\n",
       "      <td>Structure 1</td>\n",
       "      <td>• 사역동사+목적어+동사원형\\nHas a painting, a movie, or a...</td>\n",
       "    </tr>\n",
       "    <tr>\n",
       "      <th>3</th>\n",
       "      <td>영어</td>\n",
       "      <td>능률(김)</td>\n",
       "      <td>2015</td>\n",
       "      <td>4</td>\n",
       "      <td>Toward a Better World</td>\n",
       "      <td>Structure 1</td>\n",
       "      <td>• 관계부사\\nI am so glad that this family now has ...</td>\n",
       "    </tr>\n",
       "    <tr>\n",
       "      <th>4</th>\n",
       "      <td>영어</td>\n",
       "      <td>능률(김)</td>\n",
       "      <td>2015</td>\n",
       "      <td>5</td>\n",
       "      <td>What Matters Most</td>\n",
       "      <td>Structure 1</td>\n",
       "      <td>• 분사구문\\nReaching the hermit’s hut, the king fo...</td>\n",
       "    </tr>\n",
       "    <tr>\n",
       "      <th>...</th>\n",
       "      <td>...</td>\n",
       "      <td>...</td>\n",
       "      <td>...</td>\n",
       "      <td>...</td>\n",
       "      <td>...</td>\n",
       "      <td>...</td>\n",
       "      <td>...</td>\n",
       "    </tr>\n",
       "    <tr>\n",
       "      <th>329</th>\n",
       "      <td>영어 II</td>\n",
       "      <td>천재(이)</td>\n",
       "      <td>2015</td>\n",
       "      <td>2</td>\n",
       "      <td>Discover Cultures Around the World</td>\n",
       "      <td>Structure 2</td>\n",
       "      <td>• 관계부사\\nThat is why Ifrane is often referred t...</td>\n",
       "    </tr>\n",
       "    <tr>\n",
       "      <th>330</th>\n",
       "      <td>영어 II</td>\n",
       "      <td>천재(이)</td>\n",
       "      <td>2015</td>\n",
       "      <td>3</td>\n",
       "      <td>Future of Money</td>\n",
       "      <td>Structure 2</td>\n",
       "      <td>• 동명사의 관용적 표현\\nShe had trouble following my in...</td>\n",
       "    </tr>\n",
       "    <tr>\n",
       "      <th>331</th>\n",
       "      <td>영어 II</td>\n",
       "      <td>천재(이)</td>\n",
       "      <td>2015</td>\n",
       "      <td>4</td>\n",
       "      <td>Bring Literature\\r\\ninto Your Life</td>\n",
       "      <td>Structure 2</td>\n",
       "      <td>• 접속사 if\\nHe wondered if he should take back t...</td>\n",
       "    </tr>\n",
       "    <tr>\n",
       "      <th>332</th>\n",
       "      <td>영어 II</td>\n",
       "      <td>천재(이)</td>\n",
       "      <td>2015</td>\n",
       "      <td>5</td>\n",
       "      <td>ICT in Our Lives</td>\n",
       "      <td>Structure 2</td>\n",
       "      <td>• 접속사 while\\nThe amount of food produced can b...</td>\n",
       "    </tr>\n",
       "    <tr>\n",
       "      <th>333</th>\n",
       "      <td>영어 II</td>\n",
       "      <td>천재(이)</td>\n",
       "      <td>2015</td>\n",
       "      <td>6</td>\n",
       "      <td>Reach Beyond\\r\\nOurselves</td>\n",
       "      <td>Structure 2</td>\n",
       "      <td>• 병렬 구조\\nThe time has now come for the nation ...</td>\n",
       "    </tr>\n",
       "  </tbody>\n",
       "</table>\n",
       "<p>334 rows × 7 columns</p>\n",
       "</div>"
      ],
      "text/plain": [
       "        제목    출판사  교육과정  Lesson                               Title  \\\n",
       "0       영어  능률(김)  2015       1                   The Part You Play   \n",
       "1       영어  능률(김)  2015       2             The Power of Creativity   \n",
       "2       영어  능률(김)  2015       3                          Sound Life   \n",
       "3       영어  능률(김)  2015       4               Toward a Better World   \n",
       "4       영어  능률(김)  2015       5                   What Matters Most   \n",
       "..     ...    ...   ...     ...                                 ...   \n",
       "329  영어 II  천재(이)  2015       2  Discover Cultures Around the World   \n",
       "330  영어 II  천재(이)  2015       3                     Future of Money   \n",
       "331  영어 II  천재(이)  2015       4  Bring Literature\\r\\ninto Your Life   \n",
       "332  영어 II  천재(이)  2015       5                    ICT in Our Lives   \n",
       "333  영어 II  천재(이)  2015       6           Reach Beyond\\r\\nOurselves   \n",
       "\n",
       "    Structure Material                                          Structure  \n",
       "0          Structure 1  • 전치사의 목적어로서의 동명사\\nInstead of running straight...  \n",
       "1          Structure 1  • 명사를 수식하는 과거분사(구)\\nThe giant pictures made fr...  \n",
       "2          Structure 1  • 사역동사+목적어+동사원형\\nHas a painting, a movie, or a...  \n",
       "3          Structure 1  • 관계부사\\nI am so glad that this family now has ...  \n",
       "4          Structure 1  • 분사구문\\nReaching the hermit’s hut, the king fo...  \n",
       "..                 ...                                                ...  \n",
       "329        Structure 2  • 관계부사\\nThat is why Ifrane is often referred t...  \n",
       "330        Structure 2  • 동명사의 관용적 표현\\nShe had trouble following my in...  \n",
       "331        Structure 2  • 접속사 if\\nHe wondered if he should take back t...  \n",
       "332        Structure 2  • 접속사 while\\nThe amount of food produced can b...  \n",
       "333        Structure 2  • 병렬 구조\\nThe time has now come for the nation ...  \n",
       "\n",
       "[334 rows x 7 columns]"
      ]
     },
     "metadata": {},
     "output_type": "display_data"
    }
   ],
   "source": [
    "df = pd.melt(df,\n",
    "             id_vars=['제목', '출판사', '교육과정', 'Lesson', 'Title'],\n",
    "             value_vars=['Structure 1', 'Structure 2'],\n",
    "             var_name='Structure Material',\n",
    "             value_name='Structure')\n",
    "display(df)"
   ]
  },
  {
   "cell_type": "code",
   "execution_count": 160,
   "metadata": {},
   "outputs": [
    {
     "data": {
      "text/plain": [
       "Structure Material\n",
       "Structure 1    167\n",
       "Structure 2    167\n",
       "Name: count, dtype: int64"
      ]
     },
     "execution_count": 160,
     "metadata": {},
     "output_type": "execute_result"
    }
   ],
   "source": [
    "df['Structure Material'].value_counts()"
   ]
  },
  {
   "cell_type": "code",
   "execution_count": 161,
   "metadata": {},
   "outputs": [
    {
     "data": {
      "text/plain": [
       "334"
      ]
     },
     "execution_count": 161,
     "metadata": {},
     "output_type": "execute_result"
    }
   ],
   "source": [
    "len(df)"
   ]
  },
  {
   "cell_type": "code",
   "execution_count": 162,
   "metadata": {},
   "outputs": [
    {
     "data": {
      "text/html": [
       "<div>\n",
       "<style scoped>\n",
       "    .dataframe tbody tr th:only-of-type {\n",
       "        vertical-align: middle;\n",
       "    }\n",
       "\n",
       "    .dataframe tbody tr th {\n",
       "        vertical-align: top;\n",
       "    }\n",
       "\n",
       "    .dataframe thead th {\n",
       "        text-align: right;\n",
       "    }\n",
       "</style>\n",
       "<table border=\"1\" class=\"dataframe\">\n",
       "  <thead>\n",
       "    <tr style=\"text-align: right;\">\n",
       "      <th></th>\n",
       "      <th>제목</th>\n",
       "      <th>출판사</th>\n",
       "      <th>교육과정</th>\n",
       "      <th>Lesson</th>\n",
       "      <th>Title</th>\n",
       "      <th>Structure Material</th>\n",
       "      <th>Structure</th>\n",
       "    </tr>\n",
       "  </thead>\n",
       "  <tbody>\n",
       "  </tbody>\n",
       "</table>\n",
       "</div>"
      ],
      "text/plain": [
       "Empty DataFrame\n",
       "Columns: [제목, 출판사, 교육과정, Lesson, Title, Structure Material, Structure]\n",
       "Index: []"
      ]
     },
     "execution_count": 162,
     "metadata": {},
     "output_type": "execute_result"
    }
   ],
   "source": [
    "df[df.isna().any(axis=1)]"
   ]
  },
  {
   "cell_type": "code",
   "execution_count": 163,
   "metadata": {},
   "outputs": [
    {
     "data": {
      "text/plain": [
       "329"
      ]
     },
     "execution_count": 163,
     "metadata": {},
     "output_type": "execute_result"
    }
   ],
   "source": [
    "df = df[df['Structure'] != \"\"]\n",
    "len(df)"
   ]
  },
  {
   "cell_type": "code",
   "execution_count": 164,
   "metadata": {},
   "outputs": [],
   "source": [
    "df = df.reset_index(drop=True)"
   ]
  },
  {
   "cell_type": "code",
   "execution_count": 165,
   "metadata": {},
   "outputs": [
    {
     "data": {
      "text/html": [
       "<div>\n",
       "<style scoped>\n",
       "    .dataframe tbody tr th:only-of-type {\n",
       "        vertical-align: middle;\n",
       "    }\n",
       "\n",
       "    .dataframe tbody tr th {\n",
       "        vertical-align: top;\n",
       "    }\n",
       "\n",
       "    .dataframe thead th {\n",
       "        text-align: right;\n",
       "    }\n",
       "</style>\n",
       "<table border=\"1\" class=\"dataframe\">\n",
       "  <thead>\n",
       "    <tr style=\"text-align: right;\">\n",
       "      <th></th>\n",
       "      <th>제목</th>\n",
       "      <th>출판사</th>\n",
       "      <th>교육과정</th>\n",
       "      <th>Lesson</th>\n",
       "      <th>Title</th>\n",
       "      <th>Structure</th>\n",
       "    </tr>\n",
       "  </thead>\n",
       "  <tbody>\n",
       "    <tr>\n",
       "      <th>0</th>\n",
       "      <td>영어</td>\n",
       "      <td>능률(김)</td>\n",
       "      <td>2015</td>\n",
       "      <td>1</td>\n",
       "      <td>The Part You Play</td>\n",
       "      <td>• 전치사의 목적어로서의 동명사\\nInstead of running straight...</td>\n",
       "    </tr>\n",
       "    <tr>\n",
       "      <th>1</th>\n",
       "      <td>영어</td>\n",
       "      <td>능률(김)</td>\n",
       "      <td>2015</td>\n",
       "      <td>2</td>\n",
       "      <td>The Power of Creativity</td>\n",
       "      <td>• 명사를 수식하는 과거분사(구)\\nThe giant pictures made fr...</td>\n",
       "    </tr>\n",
       "    <tr>\n",
       "      <th>2</th>\n",
       "      <td>영어</td>\n",
       "      <td>능률(김)</td>\n",
       "      <td>2015</td>\n",
       "      <td>3</td>\n",
       "      <td>Sound Life</td>\n",
       "      <td>• 사역동사+목적어+동사원형\\nHas a painting, a movie, or a...</td>\n",
       "    </tr>\n",
       "  </tbody>\n",
       "</table>\n",
       "</div>"
      ],
      "text/plain": [
       "   제목    출판사  교육과정  Lesson                    Title  \\\n",
       "0  영어  능률(김)  2015       1        The Part You Play   \n",
       "1  영어  능률(김)  2015       2  The Power of Creativity   \n",
       "2  영어  능률(김)  2015       3               Sound Life   \n",
       "\n",
       "                                           Structure  \n",
       "0  • 전치사의 목적어로서의 동명사\\nInstead of running straight...  \n",
       "1  • 명사를 수식하는 과거분사(구)\\nThe giant pictures made fr...  \n",
       "2  • 사역동사+목적어+동사원형\\nHas a painting, a movie, or a...  "
      ]
     },
     "execution_count": 165,
     "metadata": {},
     "output_type": "execute_result"
    }
   ],
   "source": [
    "df.drop(columns=['Structure Material'],inplace=True)\n",
    "df.head(3)"
   ]
  },
  {
   "cell_type": "code",
   "execution_count": 167,
   "metadata": {},
   "outputs": [],
   "source": [
    "df.to_csv(\"DB_Structure.csv\", encoding=\"utf-8-sig\")"
   ]
  }
 ],
 "metadata": {
  "kernelspec": {
   "display_name": "base",
   "language": "python",
   "name": "python3"
  },
  "language_info": {
   "codemirror_mode": {
    "name": "ipython",
    "version": 3
   },
   "file_extension": ".py",
   "mimetype": "text/x-python",
   "name": "python",
   "nbconvert_exporter": "python",
   "pygments_lexer": "ipython3",
   "version": "3.12.7"
  }
 },
 "nbformat": 4,
 "nbformat_minor": 2
}
