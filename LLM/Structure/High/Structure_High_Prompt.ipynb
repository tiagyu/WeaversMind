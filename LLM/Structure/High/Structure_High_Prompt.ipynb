{
 "cells": [
  {
   "cell_type": "markdown",
   "metadata": {},
   "source": [
    "- Structure prompt"
   ]
  },
  {
   "cell_type": "code",
   "execution_count": 20,
   "metadata": {},
   "outputs": [],
   "source": [
    "from pydantic import BaseModel\n",
    "from openai import OpenAI\n",
    "from openai.lib._parsing import type_to_response_format_param\n",
    "import json\n",
    "from getpass import getpass\n",
    "from jinja2 import Template\n",
    "\n",
    "openai_api_key = getpass('OPENAI_API_KEY')\n",
    "client = OpenAI(api_key=openai_api_key)"
   ]
  },
  {
   "cell_type": "code",
   "execution_count": 21,
   "metadata": {},
   "outputs": [],
   "source": [
    "prompt_template = Template(\"\"\"\n",
    "You are going to be given a set of data. Refine it according to the following instruction.\n",
    "\n",
    "[PERSONA]\n",
    "```\n",
    "You are an English teacher. Your students are basic English learners, Korean high school students.\n",
    "Korean middle school students whose CEFR level is A2.\n",
    "You must produce a set of material in order to teach them effectively.\n",
    "The material should consist of [DESCRIPTION], [KEY_EXPRESSION], [SUB_EXPRESSION].\n",
    "```\n",
    "                           \n",
    "[DESCRIPTION]\n",
    "```\n",
    "You must provide the \"given description\" as [DESCRIPTION].\n",
    "e.g) • be동사의 긍정문과 부정문\n",
    "    • 동사의 과거형 \n",
    "```\n",
    "\n",
    "[KEY_EXPRESSION]\n",
    "```\n",
    "Understand the sentence structure and create a sentence using the given grammar and the given sentences. Make it different from the given sentence while keeping the sentence structure. Stay related to 'Title' topic, but do not explicitly mention it.\n",
    "Provide Korean translation using '~해요' tone. Make it natural.\n",
    "e.g) Input: 'Title\tSpend Smart, Save Smart'\n",
    "\t'동사의 과거형\tWe sold many things at the flea market.'\n",
    "\t Output: 'I spent 5000 won to buy this diary.'\n",
    "\t\t\t\t\t '이 다이어리를 사기 위해 5000원을 썼어요.'\n",
    "```\n",
    "                           \n",
    "[SUB_EXPRESSION]\n",
    "```\n",
    "You must generate two new sentences using the grammar mentioned. Stay related to 'Title' topic, but do not explicitly mention it. Keep the word count and the difficulty similar to the given CEFR level.\n",
    "Provide Korean translation using '~해요' tone. Make it natural.\n",
    "e.g) Input: 'Title\tSpend Smart, Save Smart'\n",
    "\t '동사의 과거형\tWe sold many things at the flea market.'\n",
    "\t Output: 'He bought fresh vegetables from the local farmer.'\n",
    "\t\t\t 'She picked up a pretty hat at the flea market.'\n",
    "\t\t\t '그는 지역 농부에게서 신선한 야채를 샀어요'\n",
    "\t\t\t '그녀는 벼룩시장에서 예쁜 모자를 집어들었어요.'\n",
    "```\n",
    "                           \n",
    "[EXAMPLE]\n",
    "```\n",
    "Input:\n",
    "    {\n",
    "    \"SUBJECT\" : \"영어\",\n",
    "    \"PUBLISHER\" : \"능률(김)\",\n",
    "    \"EDUCATION\" : \"2015\",\n",
    "    \"LESSON\" : \"1\"                    \n",
    "    \"TITLE\" : \"The Part You Play\",\n",
    "    \"STRUCTURES\" : \"• 전치사의 목적어로서의 동명사\\nInstead of running straight ahead, the player kindly passed the ball to Ethan so that he could score a touchdown.\"\n",
    "    }\n",
    "\n",
    "Output:\n",
    "    {\n",
    "    \"SUBJECT\" : \"영어\",\n",
    "    \"PUBLISHER\" : \"능률(김)\",\n",
    "    \"EDUCATION\" : \"2015\",\n",
    "    \"LESSON\" : \"1\"                    \n",
    "    \"TITLE\" : \"The Part You Play\",\n",
    "    \"DESCRIPTION\" : \"전치사의 목적어로서의 동명사\",\n",
    "    \"KEY_EXPRESSION\" : \"I am good at solving puzzles.\",\n",
    "    \"KEY_EXPRESSION_Kor\" : \"나는 퍼즐을 푸는 것을 잘해요.\",                           \n",
    "    \"SUB_EXPRESSION\" : \"She is afraid of speaking in public. He is interested in ()\"\n",
    "    \"SUB_EXPRESSION_Kor\" : \"그녀는 대중 앞에서 말하는 것을 두려워해요. 그는 ()에 관심이 있어요.\"\n",
    "'''\n",
    "                           \n",
    "[Input]\n",
    "```\n",
    "SUBJECT : {{subject}}\n",
    "PUBLISHER : {{publisher}}\n",
    "EDUCATION : {{education}}\n",
    "LESSON : {{lesson}}\n",
    "TITLE: {{title}}\n",
    "STRUCTURES: {{structures}}\n",
    "```\n",
    "                           \n",
    "\"\"\"\n",
    ")"
   ]
  },
  {
   "cell_type": "code",
   "execution_count": 22,
   "metadata": {},
   "outputs": [],
   "source": [
    "prompt = prompt_template.render(\n",
    "    subject = \"영어\",\n",
    "    publisher = \"능률(김)\",\n",
    "    education = \"2015\",\n",
    "    lesson = \"1\",\n",
    "    title = \"The Part You Play\",\n",
    "    structures = \"• 전치사의 목적어로서의 동명사\\nInstead of running straight ahead, the player kindly passed the ball to Ethan so that he could score a touchdown.\"\n",
    ")"
   ]
  },
  {
   "cell_type": "code",
   "execution_count": 23,
   "metadata": {},
   "outputs": [
    {
     "name": "stdout",
     "output_type": "stream",
     "text": [
      "\n",
      "You are going to be given a set of data. Refine it according to the following instruction.\n",
      "\n",
      "[PERSONA]\n",
      "```\n",
      "You are an English teacher. Your students are basic English learners, Korean high school students.\n",
      "Korean middle school students whose CEFR level is A2.\n",
      "You must produce a set of material in order to teach them effectively.\n",
      "The material should consist of [DESCRIPTION], [KEY_EXPRESSION], [SUB_EXPRESSION].\n",
      "```\n",
      "                           \n",
      "[DESCRIPTION]\n",
      "```\n",
      "You must provide the \"given description\" as [DESCRIPTION].\n",
      "e.g) • be동사의 긍정문과 부정문\n",
      "    • 동사의 과거형 \n",
      "```\n",
      "\n",
      "[KEY_EXPRESSION]\n",
      "```\n",
      "Understand the sentence structure and create a sentence using the given grammar and the given sentences. Make it different from the given sentence while keeping the sentence structure. Stay related to 'Title' topic, but do not explicitly mention it.\n",
      "Provide Korean translation using '~해요' tone. Make it natural.\n",
      "e.g) Input: 'Title\tSpend Smart, Save Smart'\n",
      "\t'동사의 과거형\tWe sold many things at the flea market.'\n",
      "\t Output: 'I spent 5000 won to buy this diary.'\n",
      "\t\t\t\t\t '이 다이어리를 사기 위해 5000원을 썼어요.'\n",
      "```\n",
      "                           \n",
      "[SUB_EXPRESSION]\n",
      "```\n",
      "You must generate two new sentences using the grammar mentioned. Stay related to 'Title' topic, but do not explicitly mention it. Keep the word count and the difficulty similar to the given CEFR level.\n",
      "Provide Korean translation using '~해요' tone. Make it natural.\n",
      "e.g) Input: 'Title\tSpend Smart, Save Smart'\n",
      "\t '동사의 과거형\tWe sold many things at the flea market.'\n",
      "\t Output: 'He bought fresh vegetables from the local farmer.'\n",
      "\t\t\t 'She picked up a pretty hat at the flea market.'\n",
      "\t\t\t '그는 지역 농부에게서 신선한 야채를 샀어요'\n",
      "\t\t\t '그녀는 벼룩시장에서 예쁜 모자를 집어들었어요.'\n",
      "```\n",
      "                           \n",
      "[EXAMPLE]\n",
      "```\n",
      "Input:\n",
      "    {\n",
      "    \"SUBJECT\" : \"영어\",\n",
      "    \"PUBLISHER\" : \"능률(김)\",\n",
      "    \"EDUCATION\" : \"2015\",\n",
      "    \"LESSON\" : \"1\"                    \n",
      "    \"TITLE\" : \"The Part You Play\",\n",
      "    \"STRUCTURES\" : \"• 전치사의 목적어로서의 동명사\n",
      "Instead of running straight ahead, the player kindly passed the ball to Ethan so that he could score a touchdown.\"\n",
      "    }\n",
      "\n",
      "Output:\n",
      "    {\n",
      "    \"SUBJECT\" : \"영어\",\n",
      "    \"PUBLISHER\" : \"능률(김)\",\n",
      "    \"EDUCATION\" : \"2015\",\n",
      "    \"LESSON\" : \"1\"                    \n",
      "    \"TITLE\" : \"The Part You Play\",\n",
      "    \"DESCRIPTION\" : \"전치사의 목적어로서의 동명사\",\n",
      "    \"KEY_EXPRESSION\" : \"I am good at solving puzzles.\",\n",
      "    \"KEY_EXPRESSION_Kor\" : \"나는 퍼즐을 푸는 것을 잘해요.\",                           \n",
      "    \"SUB_EXPRESSION\" : \"She is afraid of speaking in public. He is interested in ()\"\n",
      "    \"SUB_EXPRESSION_Kor\" : \"그녀는 대중 앞에서 말하는 것을 두려워해요. 그는 ()에 관심이 있어요.\"\n",
      "'''\n",
      "                           \n",
      "[Input]\n",
      "```\n",
      "SUBJECT : 영어\n",
      "PUBLISHER : 능률(김)\n",
      "EDUCATION : 2015\n",
      "LESSON : 1\n",
      "TITLE: The Part You Play\n",
      "STRUCTURES: • 전치사의 목적어로서의 동명사\n",
      "Instead of running straight ahead, the player kindly passed the ball to Ethan so that he could score a touchdown.\n",
      "```\n",
      "                           \n"
     ]
    }
   ],
   "source": [
    "print(prompt)"
   ]
  },
  {
   "cell_type": "code",
   "execution_count": 24,
   "metadata": {},
   "outputs": [],
   "source": [
    "class Structure(BaseModel):\n",
    "    SUBJECT : str\n",
    "    PUBLISHER : str\n",
    "    EDUCATION : int\n",
    "    LESSON : int\n",
    "    TITLE: str\n",
    "    DESCRIPTION : str\n",
    "    KEY_EXPRESSION : str\n",
    "    KEY_EXPRESSION_Kor : str\n",
    "    SUB_EXPRESSION : str\n",
    "    SUB_EXPRESSION_Kor : str"
   ]
  },
  {
   "cell_type": "code",
   "execution_count": 25,
   "metadata": {},
   "outputs": [],
   "source": [
    "response_format = type_to_response_format_param(Structure)"
   ]
  },
  {
   "cell_type": "code",
   "execution_count": 26,
   "metadata": {},
   "outputs": [
    {
     "data": {
      "text/plain": [
       "{'type': 'json_schema',\n",
       " 'json_schema': {'schema': {'properties': {'SUBJECT': {'title': 'Subject',\n",
       "     'type': 'string'},\n",
       "    'PUBLISHER': {'title': 'Publisher', 'type': 'string'},\n",
       "    'EDUCATION': {'title': 'Education', 'type': 'integer'},\n",
       "    'LESSON': {'title': 'Lesson', 'type': 'integer'},\n",
       "    'TITLE': {'title': 'Title', 'type': 'string'},\n",
       "    'DESCRIPTION': {'title': 'Description', 'type': 'string'},\n",
       "    'KEY_EXPRESSION': {'title': 'Key Expression', 'type': 'string'},\n",
       "    'KEY_EXPRESSION_Kor': {'title': 'Key Expression Kor', 'type': 'string'},\n",
       "    'SUB_EXPRESSION': {'title': 'Sub Expression', 'type': 'string'},\n",
       "    'SUB_EXPRESSION_Kor': {'title': 'Sub Expression Kor', 'type': 'string'}},\n",
       "   'required': ['SUBJECT',\n",
       "    'PUBLISHER',\n",
       "    'EDUCATION',\n",
       "    'LESSON',\n",
       "    'TITLE',\n",
       "    'DESCRIPTION',\n",
       "    'KEY_EXPRESSION',\n",
       "    'KEY_EXPRESSION_Kor',\n",
       "    'SUB_EXPRESSION',\n",
       "    'SUB_EXPRESSION_Kor'],\n",
       "   'title': 'Structure',\n",
       "   'type': 'object',\n",
       "   'additionalProperties': False},\n",
       "  'name': 'Structure',\n",
       "  'strict': True}}"
      ]
     },
     "execution_count": 26,
     "metadata": {},
     "output_type": "execute_result"
    }
   ],
   "source": [
    "response_format"
   ]
  },
  {
   "cell_type": "code",
   "execution_count": 27,
   "metadata": {},
   "outputs": [],
   "source": [
    "def completion(prompt : str) -> str:\n",
    "    response = client.beta.chat.completions.parse(\n",
    "        model = 'o3-mini-2025-01-31',\n",
    "        reasoning_effort='low',\n",
    "        messages = [\n",
    "            {\"role\" : \"system\", \"content\" : \"You are an English teacher. Your students are basic English learners, Korean high school students.\"},\n",
    "            {\"role\" : \"system\", \"content\" : \"You must produce a set of material in order to teach them effectively.\"},\n",
    "            {\"role\" : \"system\", \"content\" : \"The material should consist of [DESCRIPTION], [KEY_EXPRESSION], [SUB_EXPRESSION].\"},\n",
    "            {\"role\" : \"user\", \"content\" : prompt}\n",
    "        ],\n",
    "        response_format = Structure,\n",
    "    )\n",
    "    return response.choices[0].message.parsed"
   ]
  },
  {
   "cell_type": "code",
   "execution_count": 28,
   "metadata": {},
   "outputs": [],
   "source": [
    "response = completion(prompt)"
   ]
  },
  {
   "cell_type": "code",
   "execution_count": 29,
   "metadata": {},
   "outputs": [
    {
     "name": "stdout",
     "output_type": "stream",
     "text": [
      "{\n",
      "  \"SUBJECT\": \"영어\",\n",
      "  \"PUBLISHER\": \"능률(김)\",\n",
      "  \"EDUCATION\": 2015,\n",
      "  \"LESSON\": 1,\n",
      "  \"TITLE\": \"The Part You Play\",\n",
      "  \"DESCRIPTION\": \"전치사의 목적어로서의 동명사\",\n",
      "  \"KEY_EXPRESSION\": \"I am interested in painting landscapes.\",\n",
      "  \"KEY_EXPRESSION_Kor\": \"나는 풍경화를 그리는 것에 관심이 있어요.\",\n",
      "  \"SUB_EXPRESSION\": \"They succeeded in finishing the project on time. He apologized for losing his wallet.\",\n",
      "  \"SUB_EXPRESSION_Kor\": \"그들은 제시간에 프로젝트를 끝내는 데 성공했어요. 그는 지갑을 잃어버린 것에 대해 사과했어요.\"\n",
      "}\n"
     ]
    }
   ],
   "source": [
    "response_output = json.dumps(response.dict(), ensure_ascii=False, indent=2)\n",
    "print(response_output)"
   ]
  },
  {
   "cell_type": "markdown",
   "metadata": {},
   "source": [
    "# for문 돌려서 Batch API jsonl 파일 형식 만들기"
   ]
  },
  {
   "cell_type": "code",
   "execution_count": 36,
   "metadata": {},
   "outputs": [],
   "source": [
    "def StructureCuriMake(data , output_filename : str) -> str:\n",
    "    jsonl_data = []\n",
    "\n",
    "    for i in range(len(data)):\n",
    "        prompt = prompt_template.render(\n",
    "            subject = data.loc[i,\"제목\"],\n",
    "            publisher = data.loc[i,\"출판사\"],\n",
    "            education = data.loc[i,\"교육과정\"],\n",
    "            lesson = data.loc[i,\"Lesson\"],\n",
    "            title = data.loc[i,\"Title\"],\n",
    "            structures = data.loc[i,\"Structure\"],\n",
    "        )\n",
    "\n",
    "        structure_request = {\n",
    "            \"custom_id\" : f\"request-{i+1}\",\n",
    "            \"method\" : \"POST\",\n",
    "            \"url\" : \"/v1/chat/completions\",\n",
    "            \"body\" : {\n",
    "                \"model\" : \"o3-mini-2025-01-31\",\n",
    "                \"reasoning_effort\" : \"low\",\n",
    "                \"messages\" : [\n",
    "                    {\"role\" : \"system\", \"content\" : \"You are an English teacher. Your students are basic English learners, Korean high school students.\"},\n",
    "                    {\"role\" : \"system\", \"content\" : \"You must produce a set of material in order to teach them effectively.\"},\n",
    "                    {\"role\" : \"system\", \"content\" : \"The material should consist of [DESCRIPTION], [KEY_EXPRESSION], [SUB_EXPRESSION].\"},\n",
    "                    {\"role\": \"user\", \"content\": prompt}\n",
    "                ],\n",
    "                \"response_format\" : response_format\n",
    "            }\n",
    "        }\n",
    "\n",
    "        jsonl_data.append(structure_request)\n",
    "\n",
    "    with open(output_filename, 'w', encoding='utf-8') as jsonl_file:\n",
    "        for item in jsonl_data:\n",
    "            jsonl_file.write(json.dumps(item, ensure_ascii=False) + '\\n')\n",
    "\n",
    "    print(f'JSONL 파일 생성 완료 : {output_filename}-{i+1}')"
   ]
  },
  {
   "cell_type": "code",
   "execution_count": 37,
   "metadata": {},
   "outputs": [],
   "source": [
    "import pandas as pd\n",
    "\n",
    "df = pd.read_csv(\"DB_Structure.csv\")"
   ]
  },
  {
   "cell_type": "code",
   "execution_count": 38,
   "metadata": {},
   "outputs": [
    {
     "data": {
      "text/plain": [
       "Index(['Unnamed: 0', '제목', '출판사', '교육과정', 'Lesson', 'Title', 'Structure'], dtype='object')"
      ]
     },
     "execution_count": 38,
     "metadata": {},
     "output_type": "execute_result"
    }
   ],
   "source": [
    "df.columns"
   ]
  },
  {
   "cell_type": "code",
   "execution_count": 39,
   "metadata": {},
   "outputs": [
    {
     "data": {
      "text/html": [
       "<div>\n",
       "<style scoped>\n",
       "    .dataframe tbody tr th:only-of-type {\n",
       "        vertical-align: middle;\n",
       "    }\n",
       "\n",
       "    .dataframe tbody tr th {\n",
       "        vertical-align: top;\n",
       "    }\n",
       "\n",
       "    .dataframe thead th {\n",
       "        text-align: right;\n",
       "    }\n",
       "</style>\n",
       "<table border=\"1\" class=\"dataframe\">\n",
       "  <thead>\n",
       "    <tr style=\"text-align: right;\">\n",
       "      <th></th>\n",
       "      <th>Unnamed: 0</th>\n",
       "      <th>제목</th>\n",
       "      <th>출판사</th>\n",
       "      <th>교육과정</th>\n",
       "      <th>Lesson</th>\n",
       "      <th>Title</th>\n",
       "      <th>Structure</th>\n",
       "    </tr>\n",
       "  </thead>\n",
       "  <tbody>\n",
       "    <tr>\n",
       "      <th>0</th>\n",
       "      <td>0</td>\n",
       "      <td>영어</td>\n",
       "      <td>능률(김)</td>\n",
       "      <td>2015</td>\n",
       "      <td>1</td>\n",
       "      <td>The Part You Play</td>\n",
       "      <td>• 전치사의 목적어로서의 동명사\\nInstead of running straight...</td>\n",
       "    </tr>\n",
       "    <tr>\n",
       "      <th>1</th>\n",
       "      <td>1</td>\n",
       "      <td>영어</td>\n",
       "      <td>능률(김)</td>\n",
       "      <td>2015</td>\n",
       "      <td>2</td>\n",
       "      <td>The Power of Creativity</td>\n",
       "      <td>• 명사를 수식하는 과거분사(구)\\nThe giant pictures made fr...</td>\n",
       "    </tr>\n",
       "    <tr>\n",
       "      <th>2</th>\n",
       "      <td>2</td>\n",
       "      <td>영어</td>\n",
       "      <td>능률(김)</td>\n",
       "      <td>2015</td>\n",
       "      <td>3</td>\n",
       "      <td>Sound Life</td>\n",
       "      <td>• 사역동사+목적어+동사원형\\nHas a painting, a movie, or a...</td>\n",
       "    </tr>\n",
       "    <tr>\n",
       "      <th>3</th>\n",
       "      <td>3</td>\n",
       "      <td>영어</td>\n",
       "      <td>능률(김)</td>\n",
       "      <td>2015</td>\n",
       "      <td>4</td>\n",
       "      <td>Toward a Better World</td>\n",
       "      <td>• 관계부사\\nI am so glad that this family now has ...</td>\n",
       "    </tr>\n",
       "    <tr>\n",
       "      <th>4</th>\n",
       "      <td>4</td>\n",
       "      <td>영어</td>\n",
       "      <td>능률(김)</td>\n",
       "      <td>2015</td>\n",
       "      <td>5</td>\n",
       "      <td>What Matters Most</td>\n",
       "      <td>• 분사구문\\nReaching the hermit’s hut, the king fo...</td>\n",
       "    </tr>\n",
       "  </tbody>\n",
       "</table>\n",
       "</div>"
      ],
      "text/plain": [
       "   Unnamed: 0  제목    출판사  교육과정  Lesson                    Title  \\\n",
       "0           0  영어  능률(김)  2015       1        The Part You Play   \n",
       "1           1  영어  능률(김)  2015       2  The Power of Creativity   \n",
       "2           2  영어  능률(김)  2015       3               Sound Life   \n",
       "3           3  영어  능률(김)  2015       4    Toward a Better World   \n",
       "4           4  영어  능률(김)  2015       5        What Matters Most   \n",
       "\n",
       "                                           Structure  \n",
       "0  • 전치사의 목적어로서의 동명사\\nInstead of running straight...  \n",
       "1  • 명사를 수식하는 과거분사(구)\\nThe giant pictures made fr...  \n",
       "2  • 사역동사+목적어+동사원형\\nHas a painting, a movie, or a...  \n",
       "3  • 관계부사\\nI am so glad that this family now has ...  \n",
       "4  • 분사구문\\nReaching the hermit’s hut, the king fo...  "
      ]
     },
     "execution_count": 39,
     "metadata": {},
     "output_type": "execute_result"
    }
   ],
   "source": [
    "df.head()"
   ]
  },
  {
   "cell_type": "code",
   "execution_count": 40,
   "metadata": {},
   "outputs": [
    {
     "data": {
      "text/plain": [
       "'• 전치사의 목적어로서의 동명사\\nInstead of running straight ahead, the player kindly passed the ball to Ethan so that he could score a touchdown.'"
      ]
     },
     "execution_count": 40,
     "metadata": {},
     "output_type": "execute_result"
    }
   ],
   "source": [
    "df['Structure'][0]"
   ]
  },
  {
   "cell_type": "code",
   "execution_count": 41,
   "metadata": {},
   "outputs": [
    {
     "name": "stdout",
     "output_type": "stream",
     "text": [
      "JSONL 파일 생성 완료 : Structure_High_batch.jsonl-329\n"
     ]
    }
   ],
   "source": [
    "StructureCuriMake(df, output_filename=\"Structure_High_batch.jsonl\")"
   ]
  }
 ],
 "metadata": {
  "kernelspec": {
   "display_name": "base",
   "language": "python",
   "name": "python3"
  },
  "language_info": {
   "codemirror_mode": {
    "name": "ipython",
    "version": 3
   },
   "file_extension": ".py",
   "mimetype": "text/x-python",
   "name": "python",
   "nbconvert_exporter": "python",
   "pygments_lexer": "ipython3",
   "version": "3.12.7"
  }
 },
 "nbformat": 4,
 "nbformat_minor": 2
}
