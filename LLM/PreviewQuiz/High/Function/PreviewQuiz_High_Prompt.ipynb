{
 "cells": [
  {
   "cell_type": "markdown",
   "metadata": {},
   "source": [
    "# Preview Quiz prompt"
   ]
  },
  {
   "cell_type": "code",
   "execution_count": 1,
   "metadata": {},
   "outputs": [],
   "source": [
    "from pydantic import BaseModel\n",
    "from openai import OpenAI\n",
    "from openai.lib._parsing import type_to_response_format_param\n",
    "import json\n",
    "from getpass import getpass\n",
    "\n",
    "openai_api_key = getpass(\"OPENAI_API_KEY\")\n",
    "client = OpenAI(api_key=openai_api_key)"
   ]
  },
  {
   "cell_type": "code",
   "execution_count": 2,
   "metadata": {},
   "outputs": [],
   "source": [
    "from jinja2 import Template\n",
    "\n",
    "prompt_template = Template(\"\"\"\n",
    "[PURPOSE]\n",
    "Preview lesson content through quizzes to give a sneak peek before the actual lesson.\n",
    "The quizzes must ask key expressions/the most structurally important words themselves written in or based on the GOAL/DESCRIPTION.\n",
    "\n",
    "[QUIZ GUIDELINES]\n",
    "- Create two preview quizzes per topic. One from KEY_EXPRESSION, the other from SUB_EXPRESSIONS.\n",
    "- Put blanks on the KEY_EXPRESSION and SUB_EXPRESSION itself, no elsewhere.\n",
    "- No blanks or tildes in Korean translation\n",
    "- No tildes in the quiz.\n",
    "- Make sure you have NO multiple \"equally valid\" answers\n",
    "- Blanks must directly ask the key expressions/the most meaningful words themselves based on the DESCRIPTION.\n",
    "- Answer index = the position number of the answer.\n",
    "- Ensure that the quiz is a verb, adjective, or a key phrase from the lesson.\n",
    "- No proper nouns can be tested.\n",
    "- Create SAMPLE SCRIPT for each topic at the end of each topic.\n",
    "\n",
    "\n",
    "[POLICY]\n",
    "Each quiz needs:\n",
    "- A blank (test key patterns itself)\n",
    "- Complete Korean translation (no blanks or tildes)\n",
    "- Three options (one correct, two wrong)\n",
    "- No multiple \"equally valid\" answers/options\n",
    "- Wrong options must be distinctly wrong.\n",
    "- Shuffle the order of answer choices='answer indexes (1-3)' to avoid predictability.\n",
    "- SAMPLE SCRIPT must not be the same as the quizzes. Change one or two words to create a dialogue of different topic, but maintain the structure.\n",
    "\n",
    "[Example]\n",
    "```\n",
    "Input: \n",
    "    {\n",
    "    \"DESCRIPTION\": \"This is my friend, ~와 같은 표현을 사용해 사람을 소개하기.\",\n",
    "    \"KEY_EXPRESSION\": \"A: This is my friend, Jake.\",\n",
    "    \"SUB_EXPRESSION\": \"A: Let me introduce my friend, ~. A: Meet my friend, ~.\"\n",
    "  }\n",
    "\n",
    "Output:\n",
    "    {\n",
    "    \"goal\": [\n",
    "      \"다른 사람을 소개하는 표현을 사용할 수 있어요.\",\n",
    "      \"This is my friend, ~과 같은 표현을 사용하여 친구를 소개할 수 있어요.\"\n",
    "    ],\n",
    "    \"preview_quizzes\": [\n",
    "      {\n",
    "        \"fill_in_blank_quiz\": \"___ is my friend, Jennie.\",\n",
    "        \"korean_translation\": \"이쪽은 내 친구 Jennie야.\",\n",
    "        \"options\": [\"I\", \"They\", \"This\"],\n",
    "        \"answer\": \"This\",\n",
    "        \"answer_index\": 3\n",
    "      },\n",
    "      {\n",
    "        \"fill_in_blank_quiz\": \"Let me ___ my friend, Sarah.\",\n",
    "        \"korean_translation\": \"내 친구 Sarah를 소개할게.\",\n",
    "        \"options\": [\"introduce\", \"inter\", \"intro\"],\n",
    "        \"answer\": \"introduce\",\n",
    "        \"answer_index\": 2\n",
    "      }\n",
    "    ]\n",
    "    \"sample_script\" : [\n",
    "      {\n",
    "        \"sample_script_eng\" : \"A: This is my friend, Emma. B: Nice to meet you, Emma! A: Let me introduce my friend, David. B: Hey, David! Glad to meet you.\",\n",
    "        \"sample_script_kor\" : \"A: 얘는 내 친구, 엠마야! B: 반가워, 엠마! A: 내 친구 데이빗을 소개할게. B: 안녕, 데이빗! 만나서 반가워.\"\n",
    "      }                       \n",
    "    ]\n",
    "  }\n",
    "}\n",
    "```\n",
    "\n",
    "[Input]\n",
    "```\n",
    "DESCRIPTION: {{description}}\n",
    "KEY EXPRESSION: {{key_expression}}\n",
    "SUB EXPRESSION: {{sub_expression}}\n",
    "```\n",
    "\n",
    "\"\"\")"
   ]
  },
  {
   "cell_type": "code",
   "execution_count": 28,
   "metadata": {},
   "outputs": [],
   "source": [
    "prompt = prompt_template.render(\n",
    "    description = \"should~ 를 활용해서 의무 표현하기\",\n",
    "    key_expression = \"You should drink more water.\",\n",
    "    sub_expression = \"You should apologize to her. You should follow the safety rules.\"\n",
    ")"
   ]
  },
  {
   "cell_type": "code",
   "execution_count": 5,
   "metadata": {},
   "outputs": [
    {
     "name": "stdout",
     "output_type": "stream",
     "text": [
      "\n",
      "[PURPOSE]\n",
      "Preview lesson content through quizzes to give a sneak peek before the actual lesson.\n",
      "The quizzes must ask key expressions/the most structurally important words themselves written in or based on the GOAL/DESCRIPTION.\n",
      "\n",
      "[QUIZ GUIDELINES]\n",
      "- Create two preview quizzes per topic. One from KEY_EXPRESSION, the other from SUB_EXPRESSIONS.\n",
      "- Put blanks on the KEY_EXPRESSION and SUB_EXPRESSION itself, no elsewhere.\n",
      "- No blanks or tildes in Korean translation\n",
      "- No tildes in the quiz.\n",
      "- Make sure you have NO multiple \"equally valid\" answers\n",
      "- Blanks must directly ask the key expressions/the most meaningful words themselves based on the DESCRIPTION.\n",
      "- Answer index = the position number of the answer.\n",
      "- Ensure that the quiz is a verb, adjective, or a key phrase from the lesson.\n",
      "- No proper nouns can be tested.\n",
      "- Create SAMPLE SCRIPT for each topic at the end of each topic.\n",
      "\n",
      "\n",
      "[POLICY]\n",
      "Each quiz needs:\n",
      "- A blank (test key patterns itself)\n",
      "- Complete Korean translation (no blanks or tildes)\n",
      "- Three options (one correct, two wrong)\n",
      "- No multiple \"equally valid\" answers/options\n",
      "- Wrong options must be distinctly wrong.\n",
      "- Shuffle the order of answer choices='answer indexes (1-3)' to avoid predictability.\n",
      "- SAMPLE SCRIPT must not be the same as the quizzes. Change one or two words to create a dialogue of different topic, but maintain the structure.\n",
      "\n",
      "[Example]\n",
      "```\n",
      "Input: \n",
      "    {\n",
      "    \"DESCRIPTION\": \"This is my friend, ~와 같은 표현을 사용해 사람을 소개하기.\",\n",
      "    \"KEY_EXPRESSION\": \"A: This is my friend, Jake.\",\n",
      "    \"SUB_EXPRESSION\": \"A: Let me introduce my friend, ~. A: Meet my friend, ~.\"\n",
      "  }\n",
      "\n",
      "Output:\n",
      "    {\n",
      "    \"goal\": [\n",
      "      \"다른 사람을 소개하는 표현을 사용할 수 있어요.\",\n",
      "      \"This is my friend, ~과 같은 표현을 사용하여 친구를 소개할 수 있어요.\"\n",
      "    ],\n",
      "    \"preview_quizzes\": [\n",
      "      {\n",
      "        \"fill_in_blank_quiz\": \"___ is my friend, Jennie.\",\n",
      "        \"korean_translation\": \"이쪽은 내 친구 Jennie야.\",\n",
      "        \"options\": [\"I\", \"They\", \"This\"],\n",
      "        \"answer\": \"This\",\n",
      "        \"answer_index\": 3\n",
      "      },\n",
      "      {\n",
      "        \"fill_in_blank_quiz\": \"Let me ___ my friend, Sarah.\",\n",
      "        \"korean_translation\": \"내 친구 Sarah를 소개할게.\",\n",
      "        \"options\": [\"introduce\", \"inter\", \"intro\"],\n",
      "        \"answer\": \"introduce\",\n",
      "        \"answer_index\": 2\n",
      "      }\n",
      "    ]\n",
      "    \"sample_script\" : [\n",
      "      {\n",
      "        \"sample_script_eng\" : \"A: This is my friend, Emma. B: Nice to meet you, Emma! A: Let me introduce my friend, David. B: Hey, David! Glad to meet you.\",\n",
      "        \"sample_script_kor\" : \"A: 얘는 내 친구, 엠마야! B: 반가워, 엠마! A: 내 친구 데이빗을 소개할게. B: 안녕, 데이빗! 만나서 반가워.\"\n",
      "      }                       \n",
      "    ]\n",
      "  }\n",
      "}\n",
      "```\n",
      "\n",
      "[Input]\n",
      "```\n",
      "DESCRIPTION: Why don’t you~? 를 활용해서 제안하기\n",
      "KEY EXPRESSION: Why don’t you try this new restaurant?\n",
      "SUB EXPRESSION: Why don’t we go for a walk after dinner? Why don’t you join our book club?\n",
      "```\n",
      "\n"
     ]
    }
   ],
   "source": [
    "print(prompt)"
   ]
  },
  {
   "cell_type": "code",
   "execution_count": 6,
   "metadata": {},
   "outputs": [],
   "source": [
    "class PreviewQuiz(BaseModel):\n",
    "    fill_in_blank_quiz : str\n",
    "    korean_translation : str\n",
    "    options : list[str]\n",
    "    answer : str\n",
    "    answer_index : int\n",
    "\n",
    "class SampleScript(BaseModel):\n",
    "    sample_script_eng : str\n",
    "    sample_script_kor : str\n",
    "\n",
    "class QuizResponse(BaseModel):\n",
    "    goal : list[str]\n",
    "    preview_quizzes : list[PreviewQuiz]\n",
    "    sample_script : list[SampleScript]"
   ]
  },
  {
   "cell_type": "code",
   "execution_count": 7,
   "metadata": {},
   "outputs": [],
   "source": [
    "response_format = type_to_response_format_param(QuizResponse)"
   ]
  },
  {
   "cell_type": "code",
   "execution_count": 8,
   "metadata": {},
   "outputs": [
    {
     "data": {
      "text/plain": [
       "{'type': 'json_schema',\n",
       " 'json_schema': {'schema': {'$defs': {'PreviewQuiz': {'properties': {'fill_in_blank_quiz': {'title': 'Fill In Blank Quiz',\n",
       "       'type': 'string'},\n",
       "      'korean_translation': {'title': 'Korean Translation', 'type': 'string'},\n",
       "      'options': {'items': {'type': 'string'},\n",
       "       'title': 'Options',\n",
       "       'type': 'array'},\n",
       "      'answer': {'title': 'Answer', 'type': 'string'},\n",
       "      'answer_index': {'title': 'Answer Index', 'type': 'integer'}},\n",
       "     'required': ['fill_in_blank_quiz',\n",
       "      'korean_translation',\n",
       "      'options',\n",
       "      'answer',\n",
       "      'answer_index'],\n",
       "     'title': 'PreviewQuiz',\n",
       "     'type': 'object',\n",
       "     'additionalProperties': False},\n",
       "    'SampleScript': {'properties': {'sample_script_eng': {'title': 'Sample Script Eng',\n",
       "       'type': 'string'},\n",
       "      'sample_script_kor': {'title': 'Sample Script Kor', 'type': 'string'}},\n",
       "     'required': ['sample_script_eng', 'sample_script_kor'],\n",
       "     'title': 'SampleScript',\n",
       "     'type': 'object',\n",
       "     'additionalProperties': False}},\n",
       "   'properties': {'goal': {'items': {'type': 'string'},\n",
       "     'title': 'Goal',\n",
       "     'type': 'array'},\n",
       "    'preview_quizzes': {'items': {'$ref': '#/$defs/PreviewQuiz'},\n",
       "     'title': 'Preview Quizzes',\n",
       "     'type': 'array'},\n",
       "    'sample_script': {'items': {'$ref': '#/$defs/SampleScript'},\n",
       "     'title': 'Sample Script',\n",
       "     'type': 'array'}},\n",
       "   'required': ['goal', 'preview_quizzes', 'sample_script'],\n",
       "   'title': 'QuizResponse',\n",
       "   'type': 'object',\n",
       "   'additionalProperties': False},\n",
       "  'name': 'QuizResponse',\n",
       "  'strict': True}}"
      ]
     },
     "execution_count": 8,
     "metadata": {},
     "output_type": "execute_result"
    }
   ],
   "source": [
    "response_format"
   ]
  },
  {
   "cell_type": "code",
   "execution_count": 9,
   "metadata": {},
   "outputs": [],
   "source": [
    "def completion(prompt : str) -> str:\n",
    "    response = client.beta.chat.completions.parse(\n",
    "        model = 'o3-mini',\n",
    "        reasoning_effort='low',\n",
    "        messages = [\n",
    "            {\"role\" : \"system\", \"content\" : \"You will provide quizzes related to the topics high school students have learned.\"},\n",
    "            {\"role\" : \"user\", \"content\" : prompt}\n",
    "        ],\n",
    "        response_format = QuizResponse,\n",
    "    )\n",
    "    return response.choices[0].message.parsed"
   ]
  },
  {
   "cell_type": "code",
   "execution_count": 29,
   "metadata": {},
   "outputs": [],
   "source": [
    "response = completion(prompt)"
   ]
  },
  {
   "cell_type": "code",
   "execution_count": 11,
   "metadata": {},
   "outputs": [
    {
     "data": {
      "text/plain": [
       "QuizResponse(goal=['제안을 하는 표현을 활용할 수 있어요.', 'Why don’t you~?를 활용하여 제안을 할 수 있어요.'], preview_quizzes=[PreviewQuiz(fill_in_blank_quiz='Why don’t you ___ this new restaurant?', korean_translation='왜 이 새로운 레스토랑을 시도해 보지 않아?', options=['check', 'try', 'see'], answer='try', answer_index=2), PreviewQuiz(fill_in_blank_quiz='Why don’t we ___ for a walk after dinner?', korean_translation='저녁 식사 후 산책하는 건 어때?', options=['run', 'go', 'move'], answer='go', answer_index=2)], sample_script=[SampleScript(sample_script_eng=\"A: Why don't you try this new cafe? B: Sounds good! A: Why don't we go for a hike after lunch? B: That sounds fun!\", sample_script_kor='A: 이 새로운 카페를 시도해보는 건 어때? B: 좋네! A: 점심 후에 하이킹 가는 건 어때? B: 재밌을 것 같아!')])"
      ]
     },
     "execution_count": 11,
     "metadata": {},
     "output_type": "execute_result"
    }
   ],
   "source": [
    "response"
   ]
  },
  {
   "cell_type": "code",
   "execution_count": 30,
   "metadata": {},
   "outputs": [
    {
     "name": "stdout",
     "output_type": "stream",
     "text": [
      "{\n",
      "    \"goal\": [\n",
      "        \"의무를 표현할 때 should를 사용할 수 있어요.\",\n",
      "        \"should~ 를 활용해서 의무를 표현할 수 있어요.\"\n",
      "    ],\n",
      "    \"preview_quizzes\": [\n",
      "        {\n",
      "            \"fill_in_blank_quiz\": \"You ___ drink more water.\",\n",
      "            \"korean_translation\": \"너는 물을 더 많이 마셔야 해.\",\n",
      "            \"options\": [\n",
      "                \"can\",\n",
      "                \"should\",\n",
      "                \"will\"\n",
      "            ],\n",
      "            \"answer\": \"should\",\n",
      "            \"answer_index\": 2\n",
      "        },\n",
      "        {\n",
      "            \"fill_in_blank_quiz\": \"You ___ apologize to her.\",\n",
      "            \"korean_translation\": \"너는 그녀에게 사과해야 해.\",\n",
      "            \"options\": [\n",
      "                \"would\",\n",
      "                \"should\",\n",
      "                \"could\"\n",
      "            ],\n",
      "            \"answer\": \"should\",\n",
      "            \"answer_index\": 2\n",
      "        }\n",
      "    ],\n",
      "    \"sample_script\": [\n",
      "        {\n",
      "            \"sample_script_eng\": \"A: You should drink water frequently. B: I agree, it's very beneficial. A: You should apologize to him after the meeting. B: Absolutely, I'll do that.\",\n",
      "            \"sample_script_kor\": \"A: 너는 자주 물을 마셔야 해. B: 동의해, 아주 유익해. A: 회의 후에 그에게 사과해야 해. B: 당연히, 그렇게 할게.\"\n",
      "        }\n",
      "    ]\n",
      "}\n"
     ]
    }
   ],
   "source": [
    "response_output = json.dumps(response.dict(), ensure_ascii=False, indent = 4)\n",
    "print(response_output)"
   ]
  },
  {
   "cell_type": "code",
   "execution_count": 18,
   "metadata": {},
   "outputs": [
    {
     "name": "stdout",
     "output_type": "stream",
     "text": [
      "goal=['be going to ~를 활용해 계획이나 예정된 일에 대해 묻고 답할 수 있다.', 'be planning to 등의 표현을 활용해 미래 행동에 대해 이야기할 수 있다.'] preview_quizzes=[PreviewQuiz(fill_in_blank_quiz='What are you ____ do on your holiday?', korean_translation='휴일에 무엇을 할 예정이야?', options=['about to', 'going to', 'willing to'], answer='going to', answer_index=2), PreviewQuiz(fill_in_blank_quiz=\"I'm ____ to travel.\", korean_translation='여행할 계획이야.', options=['deciding', 'planning', 'preparing'], answer='planning', answer_index=2)] sample_script=[SampleScript(sample_script_eng=\"A: What are you going to do this weekend? B: I'm going to visit a museum. A: What are your plans for the evening? B: I'm planning to watch a movie.\", sample_script_kor='A: 이번 주말에 무엇을 할 거야? B: 박물관을 방문할 거야. A: 저녁에는 무슨 계획이 있어? B: 영화 볼 계획이야.')]\n"
     ]
    }
   ],
   "source": [
    "print(response)"
   ]
  },
  {
   "cell_type": "markdown",
   "metadata": {},
   "source": [
    "# for문 돌려서 Batch API jsonl 파일 형식 만들기"
   ]
  },
  {
   "cell_type": "markdown",
   "metadata": {},
   "source": [
    "확인 사항\n",
    "- A1, A2, B1, B2, C1, C2 CEFR level 별로 퀴즈만 만들어지면 되는건가?\n",
    "- 여섯개의 레벨 모두 만들어야하는지, 일부 레벨(A1, B1, C1)만 만들면 되는지도 결정\n",
    "\n",
    "1. 커리큘럼 정보 csv 파일 읽어오기\n",
    "2. for문으로 한줄씩 순회하면서 프롬프트 만들어주기들어주기\n",
    "3. 렌더링한 프롬프트 파일에 써주기 (처음엔 조금만, ex. 5개 커리큘럼)\n",
    "4. openai batch API 요청해서 task_id 받아오기 \n",
    "5. batch task 완료되면 결과 받아오고 검수하기"
   ]
  },
  {
   "cell_type": "code",
   "execution_count": 19,
   "metadata": {},
   "outputs": [],
   "source": [
    "def QuizMake(data, output_filename):\n",
    "    jsonl_data = []\n",
    "\n",
    "    for i in range(len(data)):\n",
    "        prompt = prompt_template.render(\n",
    "            description = data.loc[i,\"DESCRIPTION\"],\n",
    "            key_expression = data.loc[i,\"Key Expression (영어)\"],\n",
    "            sub_expression = data.loc[i,\"Sub Expression (영어)\"]\n",
    "        )\n",
    "\n",
    "        quiz_request = {\n",
    "            \"custom_id\" : f\"request-{i+1}\",\n",
    "            \"method\" : \"POST\",\n",
    "            \"url\" : \"/v1/chat/completions\",\n",
    "            \"body\" : {\n",
    "                \"model\" : \"o3-mini-2025-01-31\",\n",
    "                \"messages\" : [\n",
    "                    {\"role\": \"system\", \"content\": \"You will provide quizzes related to the topics students have learned, appropriately matching their CEFR level for middle school students.\"},\n",
    "                    {\"role\": \"user\", \"content\": prompt}\n",
    "                ],\n",
    "                \"response_format\" : response_format\n",
    "            }\n",
    "        }\n",
    "\n",
    "        jsonl_data.append(quiz_request)\n",
    "\n",
    "        with open(output_filename, 'w', encoding='utf-8') as jsonl_file:\n",
    "            for item in jsonl_data:\n",
    "                jsonl_file.write(json.dumps(item, ensure_ascii=False) + '\\n')\n",
    "\n",
    "    print(f'JSONL 파일 생성 완료 : {output_filename}-{i+1}')"
   ]
  },
  {
   "cell_type": "markdown",
   "metadata": {},
   "source": [
    "## 고등학교 jsonl 파일"
   ]
  },
  {
   "cell_type": "code",
   "execution_count": 20,
   "metadata": {},
   "outputs": [
    {
     "data": {
      "text/html": [
       "<div>\n",
       "<style scoped>\n",
       "    .dataframe tbody tr th:only-of-type {\n",
       "        vertical-align: middle;\n",
       "    }\n",
       "\n",
       "    .dataframe tbody tr th {\n",
       "        vertical-align: top;\n",
       "    }\n",
       "\n",
       "    .dataframe thead th {\n",
       "        text-align: right;\n",
       "    }\n",
       "</style>\n",
       "<table border=\"1\" class=\"dataframe\">\n",
       "  <thead>\n",
       "    <tr style=\"text-align: right;\">\n",
       "      <th></th>\n",
       "      <th>textbook ID</th>\n",
       "      <th>제목</th>\n",
       "      <th>출판사</th>\n",
       "      <th>교육과정</th>\n",
       "      <th>Lesson</th>\n",
       "      <th>구분</th>\n",
       "      <th>Title</th>\n",
       "      <th>DESCRIPTION</th>\n",
       "      <th>Key Expression (영어)</th>\n",
       "      <th>Key Expression (한국어)</th>\n",
       "      <th>Sub Expression (영어)</th>\n",
       "      <th>Unnamed: 11</th>\n",
       "    </tr>\n",
       "  </thead>\n",
       "  <tbody>\n",
       "    <tr>\n",
       "      <th>0</th>\n",
       "      <td>NaN</td>\n",
       "      <td>영어</td>\n",
       "      <td>능률(김)</td>\n",
       "      <td>2015</td>\n",
       "      <td>1</td>\n",
       "      <td>function</td>\n",
       "      <td>The Part You Play</td>\n",
       "      <td>be going to ~를 활용해 의도 표현하기.</td>\n",
       "      <td>I’m going to write a letter to explain my conc...</td>\n",
       "      <td>제 걱정을 분명하게 설명하기 위해 편지를 쓰려고 해요.</td>\n",
       "      <td>I plan to ~ in order to express my intentions....</td>\n",
       "      <td>NaN</td>\n",
       "    </tr>\n",
       "    <tr>\n",
       "      <th>1</th>\n",
       "      <td>NaN</td>\n",
       "      <td>영어</td>\n",
       "      <td>능률(김)</td>\n",
       "      <td>2015</td>\n",
       "      <td>2</td>\n",
       "      <td>function</td>\n",
       "      <td>The Power of Creativity</td>\n",
       "      <td>부사 maybe를 활용해서 가능성의 정도를 표현하기</td>\n",
       "      <td>Maybe this event will occur as planned.</td>\n",
       "      <td>아마도 이 행사는 계획대로 진행될 거예요.</td>\n",
       "      <td>Perhaps ~ will work out in the expected way. I...</td>\n",
       "      <td>NaN</td>\n",
       "    </tr>\n",
       "    <tr>\n",
       "      <th>2</th>\n",
       "      <td>NaN</td>\n",
       "      <td>영어</td>\n",
       "      <td>능률(김)</td>\n",
       "      <td>2015</td>\n",
       "      <td>3</td>\n",
       "      <td>function</td>\n",
       "      <td>Sound Life</td>\n",
       "      <td>why don’t you ~를 활용해 제안하기</td>\n",
       "      <td>Why don’t you consider taking a short break?</td>\n",
       "      <td>잠시 쉬는 것에 대해 고려해 보는 게 어때요?</td>\n",
       "      <td>Why don’t you try doing ~? Have you thought ab...</td>\n",
       "      <td>NaN</td>\n",
       "    </tr>\n",
       "    <tr>\n",
       "      <th>3</th>\n",
       "      <td>NaN</td>\n",
       "      <td>영어</td>\n",
       "      <td>능률(김)</td>\n",
       "      <td>2015</td>\n",
       "      <td>4</td>\n",
       "      <td>function</td>\n",
       "      <td>Toward a Better World</td>\n",
       "      <td>wish 문법을 활용해 바람 표현하기.</td>\n",
       "      <td>I wish I could spend more time with my family.</td>\n",
       "      <td>가족과 더 많은 시간을 보낼 수 있으면 좋겠어요.</td>\n",
       "      <td>I hope to ~ for a better experience. I would l...</td>\n",
       "      <td>NaN</td>\n",
       "    </tr>\n",
       "    <tr>\n",
       "      <th>4</th>\n",
       "      <td>NaN</td>\n",
       "      <td>영어</td>\n",
       "      <td>능률(김)</td>\n",
       "      <td>2015</td>\n",
       "      <td>5</td>\n",
       "      <td>function</td>\n",
       "      <td>What Matters Most</td>\n",
       "      <td>비인칭 주어 'It'을 활용해 강조 표현하기</td>\n",
       "      <td>It is crucial to maintain your health during w...</td>\n",
       "      <td>겨울철에는 건강을 유지하는 것이 중요해요.</td>\n",
       "      <td>It is essential to focus on ~ at all times. It...</td>\n",
       "      <td>NaN</td>\n",
       "    </tr>\n",
       "  </tbody>\n",
       "</table>\n",
       "</div>"
      ],
      "text/plain": [
       "   textbook ID  제목    출판사  교육과정  Lesson        구분                    Title  \\\n",
       "0          NaN  영어  능률(김)  2015       1  function        The Part You Play   \n",
       "1          NaN  영어  능률(김)  2015       2  function  The Power of Creativity   \n",
       "2          NaN  영어  능률(김)  2015       3  function               Sound Life   \n",
       "3          NaN  영어  능률(김)  2015       4  function    Toward a Better World   \n",
       "4          NaN  영어  능률(김)  2015       5  function        What Matters Most   \n",
       "\n",
       "                    DESCRIPTION  \\\n",
       "0   be going to ~를 활용해 의도 표현하기.   \n",
       "1  부사 maybe를 활용해서 가능성의 정도를 표현하기   \n",
       "2     why don’t you ~를 활용해 제안하기   \n",
       "3         wish 문법을 활용해 바람 표현하기.   \n",
       "4      비인칭 주어 'It'을 활용해 강조 표현하기   \n",
       "\n",
       "                                 Key Expression (영어)  \\\n",
       "0  I’m going to write a letter to explain my conc...   \n",
       "1            Maybe this event will occur as planned.   \n",
       "2       Why don’t you consider taking a short break?   \n",
       "3     I wish I could spend more time with my family.   \n",
       "4  It is crucial to maintain your health during w...   \n",
       "\n",
       "             Key Expression (한국어)  \\\n",
       "0  제 걱정을 분명하게 설명하기 위해 편지를 쓰려고 해요.   \n",
       "1         아마도 이 행사는 계획대로 진행될 거예요.   \n",
       "2       잠시 쉬는 것에 대해 고려해 보는 게 어때요?   \n",
       "3     가족과 더 많은 시간을 보낼 수 있으면 좋겠어요.   \n",
       "4         겨울철에는 건강을 유지하는 것이 중요해요.   \n",
       "\n",
       "                                 Sub Expression (영어) Unnamed: 11  \n",
       "0  I plan to ~ in order to express my intentions....         NaN  \n",
       "1  Perhaps ~ will work out in the expected way. I...         NaN  \n",
       "2  Why don’t you try doing ~? Have you thought ab...         NaN  \n",
       "3  I hope to ~ for a better experience. I would l...         NaN  \n",
       "4  It is essential to focus on ~ at all times. It...         NaN  "
      ]
     },
     "execution_count": 20,
     "metadata": {},
     "output_type": "execute_result"
    }
   ],
   "source": [
    "import pandas as pd\n",
    "\n",
    "raw_data = pd.read_csv(\"Curriculum_High_Function.csv\")\n",
    "df = raw_data.loc[raw_data['구분'] == \"function\"]\n",
    "df.head()\n"
   ]
  },
  {
   "cell_type": "code",
   "execution_count": 21,
   "metadata": {},
   "outputs": [
    {
     "name": "stdout",
     "output_type": "stream",
     "text": [
      "JSONL 파일 생성 완료 : PreviewQuiz_High_batch.jsonl-326\n"
     ]
    }
   ],
   "source": [
    "QuizMake(df, output_filename = 'PreviewQuiz_High_batch.jsonl')"
   ]
  },
  {
   "cell_type": "markdown",
   "metadata": {},
   "source": [
    "# sub_expression 해석"
   ]
  },
  {
   "cell_type": "code",
   "execution_count": 23,
   "metadata": {},
   "outputs": [],
   "source": [
    "from jinja2 import Template\n",
    "\n",
    "prompt_template = Template(\"\"\"\n",
    "[PURPOSE]\n",
    "Please translate the content in SUB_EXPRESSION naturally into Korean.  \n",
    "Make it sound casual, like talking to a friend.\n",
    "\n",
    "[Example]\n",
    "```\n",
    "Input: \n",
    "    {\n",
    "    \"SUB_EXPRESSION\": \"A: What is this? B: It's a ~. A: What is that? B: It's a ~.\"\n",
    "  }\n",
    "\n",
    "Output:\n",
    "    {\n",
    "    \"sub_expression_kor\": \"A: 이것은 뭐야? B: 이것은 ~야. A: 저것은 뭐야? B: 저것은 ~야.\"\n",
    "  }\n",
    "}\n",
    "```\n",
    "```\n",
    "Input: \n",
    "    {\n",
    "    \"SUB_EXPRESSION\": \"A: I enjoy ~. A: I'm fond of ~.\"\n",
    "  }\n",
    "\n",
    "Output:\n",
    "    {\n",
    "    \"sub_expression_kor\": \"A: 나는 ~을 즐겨. A: 나는 ~을 좋아해.\"\n",
    "  }\n",
    "}\n",
    "```\n",
    "```\n",
    "Input: \n",
    "    {\n",
    "    \"SUB_EXPRESSION\": \"It’s no big deal. Don’t mention it.\"\n",
    "  }\n",
    "\n",
    "Output:\n",
    "    {\n",
    "    \"sub_expression_kor\": \"별거 아니야. 천만에.\"\n",
    "  }\n",
    "}\n",
    "```                        \n",
    "\n",
    "\n",
    "[Input]\n",
    "```\n",
    "SUB EXPRESSION: {{sub_expression}}\n",
    "```\n",
    "\n",
    "\"\"\")"
   ]
  },
  {
   "cell_type": "code",
   "execution_count": 24,
   "metadata": {},
   "outputs": [],
   "source": [
    "prompt = prompt_template.render(\n",
    "    sub_expression = [\n",
    "        \"A: Hi, I’m (). I come from (). B: Nice to meet you. A: Hello, my name is (). I’m from (). B: Great to meet you.\"\n",
    "    ]\n",
    ")"
   ]
  },
  {
   "cell_type": "code",
   "execution_count": 25,
   "metadata": {},
   "outputs": [
    {
     "name": "stdout",
     "output_type": "stream",
     "text": [
      "\n",
      "[PURPOSE]\n",
      "Please translate the content in SUB_EXPRESSION naturally into Korean.  \n",
      "Make it sound casual, like talking to a friend.\n",
      "\n",
      "[Example]\n",
      "```\n",
      "Input: \n",
      "    {\n",
      "    \"SUB_EXPRESSION\": \"A: What is this? B: It's a ~. A: What is that? B: It's a ~.\"\n",
      "  }\n",
      "\n",
      "Output:\n",
      "    {\n",
      "    \"sub_expression_kor\": \"A: 이것은 뭐야? B: 이것은 ~야. A: 저것은 뭐야? B: 저것은 ~야.\"\n",
      "  }\n",
      "}\n",
      "```\n",
      "```\n",
      "Input: \n",
      "    {\n",
      "    \"SUB_EXPRESSION\": \"A: I enjoy ~. A: I'm fond of ~.\"\n",
      "  }\n",
      "\n",
      "Output:\n",
      "    {\n",
      "    \"sub_expression_kor\": \"A: 나는 ~을 즐겨. A: 나는 ~을 좋아해.\"\n",
      "  }\n",
      "}\n",
      "```\n",
      "```\n",
      "Input: \n",
      "    {\n",
      "    \"SUB_EXPRESSION\": \"It’s no big deal. Don’t mention it.\"\n",
      "  }\n",
      "\n",
      "Output:\n",
      "    {\n",
      "    \"sub_expression_kor\": \"별거 아니야. 천만에.\"\n",
      "  }\n",
      "}\n",
      "```                        \n",
      "\n",
      "\n",
      "[Input]\n",
      "```\n",
      "SUB EXPRESSION: ['A: Hi, I’m (). I come from (). B: Nice to meet you. A: Hello, my name is (). I’m from (). B: Great to meet you.']\n",
      "```\n",
      "\n"
     ]
    }
   ],
   "source": [
    "print(prompt)"
   ]
  },
  {
   "cell_type": "code",
   "execution_count": 26,
   "metadata": {},
   "outputs": [],
   "source": [
    "class Translate(BaseModel):\n",
    "    sub_expression_kor : str"
   ]
  },
  {
   "cell_type": "code",
   "execution_count": 27,
   "metadata": {},
   "outputs": [],
   "source": [
    "response_format = type_to_response_format_param(Translate)"
   ]
  },
  {
   "cell_type": "code",
   "execution_count": 28,
   "metadata": {},
   "outputs": [
    {
     "data": {
      "text/plain": [
       "{'type': 'json_schema',\n",
       " 'json_schema': {'schema': {'properties': {'sub_expression_kor': {'title': 'Sub Expression Kor',\n",
       "     'type': 'string'}},\n",
       "   'required': ['sub_expression_kor'],\n",
       "   'title': 'Translate',\n",
       "   'type': 'object',\n",
       "   'additionalProperties': False},\n",
       "  'name': 'Translate',\n",
       "  'strict': True}}"
      ]
     },
     "execution_count": 28,
     "metadata": {},
     "output_type": "execute_result"
    }
   ],
   "source": [
    "response_format"
   ]
  },
  {
   "cell_type": "code",
   "execution_count": 29,
   "metadata": {},
   "outputs": [],
   "source": [
    "def completion(prompt : str) -> str:\n",
    "    response = client.beta.chat.completions.parse(\n",
    "        model = 'o3-mini',\n",
    "        reasoning_effort='low',\n",
    "        messages = [\n",
    "            {\"role\" : \"system\", \"content\" : \"You will provide a Korean translation.\"},\n",
    "            {\"role\" : \"user\", \"content\" : prompt}\n",
    "        ],\n",
    "        response_format = Translate,\n",
    "    )\n",
    "    return response.choices[0].message.parsed"
   ]
  },
  {
   "cell_type": "code",
   "execution_count": 30,
   "metadata": {},
   "outputs": [],
   "source": [
    "response = completion(prompt)"
   ]
  },
  {
   "cell_type": "code",
   "execution_count": 31,
   "metadata": {},
   "outputs": [
    {
     "name": "stdout",
     "output_type": "stream",
     "text": [
      "{\n",
      "    \"sub_expression_kor\": \"A: 안녕, 나는 ()야. 나는 ()에서 왔어. B: 만나서 반가워. A: 안녕, 내 이름은 ()야. 나는 ()에서 왔어. B: 만나서 반가워.\"\n",
      "}\n"
     ]
    }
   ],
   "source": [
    "response_output = json.dumps(response.dict(), ensure_ascii=False, indent = 4)\n",
    "print(response_output)"
   ]
  },
  {
   "cell_type": "code",
   "execution_count": 32,
   "metadata": {},
   "outputs": [
    {
     "name": "stdout",
     "output_type": "stream",
     "text": [
      "sub_expression_kor='A: 안녕, 나는 ()야. 나는 ()에서 왔어. B: 만나서 반가워. A: 안녕, 내 이름은 ()야. 나는 ()에서 왔어. B: 만나서 반가워.'\n"
     ]
    }
   ],
   "source": [
    "print(response)"
   ]
  },
  {
   "cell_type": "code",
   "execution_count": 33,
   "metadata": {},
   "outputs": [],
   "source": [
    "def Translate(data, output_filename):\n",
    "    jsonl_data = []\n",
    "\n",
    "    for i in range(len(data)):\n",
    "        prompt = prompt_template.render(\n",
    "            sub_expression = data.loc[i,\"Sub Expression (영어)\"]\n",
    "        )\n",
    "\n",
    "        quiz_request = {\n",
    "            \"custom_id\" : f\"request-{i+1}\",\n",
    "            \"method\" : \"POST\",\n",
    "            \"url\" : \"/v1/chat/completions\",\n",
    "            \"body\" : {\n",
    "                \"model\" : \"o3-mini-2025-01-31\",\n",
    "                \"messages\" : [\n",
    "                    {\"role\": \"system\", \"content\": \"You will provide a Korean translation.\"},\n",
    "                    {\"role\": \"user\", \"content\": prompt}\n",
    "                ],\n",
    "                \"response_format\" : response_format\n",
    "            }\n",
    "        }\n",
    "\n",
    "        jsonl_data.append(quiz_request)\n",
    "\n",
    "        with open(output_filename, 'w', encoding='utf-8') as jsonl_file:\n",
    "            for item in jsonl_data:\n",
    "                jsonl_file.write(json.dumps(item, ensure_ascii=False) + '\\n')\n",
    "\n",
    "    print(f'JSONL 파일 생성 완료 : {output_filename}-{i+1}')"
   ]
  },
  {
   "cell_type": "code",
   "execution_count": 34,
   "metadata": {},
   "outputs": [
    {
     "name": "stdout",
     "output_type": "stream",
     "text": [
      "JSONL 파일 생성 완료 : Translate_High_Function_batch.jsonl-326\n"
     ]
    }
   ],
   "source": [
    "Translate(df, output_filename=\"Translate_High_Function_batch.jsonl\")"
   ]
  }
 ],
 "metadata": {
  "kernelspec": {
   "display_name": "base",
   "language": "python",
   "name": "python3"
  },
  "language_info": {
   "codemirror_mode": {
    "name": "ipython",
    "version": 3
   },
   "file_extension": ".py",
   "mimetype": "text/x-python",
   "name": "python",
   "nbconvert_exporter": "python",
   "pygments_lexer": "ipython3",
   "version": "3.12.7"
  }
 },
 "nbformat": 4,
 "nbformat_minor": 2
}
