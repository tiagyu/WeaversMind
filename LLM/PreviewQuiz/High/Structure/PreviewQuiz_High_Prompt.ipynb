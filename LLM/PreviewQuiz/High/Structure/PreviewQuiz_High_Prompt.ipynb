{
 "cells": [
  {
   "cell_type": "markdown",
   "metadata": {},
   "source": [
    "# Preview Quiz prompt"
   ]
  },
  {
   "cell_type": "code",
   "execution_count": 1,
   "metadata": {},
   "outputs": [],
   "source": [
    "from pydantic import BaseModel\n",
    "from openai import OpenAI\n",
    "from openai.lib._parsing import type_to_response_format_param\n",
    "import json\n",
    "from getpass import getpass\n",
    "\n",
    "openai_api_key = getpass(\"OPENAI_API_KEY\")\n",
    "client = OpenAI(api_key=openai_api_key)"
   ]
  },
  {
   "cell_type": "code",
   "execution_count": 2,
   "metadata": {},
   "outputs": [],
   "source": [
    "from jinja2 import Template\n",
    "\n",
    "prompt_template = Template(\"\"\"\n",
    "[PURPOSE]\n",
    "Preview lesson content through quizzes to give a sneak peek before the actual lesson.\n",
    "The quizzes must ask key expressions/the most grammatically important phrases themselves written in or based on the GOAL/DESCRIPTION. You must also provide Korean translation of each quiz.\n",
    "\n",
    "[QUIZ GUIDELINES]\n",
    "- Create two preview quizzes per topic. One from KEY_EXPRESSION, the other from SUB_EXPRESSIONS.\n",
    "- Put blanks on the KEY_EXPRESSION and SUB_EXPRESSION itself, no elsewhere.\n",
    "- No blanks or tildes in Korean translation\n",
    "- No tildes in the quiz.\n",
    "- You must make sure you have NO multiple \"equally valid\" answers\n",
    "- Answer index = the position number of the answer\n",
    "- You must make sure that the quiz asks the exact grammar written in the description.\n",
    "- No proper nouns can be tested.\n",
    "- Create SAMPLE SCRIPT for each topic at the end. SAMPLE SCRIPT must be 2 turns per group. The two groups MUST NOT be related in terms of the conversation flow, but maintain the grammatical structure. They must not be separated, but in one line.\n",
    "  e.g.) \"sample_script\": 동사의 과거형, \"A: What did you do last weekend? B: I met my friends and had lunch. A: Where did you travel last summer? B: I went to Vietnam with my family.\"\n",
    "\n",
    "\n",
    "[POLICY]\n",
    "Each quiz needs:\n",
    "- Modify DESCRIPTION using '~해요' tone in Korean.\n",
    "- ALL Korean translations must use '~해요' tone, with honorifics.\n",
    "- A blank (test key patterns itself)\n",
    "- Korean translation MUST NOT INCLUDE blanks or tildes.\n",
    "- Three options (one correct, two wrong)\n",
    "- No multiple \"equally valid\" answers/options.\n",
    "- Wrong options must be grammatically wrong when put in the blank.\n",
    "- Shuffle the order of answer choices='answer indexes (1-3)' to avoid predictability.\n",
    "- You must count the number of each answer index to make sure the indexes are equally distributed.\n",
    "- SAMPLE SCRIPT must not be the same as the quizzes. You must change one or two words to create a dialogue of different topic, but maintain the structure.\n",
    "\n",
    "[Example]\n",
    "```\n",
    "Input: \n",
    "    {\n",
    "    \"DESCRIPTION\": \"동사의 과거형\",\n",
    "    \"KEY_EXPRESSION\": \"My morning began peacefully.\",\n",
    "    \"SUB_EXPRESSION\": \"He prepared a simple breakfast yesterday. She finished her homework before dinner.\"\n",
    "  }\n",
    "\n",
    "\n",
    "Output:\n",
    "    {\n",
    "    \"goal\": [\n",
    "      \"동사의 과거형을 사용할 수 있어요.\"\n",
    "    ],\n",
    "    \"preview_quizzes\": [\n",
    "      {\n",
    "        \"fill_in_blank_quiz\": \"I ___ a stylish notebook from the discount shop.\",\n",
    "        \"korean_translation\": \"나는 할인 가게에서 멋진 공책을 샀어요.\",\n",
    "        \"options\": [\"buy\", \"bought\", \"brought\"],\n",
    "        \"answer\": \"bought\",\n",
    "        \"answer_index\": \"2\"\n",
    "      },\n",
    "      {\n",
    "        \"fill_in_blank_quiz\": \"He ___ his money wisely at the store.\",\n",
    "        \"korean_translation\": \"그는 가게에서 돈을 현명하게 썼어요.\",\n",
    "        \"options\": [\"spin\", \"spend\", \"spent\"],\n",
    "        \"answer\": \"spent\",\n",
    "        \"answer_index\": \"3\"     \n",
    "      }\n",
    "    ]\n",
    "    \"sample_script\" : [\n",
    "      {\n",
    "        \"sample_script_eng\" : \"A: What did you do last weekend? B: I met my friends and had lunch. A: Where did you travel last summer? B: I went to Vietnam with my family.\",\n",
    "        \"sample_script_kor\" : \"A: 저번 주말에 무엇을 했어요? B: 친구들을 만나서 점심을 먹었어요. A: 지난 여름에 어디로 여행갔어요? B: 가족들과 베트남에 갔어요.\"\n",
    "      }                       \n",
    "    ]\n",
    "  }\n",
    "}\n",
    "```\n",
    "```\n",
    "Input: \n",
    "    {\n",
    "    \"DESCRIPTION\": \"비교급, 최상급\",\n",
    "    \"KEY_EXPRESSION\": \"She worked more steadily than anyone else.\",\n",
    "    \"SUB_EXPRESSION\": \"He ran more quickly than his classmates. Dreaming big is the best way.\"\n",
    "  }\n",
    "\n",
    "\n",
    "Output:\n",
    "    {\n",
    "    \"goal\": [\n",
    "        \"비교급과 최상급을 사용할 수 있어요.\"\n",
    "    ],\n",
    "    \"preview_quizzes\": [\n",
    "        {\n",
    "            \"fill_in_blank_quiz\": \"She worked ___ steadily than anyone else.\",\n",
    "            \"korean_translation\": \"그녀는 누구보다도 꾸준하게 일했어요.\",\n",
    "            \"options\": [\n",
    "                \"better\",\n",
    "                \"more\",\n",
    "                \"good\"\n",
    "            ],\n",
    "            \"answer\": \"more\",\n",
    "            \"answer_index\": \"2\",\n",
    "        },\n",
    "        {\n",
    "            \"fill_in_blank_quiz\": \"Dreaming big is the ___ way.\",\n",
    "            \"korean_translation\": \"큰 꿈을 꾸는 것이 최고인 방법이에요.\",\n",
    "            \"options\": [\n",
    "                \"best\",\n",
    "                \"better\",\n",
    "                \"most\"\n",
    "            ],\n",
    "            \"answer\": \"best\",\n",
    "            \"answer_index\": \"1\",\n",
    "        }\n",
    "    ],\n",
    "    \"sample_script\": [\n",
    "        {\n",
    "            \"sample_script_eng\": \"A: Has she won the race? B: No, there was someone faster than her. A: You are interested in physics, aren't you? B: Yes, but I am more interested in math.\",\n",
    "            \"sample_script_kor\": \"A: 그녀가 경주를 이겼나요? B: 아니요, 그녀보다 빠른 사람이 있었어요. A: 당신은 물리학에 관심이 있어요, 그렇죠? B: 네, 그렇지만 저는 수학에 더 관심이 있어요.\"\n",
    "        }\n",
    "    ]\n",
    "}\n",
    "```                           \n",
    "\n",
    "[Input]\n",
    "```\n",
    "DESCRIPTION: {{description}}\n",
    "KEY EXPRESSION: {{key_expression}}\n",
    "SUB EXPRESSION: {{sub_expression}}\n",
    "```\n",
    "\n",
    "\"\"\")"
   ]
  },
  {
   "cell_type": "code",
   "execution_count": 42,
   "metadata": {},
   "outputs": [],
   "source": [
    "prompt = prompt_template.render(\n",
    "    description = \"관계부사 where\",\n",
    "    key_expression = \"This is the park where we played as kids.\",\n",
    "    sub_expression = \"I remember the café where we first met. She visited the city where her parents were born.\"\n",
    ")"
   ]
  },
  {
   "cell_type": "code",
   "execution_count": 4,
   "metadata": {},
   "outputs": [
    {
     "name": "stdout",
     "output_type": "stream",
     "text": [
      "\n",
      "[PURPOSE]\n",
      "Preview lesson content through quizzes to give a sneak peek before the actual lesson.\n",
      "The quizzes must ask key expressions/the most grammatically important phrases themselves written in or based on the GOAL/DESCRIPTION. You must also provide Korean translation of each quiz.\n",
      "\n",
      "[QUIZ GUIDELINES]\n",
      "- Create two preview quizzes per topic. One from KEY_EXPRESSION, the other from SUB_EXPRESSIONS.\n",
      "- Put blanks on the KEY_EXPRESSION and SUB_EXPRESSION itself, no elsewhere.\n",
      "- No blanks or tildes in Korean translation\n",
      "- No tildes in the quiz.\n",
      "- You must make sure you have NO multiple \"equally valid\" answers\n",
      "- Answer index = the position number of the answer\n",
      "- You must make sure that the quiz asks the exact grammar written in the description.\n",
      "- No proper nouns can be tested.\n",
      "- Create SAMPLE SCRIPT for each topic at the end. SAMPLE SCRIPT must be 2 turns per group. The two groups MUST NOT be related in terms of the conversation flow, but maintain the grammatical structure. They must not be separated, but in one line.\n",
      "  e.g.) \"sample_script\": 동사의 과거형, \"A: What did you do last weekend? B: I met my friends and had lunch. A: Where did you travel last summer? B: I went to Vietnam with my family.\"\n",
      "\n",
      "\n",
      "[POLICY]\n",
      "Each quiz needs:\n",
      "- Modify DESCRIPTION using '~해요' tone in Korean.\n",
      "- ALL Korean translations must use '~해요' tone, with honorifics.\n",
      "- A blank (test key patterns itself)\n",
      "- Korean translation MUST NOT INCLUDE blanks or tildes.\n",
      "- Three options (one correct, two wrong)\n",
      "- No multiple \"equally valid\" answers/options.\n",
      "- Wrong options must be grammatically wrong when put in the blank.\n",
      "- Shuffle the order of answer choices='answer indexes (1-3)' to avoid predictability.\n",
      "- You must count the number of each answer index to make sure the indexes are equally distributed.\n",
      "- SAMPLE SCRIPT must not be the same as the quizzes. You must change one or two words to create a dialogue of different topic, but maintain the structure.\n",
      "\n",
      "[Example]\n",
      "```\n",
      "Input: \n",
      "    {\n",
      "    \"DESCRIPTION\": \"동사의 과거형\",\n",
      "    \"KEY_EXPRESSION\": \"My morning began peacefully.\",\n",
      "    \"SUB_EXPRESSION\": \"He prepared a simple breakfast yesterday. She finished her homework before dinner.\"\n",
      "  }\n",
      "\n",
      "\n",
      "Output:\n",
      "    {\n",
      "    \"goal\": [\n",
      "      \"동사의 과거형을 사용할 수 있어요.\"\n",
      "    ],\n",
      "    \"preview_quizzes\": [\n",
      "      {\n",
      "        \"fill_in_blank_quiz\": \"I ___ a stylish notebook from the discount shop.\",\n",
      "        \"korean_translation\": \"나는 할인 가게에서 멋진 공책을 샀어요.\",\n",
      "        \"options\": [\"buy\", \"bought\", \"brought\"],\n",
      "        \"answer\": \"bought\",\n",
      "        \"answer_index\": \"2\"\n",
      "      },\n",
      "      {\n",
      "        \"fill_in_blank_quiz\": \"He ___ his money wisely at the store.\",\n",
      "        \"korean_translation\": \"그는 가게에서 돈을 현명하게 썼어요.\",\n",
      "        \"options\": [\"spin\", \"spend\", \"spent\"],\n",
      "        \"answer\": \"spent\",\n",
      "        \"answer_index\": \"3\"     \n",
      "      }\n",
      "    ]\n",
      "    \"sample_script\" : [\n",
      "      {\n",
      "        \"sample_script_eng\" : \"A: What did you do last weekend? B: I met my friends and had lunch. A: Where did you travel last summer? B: I went to Vietnam with my family.\",\n",
      "        \"sample_script_kor\" : \"A: 저번 주말에 무엇을 했어요? B: 친구들을 만나서 점심을 먹었어요. A: 지난 여름에 어디로 여행갔어요? B: 가족들과 베트남에 갔어요.\"\n",
      "      }                       \n",
      "    ]\n",
      "  }\n",
      "}\n",
      "```\n",
      "```\n",
      "Input: \n",
      "    {\n",
      "    \"DESCRIPTION\": \"비교급, 최상급\",\n",
      "    \"KEY_EXPRESSION\": \"She worked more steadily than anyone else.\",\n",
      "    \"SUB_EXPRESSION\": \"He ran more quickly than his classmates. Dreaming big is the best way.\"\n",
      "  }\n",
      "\n",
      "\n",
      "Output:\n",
      "    {\n",
      "    \"goal\": [\n",
      "        \"비교급과 최상급을 사용할 수 있어요.\"\n",
      "    ],\n",
      "    \"preview_quizzes\": [\n",
      "        {\n",
      "            \"fill_in_blank_quiz\": \"She worked ___ steadily than anyone else.\",\n",
      "            \"korean_translation\": \"그녀는 누구보다도 꾸준하게 일했어요.\",\n",
      "            \"options\": [\n",
      "                \"better\",\n",
      "                \"more\",\n",
      "                \"good\"\n",
      "            ],\n",
      "            \"answer\": \"more\",\n",
      "            \"answer_index\": \"2\",\n",
      "        },\n",
      "        {\n",
      "            \"fill_in_blank_quiz\": \"Dreaming big is the ___ way.\",\n",
      "            \"korean_translation\": \"큰 꿈을 꾸는 것이 최고인 방법이에요.\",\n",
      "            \"options\": [\n",
      "                \"best\",\n",
      "                \"better\",\n",
      "                \"most\"\n",
      "            ],\n",
      "            \"answer\": \"best\",\n",
      "            \"answer_index\": \"1\",\n",
      "        }\n",
      "    ],\n",
      "    \"sample_script\": [\n",
      "        {\n",
      "            \"sample_script_eng\": \"A: Has she won the race? B: No, there was someone faster than her. A: You are interested in physics, aren't you? B: Yes, but I am more interested in math.\",\n",
      "            \"sample_script_kor\": \"A: 그녀가 경주를 이겼나요? B: 아니요, 그녀보다 빠른 사람이 있었어요. A: 당신은 물리학에 관심이 있어요, 그렇죠? B: 네, 그렇지만 저는 수학에 더 관심이 있어요.\"\n",
      "        }\n",
      "    ]\n",
      "}\n",
      "```                           \n",
      "\n",
      "[Input]\n",
      "```\n",
      "DESCRIPTION: 현재완료 진행형\n",
      "KEY EXPRESSION: I’ve been looking for new hobbies lately.\n",
      "SUB EXPRESSION: She has been learning how to cook. They have been working on a big project.\n",
      "```\n",
      "\n"
     ]
    }
   ],
   "source": [
    "print(prompt)"
   ]
  },
  {
   "cell_type": "code",
   "execution_count": 5,
   "metadata": {},
   "outputs": [],
   "source": [
    "class PreviewQuiz(BaseModel):\n",
    "    fill_in_blank_quiz : str\n",
    "    korean_translation : str\n",
    "    options : list[str]\n",
    "    answer : str\n",
    "    answer_index : int\n",
    "\n",
    "class SampleScript(BaseModel):\n",
    "    sample_script_eng : str\n",
    "    sample_script_kor : str\n",
    "\n",
    "class QuizResponse(BaseModel):\n",
    "    goal : list[str]\n",
    "    preview_quizzes : list[PreviewQuiz]\n",
    "    sample_script : list[SampleScript]"
   ]
  },
  {
   "cell_type": "code",
   "execution_count": 6,
   "metadata": {},
   "outputs": [],
   "source": [
    "response_format = type_to_response_format_param(QuizResponse)"
   ]
  },
  {
   "cell_type": "code",
   "execution_count": 7,
   "metadata": {},
   "outputs": [
    {
     "data": {
      "text/plain": [
       "{'type': 'json_schema',\n",
       " 'json_schema': {'schema': {'$defs': {'PreviewQuiz': {'properties': {'fill_in_blank_quiz': {'title': 'Fill In Blank Quiz',\n",
       "       'type': 'string'},\n",
       "      'korean_translation': {'title': 'Korean Translation', 'type': 'string'},\n",
       "      'options': {'items': {'type': 'string'},\n",
       "       'title': 'Options',\n",
       "       'type': 'array'},\n",
       "      'answer': {'title': 'Answer', 'type': 'string'},\n",
       "      'answer_index': {'title': 'Answer Index', 'type': 'integer'}},\n",
       "     'required': ['fill_in_blank_quiz',\n",
       "      'korean_translation',\n",
       "      'options',\n",
       "      'answer',\n",
       "      'answer_index'],\n",
       "     'title': 'PreviewQuiz',\n",
       "     'type': 'object',\n",
       "     'additionalProperties': False},\n",
       "    'SampleScript': {'properties': {'sample_script_eng': {'title': 'Sample Script Eng',\n",
       "       'type': 'string'},\n",
       "      'sample_script_kor': {'title': 'Sample Script Kor', 'type': 'string'}},\n",
       "     'required': ['sample_script_eng', 'sample_script_kor'],\n",
       "     'title': 'SampleScript',\n",
       "     'type': 'object',\n",
       "     'additionalProperties': False}},\n",
       "   'properties': {'goal': {'items': {'type': 'string'},\n",
       "     'title': 'Goal',\n",
       "     'type': 'array'},\n",
       "    'preview_quizzes': {'items': {'$ref': '#/$defs/PreviewQuiz'},\n",
       "     'title': 'Preview Quizzes',\n",
       "     'type': 'array'},\n",
       "    'sample_script': {'items': {'$ref': '#/$defs/SampleScript'},\n",
       "     'title': 'Sample Script',\n",
       "     'type': 'array'}},\n",
       "   'required': ['goal', 'preview_quizzes', 'sample_script'],\n",
       "   'title': 'QuizResponse',\n",
       "   'type': 'object',\n",
       "   'additionalProperties': False},\n",
       "  'name': 'QuizResponse',\n",
       "  'strict': True}}"
      ]
     },
     "execution_count": 7,
     "metadata": {},
     "output_type": "execute_result"
    }
   ],
   "source": [
    "response_format"
   ]
  },
  {
   "cell_type": "code",
   "execution_count": 8,
   "metadata": {},
   "outputs": [],
   "source": [
    "def completion(prompt : str) -> str:\n",
    "    response = client.beta.chat.completions.parse(\n",
    "        model = 'o3-mini',\n",
    "        reasoning_effort='low',\n",
    "        messages = [\n",
    "            {\"role\" : \"system\", \"content\" : \"You will provide quizzes related to the topics students have learned, appropriately matching their CEFR level for high school students.\"},\n",
    "            {\"role\" : \"user\", \"content\" : prompt}\n",
    "        ],\n",
    "        response_format = QuizResponse,\n",
    "    )\n",
    "    return response.choices[0].message.parsed"
   ]
  },
  {
   "cell_type": "code",
   "execution_count": 43,
   "metadata": {},
   "outputs": [],
   "source": [
    "response = completion(prompt)"
   ]
  },
  {
   "cell_type": "code",
   "execution_count": 10,
   "metadata": {},
   "outputs": [
    {
     "data": {
      "text/plain": [
       "QuizResponse(goal=['현재완료 진행형을 사용할 수 있어요.'], preview_quizzes=[PreviewQuiz(fill_in_blank_quiz='I’ve ___ looking for new hobbies lately.', korean_translation='저는 최근에 새로운 취미를 찾고 있어요.', options=['had', 'been', 'was'], answer='been', answer_index=2), PreviewQuiz(fill_in_blank_quiz='She has ___ learning how to cook.', korean_translation='그녀는 요리하는 법을 배우고 있어요.', options=['been', 'did', 'was'], answer='been', answer_index=1)], sample_script=[SampleScript(sample_script_eng='A: Have you been studying for the exams? B: Yes, I have been reviewing my notes. A: Are you trying a new sport? B: Yes, I have been learning tennis.', sample_script_kor='A: 시험 준비를 하고 있었어요? B: 네, 노트를 복습하고 있었어요. A: 새로운 스포츠를 시도하고 있었어요? B: 네, 테니스를 배우고 있었어요.')])"
      ]
     },
     "execution_count": 10,
     "metadata": {},
     "output_type": "execute_result"
    }
   ],
   "source": [
    "response"
   ]
  },
  {
   "cell_type": "code",
   "execution_count": 44,
   "metadata": {},
   "outputs": [
    {
     "name": "stdout",
     "output_type": "stream",
     "text": [
      "{\n",
      "    \"goal\": [\n",
      "        \"관계부사 where를 사용할 수 있어요.\"\n",
      "    ],\n",
      "    \"preview_quizzes\": [\n",
      "        {\n",
      "            \"fill_in_blank_quiz\": \"This is the park ___ we played as kids.\",\n",
      "            \"korean_translation\": \"이곳은 우리가 어렸을 때 놀았던 공원이예요.\",\n",
      "            \"options\": [\n",
      "                \"when\",\n",
      "                \"where\",\n",
      "                \"which\"\n",
      "            ],\n",
      "            \"answer\": \"where\",\n",
      "            \"answer_index\": 2\n",
      "        },\n",
      "        {\n",
      "            \"fill_in_blank_quiz\": \"I remember the café ___ we first met.\",\n",
      "            \"korean_translation\": \"나는 우리가 처음 만났던 카페를 기억해요.\",\n",
      "            \"options\": [\n",
      "                \"where\",\n",
      "                \"which\",\n",
      "                \"when\"\n",
      "            ],\n",
      "            \"answer\": \"where\",\n",
      "            \"answer_index\": 1\n",
      "        }\n",
      "    ],\n",
      "    \"sample_script\": [\n",
      "        {\n",
      "            \"sample_script_eng\": \"A: This is the bookstore where I discovered a rare book. B: Yes, it is the shop where I frequently browse. A: I visited the landmark where history comes alive. B: Indeed, it is the site where culture thrives.\",\n",
      "            \"sample_script_kor\": \"A: 여기 제가 희귀한 책을 발견한 서점이에요. B: 네, 여기 제가 자주 들르는 가게예요. A: 저는 역사가 살아 움직이는 명소를 방문했어요. B: 맞아요, 그곳은 문화가 피어나는 장소예요.\"\n",
      "        }\n",
      "    ]\n",
      "}\n"
     ]
    }
   ],
   "source": [
    "response_output = json.dumps(response.dict(), ensure_ascii=False, indent = 4)\n",
    "print(response_output)"
   ]
  },
  {
   "cell_type": "code",
   "execution_count": 12,
   "metadata": {},
   "outputs": [
    {
     "name": "stdout",
     "output_type": "stream",
     "text": [
      "goal=['부정어구 도치를 사용할 수 있어요.'] preview_quizzes=[PreviewQuiz(fill_in_blank_quiz='Not only ___ we prepare the dish carefully, but it turned out to be delicious.', korean_translation='우리는 음식을 조심스럽게 준비했을 뿐만 아니라 정말 맛있게 됐어요.', options=['did', 'do', 'done'], answer='did', answer_index=2), PreviewQuiz(fill_in_blank_quiz='Not only ___ the chef experiment with fresh herbs, but the recipe was a hit.', korean_translation='요리사는 신선한 허브로 실험했을 뿐만 아니라 그 레시피는 성공적이었어요.', options=['did', 'do', 'does'], answer='did', answer_index=1)] sample_script=[SampleScript(sample_script_eng='A: Not only did you finish the project early, but you also presented it clearly. B: Yes, I worked hard and organized everything well. A: Not only did they launch the new product successfully, but they also received great feedback. B: Indeed, their efforts were highly appreciated.', sample_script_kor='A: 프로젝트를 일찍 끝냈을 뿐만 아니라 명확하게 발표했어요? B: 네, 열심히 일하고 모든 것을 잘 조직했어요. A: 그들은 신제품을 성공적으로 출시했을 뿐만 아니라 훌륭한 반응도 받았어요? B: 맞아요, 그들의 노력이 크게 인정받았어요.')]\n"
     ]
    }
   ],
   "source": [
    "print(response)"
   ]
  },
  {
   "cell_type": "markdown",
   "metadata": {},
   "source": [
    "# for문 돌려서 Batch API jsonl 파일 형식 만들기"
   ]
  },
  {
   "cell_type": "markdown",
   "metadata": {},
   "source": [
    "확인 사항\n",
    "- A1, A2, B1, B2, C1, C2 CEFR level 별로 퀴즈만 만들어지면 되는건가?\n",
    "- 여섯개의 레벨 모두 만들어야하는지, 일부 레벨(A1, B1, C1)만 만들면 되는지도 결정\n",
    "\n",
    "1. 커리큘럼 정보 csv 파일 읽어오기\n",
    "2. for문으로 한줄씩 순회하면서 프롬프트 만들어주기들어주기\n",
    "3. 렌더링한 프롬프트 파일에 써주기 (처음엔 조금만, ex. 5개 커리큘럼)\n",
    "4. openai batch API 요청해서 task_id 받아오기 \n",
    "5. batch task 완료되면 결과 받아오고 검수하기"
   ]
  },
  {
   "cell_type": "code",
   "execution_count": 28,
   "metadata": {},
   "outputs": [],
   "source": [
    "def QuizMake(data, output_filename):\n",
    "    jsonl_data = []\n",
    "\n",
    "    for i in range(len(data)):\n",
    "        prompt = prompt_template.render(\n",
    "            description = data.loc[i,\"DESCRIPTION\"],\n",
    "            key_expression = data.loc[i,\"KEY_EXPRESSION\"],\n",
    "            sub_expression = [\n",
    "                data.loc[i,\"SUB_EXPRESSION\"]\n",
    "            ]\n",
    "        )\n",
    "\n",
    "        quiz_request = {\n",
    "            \"custom_id\" : f\"request-{i+1}\",\n",
    "            \"method\" : \"POST\",\n",
    "            \"url\" : \"/v1/chat/completions\",\n",
    "            \"body\" : {\n",
    "                \"model\" : \"o3-mini-2025-01-31\",\n",
    "                \"messages\" : [\n",
    "                    {\"role\": \"system\", \"content\": \"You will provide quizzes related to the topics students have learned, appropriately matching their CEFR level for middle school students.\"},\n",
    "                    {\"role\": \"user\", \"content\": prompt}\n",
    "                ],\n",
    "                \"response_format\" : response_format\n",
    "            }\n",
    "        }\n",
    "\n",
    "        jsonl_data.append(quiz_request)\n",
    "\n",
    "        with open(output_filename, 'w', encoding='utf-8') as jsonl_file:\n",
    "            for item in jsonl_data:\n",
    "                jsonl_file.write(json.dumps(item, ensure_ascii=False) + '\\n')\n",
    "\n",
    "    print(f'JSONL 파일 생성 완료 : {output_filename}-{i+1}')"
   ]
  },
  {
   "cell_type": "markdown",
   "metadata": {},
   "source": [
    "## 고등학교 jsonl 파일"
   ]
  },
  {
   "cell_type": "code",
   "execution_count": 29,
   "metadata": {},
   "outputs": [
    {
     "data": {
      "text/html": [
       "<div>\n",
       "<style scoped>\n",
       "    .dataframe tbody tr th:only-of-type {\n",
       "        vertical-align: middle;\n",
       "    }\n",
       "\n",
       "    .dataframe tbody tr th {\n",
       "        vertical-align: top;\n",
       "    }\n",
       "\n",
       "    .dataframe thead th {\n",
       "        text-align: right;\n",
       "    }\n",
       "</style>\n",
       "<table border=\"1\" class=\"dataframe\">\n",
       "  <thead>\n",
       "    <tr style=\"text-align: right;\">\n",
       "      <th></th>\n",
       "      <th>제목</th>\n",
       "      <th>출판사(저자)</th>\n",
       "      <th>교육과정</th>\n",
       "      <th>Lesson</th>\n",
       "      <th>Title</th>\n",
       "      <th>DESCRIPTION</th>\n",
       "      <th>KEY_EXPRESSION</th>\n",
       "      <th>KEY_EXPRESSION_Kor</th>\n",
       "      <th>SUB_EXPRESSION</th>\n",
       "      <th>SUB_EXPRESSION_Kor</th>\n",
       "    </tr>\n",
       "  </thead>\n",
       "  <tbody>\n",
       "    <tr>\n",
       "      <th>0</th>\n",
       "      <td>영어</td>\n",
       "      <td>능률(김)</td>\n",
       "      <td>2015</td>\n",
       "      <td>1</td>\n",
       "      <td>The Part You Play</td>\n",
       "      <td>전치사의 목적어로서의 동명사</td>\n",
       "      <td>I enjoy playing in team sports.</td>\n",
       "      <td>나는 팀 스포츠를 즐기는 것을 좋아해요.</td>\n",
       "      <td>She is excited about scoring goals in matches....</td>\n",
       "      <td>그녀는 경기에서 골을 넣는 것이 신나요. 그는 토너먼트에 참가하는 것이 떨려요.</td>\n",
       "    </tr>\n",
       "    <tr>\n",
       "      <th>1</th>\n",
       "      <td>영어</td>\n",
       "      <td>능률(김)</td>\n",
       "      <td>2015</td>\n",
       "      <td>2</td>\n",
       "      <td>The Power of Creativity</td>\n",
       "      <td>명사를 수식하는 과거분사(구)</td>\n",
       "      <td>The old bike fixed by my father is working smo...</td>\n",
       "      <td>아버지께서 고쳐주신 오래된 자전거가 부드럽게 작동해요.</td>\n",
       "      <td>The delicious cake baked by my teacher won fir...</td>\n",
       "      <td>선생님께서 구워주신 맛있는 케이크가 1등을 했어요. 학생이 쓴 감동적인 이야기가 많...</td>\n",
       "    </tr>\n",
       "    <tr>\n",
       "      <th>2</th>\n",
       "      <td>영어</td>\n",
       "      <td>능률(김)</td>\n",
       "      <td>2015</td>\n",
       "      <td>3</td>\n",
       "      <td>Sound Life</td>\n",
       "      <td>사역동사+목적어+동사원형</td>\n",
       "      <td>They let me choose a beautiful song.</td>\n",
       "      <td>그들은 내가 아름다운 노래를 선택하게 해줬어요.</td>\n",
       "      <td>My teacher made me listen to a cheerful melody...</td>\n",
       "      <td>선생님은 내가 기분 좋은 멜로디를 듣게 했어요. 내 친구는 내가 상쾌한 커피를 마시...</td>\n",
       "    </tr>\n",
       "  </tbody>\n",
       "</table>\n",
       "</div>"
      ],
      "text/plain": [
       "   제목 출판사(저자)  교육과정  Lesson                    Title       DESCRIPTION  \\\n",
       "0  영어   능률(김)  2015       1        The Part You Play   전치사의 목적어로서의 동명사   \n",
       "1  영어   능률(김)  2015       2  The Power of Creativity  명사를 수식하는 과거분사(구)   \n",
       "2  영어   능률(김)  2015       3               Sound Life     사역동사+목적어+동사원형   \n",
       "\n",
       "                                      KEY_EXPRESSION  \\\n",
       "0                    I enjoy playing in team sports.   \n",
       "1  The old bike fixed by my father is working smo...   \n",
       "2               They let me choose a beautiful song.   \n",
       "\n",
       "               KEY_EXPRESSION_Kor  \\\n",
       "0          나는 팀 스포츠를 즐기는 것을 좋아해요.   \n",
       "1  아버지께서 고쳐주신 오래된 자전거가 부드럽게 작동해요.   \n",
       "2      그들은 내가 아름다운 노래를 선택하게 해줬어요.   \n",
       "\n",
       "                                      SUB_EXPRESSION  \\\n",
       "0  She is excited about scoring goals in matches....   \n",
       "1  The delicious cake baked by my teacher won fir...   \n",
       "2  My teacher made me listen to a cheerful melody...   \n",
       "\n",
       "                                  SUB_EXPRESSION_Kor  \n",
       "0       그녀는 경기에서 골을 넣는 것이 신나요. 그는 토너먼트에 참가하는 것이 떨려요.  \n",
       "1  선생님께서 구워주신 맛있는 케이크가 1등을 했어요. 학생이 쓴 감동적인 이야기가 많...  \n",
       "2  선생님은 내가 기분 좋은 멜로디를 듣게 했어요. 내 친구는 내가 상쾌한 커피를 마시...  "
      ]
     },
     "metadata": {},
     "output_type": "display_data"
    }
   ],
   "source": [
    "import pandas as pd\n",
    "\n",
    "df = pd.read_csv(\"../../../Structure/High/Structure_Curriculum_High.csv\")\n",
    "\n",
    "display(df.head(3))"
   ]
  },
  {
   "cell_type": "code",
   "execution_count": 30,
   "metadata": {},
   "outputs": [
    {
     "data": {
      "text/plain": [
       "Index(['제목', '출판사(저자)', '교육과정', 'Lesson', 'Title', 'DESCRIPTION',\n",
       "       'KEY_EXPRESSION', 'KEY_EXPRESSION_Kor', 'SUB_EXPRESSION',\n",
       "       'SUB_EXPRESSION_Kor'],\n",
       "      dtype='object')"
      ]
     },
     "execution_count": 30,
     "metadata": {},
     "output_type": "execute_result"
    }
   ],
   "source": [
    "df.columns"
   ]
  },
  {
   "cell_type": "code",
   "execution_count": 31,
   "metadata": {},
   "outputs": [
    {
     "name": "stdout",
     "output_type": "stream",
     "text": [
      "329\n"
     ]
    }
   ],
   "source": [
    "print(len(df))"
   ]
  },
  {
   "cell_type": "code",
   "execution_count": 32,
   "metadata": {},
   "outputs": [
    {
     "name": "stdout",
     "output_type": "stream",
     "text": [
      "JSONL 파일 생성 완료 : PreviewQuiz_Structure_High_batch.jsonl-329\n"
     ]
    }
   ],
   "source": [
    "QuizMake(df, output_filename = 'PreviewQuiz_Structure_High_batch.jsonl')"
   ]
  }
 ],
 "metadata": {
  "kernelspec": {
   "display_name": "base",
   "language": "python",
   "name": "python3"
  },
  "language_info": {
   "codemirror_mode": {
    "name": "ipython",
    "version": 3
   },
   "file_extension": ".py",
   "mimetype": "text/x-python",
   "name": "python",
   "nbconvert_exporter": "python",
   "pygments_lexer": "ipython3",
   "version": "3.12.7"
  }
 },
 "nbformat": 4,
 "nbformat_minor": 2
}
