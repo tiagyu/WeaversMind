{
 "cells": [
  {
   "cell_type": "markdown",
   "metadata": {},
   "source": [
    "# 커리큘럼과 quiz 합치기"
   ]
  },
  {
   "cell_type": "code",
   "execution_count": 1,
   "metadata": {},
   "outputs": [
    {
     "name": "stdout",
     "output_type": "stream",
     "text": [
      "quiz1 : 208\n",
      "quiz2 : 144\n",
      "quiz3 : 142\n",
      "총 data 길이 : 494\n",
      "quiz1 na값: 0\n",
      "quiz2 na값: 0\n",
      "quiz3 na값: 0\n"
     ]
    }
   ],
   "source": [
    "import pandas as pd\n",
    "\n",
    "# 경로 확인\n",
    "file_path1 = 'PreviewQuiz_Mid1.csv'\n",
    "file_path2 = 'PreviewQuiz_Mid2.csv'\n",
    "file_path3 = 'PreviewQuiz_Mid3.csv'\n",
    "\n",
    "# 파일 읽기\n",
    "df_quiz1 = pd.read_csv(file_path1)\n",
    "df_quiz2 = pd.read_csv(file_path2)\n",
    "df_quiz3 = pd.read_csv(file_path3)\n",
    "\n",
    "# 인덱스 초기화\n",
    "df_quiz1 = df_quiz1.reset_index()\n",
    "df_quiz2 = df_quiz2.reset_index()\n",
    "df_quiz3 = df_quiz3.reset_index()\n",
    "\n",
    "\n",
    "# 파일 크기 확인\n",
    "print(f'quiz1 : {len(df_quiz1)}')\n",
    "print(f'quiz2 : {len(df_quiz2)}')\n",
    "print(f'quiz3 : {len(df_quiz3)}')\n",
    "print(f'총 data 길이 : {len(df_quiz1) + len(df_quiz2) + len(df_quiz3)}')\n",
    "\n",
    "# na값\n",
    "print(f'quiz1 na값: {df_quiz1.isna().sum().sum()}')\n",
    "print(f'quiz2 na값: {df_quiz2.isna().sum().sum()}')\n",
    "print(f'quiz3 na값: {df_quiz3.isna().sum().sum()}')"
   ]
  },
  {
   "cell_type": "code",
   "execution_count": 2,
   "metadata": {},
   "outputs": [
    {
     "name": "stdout",
     "output_type": "stream",
     "text": [
      "df_function1 : 208\n",
      "df_function2 : 144\n",
      "df_function3 : 142\n",
      "총 data 길이 : 494\n",
      "quiz1 na값: 0\n",
      "quiz2 na값: 0\n",
      "quiz3 na값: 0\n"
     ]
    }
   ],
   "source": [
    "df_function = pd.read_csv('../../../DB/Extract_Mid.csv')\n",
    "df_function.head(3)\n",
    "\n",
    "df_function_Mid1 = df_function.loc[df_function['학년'] == '중1']\n",
    "df_function_Mid2 = df_function.loc[df_function['학년'] == '중2']\n",
    "df_function_Mid3 = df_function.loc[df_function['학년'] == '중3']\n",
    "\n",
    "# 인덱스 초기화\n",
    "df_function_Mid1 = df_function_Mid1.reset_index()\n",
    "df_function_Mid2 = df_function_Mid2.reset_index()\n",
    "df_function_Mid3 = df_function_Mid3.reset_index()\n",
    "\n",
    "# 파일 크기 확인\n",
    "print(f'df_function1 : {len(df_function_Mid1)}')\n",
    "print(f'df_function2 : {len(df_function_Mid2)}')\n",
    "print(f'df_function3 : {len(df_function_Mid3)}')\n",
    "print(f'총 data 길이 : {len(df_function_Mid1) + len(df_function_Mid2) + len(df_function_Mid3)}')\n",
    "\n",
    "# na값\n",
    "print(f'quiz1 na값: {df_function_Mid1.isna().sum().sum()}')\n",
    "print(f'quiz2 na값: {df_function_Mid2.isna().sum().sum()}')\n",
    "print(f'quiz3 na값: {df_function_Mid3.isna().sum().sum()}')"
   ]
  },
  {
   "cell_type": "code",
   "execution_count": 3,
   "metadata": {},
   "outputs": [],
   "source": [
    "# final_Mid1_data = df_function_Mid1.join(df_quiz1)\n",
    "# final_Mid2_data = df_function_Mid2.join(df_quiz2)\n",
    "# final_Mid3_data = df_function_Mid3.join(df_quiz3)\n",
    "\n",
    "# # 파일 크기 확인\n",
    "# print(f'final_Mid1_data : {len(final_Mid1_data)}')\n",
    "# print(f'final_Mid2_data : {len(final_Mid2_data)}')\n",
    "# print(f'final_Mid3_data : {len(final_Mid3_data)}')\n",
    "# print(f'총 data 길이 : {len(final_Mid1_data) + len(final_Mid2_data) + len(final_Mid3_data)}')\n"
   ]
  },
  {
   "cell_type": "code",
   "execution_count": 4,
   "metadata": {},
   "outputs": [
    {
     "name": "stdout",
     "output_type": "stream",
     "text": [
      "final_Mid1_data : 208\n",
      "final_Mid2_data : 144\n",
      "final_Mid3_data : 142\n",
      "총 data 길이 : 494\n",
      "final_Mid1_data: 0\n",
      "final_Mid2_data: 0\n",
      "final_Mid3_data: 0\n"
     ]
    }
   ],
   "source": [
    "final_Mid1_data = pd.concat([df_function_Mid1, df_quiz1], axis=1)\n",
    "final_Mid2_data = pd.concat([df_function_Mid2, df_quiz2], axis=1)\n",
    "final_Mid3_data = pd.concat([df_function_Mid3, df_quiz3], axis=1)\n",
    "\n",
    "# 파일 크기 확인\n",
    "print(f'final_Mid1_data : {len(final_Mid1_data)}')\n",
    "print(f'final_Mid2_data : {len(final_Mid2_data)}')\n",
    "print(f'final_Mid3_data : {len(final_Mid3_data)}')\n",
    "print(f'총 data 길이 : {len(final_Mid1_data) + len(final_Mid2_data) + len(final_Mid3_data)}')\n",
    "\n",
    "# na값\n",
    "print(f'final_Mid1_data: {final_Mid1_data.isna().sum().sum()}')\n",
    "print(f'final_Mid2_data: {final_Mid2_data.isna().sum().sum()}')\n",
    "print(f'final_Mid3_data: {final_Mid3_data.isna().sum().sum()}')"
   ]
  },
  {
   "cell_type": "code",
   "execution_count": 5,
   "metadata": {},
   "outputs": [
    {
     "name": "stdout",
     "output_type": "stream",
     "text": [
      "494\n"
     ]
    },
    {
     "data": {
      "text/html": [
       "<div>\n",
       "<style scoped>\n",
       "    .dataframe tbody tr th:only-of-type {\n",
       "        vertical-align: middle;\n",
       "    }\n",
       "\n",
       "    .dataframe tbody tr th {\n",
       "        vertical-align: top;\n",
       "    }\n",
       "\n",
       "    .dataframe thead th {\n",
       "        text-align: right;\n",
       "    }\n",
       "</style>\n",
       "<table border=\"1\" class=\"dataframe\">\n",
       "  <thead>\n",
       "    <tr style=\"text-align: right;\">\n",
       "      <th></th>\n",
       "      <th>index</th>\n",
       "      <th>Unnamed: 0</th>\n",
       "      <th>textbook ID</th>\n",
       "      <th>학년</th>\n",
       "      <th>출판사</th>\n",
       "      <th>교육과정</th>\n",
       "      <th>Lesson</th>\n",
       "      <th>Title</th>\n",
       "      <th>DESCRIPTION</th>\n",
       "      <th>KEY_EXPRESSION</th>\n",
       "      <th>...</th>\n",
       "      <th>Index 1</th>\n",
       "      <th>Quiz 2</th>\n",
       "      <th>Korean 2</th>\n",
       "      <th>Option 2-1</th>\n",
       "      <th>Option 2-2</th>\n",
       "      <th>Option 2-3</th>\n",
       "      <th>Answer 2</th>\n",
       "      <th>Index 2</th>\n",
       "      <th>샘플 스크립트 (영어)</th>\n",
       "      <th>샘플 스크립트 (한국어)</th>\n",
       "    </tr>\n",
       "  </thead>\n",
       "  <tbody>\n",
       "    <tr>\n",
       "      <th>0</th>\n",
       "      <td>0</td>\n",
       "      <td>0</td>\n",
       "      <td>701</td>\n",
       "      <td>중1</td>\n",
       "      <td>능률(김)</td>\n",
       "      <td>2015</td>\n",
       "      <td>1</td>\n",
       "      <td>Welcome to My World</td>\n",
       "      <td>자기소개와 출신지에 대해 말하고, 이에 반응하기.\\n</td>\n",
       "      <td>A: My name is Felix. I’m from Australia.\\nB: G...</td>\n",
       "      <td>...</td>\n",
       "      <td>2</td>\n",
       "      <td>A: Hi, I’m Sam. I ____ from Korea. B: Nice to ...</td>\n",
       "      <td>A: 안녕, 나는 Sam이야. 나는 Korea에서 왔어. B: 만나서 반가워.</td>\n",
       "      <td>live</td>\n",
       "      <td>come</td>\n",
       "      <td>am</td>\n",
       "      <td>come</td>\n",
       "      <td>2</td>\n",
       "      <td>A: My name is Leo. I’m from Canada. B: Pleased...</td>\n",
       "      <td>A: 내 이름은 Leo야. 나는 Canada 출신이야. B: 만나서 반가워. A: ...</td>\n",
       "    </tr>\n",
       "    <tr>\n",
       "      <th>1</th>\n",
       "      <td>1</td>\n",
       "      <td>1</td>\n",
       "      <td>701</td>\n",
       "      <td>중1</td>\n",
       "      <td>능률(김)</td>\n",
       "      <td>2015</td>\n",
       "      <td>2</td>\n",
       "      <td>Discover Your Culture</td>\n",
       "      <td>be going to ()를 활용해 계획이나 예정된 일에 대해 묻고 답하기.\\n</td>\n",
       "      <td>A: What are you going to do on your holiday?\\n...</td>\n",
       "      <td>...</td>\n",
       "      <td>2</td>\n",
       "      <td>A: What are your plans for ____?</td>\n",
       "      <td>A: 휴일에 어떤 계획이 있니?</td>\n",
       "      <td>celebration</td>\n",
       "      <td>holiday</td>\n",
       "      <td>festival</td>\n",
       "      <td>holiday</td>\n",
       "      <td>2</td>\n",
       "      <td>A: What are you going to do next weekend? B: I...</td>\n",
       "      <td>A: 다음 주말에 뭐 할 거야? B: 영화 보러 갈 거야. A: 주말에 어떤 계획이...</td>\n",
       "    </tr>\n",
       "    <tr>\n",
       "      <th>2</th>\n",
       "      <td>2</td>\n",
       "      <td>2</td>\n",
       "      <td>701</td>\n",
       "      <td>중1</td>\n",
       "      <td>능률(김)</td>\n",
       "      <td>2015</td>\n",
       "      <td>3</td>\n",
       "      <td>Spend Smart, Save Smart</td>\n",
       "      <td>You should ()를 활용해 조언하기.\\n</td>\n",
       "      <td>A: You should study harder.\\nB: Okay, I’ll try.\\n</td>\n",
       "      <td>...</td>\n",
       "      <td>1</td>\n",
       "      <td>A: It’s a good idea to ______. B: I’ll give it...</td>\n",
       "      <td>A: ~하는 것이 좋은 생각이야. B: 한 번 해볼게.</td>\n",
       "      <td>run fast</td>\n",
       "      <td>study harder</td>\n",
       "      <td>eat quickly</td>\n",
       "      <td>study harder</td>\n",
       "      <td>2</td>\n",
       "      <td>A: You should exercise regularly. B: Okay, I'l...</td>\n",
       "      <td>A: 너는 규칙적으로 운동해야 해. B: 알겠어, 노력해볼게. A: 균형 잡힌 식단...</td>\n",
       "    </tr>\n",
       "  </tbody>\n",
       "</table>\n",
       "<p>3 rows × 30 columns</p>\n",
       "</div>"
      ],
      "text/plain": [
       "   index  Unnamed: 0  textbook ID  학년    출판사  교육과정  Lesson  \\\n",
       "0      0           0          701  중1  능률(김)  2015       1   \n",
       "1      1           1          701  중1  능률(김)  2015       2   \n",
       "2      2           2          701  중1  능률(김)  2015       3   \n",
       "\n",
       "                     Title                                   DESCRIPTION  \\\n",
       "0      Welcome to My World                 자기소개와 출신지에 대해 말하고, 이에 반응하기.\\n   \n",
       "1    Discover Your Culture  be going to ()를 활용해 계획이나 예정된 일에 대해 묻고 답하기.\\n   \n",
       "2  Spend Smart, Save Smart                    You should ()를 활용해 조언하기.\\n   \n",
       "\n",
       "                                      KEY_EXPRESSION  ... Index 1  \\\n",
       "0  A: My name is Felix. I’m from Australia.\\nB: G...  ...       2   \n",
       "1  A: What are you going to do on your holiday?\\n...  ...       2   \n",
       "2  A: You should study harder.\\nB: Okay, I’ll try.\\n  ...       1   \n",
       "\n",
       "                                              Quiz 2  \\\n",
       "0  A: Hi, I’m Sam. I ____ from Korea. B: Nice to ...   \n",
       "1                   A: What are your plans for ____?   \n",
       "2  A: It’s a good idea to ______. B: I’ll give it...   \n",
       "\n",
       "                                      Korean 2   Option 2-1    Option 2-2  \\\n",
       "0  A: 안녕, 나는 Sam이야. 나는 Korea에서 왔어. B: 만나서 반가워.         live          come   \n",
       "1                            A: 휴일에 어떤 계획이 있니?  celebration       holiday   \n",
       "2               A: ~하는 것이 좋은 생각이야. B: 한 번 해볼게.     run fast  study harder   \n",
       "\n",
       "    Option 2-3      Answer 2 Index 2  \\\n",
       "0           am          come       2   \n",
       "1     festival       holiday       2   \n",
       "2  eat quickly  study harder       2   \n",
       "\n",
       "                                        샘플 스크립트 (영어)  \\\n",
       "0  A: My name is Leo. I’m from Canada. B: Pleased...   \n",
       "1  A: What are you going to do next weekend? B: I...   \n",
       "2  A: You should exercise regularly. B: Okay, I'l...   \n",
       "\n",
       "                                       샘플 스크립트 (한국어)  \n",
       "0  A: 내 이름은 Leo야. 나는 Canada 출신이야. B: 만나서 반가워. A: ...  \n",
       "1  A: 다음 주말에 뭐 할 거야? B: 영화 보러 갈 거야. A: 주말에 어떤 계획이...  \n",
       "2  A: 너는 규칙적으로 운동해야 해. B: 알겠어, 노력해볼게. A: 균형 잡힌 식단...  \n",
       "\n",
       "[3 rows x 30 columns]"
      ]
     },
     "execution_count": 5,
     "metadata": {},
     "output_type": "execute_result"
    }
   ],
   "source": [
    "function_final_Mid = pd.concat([final_Mid1_data, final_Mid2_data, final_Mid3_data], axis=0)\n",
    "print(len(function_final_Mid))\n",
    "function_final_Mid.head(3)"
   ]
  },
  {
   "cell_type": "code",
   "execution_count": 6,
   "metadata": {},
   "outputs": [
    {
     "data": {
      "text/plain": [
       "494"
      ]
     },
     "execution_count": 6,
     "metadata": {},
     "output_type": "execute_result"
    }
   ],
   "source": [
    "len(function_final_Mid)"
   ]
  },
  {
   "cell_type": "code",
   "execution_count": 7,
   "metadata": {},
   "outputs": [],
   "source": [
    "# function_final_Mid.drop(columns='Unnamed: 0', axis=1, inplace=True)\n",
    "# function_final_Mid.columns"
   ]
  },
  {
   "cell_type": "code",
   "execution_count": 8,
   "metadata": {},
   "outputs": [
    {
     "data": {
      "text/plain": [
       "0"
      ]
     },
     "execution_count": 8,
     "metadata": {},
     "output_type": "execute_result"
    }
   ],
   "source": [
    "function_final_Mid.isna().sum().sum()"
   ]
  },
  {
   "cell_type": "code",
   "execution_count": 9,
   "metadata": {},
   "outputs": [
    {
     "name": "stdout",
     "output_type": "stream",
     "text": [
      "Empty DataFrame\n",
      "Columns: [index, Unnamed: 0, textbook ID, 학년, 출판사, 교육과정, Lesson, Title, DESCRIPTION, KEY_EXPRESSION, KEY_EXPRESSION_KOR, SUB_EXPRESSION, index, 학습목표, Quiz 1, Korean 1, Option 1-1, Option 1-2, Option 1-3, Answer 1, Index 1, Quiz 2, Korean 2, Option 2-1, Option 2-2, Option 2-3, Answer 2, Index 2, 샘플 스크립트 (영어), 샘플 스크립트 (한국어)]\n",
      "Index: []\n",
      "\n",
      "[0 rows x 30 columns]\n"
     ]
    }
   ],
   "source": [
    "nan_rows = function_final_Mid[function_final_Mid.isna().any(axis=1)]\n",
    "print(nan_rows)\n"
   ]
  },
  {
   "cell_type": "code",
   "execution_count": 10,
   "metadata": {},
   "outputs": [
    {
     "data": {
      "text/plain": [
       "Index(['textbook ID', '학년', '출판사', '교육과정', 'Lesson', 'Title', 'DESCRIPTION',\n",
       "       'KEY_EXPRESSION', 'KEY_EXPRESSION_KOR', 'SUB_EXPRESSION', '학습목표',\n",
       "       'Quiz 1', 'Korean 1', 'Option 1-1', 'Option 1-2', 'Option 1-3',\n",
       "       'Answer 1', 'Index 1', 'Quiz 2', 'Korean 2', 'Option 2-1', 'Option 2-2',\n",
       "       'Option 2-3', 'Answer 2', 'Index 2', '샘플 스크립트 (영어)', '샘플 스크립트 (한국어)'],\n",
       "      dtype='object')"
      ]
     },
     "execution_count": 10,
     "metadata": {},
     "output_type": "execute_result"
    }
   ],
   "source": [
    "drop_col = ['index', 'Unnamed: 0']\n",
    "function_final_Mid.drop(columns=drop_col, index=1, inplace=True)\n",
    "function_final_Mid.columns"
   ]
  },
  {
   "cell_type": "code",
   "execution_count": 11,
   "metadata": {},
   "outputs": [],
   "source": [
    "file_name = 'MergedData_Mid.csv'\n",
    "function_final_Mid.to_csv(file_name, encoding='utf-8-sig')"
   ]
  }
 ],
 "metadata": {
  "kernelspec": {
   "display_name": "base",
   "language": "python",
   "name": "python3"
  },
  "language_info": {
   "codemirror_mode": {
    "name": "ipython",
    "version": 3
   },
   "file_extension": ".py",
   "mimetype": "text/x-python",
   "name": "python",
   "nbconvert_exporter": "python",
   "pygments_lexer": "ipython3",
   "version": "3.12.7"
  }
 },
 "nbformat": 4,
 "nbformat_minor": 2
}
