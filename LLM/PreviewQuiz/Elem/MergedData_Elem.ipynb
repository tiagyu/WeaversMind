{
 "cells": [
  {
   "cell_type": "code",
   "execution_count": 106,
   "metadata": {},
   "outputs": [],
   "source": [
    "import pandas as pd"
   ]
  },
  {
   "cell_type": "code",
   "execution_count": 107,
   "metadata": {},
   "outputs": [
    {
     "data": {
      "text/plain": [
       "670"
      ]
     },
     "execution_count": 107,
     "metadata": {},
     "output_type": "execute_result"
    }
   ],
   "source": [
    "file_path = '../../../DB/Extract_Elem.csv'\n",
    "extract_data = pd.read_csv(file_path)\n",
    "len(extract_data)"
   ]
  },
  {
   "cell_type": "markdown",
   "metadata": {},
   "source": [
    "- extract data"
   ]
  },
  {
   "cell_type": "code",
   "execution_count": 108,
   "metadata": {},
   "outputs": [
    {
     "name": "stdout",
     "output_type": "stream",
     "text": [
      "초3 : 240\n",
      "초4 : 231\n",
      "초5 : 99\n",
      "초6 : 100\n",
      "총합 : 670\n"
     ]
    },
    {
     "name": "stderr",
     "output_type": "stream",
     "text": [
      "C:\\Users\\Public\\Documents\\ESTsoft\\CreatorTemp\\ipykernel_12356\\660994282.py:7: SettingWithCopyWarning: \n",
      "A value is trying to be set on a copy of a slice from a DataFrame\n",
      "\n",
      "See the caveats in the documentation: https://pandas.pydata.org/pandas-docs/stable/user_guide/indexing.html#returning-a-view-versus-a-copy\n",
      "  elem3_data.drop(columns=drop_col, inplace=True)\n",
      "C:\\Users\\Public\\Documents\\ESTsoft\\CreatorTemp\\ipykernel_12356\\660994282.py:8: SettingWithCopyWarning: \n",
      "A value is trying to be set on a copy of a slice from a DataFrame\n",
      "\n",
      "See the caveats in the documentation: https://pandas.pydata.org/pandas-docs/stable/user_guide/indexing.html#returning-a-view-versus-a-copy\n",
      "  elem4_data.drop(columns=drop_col, inplace=True)\n",
      "C:\\Users\\Public\\Documents\\ESTsoft\\CreatorTemp\\ipykernel_12356\\660994282.py:9: SettingWithCopyWarning: \n",
      "A value is trying to be set on a copy of a slice from a DataFrame\n",
      "\n",
      "See the caveats in the documentation: https://pandas.pydata.org/pandas-docs/stable/user_guide/indexing.html#returning-a-view-versus-a-copy\n",
      "  elem5_data.drop(columns=drop_col, inplace=True)\n",
      "C:\\Users\\Public\\Documents\\ESTsoft\\CreatorTemp\\ipykernel_12356\\660994282.py:10: SettingWithCopyWarning: \n",
      "A value is trying to be set on a copy of a slice from a DataFrame\n",
      "\n",
      "See the caveats in the documentation: https://pandas.pydata.org/pandas-docs/stable/user_guide/indexing.html#returning-a-view-versus-a-copy\n",
      "  elem6_data.drop(columns=drop_col, inplace=True)\n"
     ]
    }
   ],
   "source": [
    "elem3_data = extract_data.loc[extract_data['학년'] == '초3']\n",
    "elem4_data = extract_data.loc[extract_data['학년'] == '초4']\n",
    "elem5_data = extract_data.loc[extract_data['학년'] == '초5']\n",
    "elem6_data = extract_data.loc[extract_data['학년'] == '초6']\n",
    "\n",
    "drop_col = ['KEY_EXPRESSION_KOR']\n",
    "elem3_data.drop(columns=drop_col, inplace=True)\n",
    "elem4_data.drop(columns=drop_col, inplace=True)\n",
    "elem5_data.drop(columns=drop_col, inplace=True)\n",
    "elem6_data.drop(columns=drop_col, inplace=True)\n",
    "\n",
    "# 데이터 사이즈 확인\n",
    "print(f'초3 : {len(elem3_data)}')\n",
    "print(f'초4 : {len(elem4_data)}')\n",
    "print(f'초5 : {len(elem5_data)}')\n",
    "print(f'초6 : {len(elem6_data)}')\n",
    "print(f'총합 : {len(elem3_data) + len(elem4_data) + len(elem5_data) + len(elem6_data)}')\n",
    "\n",
    "# 인덱스 초기화\n",
    "elem3_data = elem3_data.reset_index(drop=True)\n",
    "elem4_data = elem4_data.reset_index(drop=True)\n",
    "elem5_data = elem5_data.reset_index(drop=True)\n",
    "elem6_data = elem6_data.reset_index(drop=True)"
   ]
  },
  {
   "cell_type": "code",
   "execution_count": 109,
   "metadata": {},
   "outputs": [
    {
     "data": {
      "text/html": [
       "<div>\n",
       "<style scoped>\n",
       "    .dataframe tbody tr th:only-of-type {\n",
       "        vertical-align: middle;\n",
       "    }\n",
       "\n",
       "    .dataframe tbody tr th {\n",
       "        vertical-align: top;\n",
       "    }\n",
       "\n",
       "    .dataframe thead th {\n",
       "        text-align: right;\n",
       "    }\n",
       "</style>\n",
       "<table border=\"1\" class=\"dataframe\">\n",
       "  <thead>\n",
       "    <tr style=\"text-align: right;\">\n",
       "      <th></th>\n",
       "      <th>Unnamed: 0</th>\n",
       "      <th>textbook ID</th>\n",
       "      <th>학년</th>\n",
       "      <th>출판사</th>\n",
       "      <th>교육과정</th>\n",
       "      <th>단원 번호</th>\n",
       "      <th>단원 명</th>\n",
       "      <th>DESCRIPTION</th>\n",
       "      <th>KEY_EXPRESSION</th>\n",
       "      <th>SUB_EXPRESSION</th>\n",
       "    </tr>\n",
       "  </thead>\n",
       "  <tbody>\n",
       "    <tr>\n",
       "      <th>0</th>\n",
       "      <td>119</td>\n",
       "      <td>603</td>\n",
       "      <td>초6</td>\n",
       "      <td>YBM(김)</td>\n",
       "      <td>2015</td>\n",
       "      <td>1</td>\n",
       "      <td>What Grade Are You In?</td>\n",
       "      <td>What grade are you in? — I’m in the sixth grad...</td>\n",
       "      <td>A: What grade are you in? B: I'm in third grade.</td>\n",
       "      <td>A: What year are you in? B: I am in () grade. ...</td>\n",
       "    </tr>\n",
       "    <tr>\n",
       "      <th>1</th>\n",
       "      <td>120</td>\n",
       "      <td>603</td>\n",
       "      <td>초6</td>\n",
       "      <td>YBM(김)</td>\n",
       "      <td>2015</td>\n",
       "      <td>2</td>\n",
       "      <td>What Would You Like?</td>\n",
       "      <td>'Would you like ()?'을 활용해 음식에 대해 묻고 답하기.</td>\n",
       "      <td>A: What would you like? B: I'd like strawberry...</td>\n",
       "      <td>A: What do you want to eat? B: I'd like (). A:...</td>\n",
       "    </tr>\n",
       "    <tr>\n",
       "      <th>2</th>\n",
       "      <td>121</td>\n",
       "      <td>603</td>\n",
       "      <td>초6</td>\n",
       "      <td>YBM(김)</td>\n",
       "      <td>2015</td>\n",
       "      <td>3</td>\n",
       "      <td>My Favorite Subject Is Science</td>\n",
       "      <td>선호하는 과목에 대해 묻고 답하기.</td>\n",
       "      <td>A: What’s your favorite school subject? B: My ...</td>\n",
       "      <td>A: What class do you enjoy the most? B: My fav...</td>\n",
       "    </tr>\n",
       "    <tr>\n",
       "      <th>3</th>\n",
       "      <td>122</td>\n",
       "      <td>603</td>\n",
       "      <td>초6</td>\n",
       "      <td>YBM(김)</td>\n",
       "      <td>2015</td>\n",
       "      <td>4</td>\n",
       "      <td>How About Turning Off the Light?</td>\n",
       "      <td>How about ()을 활용해 제안하기를 표현하기.</td>\n",
       "      <td>How about reusing paper bags?</td>\n",
       "      <td>What do you think of using reusable containers...</td>\n",
       "    </tr>\n",
       "    <tr>\n",
       "      <th>4</th>\n",
       "      <td>123</td>\n",
       "      <td>603</td>\n",
       "      <td>초6</td>\n",
       "      <td>YBM(김)</td>\n",
       "      <td>2015</td>\n",
       "      <td>5</td>\n",
       "      <td>Go Straight and Turn Left</td>\n",
       "      <td>길을 묻고 방향을 안내하는 표현 익히기.</td>\n",
       "      <td>A: Where is the post office? B: Go straight an...</td>\n",
       "      <td>A: How do I get to the ()? B: Continue forward...</td>\n",
       "    </tr>\n",
       "  </tbody>\n",
       "</table>\n",
       "</div>"
      ],
      "text/plain": [
       "   Unnamed: 0  textbook ID  학년     출판사  교육과정  단원 번호  \\\n",
       "0         119          603  초6  YBM(김)  2015      1   \n",
       "1         120          603  초6  YBM(김)  2015      2   \n",
       "2         121          603  초6  YBM(김)  2015      3   \n",
       "3         122          603  초6  YBM(김)  2015      4   \n",
       "4         123          603  초6  YBM(김)  2015      5   \n",
       "\n",
       "                               단원 명  \\\n",
       "0            What Grade Are You In?   \n",
       "1              What Would You Like?   \n",
       "2    My Favorite Subject Is Science   \n",
       "3  How About Turning Off the Light?   \n",
       "4         Go Straight and Turn Left   \n",
       "\n",
       "                                         DESCRIPTION  \\\n",
       "0  What grade are you in? — I’m in the sixth grad...   \n",
       "1          'Would you like ()?'을 활용해 음식에 대해 묻고 답하기.    \n",
       "2                               선호하는 과목에 대해 묻고 답하기.    \n",
       "3                     How about ()을 활용해 제안하기를 표현하기.    \n",
       "4                            길을 묻고 방향을 안내하는 표현 익히기.    \n",
       "\n",
       "                                      KEY_EXPRESSION  \\\n",
       "0  A: What grade are you in? B: I'm in third grade.    \n",
       "1  A: What would you like? B: I'd like strawberry...   \n",
       "2  A: What’s your favorite school subject? B: My ...   \n",
       "3                     How about reusing paper bags?    \n",
       "4  A: Where is the post office? B: Go straight an...   \n",
       "\n",
       "                                      SUB_EXPRESSION  \n",
       "0  A: What year are you in? B: I am in () grade. ...  \n",
       "1  A: What do you want to eat? B: I'd like (). A:...  \n",
       "2  A: What class do you enjoy the most? B: My fav...  \n",
       "3  What do you think of using reusable containers...  \n",
       "4  A: How do I get to the ()? B: Continue forward...  "
      ]
     },
     "execution_count": 109,
     "metadata": {},
     "output_type": "execute_result"
    }
   ],
   "source": [
    "elem6_data.head()"
   ]
  },
  {
   "cell_type": "code",
   "execution_count": 110,
   "metadata": {},
   "outputs": [
    {
     "data": {
      "text/plain": [
       "Index(['Unnamed: 0', 'textbook ID', '학년', '출판사', '교육과정', '단원 번호', '단원 명',\n",
       "       'DESCRIPTION', 'KEY_EXPRESSION', 'SUB_EXPRESSION'],\n",
       "      dtype='object')"
      ]
     },
     "execution_count": 110,
     "metadata": {},
     "output_type": "execute_result"
    }
   ],
   "source": [
    "elem3_data.columns"
   ]
  },
  {
   "cell_type": "markdown",
   "metadata": {},
   "source": [
    "- translate data"
   ]
  },
  {
   "cell_type": "code",
   "execution_count": 111,
   "metadata": {},
   "outputs": [
    {
     "name": "stdout",
     "output_type": "stream",
     "text": [
      "초3 : 240\n",
      "초4 : 231\n",
      "초5 : 99\n",
      "초6 : 100\n",
      "총합 : 670\n"
     ]
    }
   ],
   "source": [
    "trans_elem3_data = pd.read_csv('Translate_Mid3.csv')\n",
    "trans_elem4_data = pd.read_csv('Translate_Mid4.csv')\n",
    "trans_elem5_data = pd.read_csv('Translate_Mid5.csv')\n",
    "trans_elem6_data = pd.read_csv('Translate_Mid6.csv')\n",
    "\n",
    "# 데이터 사이즈 확인\n",
    "print(f'초3 : {len(trans_elem3_data)}')\n",
    "print(f'초4 : {len(trans_elem4_data)}')\n",
    "print(f'초5 : {len(trans_elem5_data)}')\n",
    "print(f'초6 : {len(trans_elem6_data)}')\n",
    "print(f'총합 : {len(trans_elem3_data) + len(trans_elem4_data) + len(trans_elem5_data) + len(trans_elem6_data)}')"
   ]
  },
  {
   "cell_type": "code",
   "execution_count": 112,
   "metadata": {},
   "outputs": [
    {
     "data": {
      "text/plain": [
       "Index(['KEY_EXPRESSION_KOR', 'SUB_EXPRESSION_KOR'], dtype='object')"
      ]
     },
     "execution_count": 112,
     "metadata": {},
     "output_type": "execute_result"
    }
   ],
   "source": [
    "trans_elem3_data = trans_elem3_data.rename(columns={\n",
    "    'Key Expression (한국어)' : 'KEY_EXPRESSION_KOR',\n",
    "    'Sub Expression (한국어)' : 'SUB_EXPRESSION_KOR'\n",
    "})\n",
    "trans_elem4_data = trans_elem4_data.rename(columns={\n",
    "    'Key Expression (한국어)' : 'KEY_EXPRESSION_KOR',\n",
    "    'Sub Expression (한국어)' : 'SUB_EXPRESSION_KOR'\n",
    "})\n",
    "trans_elem5_data = trans_elem5_data.rename(columns={\n",
    "    'Key Expression (한국어)' : 'KEY_EXPRESSION_KOR',\n",
    "    'Sub Expression (한국어)' : 'SUB_EXPRESSION_KOR'\n",
    "})\n",
    "trans_elem6_data = trans_elem6_data.rename(columns={\n",
    "    'Key Expression (한국어)' : 'KEY_EXPRESSION_KOR',\n",
    "    'Sub Expression (한국어)' : 'SUB_EXPRESSION_KOR'\n",
    "})\n",
    "\n",
    "trans_elem3_data.columns"
   ]
  },
  {
   "cell_type": "code",
   "execution_count": 113,
   "metadata": {},
   "outputs": [
    {
     "name": "stdout",
     "output_type": "stream",
     "text": [
      "초3 : 240\n",
      "초4 : 231\n",
      "초5 : 99\n",
      "초6 : 100\n",
      "총합 : 670\n"
     ]
    }
   ],
   "source": [
    "merged_elem3_data = pd.concat([elem3_data, trans_elem3_data], axis=1)\n",
    "merged_elem4_data = pd.concat([elem4_data, trans_elem4_data], axis=1)\n",
    "merged_elem5_data = pd.concat([elem5_data, trans_elem5_data], axis=1)\n",
    "merged_elem6_data = pd.concat([elem6_data, trans_elem6_data], axis=1)\n",
    "\n",
    "# 길이 확인\n",
    "print(f'초3 : {len(merged_elem3_data)}')\n",
    "print(f'초4 : {len(merged_elem4_data)}')\n",
    "print(f'초5 : {len(merged_elem5_data)}')\n",
    "print(f'초6 : {len(merged_elem6_data)}')\n",
    "print(f'총합 : {len(merged_elem3_data) + len(merged_elem4_data) + len(merged_elem5_data) + len(merged_elem6_data)}')"
   ]
  },
  {
   "cell_type": "markdown",
   "metadata": {},
   "source": [
    "- quiz 합치기"
   ]
  },
  {
   "cell_type": "code",
   "execution_count": 114,
   "metadata": {},
   "outputs": [
    {
     "name": "stdout",
     "output_type": "stream",
     "text": [
      "초3 : 240\n",
      "초4 : 231\n",
      "초5 : 99\n",
      "초6 : 100\n",
      "총합 : 670\n"
     ]
    }
   ],
   "source": [
    "quiz_elem3_data = pd.read_csv('PreviewQuiz_Mid3.csv')\n",
    "quiz_elem4_data = pd.read_csv('PreviewQuiz_Mid4.csv')\n",
    "quiz_elem5_data = pd.read_csv('PreviewQuiz_Mid5.csv')\n",
    "quiz_elem6_data = pd.read_csv('PreviewQuiz_Mid6.csv')\n",
    "\n",
    "# 데이터 사이즈 확인\n",
    "print(f'초3 : {len(quiz_elem3_data)}')\n",
    "print(f'초4 : {len(quiz_elem4_data)}')\n",
    "print(f'초5 : {len(quiz_elem5_data)}')\n",
    "print(f'초6 : {len(quiz_elem6_data)}')\n",
    "print(f'총합 : {len(quiz_elem3_data) + len(quiz_elem4_data) + len(quiz_elem5_data) + len(quiz_elem6_data)}')"
   ]
  },
  {
   "cell_type": "code",
   "execution_count": 115,
   "metadata": {},
   "outputs": [
    {
     "name": "stdout",
     "output_type": "stream",
     "text": [
      "초3 : 240\n",
      "초4 : 231\n",
      "초5 : 99\n",
      "초6 : 100\n",
      "총합 : 670\n"
     ]
    }
   ],
   "source": [
    "merged_elem3_data = pd.concat([merged_elem3_data, quiz_elem3_data], axis=1)\n",
    "merged_elem4_data = pd.concat([merged_elem4_data, quiz_elem4_data], axis=1)\n",
    "merged_elem5_data = pd.concat([merged_elem5_data, quiz_elem5_data], axis=1)\n",
    "merged_elem6_data = pd.concat([merged_elem6_data, quiz_elem6_data], axis=1)\n",
    "\n",
    "# 길이 확인\n",
    "print(f'초3 : {len(merged_elem3_data)}')\n",
    "print(f'초4 : {len(merged_elem4_data)}')\n",
    "print(f'초5 : {len(merged_elem5_data)}')\n",
    "print(f'초6 : {len(merged_elem6_data)}')\n",
    "print(f'총합 : {len(merged_elem3_data) + len(merged_elem4_data) + len(merged_elem5_data) + len(merged_elem6_data)}')"
   ]
  },
  {
   "cell_type": "code",
   "execution_count": 120,
   "metadata": {},
   "outputs": [
    {
     "data": {
      "text/plain": [
       "670"
      ]
     },
     "execution_count": 120,
     "metadata": {},
     "output_type": "execute_result"
    }
   ],
   "source": [
    "merged_elem_data = pd.concat([merged_elem3_data, merged_elem4_data, merged_elem5_data, merged_elem6_data], axis=0)\n",
    "len(merged_elem_data)"
   ]
  },
  {
   "cell_type": "code",
   "execution_count": 121,
   "metadata": {},
   "outputs": [],
   "source": [
    "file_name = 'MergedData_Elem.csv'\n",
    "merged_elem_data.to_csv(file_name, encoding='utf-8-sig')"
   ]
  },
  {
   "cell_type": "code",
   "execution_count": 122,
   "metadata": {},
   "outputs": [
    {
     "data": {
      "text/html": [
       "<div>\n",
       "<style scoped>\n",
       "    .dataframe tbody tr th:only-of-type {\n",
       "        vertical-align: middle;\n",
       "    }\n",
       "\n",
       "    .dataframe tbody tr th {\n",
       "        vertical-align: top;\n",
       "    }\n",
       "\n",
       "    .dataframe thead th {\n",
       "        text-align: right;\n",
       "    }\n",
       "</style>\n",
       "<table border=\"1\" class=\"dataframe\">\n",
       "  <thead>\n",
       "    <tr style=\"text-align: right;\">\n",
       "      <th></th>\n",
       "      <th>Unnamed: 0</th>\n",
       "      <th>textbook ID</th>\n",
       "      <th>학년</th>\n",
       "      <th>출판사</th>\n",
       "      <th>교육과정</th>\n",
       "      <th>단원 번호</th>\n",
       "      <th>단원 명</th>\n",
       "      <th>DESCRIPTION</th>\n",
       "      <th>KEY_EXPRESSION</th>\n",
       "      <th>SUB_EXPRESSION</th>\n",
       "      <th>...</th>\n",
       "      <th>Index 1</th>\n",
       "      <th>Quiz 2</th>\n",
       "      <th>Korean 2</th>\n",
       "      <th>Option 2-1</th>\n",
       "      <th>Option 2-2</th>\n",
       "      <th>Option 2-3</th>\n",
       "      <th>Answer 2</th>\n",
       "      <th>Index 2</th>\n",
       "      <th>샘플 스크립트 (영어)</th>\n",
       "      <th>샘플 스크립트 (한국어)</th>\n",
       "    </tr>\n",
       "  </thead>\n",
       "  <tbody>\n",
       "    <tr>\n",
       "      <th>0</th>\n",
       "      <td>0</td>\n",
       "      <td>310</td>\n",
       "      <td>초3</td>\n",
       "      <td>YBM(김)</td>\n",
       "      <td>2022</td>\n",
       "      <td>1</td>\n",
       "      <td>Hello! I’m Dito</td>\n",
       "      <td>Hello/Hi! 등의 표현을 사용해 만날 때 인사하기.</td>\n",
       "      <td>Hi there!</td>\n",
       "      <td>Hello! Hey!</td>\n",
       "      <td>...</td>\n",
       "      <td>2</td>\n",
       "      <td>___!</td>\n",
       "      <td>안녕!</td>\n",
       "      <td>Hey</td>\n",
       "      <td>Hello</td>\n",
       "      <td>Goodbye</td>\n",
       "      <td>Hello</td>\n",
       "      <td>2</td>\n",
       "      <td>A: Hi there! B: Hey, it's been a while. A: Hel...</td>\n",
       "      <td>A: 안녕, 저기! B: 야, 오랜만이야. A: 안녕! 잘 지냈어? B: 난 잘 지...</td>\n",
       "    </tr>\n",
       "    <tr>\n",
       "      <th>1</th>\n",
       "      <td>1</td>\n",
       "      <td>310</td>\n",
       "      <td>초3</td>\n",
       "      <td>YBM(김)</td>\n",
       "      <td>2022</td>\n",
       "      <td>2</td>\n",
       "      <td>Sit Down, Please</td>\n",
       "      <td>극존칭 표현을 통해 요청하고 그에 긍정적으로 응답하기.</td>\n",
       "      <td>A: Sit down, please. B: Sure.</td>\n",
       "      <td>A: Please take a seat. B: Certainly. A: Kindly...</td>\n",
       "      <td>...</td>\n",
       "      <td>2</td>\n",
       "      <td>A: Please ___ a seat. B: Certainly.</td>\n",
       "      <td>A: 제발 자리에 앉으세요. B: 물론입니다.</td>\n",
       "      <td>make</td>\n",
       "      <td>take</td>\n",
       "      <td>offer</td>\n",
       "      <td>take</td>\n",
       "      <td>2</td>\n",
       "      <td>A: Please have a seat. B: Absolutely. A: Kindl...</td>\n",
       "      <td>A: 자리에 앉으세요. B: 물론입니다. A: 편안하게 계세요. B: 네, 감사합니다.</td>\n",
       "    </tr>\n",
       "    <tr>\n",
       "      <th>2</th>\n",
       "      <td>2</td>\n",
       "      <td>310</td>\n",
       "      <td>초3</td>\n",
       "      <td>YBM(김)</td>\n",
       "      <td>2022</td>\n",
       "      <td>3</td>\n",
       "      <td>What’s This?</td>\n",
       "      <td>의문문을 활용해 무슨 물건인지 묻고 답하기.</td>\n",
       "      <td>A: What's this? B: It's a box.</td>\n",
       "      <td>A: What's that? B: It's a (). A: What is this ...</td>\n",
       "      <td>...</td>\n",
       "      <td>2</td>\n",
       "      <td>A: What is this ___? B: It is a box.</td>\n",
       "      <td>A: 이거 뭐라고 부르죠? B: 이건 상자예요.</td>\n",
       "      <td>found</td>\n",
       "      <td>called</td>\n",
       "      <td>needed</td>\n",
       "      <td>called</td>\n",
       "      <td>2</td>\n",
       "      <td>A: What's this? B: It's a pen. A: What is this...</td>\n",
       "      <td>A: 이게 뭐예요? B: 이건 펜이에요. A: 이걸 뭐라고 부르죠? B: 펜이라고 해요.</td>\n",
       "    </tr>\n",
       "    <tr>\n",
       "      <th>3</th>\n",
       "      <td>3</td>\n",
       "      <td>310</td>\n",
       "      <td>초3</td>\n",
       "      <td>YBM(김)</td>\n",
       "      <td>2022</td>\n",
       "      <td>4</td>\n",
       "      <td>I Like Pizza</td>\n",
       "      <td>Do you like ()?와 Yes, I do. / No, I don't. 표현을...</td>\n",
       "      <td>A: Do you enjoy ice cream? B: No, I don't.</td>\n",
       "      <td>A: Do you like (fruit)? B: Yes, I do. A: Do yo...</td>\n",
       "      <td>...</td>\n",
       "      <td>2</td>\n",
       "      <td>A: Do you like _____? B: Yes, I do.</td>\n",
       "      <td>A: 과일 좋아해? B: 응, 좋아해.</td>\n",
       "      <td>meat</td>\n",
       "      <td>fruit</td>\n",
       "      <td>vegetables</td>\n",
       "      <td>fruit</td>\n",
       "      <td>2</td>\n",
       "      <td>A: Do you enjoy coffee? B: Yes, I do. A: Do yo...</td>\n",
       "      <td>A: 커피 즐겨 마셔? B: 응, 마셔. A: 녹차 좋아해? B: 아니, 안 좋아해.</td>\n",
       "    </tr>\n",
       "    <tr>\n",
       "      <th>4</th>\n",
       "      <td>4</td>\n",
       "      <td>310</td>\n",
       "      <td>초3</td>\n",
       "      <td>YBM(김)</td>\n",
       "      <td>2022</td>\n",
       "      <td>5</td>\n",
       "      <td>How Many Tigers?</td>\n",
       "      <td>\"How many\"를 활용해 동물의 수 묻고 답하기 .</td>\n",
       "      <td>A: How many lions are there? B: There are five...</td>\n",
       "      <td>A: How many () are there? B: There are () (). ...</td>\n",
       "      <td>...</td>\n",
       "      <td>2</td>\n",
       "      <td>B: There are ___ lions.</td>\n",
       "      <td>B: 사자가 ___ 마리 있어요.</td>\n",
       "      <td>six</td>\n",
       "      <td>five</td>\n",
       "      <td>ten</td>\n",
       "      <td>five</td>\n",
       "      <td>2</td>\n",
       "      <td>A: How many cats are there? B: There are three...</td>\n",
       "      <td>A: 고양이가 몇 마리 있나요? B: 고양이가 세 마리 있어요. A: 개가 몇 마리...</td>\n",
       "    </tr>\n",
       "  </tbody>\n",
       "</table>\n",
       "<p>5 rows × 29 columns</p>\n",
       "</div>"
      ],
      "text/plain": [
       "   Unnamed: 0  textbook ID  학년     출판사  교육과정  단원 번호              단원 명  \\\n",
       "0           0          310  초3  YBM(김)  2022      1   Hello! I’m Dito   \n",
       "1           1          310  초3  YBM(김)  2022      2  Sit Down, Please   \n",
       "2           2          310  초3  YBM(김)  2022      3      What’s This?   \n",
       "3           3          310  초3  YBM(김)  2022      4      I Like Pizza   \n",
       "4           4          310  초3  YBM(김)  2022      5  How Many Tigers?   \n",
       "\n",
       "                                         DESCRIPTION  \\\n",
       "0                   Hello/Hi! 등의 표현을 사용해 만날 때 인사하기.    \n",
       "1                    극존칭 표현을 통해 요청하고 그에 긍정적으로 응답하기.    \n",
       "2                          의문문을 활용해 무슨 물건인지 묻고 답하기.    \n",
       "3  Do you like ()?와 Yes, I do. / No, I don't. 표현을...   \n",
       "4                    \"How many\"를 활용해 동물의 수 묻고 답하기 .    \n",
       "\n",
       "                                      KEY_EXPRESSION  \\\n",
       "0                                         Hi there!    \n",
       "1                     A: Sit down, please. B: Sure.    \n",
       "2                    A: What's this? B: It's a box.    \n",
       "3        A: Do you enjoy ice cream? B: No, I don't.    \n",
       "4  A: How many lions are there? B: There are five...   \n",
       "\n",
       "                                      SUB_EXPRESSION  ... Index 1  \\\n",
       "0                                       Hello! Hey!   ...       2   \n",
       "1  A: Please take a seat. B: Certainly. A: Kindly...  ...       2   \n",
       "2  A: What's that? B: It's a (). A: What is this ...  ...       2   \n",
       "3  A: Do you like (fruit)? B: Yes, I do. A: Do yo...  ...       2   \n",
       "4  A: How many () are there? B: There are () (). ...  ...       2   \n",
       "\n",
       "                                 Quiz 2                    Korean 2  \\\n",
       "0                                  ___!                         안녕!   \n",
       "1   A: Please ___ a seat. B: Certainly.   A: 제발 자리에 앉으세요. B: 물론입니다.   \n",
       "2  A: What is this ___? B: It is a box.  A: 이거 뭐라고 부르죠? B: 이건 상자예요.   \n",
       "3   A: Do you like _____? B: Yes, I do.       A: 과일 좋아해? B: 응, 좋아해.   \n",
       "4               B: There are ___ lions.          B: 사자가 ___ 마리 있어요.   \n",
       "\n",
       "  Option 2-1 Option 2-2  Option 2-3 Answer 2 Index 2  \\\n",
       "0        Hey      Hello     Goodbye    Hello       2   \n",
       "1       make       take       offer     take       2   \n",
       "2      found     called      needed   called       2   \n",
       "3       meat      fruit  vegetables    fruit       2   \n",
       "4        six       five         ten     five       2   \n",
       "\n",
       "                                        샘플 스크립트 (영어)  \\\n",
       "0  A: Hi there! B: Hey, it's been a while. A: Hel...   \n",
       "1  A: Please have a seat. B: Absolutely. A: Kindl...   \n",
       "2  A: What's this? B: It's a pen. A: What is this...   \n",
       "3  A: Do you enjoy coffee? B: Yes, I do. A: Do yo...   \n",
       "4  A: How many cats are there? B: There are three...   \n",
       "\n",
       "                                       샘플 스크립트 (한국어)  \n",
       "0  A: 안녕, 저기! B: 야, 오랜만이야. A: 안녕! 잘 지냈어? B: 난 잘 지...  \n",
       "1   A: 자리에 앉으세요. B: 물론입니다. A: 편안하게 계세요. B: 네, 감사합니다.  \n",
       "2  A: 이게 뭐예요? B: 이건 펜이에요. A: 이걸 뭐라고 부르죠? B: 펜이라고 해요.  \n",
       "3    A: 커피 즐겨 마셔? B: 응, 마셔. A: 녹차 좋아해? B: 아니, 안 좋아해.  \n",
       "4  A: 고양이가 몇 마리 있나요? B: 고양이가 세 마리 있어요. A: 개가 몇 마리...  \n",
       "\n",
       "[5 rows x 29 columns]"
      ]
     },
     "execution_count": 122,
     "metadata": {},
     "output_type": "execute_result"
    }
   ],
   "source": [
    "merged_elem_data.head()"
   ]
  }
 ],
 "metadata": {
  "kernelspec": {
   "display_name": "base",
   "language": "python",
   "name": "python3"
  },
  "language_info": {
   "codemirror_mode": {
    "name": "ipython",
    "version": 3
   },
   "file_extension": ".py",
   "mimetype": "text/x-python",
   "name": "python",
   "nbconvert_exporter": "python",
   "pygments_lexer": "ipython3",
   "version": "3.12.7"
  }
 },
 "nbformat": 4,
 "nbformat_minor": 2
}
